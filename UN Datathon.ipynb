{
 "cells": [
  {
   "cell_type": "code",
   "execution_count": 1,
   "id": "169dfb6e",
   "metadata": {},
   "outputs": [],
   "source": [
    "import pandas as pd\n",
    "import numpy as np\n",
    "import seaborn as sns\n",
    "import warnings\n",
    "import matplotlib.pyplot as plt\n",
    "#from prophet import Prophet\n",
    "# import dash  # you need Dash version 1.15.0 or higher\n",
    "# import dash_table\n",
    "# import dash_html_components as html\n",
    "# import dash_core_components as dcc\n",
    "# from dash.dependencies import Input, Output,State\n",
    "# import dash_auth\n",
    "# from dash.dash_table import DataTable, FormatTemplate\n",
    "# import pandas as pd\n",
    "import plotly.graph_objs as go\n",
    "import plotly.express as px\n",
    "import plotly.io as pio"
   ]
  },
  {
   "cell_type": "markdown",
   "id": "8c8d04af",
   "metadata": {},
   "source": [
    "# Data Reprocessing "
   ]
  },
  {
   "cell_type": "markdown",
   "id": "b12cd389",
   "metadata": {},
   "source": [
    "#### Read Production data"
   ]
  },
  {
   "cell_type": "code",
   "execution_count": 173,
   "id": "67dfe79e",
   "metadata": {},
   "outputs": [
    {
     "data": {
      "text/html": [
       "<div>\n",
       "<style scoped>\n",
       "    .dataframe tbody tr th:only-of-type {\n",
       "        vertical-align: middle;\n",
       "    }\n",
       "\n",
       "    .dataframe tbody tr th {\n",
       "        vertical-align: top;\n",
       "    }\n",
       "\n",
       "    .dataframe thead th {\n",
       "        text-align: right;\n",
       "    }\n",
       "</style>\n",
       "<table border=\"1\" class=\"dataframe\">\n",
       "  <thead>\n",
       "    <tr style=\"text-align: right;\">\n",
       "      <th></th>\n",
       "      <th>Area Code</th>\n",
       "      <th>Area Code (M49)</th>\n",
       "      <th>Area</th>\n",
       "      <th>Item Code</th>\n",
       "      <th>Item Code (CPC)</th>\n",
       "      <th>Item</th>\n",
       "      <th>Element Code</th>\n",
       "      <th>Element</th>\n",
       "      <th>Year Code</th>\n",
       "      <th>Year</th>\n",
       "      <th>Unit</th>\n",
       "      <th>Value</th>\n",
       "      <th>Flag</th>\n",
       "    </tr>\n",
       "  </thead>\n",
       "  <tbody>\n",
       "    <tr>\n",
       "      <th>0</th>\n",
       "      <td>2</td>\n",
       "      <td>'004</td>\n",
       "      <td>Afghanistan</td>\n",
       "      <td>221</td>\n",
       "      <td>'01371</td>\n",
       "      <td>Almonds, in shell</td>\n",
       "      <td>152</td>\n",
       "      <td>Gross Production Value (constant 2014-2016 tho...</td>\n",
       "      <td>1976</td>\n",
       "      <td>1976</td>\n",
       "      <td>1000 Int. $</td>\n",
       "      <td>49550.0</td>\n",
       "      <td>E</td>\n",
       "    </tr>\n",
       "    <tr>\n",
       "      <th>1</th>\n",
       "      <td>2</td>\n",
       "      <td>'004</td>\n",
       "      <td>Afghanistan</td>\n",
       "      <td>221</td>\n",
       "      <td>'01371</td>\n",
       "      <td>Almonds, in shell</td>\n",
       "      <td>152</td>\n",
       "      <td>Gross Production Value (constant 2014-2016 tho...</td>\n",
       "      <td>1977</td>\n",
       "      <td>1977</td>\n",
       "      <td>1000 Int. $</td>\n",
       "      <td>45505.0</td>\n",
       "      <td>E</td>\n",
       "    </tr>\n",
       "    <tr>\n",
       "      <th>2</th>\n",
       "      <td>2</td>\n",
       "      <td>'004</td>\n",
       "      <td>Afghanistan</td>\n",
       "      <td>221</td>\n",
       "      <td>'01371</td>\n",
       "      <td>Almonds, in shell</td>\n",
       "      <td>152</td>\n",
       "      <td>Gross Production Value (constant 2014-2016 tho...</td>\n",
       "      <td>1978</td>\n",
       "      <td>1978</td>\n",
       "      <td>1000 Int. $</td>\n",
       "      <td>60673.0</td>\n",
       "      <td>E</td>\n",
       "    </tr>\n",
       "    <tr>\n",
       "      <th>3</th>\n",
       "      <td>2</td>\n",
       "      <td>'004</td>\n",
       "      <td>Afghanistan</td>\n",
       "      <td>221</td>\n",
       "      <td>'01371</td>\n",
       "      <td>Almonds, in shell</td>\n",
       "      <td>152</td>\n",
       "      <td>Gross Production Value (constant 2014-2016 tho...</td>\n",
       "      <td>1979</td>\n",
       "      <td>1979</td>\n",
       "      <td>1000 Int. $</td>\n",
       "      <td>53089.0</td>\n",
       "      <td>E</td>\n",
       "    </tr>\n",
       "    <tr>\n",
       "      <th>4</th>\n",
       "      <td>2</td>\n",
       "      <td>'004</td>\n",
       "      <td>Afghanistan</td>\n",
       "      <td>221</td>\n",
       "      <td>'01371</td>\n",
       "      <td>Almonds, in shell</td>\n",
       "      <td>152</td>\n",
       "      <td>Gross Production Value (constant 2014-2016 tho...</td>\n",
       "      <td>1980</td>\n",
       "      <td>1980</td>\n",
       "      <td>1000 Int. $</td>\n",
       "      <td>50055.0</td>\n",
       "      <td>E</td>\n",
       "    </tr>\n",
       "  </tbody>\n",
       "</table>\n",
       "</div>"
      ],
      "text/plain": [
       "   Area Code Area Code (M49)         Area  Item Code Item Code (CPC)  \\\n",
       "0          2            '004  Afghanistan        221          '01371   \n",
       "1          2            '004  Afghanistan        221          '01371   \n",
       "2          2            '004  Afghanistan        221          '01371   \n",
       "3          2            '004  Afghanistan        221          '01371   \n",
       "4          2            '004  Afghanistan        221          '01371   \n",
       "\n",
       "                Item  Element Code  \\\n",
       "0  Almonds, in shell           152   \n",
       "1  Almonds, in shell           152   \n",
       "2  Almonds, in shell           152   \n",
       "3  Almonds, in shell           152   \n",
       "4  Almonds, in shell           152   \n",
       "\n",
       "                                             Element  Year Code  Year  \\\n",
       "0  Gross Production Value (constant 2014-2016 tho...       1976  1976   \n",
       "1  Gross Production Value (constant 2014-2016 tho...       1977  1977   \n",
       "2  Gross Production Value (constant 2014-2016 tho...       1978  1978   \n",
       "3  Gross Production Value (constant 2014-2016 tho...       1979  1979   \n",
       "4  Gross Production Value (constant 2014-2016 tho...       1980  1980   \n",
       "\n",
       "          Unit    Value Flag  \n",
       "0  1000 Int. $  49550.0    E  \n",
       "1  1000 Int. $  45505.0    E  \n",
       "2  1000 Int. $  60673.0    E  \n",
       "3  1000 Int. $  53089.0    E  \n",
       "4  1000 Int. $  50055.0    E  "
      ]
     },
     "execution_count": 173,
     "metadata": {},
     "output_type": "execute_result"
    }
   ],
   "source": [
    "import pandas as pd\n",
    "\n",
    "file_path = \"D:\\\\Un Datathon\\\\Data\\\\Foastat\\\\Value_of_Production_E_All_Data_(Normalized) (1)\\\\Value_of_Production_E_All_Data_(Normalized).csv\"\n",
    "\n",
    "try:\n",
    "    production = pd.read_csv(file_path, encoding='utf-8')\n",
    "    # Process the DataFrame\n",
    "except UnicodeDecodeError:\n",
    "    # Try a different encoding\n",
    "    production = pd.read_csv(file_path, encoding= 'ISO-8859-1')\n",
    "    # Process the DataFrame\n",
    "production.head(5)"
   ]
  },
  {
   "cell_type": "markdown",
   "id": "ed19858d",
   "metadata": {},
   "source": [
    "### Minumim Maximum Year"
   ]
  },
  {
   "cell_type": "code",
   "execution_count": 174,
   "id": "43054804",
   "metadata": {},
   "outputs": [
    {
     "data": {
      "text/plain": [
       "(1961, 2021)"
      ]
     },
     "execution_count": 174,
     "metadata": {},
     "output_type": "execute_result"
    }
   ],
   "source": [
    "production['Year'].min(),production['Year'].max()"
   ]
  },
  {
   "cell_type": "markdown",
   "id": "c55c3bf5",
   "metadata": {},
   "source": [
    "### check nulls "
   ]
  },
  {
   "cell_type": "code",
   "execution_count": 175,
   "id": "9878b673",
   "metadata": {},
   "outputs": [
    {
     "name": "stdout",
     "output_type": "stream",
     "text": [
      "<class 'pandas.core.frame.DataFrame'>\n",
      "RangeIndex: 2793889 entries, 0 to 2793888\n",
      "Data columns (total 13 columns):\n",
      " #   Column           Dtype  \n",
      "---  ------           -----  \n",
      " 0   Area Code        int64  \n",
      " 1   Area Code (M49)  object \n",
      " 2   Area             object \n",
      " 3   Item Code        int64  \n",
      " 4   Item Code (CPC)  object \n",
      " 5   Item             object \n",
      " 6   Element Code     int64  \n",
      " 7   Element          object \n",
      " 8   Year Code        int64  \n",
      " 9   Year             int64  \n",
      " 10  Unit             object \n",
      " 11  Value            float64\n",
      " 12  Flag             object \n",
      "dtypes: float64(1), int64(5), object(7)\n",
      "memory usage: 277.1+ MB\n"
     ]
    },
    {
     "data": {
      "text/plain": [
       "(None,\n",
       " Area Code          0\n",
       " Area Code (M49)    0\n",
       " Area               0\n",
       " Item Code          0\n",
       " Item Code (CPC)    0\n",
       " Item               0\n",
       " Element Code       0\n",
       " Element            0\n",
       " Year Code          0\n",
       " Year               0\n",
       " Unit               0\n",
       " Value              0\n",
       " Flag               0\n",
       " dtype: int64,\n",
       " 0)"
      ]
     },
     "execution_count": 175,
     "metadata": {},
     "output_type": "execute_result"
    }
   ],
   "source": [
    "production.info(),production.isnull().sum(),production.duplicated().sum()"
   ]
  },
  {
   "cell_type": "markdown",
   "id": "9bc8d5c9",
   "metadata": {},
   "source": [
    "### filter to constant prices"
   ]
  },
  {
   "cell_type": "code",
   "execution_count": 176,
   "id": "d162b014",
   "metadata": {},
   "outputs": [
    {
     "data": {
      "text/plain": [
       "array(['Gross Production Value (constant 2014-2016 thousand I$)',\n",
       "       'Gross Production Value (current thousand SLC)',\n",
       "       'Gross Production Value (constant 2014-2016 thousand SLC)',\n",
       "       'Gross Production Value (current thousand US$)',\n",
       "       'Gross Production Value (constant 2014-2016 thousand US$)'],\n",
       "      dtype=object)"
      ]
     },
     "execution_count": 176,
     "metadata": {},
     "output_type": "execute_result"
    }
   ],
   "source": [
    "production['Element'].unique()"
   ]
  },
  {
   "cell_type": "code",
   "execution_count": 178,
   "id": "0c3bac37",
   "metadata": {},
   "outputs": [
    {
     "data": {
      "text/html": [
       "<div>\n",
       "<style scoped>\n",
       "    .dataframe tbody tr th:only-of-type {\n",
       "        vertical-align: middle;\n",
       "    }\n",
       "\n",
       "    .dataframe tbody tr th {\n",
       "        vertical-align: top;\n",
       "    }\n",
       "\n",
       "    .dataframe thead th {\n",
       "        text-align: right;\n",
       "    }\n",
       "</style>\n",
       "<table border=\"1\" class=\"dataframe\">\n",
       "  <thead>\n",
       "    <tr style=\"text-align: right;\">\n",
       "      <th></th>\n",
       "      <th>Area Code</th>\n",
       "      <th>Area Code (M49)</th>\n",
       "      <th>Area</th>\n",
       "      <th>Item Code</th>\n",
       "      <th>Item Code (CPC)</th>\n",
       "      <th>Item</th>\n",
       "      <th>Element Code</th>\n",
       "      <th>Element</th>\n",
       "      <th>Year Code</th>\n",
       "      <th>Year</th>\n",
       "      <th>Unit</th>\n",
       "      <th>Value</th>\n",
       "      <th>Flag</th>\n",
       "    </tr>\n",
       "  </thead>\n",
       "  <tbody>\n",
       "    <tr>\n",
       "      <th>0</th>\n",
       "      <td>2</td>\n",
       "      <td>'004</td>\n",
       "      <td>Afghanistan</td>\n",
       "      <td>221</td>\n",
       "      <td>'01371</td>\n",
       "      <td>Almonds, in shell</td>\n",
       "      <td>152</td>\n",
       "      <td>Gross Production Value (constant 2014-2016 tho...</td>\n",
       "      <td>1976</td>\n",
       "      <td>1976</td>\n",
       "      <td>1000 Int. $</td>\n",
       "      <td>49550.0</td>\n",
       "      <td>E</td>\n",
       "    </tr>\n",
       "    <tr>\n",
       "      <th>1</th>\n",
       "      <td>2</td>\n",
       "      <td>'004</td>\n",
       "      <td>Afghanistan</td>\n",
       "      <td>221</td>\n",
       "      <td>'01371</td>\n",
       "      <td>Almonds, in shell</td>\n",
       "      <td>152</td>\n",
       "      <td>Gross Production Value (constant 2014-2016 tho...</td>\n",
       "      <td>1977</td>\n",
       "      <td>1977</td>\n",
       "      <td>1000 Int. $</td>\n",
       "      <td>45505.0</td>\n",
       "      <td>E</td>\n",
       "    </tr>\n",
       "    <tr>\n",
       "      <th>2</th>\n",
       "      <td>2</td>\n",
       "      <td>'004</td>\n",
       "      <td>Afghanistan</td>\n",
       "      <td>221</td>\n",
       "      <td>'01371</td>\n",
       "      <td>Almonds, in shell</td>\n",
       "      <td>152</td>\n",
       "      <td>Gross Production Value (constant 2014-2016 tho...</td>\n",
       "      <td>1978</td>\n",
       "      <td>1978</td>\n",
       "      <td>1000 Int. $</td>\n",
       "      <td>60673.0</td>\n",
       "      <td>E</td>\n",
       "    </tr>\n",
       "  </tbody>\n",
       "</table>\n",
       "</div>"
      ],
      "text/plain": [
       "   Area Code Area Code (M49)         Area  Item Code Item Code (CPC)  \\\n",
       "0          2            '004  Afghanistan        221          '01371   \n",
       "1          2            '004  Afghanistan        221          '01371   \n",
       "2          2            '004  Afghanistan        221          '01371   \n",
       "\n",
       "                Item  Element Code  \\\n",
       "0  Almonds, in shell           152   \n",
       "1  Almonds, in shell           152   \n",
       "2  Almonds, in shell           152   \n",
       "\n",
       "                                             Element  Year Code  Year  \\\n",
       "0  Gross Production Value (constant 2014-2016 tho...       1976  1976   \n",
       "1  Gross Production Value (constant 2014-2016 tho...       1977  1977   \n",
       "2  Gross Production Value (constant 2014-2016 tho...       1978  1978   \n",
       "\n",
       "          Unit    Value Flag  \n",
       "0  1000 Int. $  49550.0    E  \n",
       "1  1000 Int. $  45505.0    E  \n",
       "2  1000 Int. $  60673.0    E  "
      ]
     },
     "execution_count": 178,
     "metadata": {},
     "output_type": "execute_result"
    }
   ],
   "source": [
    "production=production[(production['Element']=='Gross Production Value (constant 2014-2016 thousand I$)')]\n",
    "production.head(3)"
   ]
  },
  {
   "cell_type": "code",
   "execution_count": 7,
   "id": "75d3892b",
   "metadata": {},
   "outputs": [
    {
     "data": {
      "text/plain": [
       "array(['1000 Int. $'], dtype=object)"
      ]
     },
     "execution_count": 7,
     "metadata": {},
     "output_type": "execute_result"
    }
   ],
   "source": [
    "production['Unit'].unique()"
   ]
  },
  {
   "cell_type": "code",
   "execution_count": 8,
   "id": "0a489a23",
   "metadata": {},
   "outputs": [],
   "source": [
    "# production=production[production['Unit']=='1000 Int. $']\n",
    "# #production"
   ]
  },
  {
   "cell_type": "markdown",
   "id": "143950f2",
   "metadata": {},
   "source": [
    "### Drop columns in production un wanted "
   ]
  },
  {
   "cell_type": "code",
   "execution_count": 181,
   "id": "858e3e79",
   "metadata": {},
   "outputs": [
    {
     "data": {
      "text/html": [
       "<div>\n",
       "<style scoped>\n",
       "    .dataframe tbody tr th:only-of-type {\n",
       "        vertical-align: middle;\n",
       "    }\n",
       "\n",
       "    .dataframe tbody tr th {\n",
       "        vertical-align: top;\n",
       "    }\n",
       "\n",
       "    .dataframe thead th {\n",
       "        text-align: right;\n",
       "    }\n",
       "</style>\n",
       "<table border=\"1\" class=\"dataframe\">\n",
       "  <thead>\n",
       "    <tr style=\"text-align: right;\">\n",
       "      <th></th>\n",
       "      <th>Area Code</th>\n",
       "      <th>Area Code (M49)</th>\n",
       "      <th>Area</th>\n",
       "      <th>Item Code</th>\n",
       "      <th>Item Code (CPC)</th>\n",
       "      <th>Item</th>\n",
       "      <th>Element Code</th>\n",
       "      <th>Element</th>\n",
       "      <th>Year Code</th>\n",
       "      <th>Year</th>\n",
       "      <th>Unit</th>\n",
       "      <th>Value</th>\n",
       "      <th>Flag</th>\n",
       "    </tr>\n",
       "  </thead>\n",
       "  <tbody>\n",
       "    <tr>\n",
       "      <th>6165</th>\n",
       "      <td>3</td>\n",
       "      <td>'008</td>\n",
       "      <td>Albania</td>\n",
       "      <td>515</td>\n",
       "      <td>'01341</td>\n",
       "      <td>Apples</td>\n",
       "      <td>57</td>\n",
       "      <td>Gross Production Value (current thousand US$)</td>\n",
       "      <td>1993</td>\n",
       "      <td>1993</td>\n",
       "      <td>1000 US$</td>\n",
       "      <td>4610.0</td>\n",
       "      <td>E</td>\n",
       "    </tr>\n",
       "    <tr>\n",
       "      <th>6166</th>\n",
       "      <td>3</td>\n",
       "      <td>'008</td>\n",
       "      <td>Albania</td>\n",
       "      <td>515</td>\n",
       "      <td>'01341</td>\n",
       "      <td>Apples</td>\n",
       "      <td>57</td>\n",
       "      <td>Gross Production Value (current thousand US$)</td>\n",
       "      <td>1995</td>\n",
       "      <td>1995</td>\n",
       "      <td>1000 US$</td>\n",
       "      <td>3236.0</td>\n",
       "      <td>E</td>\n",
       "    </tr>\n",
       "    <tr>\n",
       "      <th>6167</th>\n",
       "      <td>3</td>\n",
       "      <td>'008</td>\n",
       "      <td>Albania</td>\n",
       "      <td>515</td>\n",
       "      <td>'01341</td>\n",
       "      <td>Apples</td>\n",
       "      <td>57</td>\n",
       "      <td>Gross Production Value (current thousand US$)</td>\n",
       "      <td>1996</td>\n",
       "      <td>1996</td>\n",
       "      <td>1000 US$</td>\n",
       "      <td>3254.0</td>\n",
       "      <td>E</td>\n",
       "    </tr>\n",
       "    <tr>\n",
       "      <th>6168</th>\n",
       "      <td>3</td>\n",
       "      <td>'008</td>\n",
       "      <td>Albania</td>\n",
       "      <td>515</td>\n",
       "      <td>'01341</td>\n",
       "      <td>Apples</td>\n",
       "      <td>57</td>\n",
       "      <td>Gross Production Value (current thousand US$)</td>\n",
       "      <td>1997</td>\n",
       "      <td>1997</td>\n",
       "      <td>1000 US$</td>\n",
       "      <td>2860.0</td>\n",
       "      <td>E</td>\n",
       "    </tr>\n",
       "    <tr>\n",
       "      <th>6169</th>\n",
       "      <td>3</td>\n",
       "      <td>'008</td>\n",
       "      <td>Albania</td>\n",
       "      <td>515</td>\n",
       "      <td>'01341</td>\n",
       "      <td>Apples</td>\n",
       "      <td>57</td>\n",
       "      <td>Gross Production Value (current thousand US$)</td>\n",
       "      <td>1998</td>\n",
       "      <td>1998</td>\n",
       "      <td>1000 US$</td>\n",
       "      <td>2863.0</td>\n",
       "      <td>E</td>\n",
       "    </tr>\n",
       "    <tr>\n",
       "      <th>...</th>\n",
       "      <td>...</td>\n",
       "      <td>...</td>\n",
       "      <td>...</td>\n",
       "      <td>...</td>\n",
       "      <td>...</td>\n",
       "      <td>...</td>\n",
       "      <td>...</td>\n",
       "      <td>...</td>\n",
       "      <td>...</td>\n",
       "      <td>...</td>\n",
       "      <td>...</td>\n",
       "      <td>...</td>\n",
       "      <td>...</td>\n",
       "    </tr>\n",
       "    <tr>\n",
       "      <th>2793823</th>\n",
       "      <td>5817</td>\n",
       "      <td>'902</td>\n",
       "      <td>Net Food Importing Developing Countries</td>\n",
       "      <td>1735</td>\n",
       "      <td>'F1735</td>\n",
       "      <td>Vegetables Primary</td>\n",
       "      <td>57</td>\n",
       "      <td>Gross Production Value (current thousand US$)</td>\n",
       "      <td>2017</td>\n",
       "      <td>2017</td>\n",
       "      <td>1000 US$</td>\n",
       "      <td>19584729.0</td>\n",
       "      <td>E</td>\n",
       "    </tr>\n",
       "    <tr>\n",
       "      <th>2793824</th>\n",
       "      <td>5817</td>\n",
       "      <td>'902</td>\n",
       "      <td>Net Food Importing Developing Countries</td>\n",
       "      <td>1735</td>\n",
       "      <td>'F1735</td>\n",
       "      <td>Vegetables Primary</td>\n",
       "      <td>57</td>\n",
       "      <td>Gross Production Value (current thousand US$)</td>\n",
       "      <td>2018</td>\n",
       "      <td>2018</td>\n",
       "      <td>1000 US$</td>\n",
       "      <td>20122873.0</td>\n",
       "      <td>E</td>\n",
       "    </tr>\n",
       "    <tr>\n",
       "      <th>2793825</th>\n",
       "      <td>5817</td>\n",
       "      <td>'902</td>\n",
       "      <td>Net Food Importing Developing Countries</td>\n",
       "      <td>1735</td>\n",
       "      <td>'F1735</td>\n",
       "      <td>Vegetables Primary</td>\n",
       "      <td>57</td>\n",
       "      <td>Gross Production Value (current thousand US$)</td>\n",
       "      <td>2019</td>\n",
       "      <td>2019</td>\n",
       "      <td>1000 US$</td>\n",
       "      <td>24792538.0</td>\n",
       "      <td>E</td>\n",
       "    </tr>\n",
       "    <tr>\n",
       "      <th>2793826</th>\n",
       "      <td>5817</td>\n",
       "      <td>'902</td>\n",
       "      <td>Net Food Importing Developing Countries</td>\n",
       "      <td>1735</td>\n",
       "      <td>'F1735</td>\n",
       "      <td>Vegetables Primary</td>\n",
       "      <td>57</td>\n",
       "      <td>Gross Production Value (current thousand US$)</td>\n",
       "      <td>2020</td>\n",
       "      <td>2020</td>\n",
       "      <td>1000 US$</td>\n",
       "      <td>25153785.0</td>\n",
       "      <td>E</td>\n",
       "    </tr>\n",
       "    <tr>\n",
       "      <th>2793827</th>\n",
       "      <td>5817</td>\n",
       "      <td>'902</td>\n",
       "      <td>Net Food Importing Developing Countries</td>\n",
       "      <td>1735</td>\n",
       "      <td>'F1735</td>\n",
       "      <td>Vegetables Primary</td>\n",
       "      <td>57</td>\n",
       "      <td>Gross Production Value (current thousand US$)</td>\n",
       "      <td>2021</td>\n",
       "      <td>2021</td>\n",
       "      <td>1000 US$</td>\n",
       "      <td>26062200.0</td>\n",
       "      <td>E</td>\n",
       "    </tr>\n",
       "  </tbody>\n",
       "</table>\n",
       "<p>320070 rows × 13 columns</p>\n",
       "</div>"
      ],
      "text/plain": [
       "         Area Code Area Code (M49)                                     Area  \\\n",
       "6165             3            '008                                  Albania   \n",
       "6166             3            '008                                  Albania   \n",
       "6167             3            '008                                  Albania   \n",
       "6168             3            '008                                  Albania   \n",
       "6169             3            '008                                  Albania   \n",
       "...            ...             ...                                      ...   \n",
       "2793823       5817            '902  Net Food Importing Developing Countries   \n",
       "2793824       5817            '902  Net Food Importing Developing Countries   \n",
       "2793825       5817            '902  Net Food Importing Developing Countries   \n",
       "2793826       5817            '902  Net Food Importing Developing Countries   \n",
       "2793827       5817            '902  Net Food Importing Developing Countries   \n",
       "\n",
       "         Item Code Item Code (CPC)                Item  Element Code  \\\n",
       "6165           515          '01341              Apples            57   \n",
       "6166           515          '01341              Apples            57   \n",
       "6167           515          '01341              Apples            57   \n",
       "6168           515          '01341              Apples            57   \n",
       "6169           515          '01341              Apples            57   \n",
       "...            ...             ...                 ...           ...   \n",
       "2793823       1735          'F1735  Vegetables Primary            57   \n",
       "2793824       1735          'F1735  Vegetables Primary            57   \n",
       "2793825       1735          'F1735  Vegetables Primary            57   \n",
       "2793826       1735          'F1735  Vegetables Primary            57   \n",
       "2793827       1735          'F1735  Vegetables Primary            57   \n",
       "\n",
       "                                               Element  Year Code  Year  \\\n",
       "6165     Gross Production Value (current thousand US$)       1993  1993   \n",
       "6166     Gross Production Value (current thousand US$)       1995  1995   \n",
       "6167     Gross Production Value (current thousand US$)       1996  1996   \n",
       "6168     Gross Production Value (current thousand US$)       1997  1997   \n",
       "6169     Gross Production Value (current thousand US$)       1998  1998   \n",
       "...                                                ...        ...   ...   \n",
       "2793823  Gross Production Value (current thousand US$)       2017  2017   \n",
       "2793824  Gross Production Value (current thousand US$)       2018  2018   \n",
       "2793825  Gross Production Value (current thousand US$)       2019  2019   \n",
       "2793826  Gross Production Value (current thousand US$)       2020  2020   \n",
       "2793827  Gross Production Value (current thousand US$)       2021  2021   \n",
       "\n",
       "             Unit       Value Flag  \n",
       "6165     1000 US$      4610.0    E  \n",
       "6166     1000 US$      3236.0    E  \n",
       "6167     1000 US$      3254.0    E  \n",
       "6168     1000 US$      2860.0    E  \n",
       "6169     1000 US$      2863.0    E  \n",
       "...           ...         ...  ...  \n",
       "2793823  1000 US$  19584729.0    E  \n",
       "2793824  1000 US$  20122873.0    E  \n",
       "2793825  1000 US$  24792538.0    E  \n",
       "2793826  1000 US$  25153785.0    E  \n",
       "2793827  1000 US$  26062200.0    E  \n",
       "\n",
       "[320070 rows x 13 columns]"
      ]
     },
     "execution_count": 181,
     "metadata": {},
     "output_type": "execute_result"
    }
   ],
   "source": [
    "production_current_dropped=production_current.drop(['Area Code','Area Code (M49)','Element Code','Item Code','Item Code (CPC)',\\\n",
    "                                    'Year Code','Flag','Unit'],axis=1)\n",
    "production_current_dropped"
   ]
  },
  {
   "cell_type": "code",
   "execution_count": 9,
   "id": "227fa578",
   "metadata": {},
   "outputs": [
    {
     "data": {
      "text/html": [
       "<div>\n",
       "<style scoped>\n",
       "    .dataframe tbody tr th:only-of-type {\n",
       "        vertical-align: middle;\n",
       "    }\n",
       "\n",
       "    .dataframe tbody tr th {\n",
       "        vertical-align: top;\n",
       "    }\n",
       "\n",
       "    .dataframe thead th {\n",
       "        text-align: right;\n",
       "    }\n",
       "</style>\n",
       "<table border=\"1\" class=\"dataframe\">\n",
       "  <thead>\n",
       "    <tr style=\"text-align: right;\">\n",
       "      <th></th>\n",
       "      <th>Area</th>\n",
       "      <th>Item</th>\n",
       "      <th>Element</th>\n",
       "      <th>Year</th>\n",
       "      <th>Value</th>\n",
       "    </tr>\n",
       "  </thead>\n",
       "  <tbody>\n",
       "    <tr>\n",
       "      <th>0</th>\n",
       "      <td>Afghanistan</td>\n",
       "      <td>Almonds, in shell</td>\n",
       "      <td>Gross Production Value (constant 2014-2016 tho...</td>\n",
       "      <td>1976</td>\n",
       "      <td>49550.0</td>\n",
       "    </tr>\n",
       "    <tr>\n",
       "      <th>1</th>\n",
       "      <td>Afghanistan</td>\n",
       "      <td>Almonds, in shell</td>\n",
       "      <td>Gross Production Value (constant 2014-2016 tho...</td>\n",
       "      <td>1977</td>\n",
       "      <td>45505.0</td>\n",
       "    </tr>\n",
       "    <tr>\n",
       "      <th>2</th>\n",
       "      <td>Afghanistan</td>\n",
       "      <td>Almonds, in shell</td>\n",
       "      <td>Gross Production Value (constant 2014-2016 tho...</td>\n",
       "      <td>1978</td>\n",
       "      <td>60673.0</td>\n",
       "    </tr>\n",
       "    <tr>\n",
       "      <th>3</th>\n",
       "      <td>Afghanistan</td>\n",
       "      <td>Almonds, in shell</td>\n",
       "      <td>Gross Production Value (constant 2014-2016 tho...</td>\n",
       "      <td>1979</td>\n",
       "      <td>53089.0</td>\n",
       "    </tr>\n",
       "    <tr>\n",
       "      <th>4</th>\n",
       "      <td>Afghanistan</td>\n",
       "      <td>Almonds, in shell</td>\n",
       "      <td>Gross Production Value (constant 2014-2016 tho...</td>\n",
       "      <td>1980</td>\n",
       "      <td>50055.0</td>\n",
       "    </tr>\n",
       "    <tr>\n",
       "      <th>...</th>\n",
       "      <td>...</td>\n",
       "      <td>...</td>\n",
       "      <td>...</td>\n",
       "      <td>...</td>\n",
       "      <td>...</td>\n",
       "    </tr>\n",
       "    <tr>\n",
       "      <th>2793792</th>\n",
       "      <td>Net Food Importing Developing Countries</td>\n",
       "      <td>Vegetables Primary</td>\n",
       "      <td>Gross Production Value (constant 2014-2016 tho...</td>\n",
       "      <td>2017</td>\n",
       "      <td>33489292.0</td>\n",
       "    </tr>\n",
       "    <tr>\n",
       "      <th>2793793</th>\n",
       "      <td>Net Food Importing Developing Countries</td>\n",
       "      <td>Vegetables Primary</td>\n",
       "      <td>Gross Production Value (constant 2014-2016 tho...</td>\n",
       "      <td>2018</td>\n",
       "      <td>34556366.0</td>\n",
       "    </tr>\n",
       "    <tr>\n",
       "      <th>2793794</th>\n",
       "      <td>Net Food Importing Developing Countries</td>\n",
       "      <td>Vegetables Primary</td>\n",
       "      <td>Gross Production Value (constant 2014-2016 tho...</td>\n",
       "      <td>2019</td>\n",
       "      <td>35539690.0</td>\n",
       "    </tr>\n",
       "    <tr>\n",
       "      <th>2793795</th>\n",
       "      <td>Net Food Importing Developing Countries</td>\n",
       "      <td>Vegetables Primary</td>\n",
       "      <td>Gross Production Value (constant 2014-2016 tho...</td>\n",
       "      <td>2020</td>\n",
       "      <td>36399160.0</td>\n",
       "    </tr>\n",
       "    <tr>\n",
       "      <th>2793796</th>\n",
       "      <td>Net Food Importing Developing Countries</td>\n",
       "      <td>Vegetables Primary</td>\n",
       "      <td>Gross Production Value (constant 2014-2016 tho...</td>\n",
       "      <td>2021</td>\n",
       "      <td>37529878.0</td>\n",
       "    </tr>\n",
       "  </tbody>\n",
       "</table>\n",
       "<p>1029368 rows × 5 columns</p>\n",
       "</div>"
      ],
      "text/plain": [
       "                                            Area                Item  \\\n",
       "0                                    Afghanistan   Almonds, in shell   \n",
       "1                                    Afghanistan   Almonds, in shell   \n",
       "2                                    Afghanistan   Almonds, in shell   \n",
       "3                                    Afghanistan   Almonds, in shell   \n",
       "4                                    Afghanistan   Almonds, in shell   \n",
       "...                                          ...                 ...   \n",
       "2793792  Net Food Importing Developing Countries  Vegetables Primary   \n",
       "2793793  Net Food Importing Developing Countries  Vegetables Primary   \n",
       "2793794  Net Food Importing Developing Countries  Vegetables Primary   \n",
       "2793795  Net Food Importing Developing Countries  Vegetables Primary   \n",
       "2793796  Net Food Importing Developing Countries  Vegetables Primary   \n",
       "\n",
       "                                                   Element  Year       Value  \n",
       "0        Gross Production Value (constant 2014-2016 tho...  1976     49550.0  \n",
       "1        Gross Production Value (constant 2014-2016 tho...  1977     45505.0  \n",
       "2        Gross Production Value (constant 2014-2016 tho...  1978     60673.0  \n",
       "3        Gross Production Value (constant 2014-2016 tho...  1979     53089.0  \n",
       "4        Gross Production Value (constant 2014-2016 tho...  1980     50055.0  \n",
       "...                                                    ...   ...         ...  \n",
       "2793792  Gross Production Value (constant 2014-2016 tho...  2017  33489292.0  \n",
       "2793793  Gross Production Value (constant 2014-2016 tho...  2018  34556366.0  \n",
       "2793794  Gross Production Value (constant 2014-2016 tho...  2019  35539690.0  \n",
       "2793795  Gross Production Value (constant 2014-2016 tho...  2020  36399160.0  \n",
       "2793796  Gross Production Value (constant 2014-2016 tho...  2021  37529878.0  \n",
       "\n",
       "[1029368 rows x 5 columns]"
      ]
     },
     "execution_count": 9,
     "metadata": {},
     "output_type": "execute_result"
    }
   ],
   "source": [
    "production_dropped=production.drop(['Area Code','Area Code (M49)','Element Code','Item Code','Item Code (CPC)',\\\n",
    "                                    'Year Code','Flag','Unit'],axis=1)\n",
    "production_dropped"
   ]
  },
  {
   "cell_type": "markdown",
   "id": "25c5c923",
   "metadata": {},
   "source": [
    "### Filter on Agriculture items & World production"
   ]
  },
  {
   "cell_type": "code",
   "execution_count": 10,
   "id": "846ad286",
   "metadata": {},
   "outputs": [
    {
     "data": {
      "text/html": [
       "<div>\n",
       "<style scoped>\n",
       "    .dataframe tbody tr th:only-of-type {\n",
       "        vertical-align: middle;\n",
       "    }\n",
       "\n",
       "    .dataframe tbody tr th {\n",
       "        vertical-align: top;\n",
       "    }\n",
       "\n",
       "    .dataframe thead th {\n",
       "        text-align: right;\n",
       "    }\n",
       "</style>\n",
       "<table border=\"1\" class=\"dataframe\">\n",
       "  <thead>\n",
       "    <tr style=\"text-align: right;\">\n",
       "      <th></th>\n",
       "      <th>Area</th>\n",
       "      <th>Item</th>\n",
       "      <th>Element</th>\n",
       "      <th>Year</th>\n",
       "      <th>Value</th>\n",
       "    </tr>\n",
       "  </thead>\n",
       "  <tbody>\n",
       "    <tr>\n",
       "      <th>2165860</th>\n",
       "      <td>World</td>\n",
       "      <td>Agriculture</td>\n",
       "      <td>Gross Production Value (constant 2014-2016 tho...</td>\n",
       "      <td>1961</td>\n",
       "      <td>1.083667e+09</td>\n",
       "    </tr>\n",
       "    <tr>\n",
       "      <th>2165861</th>\n",
       "      <td>World</td>\n",
       "      <td>Agriculture</td>\n",
       "      <td>Gross Production Value (constant 2014-2016 tho...</td>\n",
       "      <td>1962</td>\n",
       "      <td>1.118482e+09</td>\n",
       "    </tr>\n",
       "    <tr>\n",
       "      <th>2165862</th>\n",
       "      <td>World</td>\n",
       "      <td>Agriculture</td>\n",
       "      <td>Gross Production Value (constant 2014-2016 tho...</td>\n",
       "      <td>1963</td>\n",
       "      <td>1.146767e+09</td>\n",
       "    </tr>\n",
       "    <tr>\n",
       "      <th>2165863</th>\n",
       "      <td>World</td>\n",
       "      <td>Agriculture</td>\n",
       "      <td>Gross Production Value (constant 2014-2016 tho...</td>\n",
       "      <td>1964</td>\n",
       "      <td>1.184759e+09</td>\n",
       "    </tr>\n",
       "    <tr>\n",
       "      <th>2165864</th>\n",
       "      <td>World</td>\n",
       "      <td>Agriculture</td>\n",
       "      <td>Gross Production Value (constant 2014-2016 tho...</td>\n",
       "      <td>1965</td>\n",
       "      <td>1.210465e+09</td>\n",
       "    </tr>\n",
       "    <tr>\n",
       "      <th>...</th>\n",
       "      <td>...</td>\n",
       "      <td>...</td>\n",
       "      <td>...</td>\n",
       "      <td>...</td>\n",
       "      <td>...</td>\n",
       "    </tr>\n",
       "    <tr>\n",
       "      <th>2165916</th>\n",
       "      <td>World</td>\n",
       "      <td>Agriculture</td>\n",
       "      <td>Gross Production Value (constant 2014-2016 tho...</td>\n",
       "      <td>2017</td>\n",
       "      <td>3.909425e+09</td>\n",
       "    </tr>\n",
       "    <tr>\n",
       "      <th>2165917</th>\n",
       "      <td>World</td>\n",
       "      <td>Agriculture</td>\n",
       "      <td>Gross Production Value (constant 2014-2016 tho...</td>\n",
       "      <td>2018</td>\n",
       "      <td>3.951008e+09</td>\n",
       "    </tr>\n",
       "    <tr>\n",
       "      <th>2165918</th>\n",
       "      <td>World</td>\n",
       "      <td>Agriculture</td>\n",
       "      <td>Gross Production Value (constant 2014-2016 tho...</td>\n",
       "      <td>2019</td>\n",
       "      <td>3.993589e+09</td>\n",
       "    </tr>\n",
       "    <tr>\n",
       "      <th>2165919</th>\n",
       "      <td>World</td>\n",
       "      <td>Agriculture</td>\n",
       "      <td>Gross Production Value (constant 2014-2016 tho...</td>\n",
       "      <td>2020</td>\n",
       "      <td>4.050315e+09</td>\n",
       "    </tr>\n",
       "    <tr>\n",
       "      <th>2165920</th>\n",
       "      <td>World</td>\n",
       "      <td>Agriculture</td>\n",
       "      <td>Gross Production Value (constant 2014-2016 tho...</td>\n",
       "      <td>2021</td>\n",
       "      <td>4.125747e+09</td>\n",
       "    </tr>\n",
       "  </tbody>\n",
       "</table>\n",
       "<p>61 rows × 5 columns</p>\n",
       "</div>"
      ],
      "text/plain": [
       "          Area         Item  \\\n",
       "2165860  World  Agriculture   \n",
       "2165861  World  Agriculture   \n",
       "2165862  World  Agriculture   \n",
       "2165863  World  Agriculture   \n",
       "2165864  World  Agriculture   \n",
       "...        ...          ...   \n",
       "2165916  World  Agriculture   \n",
       "2165917  World  Agriculture   \n",
       "2165918  World  Agriculture   \n",
       "2165919  World  Agriculture   \n",
       "2165920  World  Agriculture   \n",
       "\n",
       "                                                   Element  Year         Value  \n",
       "2165860  Gross Production Value (constant 2014-2016 tho...  1961  1.083667e+09  \n",
       "2165861  Gross Production Value (constant 2014-2016 tho...  1962  1.118482e+09  \n",
       "2165862  Gross Production Value (constant 2014-2016 tho...  1963  1.146767e+09  \n",
       "2165863  Gross Production Value (constant 2014-2016 tho...  1964  1.184759e+09  \n",
       "2165864  Gross Production Value (constant 2014-2016 tho...  1965  1.210465e+09  \n",
       "...                                                    ...   ...           ...  \n",
       "2165916  Gross Production Value (constant 2014-2016 tho...  2017  3.909425e+09  \n",
       "2165917  Gross Production Value (constant 2014-2016 tho...  2018  3.951008e+09  \n",
       "2165918  Gross Production Value (constant 2014-2016 tho...  2019  3.993589e+09  \n",
       "2165919  Gross Production Value (constant 2014-2016 tho...  2020  4.050315e+09  \n",
       "2165920  Gross Production Value (constant 2014-2016 tho...  2021  4.125747e+09  \n",
       "\n",
       "[61 rows x 5 columns]"
      ]
     },
     "execution_count": 10,
     "metadata": {},
     "output_type": "execute_result"
    }
   ],
   "source": [
    "Agriculture_World=production_dropped[(production_dropped['Item']=='Agriculture') & (production_dropped['Area']=='World')]\n",
    "Agriculture_World"
   ]
  },
  {
   "cell_type": "code",
   "execution_count": null,
   "id": "7b9221c3",
   "metadata": {},
   "outputs": [],
   "source": []
  },
  {
   "cell_type": "markdown",
   "id": "ff34b8a2",
   "metadata": {},
   "source": [
    "### Aggregation"
   ]
  },
  {
   "cell_type": "code",
   "execution_count": 11,
   "id": "ff5b115a",
   "metadata": {},
   "outputs": [
    {
     "data": {
      "text/html": [
       "<div>\n",
       "<style scoped>\n",
       "    .dataframe tbody tr th:only-of-type {\n",
       "        vertical-align: middle;\n",
       "    }\n",
       "\n",
       "    .dataframe tbody tr th {\n",
       "        vertical-align: top;\n",
       "    }\n",
       "\n",
       "    .dataframe thead th {\n",
       "        text-align: right;\n",
       "    }\n",
       "</style>\n",
       "<table border=\"1\" class=\"dataframe\">\n",
       "  <thead>\n",
       "    <tr style=\"text-align: right;\">\n",
       "      <th></th>\n",
       "      <th>Area</th>\n",
       "      <th>Year</th>\n",
       "      <th>sum</th>\n",
       "    </tr>\n",
       "  </thead>\n",
       "  <tbody>\n",
       "    <tr>\n",
       "      <th>0</th>\n",
       "      <td>Afghanistan</td>\n",
       "      <td>1961</td>\n",
       "      <td>13108985.0</td>\n",
       "    </tr>\n",
       "    <tr>\n",
       "      <th>1</th>\n",
       "      <td>Afghanistan</td>\n",
       "      <td>1962</td>\n",
       "      <td>13279590.0</td>\n",
       "    </tr>\n",
       "    <tr>\n",
       "      <th>2</th>\n",
       "      <td>Afghanistan</td>\n",
       "      <td>1963</td>\n",
       "      <td>13331206.0</td>\n",
       "    </tr>\n",
       "    <tr>\n",
       "      <th>3</th>\n",
       "      <td>Afghanistan</td>\n",
       "      <td>1964</td>\n",
       "      <td>14351979.0</td>\n",
       "    </tr>\n",
       "    <tr>\n",
       "      <th>4</th>\n",
       "      <td>Afghanistan</td>\n",
       "      <td>1965</td>\n",
       "      <td>15002948.0</td>\n",
       "    </tr>\n",
       "    <tr>\n",
       "      <th>...</th>\n",
       "      <td>...</td>\n",
       "      <td>...</td>\n",
       "      <td>...</td>\n",
       "    </tr>\n",
       "    <tr>\n",
       "      <th>13572</th>\n",
       "      <td>Zimbabwe</td>\n",
       "      <td>2017</td>\n",
       "      <td>22812305.0</td>\n",
       "    </tr>\n",
       "    <tr>\n",
       "      <th>13573</th>\n",
       "      <td>Zimbabwe</td>\n",
       "      <td>2018</td>\n",
       "      <td>24534597.0</td>\n",
       "    </tr>\n",
       "    <tr>\n",
       "      <th>13574</th>\n",
       "      <td>Zimbabwe</td>\n",
       "      <td>2019</td>\n",
       "      <td>23240113.0</td>\n",
       "    </tr>\n",
       "    <tr>\n",
       "      <th>13575</th>\n",
       "      <td>Zimbabwe</td>\n",
       "      <td>2020</td>\n",
       "      <td>24307864.0</td>\n",
       "    </tr>\n",
       "    <tr>\n",
       "      <th>13576</th>\n",
       "      <td>Zimbabwe</td>\n",
       "      <td>2021</td>\n",
       "      <td>28470583.0</td>\n",
       "    </tr>\n",
       "  </tbody>\n",
       "</table>\n",
       "<p>13577 rows × 3 columns</p>\n",
       "</div>"
      ],
      "text/plain": [
       "              Area  Year         sum\n",
       "0      Afghanistan  1961  13108985.0\n",
       "1      Afghanistan  1962  13279590.0\n",
       "2      Afghanistan  1963  13331206.0\n",
       "3      Afghanistan  1964  14351979.0\n",
       "4      Afghanistan  1965  15002948.0\n",
       "...            ...   ...         ...\n",
       "13572     Zimbabwe  2017  22812305.0\n",
       "13573     Zimbabwe  2018  24534597.0\n",
       "13574     Zimbabwe  2019  23240113.0\n",
       "13575     Zimbabwe  2020  24307864.0\n",
       "13576     Zimbabwe  2021  28470583.0\n",
       "\n",
       "[13577 rows x 3 columns]"
      ]
     },
     "execution_count": 11,
     "metadata": {},
     "output_type": "execute_result"
    }
   ],
   "source": [
    "type_count=production_dropped.groupby(['Area','Year',]).agg({'Value':'sum'}) \n",
    "type_count.rename({'Value':\"sum\"},axis=1,inplace=True)\n",
    "type_count = type_count.reset_index()\n",
    "type_count"
   ]
  },
  {
   "cell_type": "markdown",
   "id": "8cec3565",
   "metadata": {},
   "source": [
    "### Emission "
   ]
  },
  {
   "cell_type": "code",
   "execution_count": 12,
   "id": "aef6cfb0",
   "metadata": {},
   "outputs": [],
   "source": [
    "file_path=\"D:\\\\Un Datathon\\\\Data\\\\Foastat\\\\Emissions_Totals_E_All_Data_(Normalized) (1)\\\\Emissions_Totals_E_All_Data_(Normalized).csv\"\n",
    "try:\n",
    "    Emission = pd.read_csv(file_path, encoding='utf-8')\n",
    "    # Process the DataFrame\n",
    "except UnicodeDecodeError:\n",
    "    # Try a different encoding\n",
    "    Emission = pd.read_csv(file_path, encoding='latin-1')\n",
    "    # Process the DataFrame"
   ]
  },
  {
   "cell_type": "code",
   "execution_count": 13,
   "id": "ccde56d0",
   "metadata": {},
   "outputs": [
    {
     "data": {
      "text/html": [
       "<div>\n",
       "<style scoped>\n",
       "    .dataframe tbody tr th:only-of-type {\n",
       "        vertical-align: middle;\n",
       "    }\n",
       "\n",
       "    .dataframe tbody tr th {\n",
       "        vertical-align: top;\n",
       "    }\n",
       "\n",
       "    .dataframe thead th {\n",
       "        text-align: right;\n",
       "    }\n",
       "</style>\n",
       "<table border=\"1\" class=\"dataframe\">\n",
       "  <thead>\n",
       "    <tr style=\"text-align: right;\">\n",
       "      <th></th>\n",
       "      <th>Area Code</th>\n",
       "      <th>Area Code (M49)</th>\n",
       "      <th>Area</th>\n",
       "      <th>Item Code</th>\n",
       "      <th>Item</th>\n",
       "      <th>Element Code</th>\n",
       "      <th>Element</th>\n",
       "      <th>Year Code</th>\n",
       "      <th>Year</th>\n",
       "      <th>Source Code</th>\n",
       "      <th>Source</th>\n",
       "      <th>Unit</th>\n",
       "      <th>Value</th>\n",
       "      <th>Flag</th>\n",
       "      <th>Note</th>\n",
       "    </tr>\n",
       "  </thead>\n",
       "  <tbody>\n",
       "    <tr>\n",
       "      <th>0</th>\n",
       "      <td>2</td>\n",
       "      <td>'004</td>\n",
       "      <td>Afghanistan</td>\n",
       "      <td>5064</td>\n",
       "      <td>Crop Residues</td>\n",
       "      <td>7234</td>\n",
       "      <td>Direct emissions (N2O)</td>\n",
       "      <td>1961</td>\n",
       "      <td>1961</td>\n",
       "      <td>3050</td>\n",
       "      <td>FAO TIER 1</td>\n",
       "      <td>kilotonnes</td>\n",
       "      <td>0.8762</td>\n",
       "      <td>E</td>\n",
       "      <td>NaN</td>\n",
       "    </tr>\n",
       "    <tr>\n",
       "      <th>1</th>\n",
       "      <td>2</td>\n",
       "      <td>'004</td>\n",
       "      <td>Afghanistan</td>\n",
       "      <td>5064</td>\n",
       "      <td>Crop Residues</td>\n",
       "      <td>7234</td>\n",
       "      <td>Direct emissions (N2O)</td>\n",
       "      <td>1962</td>\n",
       "      <td>1962</td>\n",
       "      <td>3050</td>\n",
       "      <td>FAO TIER 1</td>\n",
       "      <td>kilotonnes</td>\n",
       "      <td>0.8829</td>\n",
       "      <td>E</td>\n",
       "      <td>NaN</td>\n",
       "    </tr>\n",
       "    <tr>\n",
       "      <th>2</th>\n",
       "      <td>2</td>\n",
       "      <td>'004</td>\n",
       "      <td>Afghanistan</td>\n",
       "      <td>5064</td>\n",
       "      <td>Crop Residues</td>\n",
       "      <td>7234</td>\n",
       "      <td>Direct emissions (N2O)</td>\n",
       "      <td>1963</td>\n",
       "      <td>1963</td>\n",
       "      <td>3050</td>\n",
       "      <td>FAO TIER 1</td>\n",
       "      <td>kilotonnes</td>\n",
       "      <td>0.8236</td>\n",
       "      <td>E</td>\n",
       "      <td>NaN</td>\n",
       "    </tr>\n",
       "  </tbody>\n",
       "</table>\n",
       "</div>"
      ],
      "text/plain": [
       "   Area Code Area Code (M49)         Area  Item Code           Item  \\\n",
       "0          2            '004  Afghanistan       5064  Crop Residues   \n",
       "1          2            '004  Afghanistan       5064  Crop Residues   \n",
       "2          2            '004  Afghanistan       5064  Crop Residues   \n",
       "\n",
       "   Element Code                 Element  Year Code  Year  Source Code  \\\n",
       "0          7234  Direct emissions (N2O)       1961  1961         3050   \n",
       "1          7234  Direct emissions (N2O)       1962  1962         3050   \n",
       "2          7234  Direct emissions (N2O)       1963  1963         3050   \n",
       "\n",
       "       Source        Unit   Value Flag  Note  \n",
       "0  FAO TIER 1  kilotonnes  0.8762    E   NaN  \n",
       "1  FAO TIER 1  kilotonnes  0.8829    E   NaN  \n",
       "2  FAO TIER 1  kilotonnes  0.8236    E   NaN  "
      ]
     },
     "execution_count": 13,
     "metadata": {},
     "output_type": "execute_result"
    }
   ],
   "source": [
    "Emission.head(3)"
   ]
  },
  {
   "cell_type": "markdown",
   "id": "268f7e80",
   "metadata": {},
   "source": [
    "#### Check "
   ]
  },
  {
   "cell_type": "code",
   "execution_count": 14,
   "id": "2201abbc",
   "metadata": {},
   "outputs": [
    {
     "data": {
      "text/plain": [
       "(Element\n",
       " Emissions (CO2eq) (AR5)                 408002\n",
       " Emissions (N2O)                         332518\n",
       " Emissions (CO2eq) from N2O (AR5)        330883\n",
       " Emissions (CH4)                         273051\n",
       " Emissions (CO2eq) from CH4 (AR5)        271497\n",
       " Emissions (CO2)                         193536\n",
       " Direct emissions (N2O)                   86472\n",
       " Indirect emissions (N2O)                 82119\n",
       " Emissions (CO2eq) from F-gases (AR5)     46909\n",
       " Name: count, dtype: int64,\n",
       " Area Code                0\n",
       " Area Code (M49)          0\n",
       " Area                     0\n",
       " Item Code                0\n",
       " Item                     0\n",
       " Element Code             0\n",
       " Element                  0\n",
       " Year Code                0\n",
       " Year                     0\n",
       " Source Code              0\n",
       " Source                   0\n",
       " Unit                     0\n",
       " Value                    0\n",
       " Flag                     0\n",
       " Note               2024987\n",
       " dtype: int64,\n",
       " 0)"
      ]
     },
     "execution_count": 14,
     "metadata": {},
     "output_type": "execute_result"
    }
   ],
   "source": [
    "Emission['Element'].value_counts(),Emission.isnull().sum(),Emission.duplicated().sum()"
   ]
  },
  {
   "cell_type": "markdown",
   "id": "ee91d901",
   "metadata": {},
   "source": [
    "### Preprocessing"
   ]
  },
  {
   "cell_type": "markdown",
   "id": "80edf2a4",
   "metadata": {},
   "source": [
    "### Drop un wanted Columns"
   ]
  },
  {
   "cell_type": "code",
   "execution_count": 15,
   "id": "d6f23dba",
   "metadata": {},
   "outputs": [
    {
     "data": {
      "text/html": [
       "<div>\n",
       "<style scoped>\n",
       "    .dataframe tbody tr th:only-of-type {\n",
       "        vertical-align: middle;\n",
       "    }\n",
       "\n",
       "    .dataframe tbody tr th {\n",
       "        vertical-align: top;\n",
       "    }\n",
       "\n",
       "    .dataframe thead th {\n",
       "        text-align: right;\n",
       "    }\n",
       "</style>\n",
       "<table border=\"1\" class=\"dataframe\">\n",
       "  <thead>\n",
       "    <tr style=\"text-align: right;\">\n",
       "      <th></th>\n",
       "      <th>Area</th>\n",
       "      <th>Item</th>\n",
       "      <th>Element</th>\n",
       "      <th>Year</th>\n",
       "      <th>Value</th>\n",
       "    </tr>\n",
       "  </thead>\n",
       "  <tbody>\n",
       "    <tr>\n",
       "      <th>0</th>\n",
       "      <td>Afghanistan</td>\n",
       "      <td>Crop Residues</td>\n",
       "      <td>Direct emissions (N2O)</td>\n",
       "      <td>1961</td>\n",
       "      <td>8.762000e-01</td>\n",
       "    </tr>\n",
       "    <tr>\n",
       "      <th>1</th>\n",
       "      <td>Afghanistan</td>\n",
       "      <td>Crop Residues</td>\n",
       "      <td>Direct emissions (N2O)</td>\n",
       "      <td>1962</td>\n",
       "      <td>8.829000e-01</td>\n",
       "    </tr>\n",
       "    <tr>\n",
       "      <th>2</th>\n",
       "      <td>Afghanistan</td>\n",
       "      <td>Crop Residues</td>\n",
       "      <td>Direct emissions (N2O)</td>\n",
       "      <td>1963</td>\n",
       "      <td>8.236000e-01</td>\n",
       "    </tr>\n",
       "    <tr>\n",
       "      <th>3</th>\n",
       "      <td>Afghanistan</td>\n",
       "      <td>Crop Residues</td>\n",
       "      <td>Direct emissions (N2O)</td>\n",
       "      <td>1964</td>\n",
       "      <td>8.882000e-01</td>\n",
       "    </tr>\n",
       "    <tr>\n",
       "      <th>4</th>\n",
       "      <td>Afghanistan</td>\n",
       "      <td>Crop Residues</td>\n",
       "      <td>Direct emissions (N2O)</td>\n",
       "      <td>1965</td>\n",
       "      <td>8.978000e-01</td>\n",
       "    </tr>\n",
       "    <tr>\n",
       "      <th>...</th>\n",
       "      <td>...</td>\n",
       "      <td>...</td>\n",
       "      <td>...</td>\n",
       "      <td>...</td>\n",
       "      <td>...</td>\n",
       "    </tr>\n",
       "    <tr>\n",
       "      <th>2024982</th>\n",
       "      <td>OECD</td>\n",
       "      <td>All sectors without LULUCF</td>\n",
       "      <td>Emissions (CO2eq) (AR5)</td>\n",
       "      <td>2018</td>\n",
       "      <td>1.621034e+07</td>\n",
       "    </tr>\n",
       "    <tr>\n",
       "      <th>2024983</th>\n",
       "      <td>OECD</td>\n",
       "      <td>All sectors without LULUCF</td>\n",
       "      <td>Emissions (CO2eq) (AR5)</td>\n",
       "      <td>2019</td>\n",
       "      <td>1.578256e+07</td>\n",
       "    </tr>\n",
       "    <tr>\n",
       "      <th>2024984</th>\n",
       "      <td>OECD</td>\n",
       "      <td>All sectors without LULUCF</td>\n",
       "      <td>Emissions (CO2eq) (AR5)</td>\n",
       "      <td>2020</td>\n",
       "      <td>1.443647e+07</td>\n",
       "    </tr>\n",
       "    <tr>\n",
       "      <th>2024985</th>\n",
       "      <td>OECD</td>\n",
       "      <td>All sectors without LULUCF</td>\n",
       "      <td>Emissions (CO2eq) (AR5)</td>\n",
       "      <td>2030</td>\n",
       "      <td>1.204272e+06</td>\n",
       "    </tr>\n",
       "    <tr>\n",
       "      <th>2024986</th>\n",
       "      <td>OECD</td>\n",
       "      <td>All sectors without LULUCF</td>\n",
       "      <td>Emissions (CO2eq) (AR5)</td>\n",
       "      <td>2050</td>\n",
       "      <td>1.215987e+06</td>\n",
       "    </tr>\n",
       "  </tbody>\n",
       "</table>\n",
       "<p>2024987 rows × 5 columns</p>\n",
       "</div>"
      ],
      "text/plain": [
       "                Area                        Item                  Element  \\\n",
       "0        Afghanistan               Crop Residues   Direct emissions (N2O)   \n",
       "1        Afghanistan               Crop Residues   Direct emissions (N2O)   \n",
       "2        Afghanistan               Crop Residues   Direct emissions (N2O)   \n",
       "3        Afghanistan               Crop Residues   Direct emissions (N2O)   \n",
       "4        Afghanistan               Crop Residues   Direct emissions (N2O)   \n",
       "...              ...                         ...                      ...   \n",
       "2024982         OECD  All sectors without LULUCF  Emissions (CO2eq) (AR5)   \n",
       "2024983         OECD  All sectors without LULUCF  Emissions (CO2eq) (AR5)   \n",
       "2024984         OECD  All sectors without LULUCF  Emissions (CO2eq) (AR5)   \n",
       "2024985         OECD  All sectors without LULUCF  Emissions (CO2eq) (AR5)   \n",
       "2024986         OECD  All sectors without LULUCF  Emissions (CO2eq) (AR5)   \n",
       "\n",
       "         Year         Value  \n",
       "0        1961  8.762000e-01  \n",
       "1        1962  8.829000e-01  \n",
       "2        1963  8.236000e-01  \n",
       "3        1964  8.882000e-01  \n",
       "4        1965  8.978000e-01  \n",
       "...       ...           ...  \n",
       "2024982  2018  1.621034e+07  \n",
       "2024983  2019  1.578256e+07  \n",
       "2024984  2020  1.443647e+07  \n",
       "2024985  2030  1.204272e+06  \n",
       "2024986  2050  1.215987e+06  \n",
       "\n",
       "[2024987 rows x 5 columns]"
      ]
     },
     "execution_count": 15,
     "metadata": {},
     "output_type": "execute_result"
    }
   ],
   "source": [
    "Emission_dropped=Emission.drop(['Area Code','Area Code (M49)','Item Code','Element Code',\\\n",
    "                              'Year Code','Source','Source Code','Flag','Note','Unit'],axis=1)\n",
    "Emission_dropped#=#Emission_final[(Emission_final['Year']>=2010) & (Emission_final['Year']<=2023)]\n",
    "Emission_dropped"
   ]
  },
  {
   "cell_type": "code",
   "execution_count": 16,
   "id": "1fdb1b5e",
   "metadata": {},
   "outputs": [],
   "source": [
    "World_Emission=Emission_dropped[Emission['Area']==\"World\"]"
   ]
  },
  {
   "cell_type": "code",
   "execution_count": 17,
   "id": "d4e6a4c7",
   "metadata": {},
   "outputs": [
    {
     "data": {
      "text/html": [
       "<div>\n",
       "<style scoped>\n",
       "    .dataframe tbody tr th:only-of-type {\n",
       "        vertical-align: middle;\n",
       "    }\n",
       "\n",
       "    .dataframe tbody tr th {\n",
       "        vertical-align: top;\n",
       "    }\n",
       "\n",
       "    .dataframe thead th {\n",
       "        text-align: right;\n",
       "    }\n",
       "</style>\n",
       "<table border=\"1\" class=\"dataframe\">\n",
       "  <thead>\n",
       "    <tr style=\"text-align: right;\">\n",
       "      <th></th>\n",
       "      <th>Area</th>\n",
       "      <th>Item</th>\n",
       "      <th>Element</th>\n",
       "      <th>Year</th>\n",
       "      <th>Value</th>\n",
       "    </tr>\n",
       "  </thead>\n",
       "  <tbody>\n",
       "    <tr>\n",
       "      <th>1704749</th>\n",
       "      <td>World</td>\n",
       "      <td>Crop Residues</td>\n",
       "      <td>Direct emissions (N2O)</td>\n",
       "      <td>1961</td>\n",
       "      <td>2.212059e+02</td>\n",
       "    </tr>\n",
       "    <tr>\n",
       "      <th>1704750</th>\n",
       "      <td>World</td>\n",
       "      <td>Crop Residues</td>\n",
       "      <td>Direct emissions (N2O)</td>\n",
       "      <td>1962</td>\n",
       "      <td>2.313731e+02</td>\n",
       "    </tr>\n",
       "    <tr>\n",
       "      <th>1704751</th>\n",
       "      <td>World</td>\n",
       "      <td>Crop Residues</td>\n",
       "      <td>Direct emissions (N2O)</td>\n",
       "      <td>1963</td>\n",
       "      <td>2.333363e+02</td>\n",
       "    </tr>\n",
       "    <tr>\n",
       "      <th>1704752</th>\n",
       "      <td>World</td>\n",
       "      <td>Crop Residues</td>\n",
       "      <td>Direct emissions (N2O)</td>\n",
       "      <td>1964</td>\n",
       "      <td>2.446206e+02</td>\n",
       "    </tr>\n",
       "    <tr>\n",
       "      <th>1704753</th>\n",
       "      <td>World</td>\n",
       "      <td>Crop Residues</td>\n",
       "      <td>Direct emissions (N2O)</td>\n",
       "      <td>1965</td>\n",
       "      <td>2.433055e+02</td>\n",
       "    </tr>\n",
       "    <tr>\n",
       "      <th>...</th>\n",
       "      <td>...</td>\n",
       "      <td>...</td>\n",
       "      <td>...</td>\n",
       "      <td>...</td>\n",
       "      <td>...</td>\n",
       "    </tr>\n",
       "    <tr>\n",
       "      <th>1715688</th>\n",
       "      <td>World</td>\n",
       "      <td>All sectors without LULUCF</td>\n",
       "      <td>Emissions (CO2eq) (AR5)</td>\n",
       "      <td>2018</td>\n",
       "      <td>5.217827e+07</td>\n",
       "    </tr>\n",
       "    <tr>\n",
       "      <th>1715689</th>\n",
       "      <td>World</td>\n",
       "      <td>All sectors without LULUCF</td>\n",
       "      <td>Emissions (CO2eq) (AR5)</td>\n",
       "      <td>2019</td>\n",
       "      <td>5.233847e+07</td>\n",
       "    </tr>\n",
       "    <tr>\n",
       "      <th>1715690</th>\n",
       "      <td>World</td>\n",
       "      <td>All sectors without LULUCF</td>\n",
       "      <td>Emissions (CO2eq) (AR5)</td>\n",
       "      <td>2020</td>\n",
       "      <td>5.061739e+07</td>\n",
       "    </tr>\n",
       "    <tr>\n",
       "      <th>1715691</th>\n",
       "      <td>World</td>\n",
       "      <td>All sectors without LULUCF</td>\n",
       "      <td>Emissions (CO2eq) (AR5)</td>\n",
       "      <td>2030</td>\n",
       "      <td>5.934315e+06</td>\n",
       "    </tr>\n",
       "    <tr>\n",
       "      <th>1715692</th>\n",
       "      <td>World</td>\n",
       "      <td>All sectors without LULUCF</td>\n",
       "      <td>Emissions (CO2eq) (AR5)</td>\n",
       "      <td>2050</td>\n",
       "      <td>6.519140e+06</td>\n",
       "    </tr>\n",
       "  </tbody>\n",
       "</table>\n",
       "<p>10944 rows × 5 columns</p>\n",
       "</div>"
      ],
      "text/plain": [
       "          Area                        Item                  Element  Year  \\\n",
       "1704749  World               Crop Residues   Direct emissions (N2O)  1961   \n",
       "1704750  World               Crop Residues   Direct emissions (N2O)  1962   \n",
       "1704751  World               Crop Residues   Direct emissions (N2O)  1963   \n",
       "1704752  World               Crop Residues   Direct emissions (N2O)  1964   \n",
       "1704753  World               Crop Residues   Direct emissions (N2O)  1965   \n",
       "...        ...                         ...                      ...   ...   \n",
       "1715688  World  All sectors without LULUCF  Emissions (CO2eq) (AR5)  2018   \n",
       "1715689  World  All sectors without LULUCF  Emissions (CO2eq) (AR5)  2019   \n",
       "1715690  World  All sectors without LULUCF  Emissions (CO2eq) (AR5)  2020   \n",
       "1715691  World  All sectors without LULUCF  Emissions (CO2eq) (AR5)  2030   \n",
       "1715692  World  All sectors without LULUCF  Emissions (CO2eq) (AR5)  2050   \n",
       "\n",
       "                Value  \n",
       "1704749  2.212059e+02  \n",
       "1704750  2.313731e+02  \n",
       "1704751  2.333363e+02  \n",
       "1704752  2.446206e+02  \n",
       "1704753  2.433055e+02  \n",
       "...               ...  \n",
       "1715688  5.217827e+07  \n",
       "1715689  5.233847e+07  \n",
       "1715690  5.061739e+07  \n",
       "1715691  5.934315e+06  \n",
       "1715692  6.519140e+06  \n",
       "\n",
       "[10944 rows x 5 columns]"
      ]
     },
     "execution_count": 17,
     "metadata": {},
     "output_type": "execute_result"
    }
   ],
   "source": [
    "World_Emission"
   ]
  },
  {
   "cell_type": "markdown",
   "id": "595167f8",
   "metadata": {},
   "source": [
    "### Aggregate Emmissions "
   ]
  },
  {
   "cell_type": "code",
   "execution_count": 18,
   "id": "f8b8a320",
   "metadata": {},
   "outputs": [
    {
     "data": {
      "text/html": [
       "<div>\n",
       "<style scoped>\n",
       "    .dataframe tbody tr th:only-of-type {\n",
       "        vertical-align: middle;\n",
       "    }\n",
       "\n",
       "    .dataframe tbody tr th {\n",
       "        vertical-align: top;\n",
       "    }\n",
       "\n",
       "    .dataframe thead th {\n",
       "        text-align: right;\n",
       "    }\n",
       "</style>\n",
       "<table border=\"1\" class=\"dataframe\">\n",
       "  <thead>\n",
       "    <tr style=\"text-align: right;\">\n",
       "      <th></th>\n",
       "      <th>Area</th>\n",
       "      <th>Year</th>\n",
       "      <th>Element</th>\n",
       "      <th>Mean</th>\n",
       "    </tr>\n",
       "  </thead>\n",
       "  <tbody>\n",
       "    <tr>\n",
       "      <th>0</th>\n",
       "      <td>Afghanistan</td>\n",
       "      <td>1961</td>\n",
       "      <td>Direct emissions (N2O)</td>\n",
       "      <td>3.645600</td>\n",
       "    </tr>\n",
       "    <tr>\n",
       "      <th>1</th>\n",
       "      <td>Afghanistan</td>\n",
       "      <td>1961</td>\n",
       "      <td>Emissions (CH4)</td>\n",
       "      <td>142.889650</td>\n",
       "    </tr>\n",
       "    <tr>\n",
       "      <th>2</th>\n",
       "      <td>Afghanistan</td>\n",
       "      <td>1961</td>\n",
       "      <td>Emissions (CO2eq) (AR5)</td>\n",
       "      <td>3181.758264</td>\n",
       "    </tr>\n",
       "    <tr>\n",
       "      <th>3</th>\n",
       "      <td>Afghanistan</td>\n",
       "      <td>1961</td>\n",
       "      <td>Emissions (CO2eq) from CH4 (AR5)</td>\n",
       "      <td>4000.910250</td>\n",
       "    </tr>\n",
       "    <tr>\n",
       "      <th>4</th>\n",
       "      <td>Afghanistan</td>\n",
       "      <td>1961</td>\n",
       "      <td>Emissions (CO2eq) from N2O (AR5)</td>\n",
       "      <td>1221.542156</td>\n",
       "    </tr>\n",
       "  </tbody>\n",
       "</table>\n",
       "</div>"
      ],
      "text/plain": [
       "          Area  Year                           Element         Mean\n",
       "0  Afghanistan  1961            Direct emissions (N2O)     3.645600\n",
       "1  Afghanistan  1961                   Emissions (CH4)   142.889650\n",
       "2  Afghanistan  1961           Emissions (CO2eq) (AR5)  3181.758264\n",
       "3  Afghanistan  1961  Emissions (CO2eq) from CH4 (AR5)  4000.910250\n",
       "4  Afghanistan  1961  Emissions (CO2eq) from N2O (AR5)  1221.542156"
      ]
     },
     "execution_count": 18,
     "metadata": {},
     "output_type": "execute_result"
    }
   ],
   "source": [
    "type_count=Emission_dropped.groupby(['Area','Year','Element']).agg({'Value':'mean'}) \n",
    "type_count.rename({'Value':\"Mean\"},axis=1,inplace=True)\n",
    "type_count = type_count.reset_index()\n",
    "type_count.head()"
   ]
  },
  {
   "cell_type": "markdown",
   "id": "f02d5b9f",
   "metadata": {},
   "source": [
    "### join Emission with production with agg"
   ]
  },
  {
   "cell_type": "code",
   "execution_count": 19,
   "id": "ecf8f7ff",
   "metadata": {},
   "outputs": [
    {
     "data": {
      "text/html": [
       "<div>\n",
       "<style scoped>\n",
       "    .dataframe tbody tr th:only-of-type {\n",
       "        vertical-align: middle;\n",
       "    }\n",
       "\n",
       "    .dataframe tbody tr th {\n",
       "        vertical-align: top;\n",
       "    }\n",
       "\n",
       "    .dataframe thead th {\n",
       "        text-align: right;\n",
       "    }\n",
       "</style>\n",
       "<table border=\"1\" class=\"dataframe\">\n",
       "  <thead>\n",
       "    <tr style=\"text-align: right;\">\n",
       "      <th></th>\n",
       "      <th>Area</th>\n",
       "      <th>Item</th>\n",
       "      <th>Element</th>\n",
       "      <th>Year</th>\n",
       "      <th>Value</th>\n",
       "    </tr>\n",
       "  </thead>\n",
       "  <tbody>\n",
       "    <tr>\n",
       "      <th>4302</th>\n",
       "      <td>Afghanistan</td>\n",
       "      <td>Agriculture</td>\n",
       "      <td>Gross Production Value (constant 2014-2016 tho...</td>\n",
       "      <td>1961</td>\n",
       "      <td>2566730.0</td>\n",
       "    </tr>\n",
       "    <tr>\n",
       "      <th>4303</th>\n",
       "      <td>Afghanistan</td>\n",
       "      <td>Agriculture</td>\n",
       "      <td>Gross Production Value (constant 2014-2016 tho...</td>\n",
       "      <td>1962</td>\n",
       "      <td>2611942.0</td>\n",
       "    </tr>\n",
       "    <tr>\n",
       "      <th>4304</th>\n",
       "      <td>Afghanistan</td>\n",
       "      <td>Agriculture</td>\n",
       "      <td>Gross Production Value (constant 2014-2016 tho...</td>\n",
       "      <td>1963</td>\n",
       "      <td>2632254.0</td>\n",
       "    </tr>\n",
       "    <tr>\n",
       "      <th>4305</th>\n",
       "      <td>Afghanistan</td>\n",
       "      <td>Agriculture</td>\n",
       "      <td>Gross Production Value (constant 2014-2016 tho...</td>\n",
       "      <td>1964</td>\n",
       "      <td>2810010.0</td>\n",
       "    </tr>\n",
       "    <tr>\n",
       "      <th>4306</th>\n",
       "      <td>Afghanistan</td>\n",
       "      <td>Agriculture</td>\n",
       "      <td>Gross Production Value (constant 2014-2016 tho...</td>\n",
       "      <td>1965</td>\n",
       "      <td>2932230.0</td>\n",
       "    </tr>\n",
       "    <tr>\n",
       "      <th>...</th>\n",
       "      <td>...</td>\n",
       "      <td>...</td>\n",
       "      <td>...</td>\n",
       "      <td>...</td>\n",
       "      <td>...</td>\n",
       "    </tr>\n",
       "    <tr>\n",
       "      <th>2791956</th>\n",
       "      <td>Net Food Importing Developing Countries</td>\n",
       "      <td>Agriculture</td>\n",
       "      <td>Gross Production Value (constant 2014-2016 tho...</td>\n",
       "      <td>2017</td>\n",
       "      <td>452896993.0</td>\n",
       "    </tr>\n",
       "    <tr>\n",
       "      <th>2791957</th>\n",
       "      <td>Net Food Importing Developing Countries</td>\n",
       "      <td>Agriculture</td>\n",
       "      <td>Gross Production Value (constant 2014-2016 tho...</td>\n",
       "      <td>2018</td>\n",
       "      <td>458594747.0</td>\n",
       "    </tr>\n",
       "    <tr>\n",
       "      <th>2791958</th>\n",
       "      <td>Net Food Importing Developing Countries</td>\n",
       "      <td>Agriculture</td>\n",
       "      <td>Gross Production Value (constant 2014-2016 tho...</td>\n",
       "      <td>2019</td>\n",
       "      <td>471367604.0</td>\n",
       "    </tr>\n",
       "    <tr>\n",
       "      <th>2791959</th>\n",
       "      <td>Net Food Importing Developing Countries</td>\n",
       "      <td>Agriculture</td>\n",
       "      <td>Gross Production Value (constant 2014-2016 tho...</td>\n",
       "      <td>2020</td>\n",
       "      <td>485658023.0</td>\n",
       "    </tr>\n",
       "    <tr>\n",
       "      <th>2791960</th>\n",
       "      <td>Net Food Importing Developing Countries</td>\n",
       "      <td>Agriculture</td>\n",
       "      <td>Gross Production Value (constant 2014-2016 tho...</td>\n",
       "      <td>2021</td>\n",
       "      <td>492817766.0</td>\n",
       "    </tr>\n",
       "  </tbody>\n",
       "</table>\n",
       "<p>13577 rows × 5 columns</p>\n",
       "</div>"
      ],
      "text/plain": [
       "                                            Area         Item  \\\n",
       "4302                                 Afghanistan  Agriculture   \n",
       "4303                                 Afghanistan  Agriculture   \n",
       "4304                                 Afghanistan  Agriculture   \n",
       "4305                                 Afghanistan  Agriculture   \n",
       "4306                                 Afghanistan  Agriculture   \n",
       "...                                          ...          ...   \n",
       "2791956  Net Food Importing Developing Countries  Agriculture   \n",
       "2791957  Net Food Importing Developing Countries  Agriculture   \n",
       "2791958  Net Food Importing Developing Countries  Agriculture   \n",
       "2791959  Net Food Importing Developing Countries  Agriculture   \n",
       "2791960  Net Food Importing Developing Countries  Agriculture   \n",
       "\n",
       "                                                   Element  Year        Value  \n",
       "4302     Gross Production Value (constant 2014-2016 tho...  1961    2566730.0  \n",
       "4303     Gross Production Value (constant 2014-2016 tho...  1962    2611942.0  \n",
       "4304     Gross Production Value (constant 2014-2016 tho...  1963    2632254.0  \n",
       "4305     Gross Production Value (constant 2014-2016 tho...  1964    2810010.0  \n",
       "4306     Gross Production Value (constant 2014-2016 tho...  1965    2932230.0  \n",
       "...                                                    ...   ...          ...  \n",
       "2791956  Gross Production Value (constant 2014-2016 tho...  2017  452896993.0  \n",
       "2791957  Gross Production Value (constant 2014-2016 tho...  2018  458594747.0  \n",
       "2791958  Gross Production Value (constant 2014-2016 tho...  2019  471367604.0  \n",
       "2791959  Gross Production Value (constant 2014-2016 tho...  2020  485658023.0  \n",
       "2791960  Gross Production Value (constant 2014-2016 tho...  2021  492817766.0  \n",
       "\n",
       "[13577 rows x 5 columns]"
      ]
     },
     "execution_count": 19,
     "metadata": {},
     "output_type": "execute_result"
    }
   ],
   "source": [
    "Agriculture=production_dropped[(production_dropped['Item']=='Agriculture')]\n",
    "Agriculture"
   ]
  },
  {
   "cell_type": "code",
   "execution_count": 20,
   "id": "81a5d041",
   "metadata": {},
   "outputs": [
    {
     "data": {
      "text/html": [
       "<div>\n",
       "<style scoped>\n",
       "    .dataframe tbody tr th:only-of-type {\n",
       "        vertical-align: middle;\n",
       "    }\n",
       "\n",
       "    .dataframe tbody tr th {\n",
       "        vertical-align: top;\n",
       "    }\n",
       "\n",
       "    .dataframe thead th {\n",
       "        text-align: right;\n",
       "    }\n",
       "</style>\n",
       "<table border=\"1\" class=\"dataframe\">\n",
       "  <thead>\n",
       "    <tr style=\"text-align: right;\">\n",
       "      <th></th>\n",
       "      <th>Area</th>\n",
       "      <th>Item</th>\n",
       "      <th>Production_Elment</th>\n",
       "      <th>Year</th>\n",
       "      <th>Value</th>\n",
       "      <th>Element_Emission</th>\n",
       "      <th>Mean</th>\n",
       "    </tr>\n",
       "  </thead>\n",
       "  <tbody>\n",
       "    <tr>\n",
       "      <th>0</th>\n",
       "      <td>Afghanistan</td>\n",
       "      <td>Agriculture</td>\n",
       "      <td>Gross Production Value (constant 2014-2016 tho...</td>\n",
       "      <td>1961</td>\n",
       "      <td>2566730.0</td>\n",
       "      <td>Direct emissions (N2O)</td>\n",
       "      <td>3.645600</td>\n",
       "    </tr>\n",
       "    <tr>\n",
       "      <th>1</th>\n",
       "      <td>Afghanistan</td>\n",
       "      <td>Agriculture</td>\n",
       "      <td>Gross Production Value (constant 2014-2016 tho...</td>\n",
       "      <td>1961</td>\n",
       "      <td>2566730.0</td>\n",
       "      <td>Emissions (CH4)</td>\n",
       "      <td>142.889650</td>\n",
       "    </tr>\n",
       "    <tr>\n",
       "      <th>2</th>\n",
       "      <td>Afghanistan</td>\n",
       "      <td>Agriculture</td>\n",
       "      <td>Gross Production Value (constant 2014-2016 tho...</td>\n",
       "      <td>1961</td>\n",
       "      <td>2566730.0</td>\n",
       "      <td>Emissions (CO2eq) (AR5)</td>\n",
       "      <td>3181.758264</td>\n",
       "    </tr>\n",
       "    <tr>\n",
       "      <th>3</th>\n",
       "      <td>Afghanistan</td>\n",
       "      <td>Agriculture</td>\n",
       "      <td>Gross Production Value (constant 2014-2016 tho...</td>\n",
       "      <td>1961</td>\n",
       "      <td>2566730.0</td>\n",
       "      <td>Emissions (CO2eq) from CH4 (AR5)</td>\n",
       "      <td>4000.910250</td>\n",
       "    </tr>\n",
       "    <tr>\n",
       "      <th>4</th>\n",
       "      <td>Afghanistan</td>\n",
       "      <td>Agriculture</td>\n",
       "      <td>Gross Production Value (constant 2014-2016 tho...</td>\n",
       "      <td>1961</td>\n",
       "      <td>2566730.0</td>\n",
       "      <td>Emissions (CO2eq) from N2O (AR5)</td>\n",
       "      <td>1221.542156</td>\n",
       "    </tr>\n",
       "    <tr>\n",
       "      <th>...</th>\n",
       "      <td>...</td>\n",
       "      <td>...</td>\n",
       "      <td>...</td>\n",
       "      <td>...</td>\n",
       "      <td>...</td>\n",
       "      <td>...</td>\n",
       "      <td>...</td>\n",
       "    </tr>\n",
       "    <tr>\n",
       "      <th>106802</th>\n",
       "      <td>Net Food Importing Developing Countries</td>\n",
       "      <td>Agriculture</td>\n",
       "      <td>Gross Production Value (constant 2014-2016 tho...</td>\n",
       "      <td>2020</td>\n",
       "      <td>485658023.0</td>\n",
       "      <td>Emissions (CO2eq) from CH4 (AR5)</td>\n",
       "      <td>367756.326478</td>\n",
       "    </tr>\n",
       "    <tr>\n",
       "      <th>106803</th>\n",
       "      <td>Net Food Importing Developing Countries</td>\n",
       "      <td>Agriculture</td>\n",
       "      <td>Gross Production Value (constant 2014-2016 tho...</td>\n",
       "      <td>2020</td>\n",
       "      <td>485658023.0</td>\n",
       "      <td>Emissions (CO2eq) from F-gases (AR5)</td>\n",
       "      <td>22383.112744</td>\n",
       "    </tr>\n",
       "    <tr>\n",
       "      <th>106804</th>\n",
       "      <td>Net Food Importing Developing Countries</td>\n",
       "      <td>Agriculture</td>\n",
       "      <td>Gross Production Value (constant 2014-2016 tho...</td>\n",
       "      <td>2020</td>\n",
       "      <td>485658023.0</td>\n",
       "      <td>Emissions (CO2eq) from N2O (AR5)</td>\n",
       "      <td>136622.711528</td>\n",
       "    </tr>\n",
       "    <tr>\n",
       "      <th>106805</th>\n",
       "      <td>Net Food Importing Developing Countries</td>\n",
       "      <td>Agriculture</td>\n",
       "      <td>Gross Production Value (constant 2014-2016 tho...</td>\n",
       "      <td>2020</td>\n",
       "      <td>485658023.0</td>\n",
       "      <td>Emissions (N2O)</td>\n",
       "      <td>515.556558</td>\n",
       "    </tr>\n",
       "    <tr>\n",
       "      <th>106806</th>\n",
       "      <td>Net Food Importing Developing Countries</td>\n",
       "      <td>Agriculture</td>\n",
       "      <td>Gross Production Value (constant 2014-2016 tho...</td>\n",
       "      <td>2020</td>\n",
       "      <td>485658023.0</td>\n",
       "      <td>Indirect emissions (N2O)</td>\n",
       "      <td>160.774083</td>\n",
       "    </tr>\n",
       "  </tbody>\n",
       "</table>\n",
       "<p>106807 rows × 7 columns</p>\n",
       "</div>"
      ],
      "text/plain": [
       "                                           Area         Item  \\\n",
       "0                                   Afghanistan  Agriculture   \n",
       "1                                   Afghanistan  Agriculture   \n",
       "2                                   Afghanistan  Agriculture   \n",
       "3                                   Afghanistan  Agriculture   \n",
       "4                                   Afghanistan  Agriculture   \n",
       "...                                         ...          ...   \n",
       "106802  Net Food Importing Developing Countries  Agriculture   \n",
       "106803  Net Food Importing Developing Countries  Agriculture   \n",
       "106804  Net Food Importing Developing Countries  Agriculture   \n",
       "106805  Net Food Importing Developing Countries  Agriculture   \n",
       "106806  Net Food Importing Developing Countries  Agriculture   \n",
       "\n",
       "                                        Production_Elment  Year        Value  \\\n",
       "0       Gross Production Value (constant 2014-2016 tho...  1961    2566730.0   \n",
       "1       Gross Production Value (constant 2014-2016 tho...  1961    2566730.0   \n",
       "2       Gross Production Value (constant 2014-2016 tho...  1961    2566730.0   \n",
       "3       Gross Production Value (constant 2014-2016 tho...  1961    2566730.0   \n",
       "4       Gross Production Value (constant 2014-2016 tho...  1961    2566730.0   \n",
       "...                                                   ...   ...          ...   \n",
       "106802  Gross Production Value (constant 2014-2016 tho...  2020  485658023.0   \n",
       "106803  Gross Production Value (constant 2014-2016 tho...  2020  485658023.0   \n",
       "106804  Gross Production Value (constant 2014-2016 tho...  2020  485658023.0   \n",
       "106805  Gross Production Value (constant 2014-2016 tho...  2020  485658023.0   \n",
       "106806  Gross Production Value (constant 2014-2016 tho...  2020  485658023.0   \n",
       "\n",
       "                            Element_Emission           Mean  \n",
       "0                     Direct emissions (N2O)       3.645600  \n",
       "1                            Emissions (CH4)     142.889650  \n",
       "2                    Emissions (CO2eq) (AR5)    3181.758264  \n",
       "3           Emissions (CO2eq) from CH4 (AR5)    4000.910250  \n",
       "4           Emissions (CO2eq) from N2O (AR5)    1221.542156  \n",
       "...                                      ...            ...  \n",
       "106802      Emissions (CO2eq) from CH4 (AR5)  367756.326478  \n",
       "106803  Emissions (CO2eq) from F-gases (AR5)   22383.112744  \n",
       "106804      Emissions (CO2eq) from N2O (AR5)  136622.711528  \n",
       "106805                       Emissions (N2O)     515.556558  \n",
       "106806              Indirect emissions (N2O)     160.774083  \n",
       "\n",
       "[106807 rows x 7 columns]"
      ]
     },
     "execution_count": 20,
     "metadata": {},
     "output_type": "execute_result"
    }
   ],
   "source": [
    "Production_Emission_withagg=pd.merge(Agriculture,type_count,how='inner',left_on=['Area','Year'],right_on=['Area','Year'])\n",
    "#integ.drop('Year',axis=1,inplace=True)\n",
    "Production_Emission_withagg.rename(columns={\n",
    "                                     'Element_x': 'Production_Elment',\n",
    "                                    'Element_y':'Element_Emission'}, inplace=True)\n",
    "# Production_Emission_withoutagg\n",
    "Production_Emission_withagg"
   ]
  },
  {
   "cell_type": "markdown",
   "id": "46688d46",
   "metadata": {},
   "source": [
    "### Write data as csv"
   ]
  },
  {
   "cell_type": "code",
   "execution_count": 21,
   "id": "91bc1cc6",
   "metadata": {},
   "outputs": [],
   "source": [
    "# Production_Emission_withagg.to_csv(\"D:\\\\Un Datathon\\\\Data\\\\Final\\\\Production_Emission_withagg.csv\")"
   ]
  },
  {
   "cell_type": "markdown",
   "id": "088f09c6",
   "metadata": {},
   "source": [
    "### Join with out agg"
   ]
  },
  {
   "cell_type": "code",
   "execution_count": 129,
   "id": "7ab22c0e",
   "metadata": {},
   "outputs": [
    {
     "data": {
      "text/html": [
       "<div>\n",
       "<style scoped>\n",
       "    .dataframe tbody tr th:only-of-type {\n",
       "        vertical-align: middle;\n",
       "    }\n",
       "\n",
       "    .dataframe tbody tr th {\n",
       "        vertical-align: top;\n",
       "    }\n",
       "\n",
       "    .dataframe thead th {\n",
       "        text-align: right;\n",
       "    }\n",
       "</style>\n",
       "<table border=\"1\" class=\"dataframe\">\n",
       "  <thead>\n",
       "    <tr style=\"text-align: right;\">\n",
       "      <th></th>\n",
       "      <th>Area</th>\n",
       "      <th>Production_Item</th>\n",
       "      <th>Production_Elment</th>\n",
       "      <th>Year</th>\n",
       "      <th>Production_Value</th>\n",
       "      <th>Item_Emission</th>\n",
       "      <th>Element_Emission</th>\n",
       "      <th>Value_Emission</th>\n",
       "    </tr>\n",
       "  </thead>\n",
       "  <tbody>\n",
       "    <tr>\n",
       "      <th>0</th>\n",
       "      <td>Afghanistan</td>\n",
       "      <td>Agriculture</td>\n",
       "      <td>Gross Production Value (constant 2014-2016 tho...</td>\n",
       "      <td>1961</td>\n",
       "      <td>2566730.0</td>\n",
       "      <td>Crop Residues</td>\n",
       "      <td>Direct emissions (N2O)</td>\n",
       "      <td>8.762000e-01</td>\n",
       "    </tr>\n",
       "    <tr>\n",
       "      <th>1</th>\n",
       "      <td>Afghanistan</td>\n",
       "      <td>Agriculture</td>\n",
       "      <td>Gross Production Value (constant 2014-2016 tho...</td>\n",
       "      <td>1961</td>\n",
       "      <td>2566730.0</td>\n",
       "      <td>Crop Residues</td>\n",
       "      <td>Indirect emissions (N2O)</td>\n",
       "      <td>1.972000e-01</td>\n",
       "    </tr>\n",
       "    <tr>\n",
       "      <th>2</th>\n",
       "      <td>Afghanistan</td>\n",
       "      <td>Agriculture</td>\n",
       "      <td>Gross Production Value (constant 2014-2016 tho...</td>\n",
       "      <td>1961</td>\n",
       "      <td>2566730.0</td>\n",
       "      <td>Crop Residues</td>\n",
       "      <td>Emissions (N2O)</td>\n",
       "      <td>1.073400e+00</td>\n",
       "    </tr>\n",
       "    <tr>\n",
       "      <th>3</th>\n",
       "      <td>Afghanistan</td>\n",
       "      <td>Agriculture</td>\n",
       "      <td>Gross Production Value (constant 2014-2016 tho...</td>\n",
       "      <td>1961</td>\n",
       "      <td>2566730.0</td>\n",
       "      <td>Crop Residues</td>\n",
       "      <td>Emissions (CO2eq) from N2O (AR5)</td>\n",
       "      <td>2.844486e+02</td>\n",
       "    </tr>\n",
       "    <tr>\n",
       "      <th>4</th>\n",
       "      <td>Afghanistan</td>\n",
       "      <td>Agriculture</td>\n",
       "      <td>Gross Production Value (constant 2014-2016 tho...</td>\n",
       "      <td>1961</td>\n",
       "      <td>2566730.0</td>\n",
       "      <td>Crop Residues</td>\n",
       "      <td>Emissions (CO2eq) (AR5)</td>\n",
       "      <td>2.844486e+02</td>\n",
       "    </tr>\n",
       "    <tr>\n",
       "      <th>...</th>\n",
       "      <td>...</td>\n",
       "      <td>...</td>\n",
       "      <td>...</td>\n",
       "      <td>...</td>\n",
       "      <td>...</td>\n",
       "      <td>...</td>\n",
       "      <td>...</td>\n",
       "      <td>...</td>\n",
       "    </tr>\n",
       "    <tr>\n",
       "      <th>1832478</th>\n",
       "      <td>Net Food Importing Developing Countries</td>\n",
       "      <td>Agriculture</td>\n",
       "      <td>Gross Production Value (constant 2014-2016 tho...</td>\n",
       "      <td>2020</td>\n",
       "      <td>485658023.0</td>\n",
       "      <td>All sectors without LULUCF</td>\n",
       "      <td>Emissions (CO2)</td>\n",
       "      <td>1.353347e+06</td>\n",
       "    </tr>\n",
       "    <tr>\n",
       "      <th>1832479</th>\n",
       "      <td>Net Food Importing Developing Countries</td>\n",
       "      <td>Agriculture</td>\n",
       "      <td>Gross Production Value (constant 2014-2016 tho...</td>\n",
       "      <td>2020</td>\n",
       "      <td>485658023.0</td>\n",
       "      <td>All sectors without LULUCF</td>\n",
       "      <td>Emissions (CO2eq) from F-gases (AR5)</td>\n",
       "      <td>1.301413e+04</td>\n",
       "    </tr>\n",
       "    <tr>\n",
       "      <th>1832480</th>\n",
       "      <td>Net Food Importing Developing Countries</td>\n",
       "      <td>Agriculture</td>\n",
       "      <td>Gross Production Value (constant 2014-2016 tho...</td>\n",
       "      <td>2020</td>\n",
       "      <td>485658023.0</td>\n",
       "      <td>All sectors without LULUCF</td>\n",
       "      <td>Emissions (CO2eq) from CH4 (AR5)</td>\n",
       "      <td>1.768564e+06</td>\n",
       "    </tr>\n",
       "    <tr>\n",
       "      <th>1832481</th>\n",
       "      <td>Net Food Importing Developing Countries</td>\n",
       "      <td>Agriculture</td>\n",
       "      <td>Gross Production Value (constant 2014-2016 tho...</td>\n",
       "      <td>2020</td>\n",
       "      <td>485658023.0</td>\n",
       "      <td>All sectors without LULUCF</td>\n",
       "      <td>Emissions (CO2eq) from N2O (AR5)</td>\n",
       "      <td>5.423356e+05</td>\n",
       "    </tr>\n",
       "    <tr>\n",
       "      <th>1832482</th>\n",
       "      <td>Net Food Importing Developing Countries</td>\n",
       "      <td>Agriculture</td>\n",
       "      <td>Gross Production Value (constant 2014-2016 tho...</td>\n",
       "      <td>2020</td>\n",
       "      <td>485658023.0</td>\n",
       "      <td>All sectors without LULUCF</td>\n",
       "      <td>Emissions (CO2eq) (AR5)</td>\n",
       "      <td>3.677261e+06</td>\n",
       "    </tr>\n",
       "  </tbody>\n",
       "</table>\n",
       "<p>1832483 rows × 8 columns</p>\n",
       "</div>"
      ],
      "text/plain": [
       "                                            Area Production_Item  \\\n",
       "0                                    Afghanistan     Agriculture   \n",
       "1                                    Afghanistan     Agriculture   \n",
       "2                                    Afghanistan     Agriculture   \n",
       "3                                    Afghanistan     Agriculture   \n",
       "4                                    Afghanistan     Agriculture   \n",
       "...                                          ...             ...   \n",
       "1832478  Net Food Importing Developing Countries     Agriculture   \n",
       "1832479  Net Food Importing Developing Countries     Agriculture   \n",
       "1832480  Net Food Importing Developing Countries     Agriculture   \n",
       "1832481  Net Food Importing Developing Countries     Agriculture   \n",
       "1832482  Net Food Importing Developing Countries     Agriculture   \n",
       "\n",
       "                                         Production_Elment  Year  \\\n",
       "0        Gross Production Value (constant 2014-2016 tho...  1961   \n",
       "1        Gross Production Value (constant 2014-2016 tho...  1961   \n",
       "2        Gross Production Value (constant 2014-2016 tho...  1961   \n",
       "3        Gross Production Value (constant 2014-2016 tho...  1961   \n",
       "4        Gross Production Value (constant 2014-2016 tho...  1961   \n",
       "...                                                    ...   ...   \n",
       "1832478  Gross Production Value (constant 2014-2016 tho...  2020   \n",
       "1832479  Gross Production Value (constant 2014-2016 tho...  2020   \n",
       "1832480  Gross Production Value (constant 2014-2016 tho...  2020   \n",
       "1832481  Gross Production Value (constant 2014-2016 tho...  2020   \n",
       "1832482  Gross Production Value (constant 2014-2016 tho...  2020   \n",
       "\n",
       "         Production_Value               Item_Emission  \\\n",
       "0               2566730.0               Crop Residues   \n",
       "1               2566730.0               Crop Residues   \n",
       "2               2566730.0               Crop Residues   \n",
       "3               2566730.0               Crop Residues   \n",
       "4               2566730.0               Crop Residues   \n",
       "...                   ...                         ...   \n",
       "1832478       485658023.0  All sectors without LULUCF   \n",
       "1832479       485658023.0  All sectors without LULUCF   \n",
       "1832480       485658023.0  All sectors without LULUCF   \n",
       "1832481       485658023.0  All sectors without LULUCF   \n",
       "1832482       485658023.0  All sectors without LULUCF   \n",
       "\n",
       "                             Element_Emission  Value_Emission  \n",
       "0                      Direct emissions (N2O)    8.762000e-01  \n",
       "1                    Indirect emissions (N2O)    1.972000e-01  \n",
       "2                             Emissions (N2O)    1.073400e+00  \n",
       "3            Emissions (CO2eq) from N2O (AR5)    2.844486e+02  \n",
       "4                     Emissions (CO2eq) (AR5)    2.844486e+02  \n",
       "...                                       ...             ...  \n",
       "1832478                       Emissions (CO2)    1.353347e+06  \n",
       "1832479  Emissions (CO2eq) from F-gases (AR5)    1.301413e+04  \n",
       "1832480      Emissions (CO2eq) from CH4 (AR5)    1.768564e+06  \n",
       "1832481      Emissions (CO2eq) from N2O (AR5)    5.423356e+05  \n",
       "1832482               Emissions (CO2eq) (AR5)    3.677261e+06  \n",
       "\n",
       "[1832483 rows x 8 columns]"
      ]
     },
     "execution_count": 129,
     "metadata": {},
     "output_type": "execute_result"
    }
   ],
   "source": [
    "Production_Emission_withoutagg=pd.merge(Agriculture,Emission_dropped,how='inner',left_on=['Area','Year'],right_on=['Area','Year'])\n",
    "Production_Emission_withoutagg.rename(columns={'Item_x': 'Production_Item', \n",
    "                                    'Element_x': 'Production_Elment', 'Value_x':'Production_Value','Item_y':'Item_Emission',\n",
    "                                   'Element_y':'Element_Emission','Value_y':'Value_Emission'}, inplace=True)\n",
    "Production_Emission_withoutagg"
   ]
  },
  {
   "cell_type": "markdown",
   "id": "20d9888b",
   "metadata": {},
   "source": [
    "### write data as csv"
   ]
  },
  {
   "cell_type": "code",
   "execution_count": 23,
   "id": "da34419b",
   "metadata": {},
   "outputs": [],
   "source": [
    "# Production_Emission_withoutagg.to_csv(\"D:\\\\Un Datathon\\\\Data\\\\Final\\\\Production_Emission_withoutagg.csv\")"
   ]
  },
  {
   "cell_type": "markdown",
   "id": "725c687c",
   "metadata": {},
   "source": [
    "### Pivot emmission data "
   ]
  },
  {
   "cell_type": "code",
   "execution_count": 24,
   "id": "9d8511ce",
   "metadata": {},
   "outputs": [
    {
     "data": {
      "text/plain": [
       "array(['Crop Residues', 'Rice Cultivation', 'Burning - Crop residues',\n",
       "       'Enteric Fermentation', 'Manure Management',\n",
       "       'Manure left on Pasture', 'Manure applied to Soils',\n",
       "       'Synthetic Fertilizers', 'Drained organic soils',\n",
       "       'Drained organic soils (CO2)', 'Drained organic soils (N2O)',\n",
       "       'On-farm energy use', 'Forestland', 'Net Forest conversion',\n",
       "       'Savanna fires', 'Fires in organic soils', 'Forest fires',\n",
       "       'Fires in humid tropical forests',\n",
       "       'Agrifood Systems Waste Disposal', 'Fertilizers Manufacturing',\n",
       "       'Pesticides Manufacturing', 'On-farm Heat Use',\n",
       "       'On-farm Electricity Use', 'Food Processing', 'Food Packaging',\n",
       "       'Food Retail', 'Food Household Consumption', 'Food Transport',\n",
       "       'Energy', 'IPPU', 'Waste', 'International bunkers', 'Other',\n",
       "       'Farm gate', 'Land Use change', 'Emissions on agricultural land',\n",
       "       'Pre- and Post- Production', 'Agrifood systems',\n",
       "       'IPCC Agriculture', 'Agricultural Soils', 'LULUCF', 'AFOLU',\n",
       "       'All sectors with LULUCF', 'All sectors without LULUCF'],\n",
       "      dtype=object)"
      ]
     },
     "execution_count": 24,
     "metadata": {},
     "output_type": "execute_result"
    }
   ],
   "source": [
    "World_Emission['Item'].unique()#==\"Agriclture\""
   ]
  },
  {
   "cell_type": "code",
   "execution_count": 25,
   "id": "75c52982",
   "metadata": {},
   "outputs": [
    {
     "data": {
      "text/html": [
       "<div>\n",
       "<style scoped>\n",
       "    .dataframe tbody tr th:only-of-type {\n",
       "        vertical-align: middle;\n",
       "    }\n",
       "\n",
       "    .dataframe tbody tr th {\n",
       "        vertical-align: top;\n",
       "    }\n",
       "\n",
       "    .dataframe thead th {\n",
       "        text-align: right;\n",
       "    }\n",
       "</style>\n",
       "<table border=\"1\" class=\"dataframe\">\n",
       "  <thead>\n",
       "    <tr style=\"text-align: right;\">\n",
       "      <th></th>\n",
       "      <th>Area</th>\n",
       "      <th>Item</th>\n",
       "      <th>Element</th>\n",
       "      <th>Year</th>\n",
       "      <th>Value</th>\n",
       "    </tr>\n",
       "  </thead>\n",
       "  <tbody>\n",
       "    <tr>\n",
       "      <th>1704749</th>\n",
       "      <td>World</td>\n",
       "      <td>Crop Residues</td>\n",
       "      <td>Direct emissions (N2O)</td>\n",
       "      <td>1961</td>\n",
       "      <td>2.212059e+02</td>\n",
       "    </tr>\n",
       "    <tr>\n",
       "      <th>1704750</th>\n",
       "      <td>World</td>\n",
       "      <td>Crop Residues</td>\n",
       "      <td>Direct emissions (N2O)</td>\n",
       "      <td>1962</td>\n",
       "      <td>2.313731e+02</td>\n",
       "    </tr>\n",
       "    <tr>\n",
       "      <th>1704751</th>\n",
       "      <td>World</td>\n",
       "      <td>Crop Residues</td>\n",
       "      <td>Direct emissions (N2O)</td>\n",
       "      <td>1963</td>\n",
       "      <td>2.333363e+02</td>\n",
       "    </tr>\n",
       "    <tr>\n",
       "      <th>1704752</th>\n",
       "      <td>World</td>\n",
       "      <td>Crop Residues</td>\n",
       "      <td>Direct emissions (N2O)</td>\n",
       "      <td>1964</td>\n",
       "      <td>2.446206e+02</td>\n",
       "    </tr>\n",
       "    <tr>\n",
       "      <th>1704753</th>\n",
       "      <td>World</td>\n",
       "      <td>Crop Residues</td>\n",
       "      <td>Direct emissions (N2O)</td>\n",
       "      <td>1965</td>\n",
       "      <td>2.433055e+02</td>\n",
       "    </tr>\n",
       "    <tr>\n",
       "      <th>...</th>\n",
       "      <td>...</td>\n",
       "      <td>...</td>\n",
       "      <td>...</td>\n",
       "      <td>...</td>\n",
       "      <td>...</td>\n",
       "    </tr>\n",
       "    <tr>\n",
       "      <th>1715688</th>\n",
       "      <td>World</td>\n",
       "      <td>All sectors without LULUCF</td>\n",
       "      <td>Emissions (CO2eq) (AR5)</td>\n",
       "      <td>2018</td>\n",
       "      <td>5.217827e+07</td>\n",
       "    </tr>\n",
       "    <tr>\n",
       "      <th>1715689</th>\n",
       "      <td>World</td>\n",
       "      <td>All sectors without LULUCF</td>\n",
       "      <td>Emissions (CO2eq) (AR5)</td>\n",
       "      <td>2019</td>\n",
       "      <td>5.233847e+07</td>\n",
       "    </tr>\n",
       "    <tr>\n",
       "      <th>1715690</th>\n",
       "      <td>World</td>\n",
       "      <td>All sectors without LULUCF</td>\n",
       "      <td>Emissions (CO2eq) (AR5)</td>\n",
       "      <td>2020</td>\n",
       "      <td>5.061739e+07</td>\n",
       "    </tr>\n",
       "    <tr>\n",
       "      <th>1715691</th>\n",
       "      <td>World</td>\n",
       "      <td>All sectors without LULUCF</td>\n",
       "      <td>Emissions (CO2eq) (AR5)</td>\n",
       "      <td>2030</td>\n",
       "      <td>5.934315e+06</td>\n",
       "    </tr>\n",
       "    <tr>\n",
       "      <th>1715692</th>\n",
       "      <td>World</td>\n",
       "      <td>All sectors without LULUCF</td>\n",
       "      <td>Emissions (CO2eq) (AR5)</td>\n",
       "      <td>2050</td>\n",
       "      <td>6.519140e+06</td>\n",
       "    </tr>\n",
       "  </tbody>\n",
       "</table>\n",
       "<p>10944 rows × 5 columns</p>\n",
       "</div>"
      ],
      "text/plain": [
       "          Area                        Item                  Element  Year  \\\n",
       "1704749  World               Crop Residues   Direct emissions (N2O)  1961   \n",
       "1704750  World               Crop Residues   Direct emissions (N2O)  1962   \n",
       "1704751  World               Crop Residues   Direct emissions (N2O)  1963   \n",
       "1704752  World               Crop Residues   Direct emissions (N2O)  1964   \n",
       "1704753  World               Crop Residues   Direct emissions (N2O)  1965   \n",
       "...        ...                         ...                      ...   ...   \n",
       "1715688  World  All sectors without LULUCF  Emissions (CO2eq) (AR5)  2018   \n",
       "1715689  World  All sectors without LULUCF  Emissions (CO2eq) (AR5)  2019   \n",
       "1715690  World  All sectors without LULUCF  Emissions (CO2eq) (AR5)  2020   \n",
       "1715691  World  All sectors without LULUCF  Emissions (CO2eq) (AR5)  2030   \n",
       "1715692  World  All sectors without LULUCF  Emissions (CO2eq) (AR5)  2050   \n",
       "\n",
       "                Value  \n",
       "1704749  2.212059e+02  \n",
       "1704750  2.313731e+02  \n",
       "1704751  2.333363e+02  \n",
       "1704752  2.446206e+02  \n",
       "1704753  2.433055e+02  \n",
       "...               ...  \n",
       "1715688  5.217827e+07  \n",
       "1715689  5.233847e+07  \n",
       "1715690  5.061739e+07  \n",
       "1715691  5.934315e+06  \n",
       "1715692  6.519140e+06  \n",
       "\n",
       "[10944 rows x 5 columns]"
      ]
     },
     "execution_count": 25,
     "metadata": {},
     "output_type": "execute_result"
    }
   ],
   "source": [
    "World_Emission"
   ]
  },
  {
   "cell_type": "code",
   "execution_count": 26,
   "id": "1c50f8bc",
   "metadata": {},
   "outputs": [
    {
     "data": {
      "text/html": [
       "<div>\n",
       "<style scoped>\n",
       "    .dataframe tbody tr th:only-of-type {\n",
       "        vertical-align: middle;\n",
       "    }\n",
       "\n",
       "    .dataframe tbody tr th {\n",
       "        vertical-align: top;\n",
       "    }\n",
       "\n",
       "    .dataframe thead th {\n",
       "        text-align: right;\n",
       "    }\n",
       "</style>\n",
       "<table border=\"1\" class=\"dataframe\">\n",
       "  <thead>\n",
       "    <tr style=\"text-align: right;\">\n",
       "      <th></th>\n",
       "      <th>Area</th>\n",
       "      <th>Item</th>\n",
       "      <th>Element</th>\n",
       "      <th>Year</th>\n",
       "      <th>Value</th>\n",
       "    </tr>\n",
       "  </thead>\n",
       "  <tbody>\n",
       "    <tr>\n",
       "      <th>1704904</th>\n",
       "      <td>World</td>\n",
       "      <td>Crop Residues</td>\n",
       "      <td>Emissions (N2O)</td>\n",
       "      <td>1961</td>\n",
       "      <td>270.9773</td>\n",
       "    </tr>\n",
       "    <tr>\n",
       "      <th>1704905</th>\n",
       "      <td>World</td>\n",
       "      <td>Crop Residues</td>\n",
       "      <td>Emissions (N2O)</td>\n",
       "      <td>1962</td>\n",
       "      <td>283.4321</td>\n",
       "    </tr>\n",
       "    <tr>\n",
       "      <th>1704906</th>\n",
       "      <td>World</td>\n",
       "      <td>Crop Residues</td>\n",
       "      <td>Emissions (N2O)</td>\n",
       "      <td>1963</td>\n",
       "      <td>285.8370</td>\n",
       "    </tr>\n",
       "    <tr>\n",
       "      <th>1704907</th>\n",
       "      <td>World</td>\n",
       "      <td>Crop Residues</td>\n",
       "      <td>Emissions (N2O)</td>\n",
       "      <td>1964</td>\n",
       "      <td>299.6602</td>\n",
       "    </tr>\n",
       "    <tr>\n",
       "      <th>1704908</th>\n",
       "      <td>World</td>\n",
       "      <td>Crop Residues</td>\n",
       "      <td>Emissions (N2O)</td>\n",
       "      <td>1965</td>\n",
       "      <td>298.0492</td>\n",
       "    </tr>\n",
       "    <tr>\n",
       "      <th>...</th>\n",
       "      <td>...</td>\n",
       "      <td>...</td>\n",
       "      <td>...</td>\n",
       "      <td>...</td>\n",
       "      <td>...</td>\n",
       "    </tr>\n",
       "    <tr>\n",
       "      <th>1715527</th>\n",
       "      <td>World</td>\n",
       "      <td>All sectors without LULUCF</td>\n",
       "      <td>Emissions (N2O)</td>\n",
       "      <td>2018</td>\n",
       "      <td>10559.7850</td>\n",
       "    </tr>\n",
       "    <tr>\n",
       "      <th>1715528</th>\n",
       "      <td>World</td>\n",
       "      <td>All sectors without LULUCF</td>\n",
       "      <td>Emissions (N2O)</td>\n",
       "      <td>2019</td>\n",
       "      <td>10603.8751</td>\n",
       "    </tr>\n",
       "    <tr>\n",
       "      <th>1715529</th>\n",
       "      <td>World</td>\n",
       "      <td>All sectors without LULUCF</td>\n",
       "      <td>Emissions (N2O)</td>\n",
       "      <td>2020</td>\n",
       "      <td>10772.4573</td>\n",
       "    </tr>\n",
       "    <tr>\n",
       "      <th>1715530</th>\n",
       "      <td>World</td>\n",
       "      <td>All sectors without LULUCF</td>\n",
       "      <td>Emissions (N2O)</td>\n",
       "      <td>2030</td>\n",
       "      <td>7036.1533</td>\n",
       "    </tr>\n",
       "    <tr>\n",
       "      <th>1715531</th>\n",
       "      <td>World</td>\n",
       "      <td>All sectors without LULUCF</td>\n",
       "      <td>Emissions (N2O)</td>\n",
       "      <td>2050</td>\n",
       "      <td>7923.0203</td>\n",
       "    </tr>\n",
       "  </tbody>\n",
       "</table>\n",
       "<p>1770 rows × 5 columns</p>\n",
       "</div>"
      ],
      "text/plain": [
       "          Area                        Item          Element  Year       Value\n",
       "1704904  World               Crop Residues  Emissions (N2O)  1961    270.9773\n",
       "1704905  World               Crop Residues  Emissions (N2O)  1962    283.4321\n",
       "1704906  World               Crop Residues  Emissions (N2O)  1963    285.8370\n",
       "1704907  World               Crop Residues  Emissions (N2O)  1964    299.6602\n",
       "1704908  World               Crop Residues  Emissions (N2O)  1965    298.0492\n",
       "...        ...                         ...              ...   ...         ...\n",
       "1715527  World  All sectors without LULUCF  Emissions (N2O)  2018  10559.7850\n",
       "1715528  World  All sectors without LULUCF  Emissions (N2O)  2019  10603.8751\n",
       "1715529  World  All sectors without LULUCF  Emissions (N2O)  2020  10772.4573\n",
       "1715530  World  All sectors without LULUCF  Emissions (N2O)  2030   7036.1533\n",
       "1715531  World  All sectors without LULUCF  Emissions (N2O)  2050   7923.0203\n",
       "\n",
       "[1770 rows x 5 columns]"
      ]
     },
     "execution_count": 26,
     "metadata": {},
     "output_type": "execute_result"
    }
   ],
   "source": [
    "c=World_Emission[World_Emission['Element']=='Emissions (N2O)']\n",
    "c"
   ]
  },
  {
   "cell_type": "code",
   "execution_count": 183,
   "id": "7aea5c2e",
   "metadata": {},
   "outputs": [
    {
     "data": {
      "text/html": [
       "<div>\n",
       "<style scoped>\n",
       "    .dataframe tbody tr th:only-of-type {\n",
       "        vertical-align: middle;\n",
       "    }\n",
       "\n",
       "    .dataframe tbody tr th {\n",
       "        vertical-align: top;\n",
       "    }\n",
       "\n",
       "    .dataframe thead th {\n",
       "        text-align: right;\n",
       "    }\n",
       "</style>\n",
       "<table border=\"1\" class=\"dataframe\">\n",
       "  <thead>\n",
       "    <tr style=\"text-align: right;\">\n",
       "      <th>Element</th>\n",
       "      <th>Area</th>\n",
       "      <th>Year</th>\n",
       "      <th>Item</th>\n",
       "      <th>Direct emissions (N2O)</th>\n",
       "      <th>Emissions (CH4)</th>\n",
       "      <th>Emissions (CO2)</th>\n",
       "      <th>Emissions (CO2eq) (AR5)</th>\n",
       "      <th>Emissions (CO2eq) from CH4 (AR5)</th>\n",
       "      <th>Emissions (CO2eq) from F-gases (AR5)</th>\n",
       "      <th>Emissions (CO2eq) from N2O (AR5)</th>\n",
       "      <th>Emissions (N2O)</th>\n",
       "      <th>Indirect emissions (N2O)</th>\n",
       "    </tr>\n",
       "  </thead>\n",
       "  <tbody>\n",
       "    <tr>\n",
       "      <th>0</th>\n",
       "      <td>World</td>\n",
       "      <td>1961</td>\n",
       "      <td>Agricultural Soils</td>\n",
       "      <td>1842.0933</td>\n",
       "      <td>NaN</td>\n",
       "      <td>NaN</td>\n",
       "      <td>6.337327e+05</td>\n",
       "      <td>NaN</td>\n",
       "      <td>NaN</td>\n",
       "      <td>633732.7012</td>\n",
       "      <td>2391.4442</td>\n",
       "      <td>549.3508</td>\n",
       "    </tr>\n",
       "    <tr>\n",
       "      <th>1</th>\n",
       "      <td>World</td>\n",
       "      <td>1961</td>\n",
       "      <td>Agrifood systems</td>\n",
       "      <td>NaN</td>\n",
       "      <td>90641.0618</td>\n",
       "      <td>NaN</td>\n",
       "      <td>3.261835e+06</td>\n",
       "      <td>2.537950e+06</td>\n",
       "      <td>NaN</td>\n",
       "      <td>723885.0240</td>\n",
       "      <td>2731.6416</td>\n",
       "      <td>NaN</td>\n",
       "    </tr>\n",
       "    <tr>\n",
       "      <th>2</th>\n",
       "      <td>World</td>\n",
       "      <td>1961</td>\n",
       "      <td>Burning - Crop residues</td>\n",
       "      <td>NaN</td>\n",
       "      <td>692.5150</td>\n",
       "      <td>NaN</td>\n",
       "      <td>2.414825e+04</td>\n",
       "      <td>1.939042e+04</td>\n",
       "      <td>NaN</td>\n",
       "      <td>4757.8345</td>\n",
       "      <td>17.9541</td>\n",
       "      <td>NaN</td>\n",
       "    </tr>\n",
       "    <tr>\n",
       "      <th>3</th>\n",
       "      <td>World</td>\n",
       "      <td>1961</td>\n",
       "      <td>Crop Residues</td>\n",
       "      <td>221.2059</td>\n",
       "      <td>NaN</td>\n",
       "      <td>NaN</td>\n",
       "      <td>7.180898e+04</td>\n",
       "      <td>NaN</td>\n",
       "      <td>NaN</td>\n",
       "      <td>71808.9779</td>\n",
       "      <td>270.9773</td>\n",
       "      <td>49.7713</td>\n",
       "    </tr>\n",
       "    <tr>\n",
       "      <th>4</th>\n",
       "      <td>World</td>\n",
       "      <td>1961</td>\n",
       "      <td>Enteric Fermentation</td>\n",
       "      <td>NaN</td>\n",
       "      <td>65345.0181</td>\n",
       "      <td>NaN</td>\n",
       "      <td>1.829661e+06</td>\n",
       "      <td>1.829661e+06</td>\n",
       "      <td>NaN</td>\n",
       "      <td>NaN</td>\n",
       "      <td>NaN</td>\n",
       "      <td>NaN</td>\n",
       "    </tr>\n",
       "    <tr>\n",
       "      <th>...</th>\n",
       "      <td>...</td>\n",
       "      <td>...</td>\n",
       "      <td>...</td>\n",
       "      <td>...</td>\n",
       "      <td>...</td>\n",
       "      <td>...</td>\n",
       "      <td>...</td>\n",
       "      <td>...</td>\n",
       "      <td>...</td>\n",
       "      <td>...</td>\n",
       "      <td>...</td>\n",
       "      <td>...</td>\n",
       "    </tr>\n",
       "    <tr>\n",
       "      <th>1710</th>\n",
       "      <td>World</td>\n",
       "      <td>2050</td>\n",
       "      <td>Manure Management</td>\n",
       "      <td>NaN</td>\n",
       "      <td>11234.8125</td>\n",
       "      <td>NaN</td>\n",
       "      <td>3.145747e+05</td>\n",
       "      <td>3.145747e+05</td>\n",
       "      <td>NaN</td>\n",
       "      <td>NaN</td>\n",
       "      <td>NaN</td>\n",
       "      <td>NaN</td>\n",
       "    </tr>\n",
       "    <tr>\n",
       "      <th>1711</th>\n",
       "      <td>World</td>\n",
       "      <td>2050</td>\n",
       "      <td>Manure applied to Soils</td>\n",
       "      <td>552.0935</td>\n",
       "      <td>NaN</td>\n",
       "      <td>NaN</td>\n",
       "      <td>2.084843e+05</td>\n",
       "      <td>NaN</td>\n",
       "      <td>NaN</td>\n",
       "      <td>208484.3240</td>\n",
       "      <td>786.7333</td>\n",
       "      <td>234.6398</td>\n",
       "    </tr>\n",
       "    <tr>\n",
       "      <th>1712</th>\n",
       "      <td>World</td>\n",
       "      <td>2050</td>\n",
       "      <td>Manure left on Pasture</td>\n",
       "      <td>2778.5212</td>\n",
       "      <td>NaN</td>\n",
       "      <td>NaN</td>\n",
       "      <td>9.324787e+05</td>\n",
       "      <td>NaN</td>\n",
       "      <td>NaN</td>\n",
       "      <td>932478.6762</td>\n",
       "      <td>3518.7875</td>\n",
       "      <td>740.2662</td>\n",
       "    </tr>\n",
       "    <tr>\n",
       "      <th>1713</th>\n",
       "      <td>World</td>\n",
       "      <td>2050</td>\n",
       "      <td>Rice Cultivation</td>\n",
       "      <td>NaN</td>\n",
       "      <td>23467.3142</td>\n",
       "      <td>NaN</td>\n",
       "      <td>6.570848e+05</td>\n",
       "      <td>6.570848e+05</td>\n",
       "      <td>NaN</td>\n",
       "      <td>NaN</td>\n",
       "      <td>NaN</td>\n",
       "      <td>NaN</td>\n",
       "    </tr>\n",
       "    <tr>\n",
       "      <th>1714</th>\n",
       "      <td>World</td>\n",
       "      <td>2050</td>\n",
       "      <td>Synthetic Fertilizers</td>\n",
       "      <td>2135.8075</td>\n",
       "      <td>NaN</td>\n",
       "      <td>NaN</td>\n",
       "      <td>7.499354e+05</td>\n",
       "      <td>NaN</td>\n",
       "      <td>NaN</td>\n",
       "      <td>749935.4237</td>\n",
       "      <td>2829.9450</td>\n",
       "      <td>694.1375</td>\n",
       "    </tr>\n",
       "  </tbody>\n",
       "</table>\n",
       "<p>1715 rows × 12 columns</p>\n",
       "</div>"
      ],
      "text/plain": [
       "Element   Area  Year                     Item  Direct emissions (N2O)  \\\n",
       "0        World  1961       Agricultural Soils               1842.0933   \n",
       "1        World  1961         Agrifood systems                     NaN   \n",
       "2        World  1961  Burning - Crop residues                     NaN   \n",
       "3        World  1961            Crop Residues                221.2059   \n",
       "4        World  1961     Enteric Fermentation                     NaN   \n",
       "...        ...   ...                      ...                     ...   \n",
       "1710     World  2050        Manure Management                     NaN   \n",
       "1711     World  2050  Manure applied to Soils                552.0935   \n",
       "1712     World  2050   Manure left on Pasture               2778.5212   \n",
       "1713     World  2050         Rice Cultivation                     NaN   \n",
       "1714     World  2050    Synthetic Fertilizers               2135.8075   \n",
       "\n",
       "Element  Emissions (CH4)  Emissions (CO2)  Emissions (CO2eq) (AR5)  \\\n",
       "0                    NaN              NaN             6.337327e+05   \n",
       "1             90641.0618              NaN             3.261835e+06   \n",
       "2               692.5150              NaN             2.414825e+04   \n",
       "3                    NaN              NaN             7.180898e+04   \n",
       "4             65345.0181              NaN             1.829661e+06   \n",
       "...                  ...              ...                      ...   \n",
       "1710          11234.8125              NaN             3.145747e+05   \n",
       "1711                 NaN              NaN             2.084843e+05   \n",
       "1712                 NaN              NaN             9.324787e+05   \n",
       "1713          23467.3142              NaN             6.570848e+05   \n",
       "1714                 NaN              NaN             7.499354e+05   \n",
       "\n",
       "Element  Emissions (CO2eq) from CH4 (AR5)  \\\n",
       "0                                     NaN   \n",
       "1                            2.537950e+06   \n",
       "2                            1.939042e+04   \n",
       "3                                     NaN   \n",
       "4                            1.829661e+06   \n",
       "...                                   ...   \n",
       "1710                         3.145747e+05   \n",
       "1711                                  NaN   \n",
       "1712                                  NaN   \n",
       "1713                         6.570848e+05   \n",
       "1714                                  NaN   \n",
       "\n",
       "Element  Emissions (CO2eq) from F-gases (AR5)  \\\n",
       "0                                         NaN   \n",
       "1                                         NaN   \n",
       "2                                         NaN   \n",
       "3                                         NaN   \n",
       "4                                         NaN   \n",
       "...                                       ...   \n",
       "1710                                      NaN   \n",
       "1711                                      NaN   \n",
       "1712                                      NaN   \n",
       "1713                                      NaN   \n",
       "1714                                      NaN   \n",
       "\n",
       "Element  Emissions (CO2eq) from N2O (AR5)  Emissions (N2O)  \\\n",
       "0                             633732.7012        2391.4442   \n",
       "1                             723885.0240        2731.6416   \n",
       "2                               4757.8345          17.9541   \n",
       "3                              71808.9779         270.9773   \n",
       "4                                     NaN              NaN   \n",
       "...                                   ...              ...   \n",
       "1710                                  NaN              NaN   \n",
       "1711                          208484.3240         786.7333   \n",
       "1712                          932478.6762        3518.7875   \n",
       "1713                                  NaN              NaN   \n",
       "1714                          749935.4237        2829.9450   \n",
       "\n",
       "Element  Indirect emissions (N2O)  \n",
       "0                        549.3508  \n",
       "1                             NaN  \n",
       "2                             NaN  \n",
       "3                         49.7713  \n",
       "4                             NaN  \n",
       "...                           ...  \n",
       "1710                          NaN  \n",
       "1711                     234.6398  \n",
       "1712                     740.2662  \n",
       "1713                          NaN  \n",
       "1714                     694.1375  \n",
       "\n",
       "[1715 rows x 12 columns]"
      ]
     },
     "execution_count": 183,
     "metadata": {},
     "output_type": "execute_result"
    }
   ],
   "source": [
    "pivot_emission=World_Emission.pivot_table(index=['Area','Year'],columns=['Element'],values='Value',aggfunc='mean')\n",
    "pivot_emission.reset_index()"
   ]
  },
  {
   "cell_type": "code",
   "execution_count": 64,
   "id": "04376dba",
   "metadata": {},
   "outputs": [
    {
     "data": {
      "text/html": [
       "<div>\n",
       "<style scoped>\n",
       "    .dataframe tbody tr th:only-of-type {\n",
       "        vertical-align: middle;\n",
       "    }\n",
       "\n",
       "    .dataframe tbody tr th {\n",
       "        vertical-align: top;\n",
       "    }\n",
       "\n",
       "    .dataframe thead th {\n",
       "        text-align: right;\n",
       "    }\n",
       "</style>\n",
       "<table border=\"1\" class=\"dataframe\">\n",
       "  <thead>\n",
       "    <tr style=\"text-align: right;\">\n",
       "      <th></th>\n",
       "      <th>Area</th>\n",
       "      <th>Item</th>\n",
       "      <th>Element</th>\n",
       "      <th>Year</th>\n",
       "      <th>Value</th>\n",
       "      <th>Direct emissions (N2O)</th>\n",
       "      <th>Emissions (CH4)</th>\n",
       "      <th>Emissions (CO2)</th>\n",
       "      <th>Emissions (CO2eq) (AR5)</th>\n",
       "      <th>Emissions (CO2eq) from CH4 (AR5)</th>\n",
       "      <th>Emissions (CO2eq) from F-gases (AR5)</th>\n",
       "      <th>Emissions (CO2eq) from N2O (AR5)</th>\n",
       "      <th>Emissions (N2O)</th>\n",
       "      <th>Indirect emissions (N2O)</th>\n",
       "    </tr>\n",
       "  </thead>\n",
       "  <tbody>\n",
       "    <tr>\n",
       "      <th>0</th>\n",
       "      <td>World</td>\n",
       "      <td>Agriculture</td>\n",
       "      <td>Gross Production Value (constant 2014-2016 tho...</td>\n",
       "      <td>1961</td>\n",
       "      <td>1.083667e+09</td>\n",
       "      <td>921.046650</td>\n",
       "      <td>45320.530900</td>\n",
       "      <td>NaN</td>\n",
       "      <td>9.472034e+05</td>\n",
       "      <td>1.268975e+06</td>\n",
       "      <td>NaN</td>\n",
       "      <td>311709.748133</td>\n",
       "      <td>1176.263211</td>\n",
       "      <td>274.675400</td>\n",
       "    </tr>\n",
       "    <tr>\n",
       "      <th>1</th>\n",
       "      <td>World</td>\n",
       "      <td>Agriculture</td>\n",
       "      <td>Gross Production Value (constant 2014-2016 tho...</td>\n",
       "      <td>1962</td>\n",
       "      <td>1.118482e+09</td>\n",
       "      <td>949.056533</td>\n",
       "      <td>46197.393833</td>\n",
       "      <td>NaN</td>\n",
       "      <td>9.679992e+05</td>\n",
       "      <td>1.293527e+06</td>\n",
       "      <td>NaN</td>\n",
       "      <td>320758.748944</td>\n",
       "      <td>1210.410389</td>\n",
       "      <td>282.982267</td>\n",
       "    </tr>\n",
       "    <tr>\n",
       "      <th>2</th>\n",
       "      <td>World</td>\n",
       "      <td>Agriculture</td>\n",
       "      <td>Gross Production Value (constant 2014-2016 tho...</td>\n",
       "      <td>1963</td>\n",
       "      <td>1.146767e+09</td>\n",
       "      <td>972.081300</td>\n",
       "      <td>46589.456933</td>\n",
       "      <td>NaN</td>\n",
       "      <td>9.802791e+05</td>\n",
       "      <td>1.304505e+06</td>\n",
       "      <td>NaN</td>\n",
       "      <td>328449.022067</td>\n",
       "      <td>1239.430267</td>\n",
       "      <td>289.938750</td>\n",
       "    </tr>\n",
       "    <tr>\n",
       "      <th>3</th>\n",
       "      <td>World</td>\n",
       "      <td>Agriculture</td>\n",
       "      <td>Gross Production Value (constant 2014-2016 tho...</td>\n",
       "      <td>1964</td>\n",
       "      <td>1.184759e+09</td>\n",
       "      <td>1003.153100</td>\n",
       "      <td>47418.463000</td>\n",
       "      <td>NaN</td>\n",
       "      <td>1.000809e+06</td>\n",
       "      <td>1.327717e+06</td>\n",
       "      <td>NaN</td>\n",
       "      <td>338065.860011</td>\n",
       "      <td>1275.720222</td>\n",
       "      <td>298.363083</td>\n",
       "    </tr>\n",
       "    <tr>\n",
       "      <th>4</th>\n",
       "      <td>World</td>\n",
       "      <td>Agriculture</td>\n",
       "      <td>Gross Production Value (constant 2014-2016 tho...</td>\n",
       "      <td>1965</td>\n",
       "      <td>1.210465e+09</td>\n",
       "      <td>1039.440400</td>\n",
       "      <td>48080.514967</td>\n",
       "      <td>NaN</td>\n",
       "      <td>1.020766e+06</td>\n",
       "      <td>1.346254e+06</td>\n",
       "      <td>NaN</td>\n",
       "      <td>350099.507433</td>\n",
       "      <td>1321.130211</td>\n",
       "      <td>309.545500</td>\n",
       "    </tr>\n",
       "  </tbody>\n",
       "</table>\n",
       "</div>"
      ],
      "text/plain": [
       "    Area         Item                                            Element  \\\n",
       "0  World  Agriculture  Gross Production Value (constant 2014-2016 tho...   \n",
       "1  World  Agriculture  Gross Production Value (constant 2014-2016 tho...   \n",
       "2  World  Agriculture  Gross Production Value (constant 2014-2016 tho...   \n",
       "3  World  Agriculture  Gross Production Value (constant 2014-2016 tho...   \n",
       "4  World  Agriculture  Gross Production Value (constant 2014-2016 tho...   \n",
       "\n",
       "   Year         Value  Direct emissions (N2O)  Emissions (CH4)  \\\n",
       "0  1961  1.083667e+09              921.046650     45320.530900   \n",
       "1  1962  1.118482e+09              949.056533     46197.393833   \n",
       "2  1963  1.146767e+09              972.081300     46589.456933   \n",
       "3  1964  1.184759e+09             1003.153100     47418.463000   \n",
       "4  1965  1.210465e+09             1039.440400     48080.514967   \n",
       "\n",
       "   Emissions (CO2)  Emissions (CO2eq) (AR5)  Emissions (CO2eq) from CH4 (AR5)  \\\n",
       "0              NaN             9.472034e+05                      1.268975e+06   \n",
       "1              NaN             9.679992e+05                      1.293527e+06   \n",
       "2              NaN             9.802791e+05                      1.304505e+06   \n",
       "3              NaN             1.000809e+06                      1.327717e+06   \n",
       "4              NaN             1.020766e+06                      1.346254e+06   \n",
       "\n",
       "   Emissions (CO2eq) from F-gases (AR5)  Emissions (CO2eq) from N2O (AR5)  \\\n",
       "0                                   NaN                     311709.748133   \n",
       "1                                   NaN                     320758.748944   \n",
       "2                                   NaN                     328449.022067   \n",
       "3                                   NaN                     338065.860011   \n",
       "4                                   NaN                     350099.507433   \n",
       "\n",
       "   Emissions (N2O)  Indirect emissions (N2O)  \n",
       "0      1176.263211                274.675400  \n",
       "1      1210.410389                282.982267  \n",
       "2      1239.430267                289.938750  \n",
       "3      1275.720222                298.363083  \n",
       "4      1321.130211                309.545500  "
      ]
     },
     "execution_count": 64,
     "metadata": {},
     "output_type": "execute_result"
    }
   ],
   "source": [
    "ml_use=pd.merge(Agriculture_World,pivot_emission,how='left',left_on=['Area','Year'],right_on=['Area','Year'])\n",
    "# #integ.drop('Year',axis=1,inplace=True)\n",
    "# #Production_Emission_withagg.rename(columns={\n",
    "#                                      'Element_x': 'Production_Elment',\n",
    "#                                     'Element_y':'Element_Emission'}, inplace=True)\n",
    "# Production_Emission_withoutagg\n",
    "ml_use.head()"
   ]
  },
  {
   "cell_type": "code",
   "execution_count": 65,
   "id": "a408d327",
   "metadata": {},
   "outputs": [
    {
     "data": {
      "text/plain": [
       "Index(['Area', 'Item', 'Element', 'Year', 'Value', 'Direct emissions (N2O)',\n",
       "       'Emissions (CH4)', 'Emissions (CO2)', 'Emissions (CO2eq) (AR5)',\n",
       "       'Emissions (CO2eq) from CH4 (AR5)',\n",
       "       'Emissions (CO2eq) from F-gases (AR5)',\n",
       "       'Emissions (CO2eq) from N2O (AR5)', 'Emissions (N2O)',\n",
       "       'Indirect emissions (N2O)'],\n",
       "      dtype='object')"
      ]
     },
     "execution_count": 65,
     "metadata": {},
     "output_type": "execute_result"
    }
   ],
   "source": [
    "ml_use.columns"
   ]
  },
  {
   "cell_type": "code",
   "execution_count": 66,
   "id": "f86d3c9a",
   "metadata": {},
   "outputs": [
    {
     "data": {
      "text/html": [
       "<div>\n",
       "<style scoped>\n",
       "    .dataframe tbody tr th:only-of-type {\n",
       "        vertical-align: middle;\n",
       "    }\n",
       "\n",
       "    .dataframe tbody tr th {\n",
       "        vertical-align: top;\n",
       "    }\n",
       "\n",
       "    .dataframe thead th {\n",
       "        text-align: right;\n",
       "    }\n",
       "</style>\n",
       "<table border=\"1\" class=\"dataframe\">\n",
       "  <thead>\n",
       "    <tr style=\"text-align: right;\">\n",
       "      <th></th>\n",
       "      <th>Area</th>\n",
       "      <th>Item</th>\n",
       "      <th>Element</th>\n",
       "      <th>Value</th>\n",
       "      <th>Direct emissions (N2O)</th>\n",
       "      <th>Emissions (CH4)</th>\n",
       "      <th>Emissions (CO2)</th>\n",
       "      <th>Emissions (CO2eq) (AR5)</th>\n",
       "      <th>Emissions (CO2eq) from CH4 (AR5)</th>\n",
       "      <th>Emissions (CO2eq) from F-gases (AR5)</th>\n",
       "      <th>Emissions (CO2eq) from N2O (AR5)</th>\n",
       "      <th>Emissions (N2O)</th>\n",
       "      <th>Indirect emissions (N2O)</th>\n",
       "    </tr>\n",
       "    <tr>\n",
       "      <th>Year</th>\n",
       "      <th></th>\n",
       "      <th></th>\n",
       "      <th></th>\n",
       "      <th></th>\n",
       "      <th></th>\n",
       "      <th></th>\n",
       "      <th></th>\n",
       "      <th></th>\n",
       "      <th></th>\n",
       "      <th></th>\n",
       "      <th></th>\n",
       "      <th></th>\n",
       "      <th></th>\n",
       "    </tr>\n",
       "  </thead>\n",
       "  <tbody>\n",
       "    <tr>\n",
       "      <th>1961</th>\n",
       "      <td>World</td>\n",
       "      <td>Agriculture</td>\n",
       "      <td>Gross Production Value (constant 2014-2016 tho...</td>\n",
       "      <td>1.083667e+09</td>\n",
       "      <td>921.046650</td>\n",
       "      <td>45320.530900</td>\n",
       "      <td>NaN</td>\n",
       "      <td>9.472034e+05</td>\n",
       "      <td>1.268975e+06</td>\n",
       "      <td>NaN</td>\n",
       "      <td>311709.748133</td>\n",
       "      <td>1176.263211</td>\n",
       "      <td>274.675400</td>\n",
       "    </tr>\n",
       "    <tr>\n",
       "      <th>1962</th>\n",
       "      <td>World</td>\n",
       "      <td>Agriculture</td>\n",
       "      <td>Gross Production Value (constant 2014-2016 tho...</td>\n",
       "      <td>1.118482e+09</td>\n",
       "      <td>949.056533</td>\n",
       "      <td>46197.393833</td>\n",
       "      <td>NaN</td>\n",
       "      <td>9.679992e+05</td>\n",
       "      <td>1.293527e+06</td>\n",
       "      <td>NaN</td>\n",
       "      <td>320758.748944</td>\n",
       "      <td>1210.410389</td>\n",
       "      <td>282.982267</td>\n",
       "    </tr>\n",
       "    <tr>\n",
       "      <th>1963</th>\n",
       "      <td>World</td>\n",
       "      <td>Agriculture</td>\n",
       "      <td>Gross Production Value (constant 2014-2016 tho...</td>\n",
       "      <td>1.146767e+09</td>\n",
       "      <td>972.081300</td>\n",
       "      <td>46589.456933</td>\n",
       "      <td>NaN</td>\n",
       "      <td>9.802791e+05</td>\n",
       "      <td>1.304505e+06</td>\n",
       "      <td>NaN</td>\n",
       "      <td>328449.022067</td>\n",
       "      <td>1239.430267</td>\n",
       "      <td>289.938750</td>\n",
       "    </tr>\n",
       "    <tr>\n",
       "      <th>1964</th>\n",
       "      <td>World</td>\n",
       "      <td>Agriculture</td>\n",
       "      <td>Gross Production Value (constant 2014-2016 tho...</td>\n",
       "      <td>1.184759e+09</td>\n",
       "      <td>1003.153100</td>\n",
       "      <td>47418.463000</td>\n",
       "      <td>NaN</td>\n",
       "      <td>1.000809e+06</td>\n",
       "      <td>1.327717e+06</td>\n",
       "      <td>NaN</td>\n",
       "      <td>338065.860011</td>\n",
       "      <td>1275.720222</td>\n",
       "      <td>298.363083</td>\n",
       "    </tr>\n",
       "    <tr>\n",
       "      <th>1965</th>\n",
       "      <td>World</td>\n",
       "      <td>Agriculture</td>\n",
       "      <td>Gross Production Value (constant 2014-2016 tho...</td>\n",
       "      <td>1.210465e+09</td>\n",
       "      <td>1039.440400</td>\n",
       "      <td>48080.514967</td>\n",
       "      <td>NaN</td>\n",
       "      <td>1.020766e+06</td>\n",
       "      <td>1.346254e+06</td>\n",
       "      <td>NaN</td>\n",
       "      <td>350099.507433</td>\n",
       "      <td>1321.130211</td>\n",
       "      <td>309.545500</td>\n",
       "    </tr>\n",
       "    <tr>\n",
       "      <th>...</th>\n",
       "      <td>...</td>\n",
       "      <td>...</td>\n",
       "      <td>...</td>\n",
       "      <td>...</td>\n",
       "      <td>...</td>\n",
       "      <td>...</td>\n",
       "      <td>...</td>\n",
       "      <td>...</td>\n",
       "      <td>...</td>\n",
       "      <td>...</td>\n",
       "      <td>...</td>\n",
       "      <td>...</td>\n",
       "      <td>...</td>\n",
       "    </tr>\n",
       "    <tr>\n",
       "      <th>2017</th>\n",
       "      <td>World</td>\n",
       "      <td>Agriculture</td>\n",
       "      <td>Gross Production Value (constant 2014-2016 tho...</td>\n",
       "      <td>3.909425e+09</td>\n",
       "      <td>1798.781890</td>\n",
       "      <td>49445.696047</td>\n",
       "      <td>3.936336e+06</td>\n",
       "      <td>3.730408e+06</td>\n",
       "      <td>1.384480e+06</td>\n",
       "      <td>665794.376922</td>\n",
       "      <td>496706.147613</td>\n",
       "      <td>1874.367713</td>\n",
       "      <td>680.944314</td>\n",
       "    </tr>\n",
       "    <tr>\n",
       "      <th>2018</th>\n",
       "      <td>World</td>\n",
       "      <td>Agriculture</td>\n",
       "      <td>Gross Production Value (constant 2014-2016 tho...</td>\n",
       "      <td>3.951008e+09</td>\n",
       "      <td>1794.242560</td>\n",
       "      <td>49863.821648</td>\n",
       "      <td>4.046141e+06</td>\n",
       "      <td>3.802846e+06</td>\n",
       "      <td>1.396187e+06</td>\n",
       "      <td>692122.776567</td>\n",
       "      <td>492270.283794</td>\n",
       "      <td>1857.628298</td>\n",
       "      <td>681.691271</td>\n",
       "    </tr>\n",
       "    <tr>\n",
       "      <th>2019</th>\n",
       "      <td>World</td>\n",
       "      <td>Agriculture</td>\n",
       "      <td>Gross Production Value (constant 2014-2016 tho...</td>\n",
       "      <td>3.993589e+09</td>\n",
       "      <td>1808.583730</td>\n",
       "      <td>50563.788502</td>\n",
       "      <td>4.081634e+06</td>\n",
       "      <td>3.841827e+06</td>\n",
       "      <td>1.415786e+06</td>\n",
       "      <td>701520.874389</td>\n",
       "      <td>496800.068715</td>\n",
       "      <td>1874.722215</td>\n",
       "      <td>687.330557</td>\n",
       "    </tr>\n",
       "    <tr>\n",
       "      <th>2020</th>\n",
       "      <td>World</td>\n",
       "      <td>Agriculture</td>\n",
       "      <td>Gross Production Value (constant 2014-2016 tho...</td>\n",
       "      <td>4.050315e+09</td>\n",
       "      <td>1836.409960</td>\n",
       "      <td>50270.813817</td>\n",
       "      <td>3.846628e+06</td>\n",
       "      <td>3.700838e+06</td>\n",
       "      <td>1.407583e+06</td>\n",
       "      <td>718240.740533</td>\n",
       "      <td>504010.838128</td>\n",
       "      <td>1901.932828</td>\n",
       "      <td>698.274000</td>\n",
       "    </tr>\n",
       "    <tr>\n",
       "      <th>2021</th>\n",
       "      <td>World</td>\n",
       "      <td>Agriculture</td>\n",
       "      <td>Gross Production Value (constant 2014-2016 tho...</td>\n",
       "      <td>4.125747e+09</td>\n",
       "      <td>NaN</td>\n",
       "      <td>NaN</td>\n",
       "      <td>NaN</td>\n",
       "      <td>NaN</td>\n",
       "      <td>NaN</td>\n",
       "      <td>NaN</td>\n",
       "      <td>NaN</td>\n",
       "      <td>NaN</td>\n",
       "      <td>NaN</td>\n",
       "    </tr>\n",
       "  </tbody>\n",
       "</table>\n",
       "<p>61 rows × 13 columns</p>\n",
       "</div>"
      ],
      "text/plain": [
       "       Area         Item                                            Element  \\\n",
       "Year                                                                          \n",
       "1961  World  Agriculture  Gross Production Value (constant 2014-2016 tho...   \n",
       "1962  World  Agriculture  Gross Production Value (constant 2014-2016 tho...   \n",
       "1963  World  Agriculture  Gross Production Value (constant 2014-2016 tho...   \n",
       "1964  World  Agriculture  Gross Production Value (constant 2014-2016 tho...   \n",
       "1965  World  Agriculture  Gross Production Value (constant 2014-2016 tho...   \n",
       "...     ...          ...                                                ...   \n",
       "2017  World  Agriculture  Gross Production Value (constant 2014-2016 tho...   \n",
       "2018  World  Agriculture  Gross Production Value (constant 2014-2016 tho...   \n",
       "2019  World  Agriculture  Gross Production Value (constant 2014-2016 tho...   \n",
       "2020  World  Agriculture  Gross Production Value (constant 2014-2016 tho...   \n",
       "2021  World  Agriculture  Gross Production Value (constant 2014-2016 tho...   \n",
       "\n",
       "             Value  Direct emissions (N2O)  Emissions (CH4)  Emissions (CO2)  \\\n",
       "Year                                                                           \n",
       "1961  1.083667e+09              921.046650     45320.530900              NaN   \n",
       "1962  1.118482e+09              949.056533     46197.393833              NaN   \n",
       "1963  1.146767e+09              972.081300     46589.456933              NaN   \n",
       "1964  1.184759e+09             1003.153100     47418.463000              NaN   \n",
       "1965  1.210465e+09             1039.440400     48080.514967              NaN   \n",
       "...            ...                     ...              ...              ...   \n",
       "2017  3.909425e+09             1798.781890     49445.696047     3.936336e+06   \n",
       "2018  3.951008e+09             1794.242560     49863.821648     4.046141e+06   \n",
       "2019  3.993589e+09             1808.583730     50563.788502     4.081634e+06   \n",
       "2020  4.050315e+09             1836.409960     50270.813817     3.846628e+06   \n",
       "2021  4.125747e+09                     NaN              NaN              NaN   \n",
       "\n",
       "      Emissions (CO2eq) (AR5)  Emissions (CO2eq) from CH4 (AR5)  \\\n",
       "Year                                                              \n",
       "1961             9.472034e+05                      1.268975e+06   \n",
       "1962             9.679992e+05                      1.293527e+06   \n",
       "1963             9.802791e+05                      1.304505e+06   \n",
       "1964             1.000809e+06                      1.327717e+06   \n",
       "1965             1.020766e+06                      1.346254e+06   \n",
       "...                       ...                               ...   \n",
       "2017             3.730408e+06                      1.384480e+06   \n",
       "2018             3.802846e+06                      1.396187e+06   \n",
       "2019             3.841827e+06                      1.415786e+06   \n",
       "2020             3.700838e+06                      1.407583e+06   \n",
       "2021                      NaN                               NaN   \n",
       "\n",
       "      Emissions (CO2eq) from F-gases (AR5)  Emissions (CO2eq) from N2O (AR5)  \\\n",
       "Year                                                                           \n",
       "1961                                   NaN                     311709.748133   \n",
       "1962                                   NaN                     320758.748944   \n",
       "1963                                   NaN                     328449.022067   \n",
       "1964                                   NaN                     338065.860011   \n",
       "1965                                   NaN                     350099.507433   \n",
       "...                                    ...                               ...   \n",
       "2017                         665794.376922                     496706.147613   \n",
       "2018                         692122.776567                     492270.283794   \n",
       "2019                         701520.874389                     496800.068715   \n",
       "2020                         718240.740533                     504010.838128   \n",
       "2021                                   NaN                               NaN   \n",
       "\n",
       "      Emissions (N2O)  Indirect emissions (N2O)  \n",
       "Year                                             \n",
       "1961      1176.263211                274.675400  \n",
       "1962      1210.410389                282.982267  \n",
       "1963      1239.430267                289.938750  \n",
       "1964      1275.720222                298.363083  \n",
       "1965      1321.130211                309.545500  \n",
       "...               ...                       ...  \n",
       "2017      1874.367713                680.944314  \n",
       "2018      1857.628298                681.691271  \n",
       "2019      1874.722215                687.330557  \n",
       "2020      1901.932828                698.274000  \n",
       "2021              NaN                       NaN  \n",
       "\n",
       "[61 rows x 13 columns]"
      ]
     },
     "execution_count": 66,
     "metadata": {},
     "output_type": "execute_result"
    }
   ],
   "source": [
    "ml_use.set_index('Year',inplace=True)\n",
    "ml_use"
   ]
  },
  {
   "cell_type": "code",
   "execution_count": 67,
   "id": "5a5f2130",
   "metadata": {},
   "outputs": [
    {
     "data": {
      "text/html": [
       "<div>\n",
       "<style scoped>\n",
       "    .dataframe tbody tr th:only-of-type {\n",
       "        vertical-align: middle;\n",
       "    }\n",
       "\n",
       "    .dataframe tbody tr th {\n",
       "        vertical-align: top;\n",
       "    }\n",
       "\n",
       "    .dataframe thead th {\n",
       "        text-align: right;\n",
       "    }\n",
       "</style>\n",
       "<table border=\"1\" class=\"dataframe\">\n",
       "  <thead>\n",
       "    <tr style=\"text-align: right;\">\n",
       "      <th></th>\n",
       "      <th>Area</th>\n",
       "      <th>Item</th>\n",
       "      <th>Element</th>\n",
       "      <th>Value</th>\n",
       "      <th>Direct emissions (N2O)</th>\n",
       "      <th>Emissions (CH4)</th>\n",
       "      <th>Emissions (CO2)</th>\n",
       "      <th>Emissions (CO2eq) (AR5)</th>\n",
       "      <th>Emissions (CO2eq) from CH4 (AR5)</th>\n",
       "      <th>Emissions (CO2eq) from F-gases (AR5)</th>\n",
       "      <th>Emissions (CO2eq) from N2O (AR5)</th>\n",
       "      <th>Emissions (N2O)</th>\n",
       "      <th>Indirect emissions (N2O)</th>\n",
       "    </tr>\n",
       "    <tr>\n",
       "      <th>Year</th>\n",
       "      <th></th>\n",
       "      <th></th>\n",
       "      <th></th>\n",
       "      <th></th>\n",
       "      <th></th>\n",
       "      <th></th>\n",
       "      <th></th>\n",
       "      <th></th>\n",
       "      <th></th>\n",
       "      <th></th>\n",
       "      <th></th>\n",
       "      <th></th>\n",
       "      <th></th>\n",
       "    </tr>\n",
       "  </thead>\n",
       "  <tbody>\n",
       "    <tr>\n",
       "      <th>1961</th>\n",
       "      <td>World</td>\n",
       "      <td>Agriculture</td>\n",
       "      <td>Gross Production Value (constant 2014-2016 tho...</td>\n",
       "      <td>1.083667e+09</td>\n",
       "      <td>921.046650</td>\n",
       "      <td>45320.530900</td>\n",
       "      <td>NaN</td>\n",
       "      <td>9.472034e+05</td>\n",
       "      <td>1.268975e+06</td>\n",
       "      <td>NaN</td>\n",
       "      <td>311709.748133</td>\n",
       "      <td>1176.263211</td>\n",
       "      <td>274.675400</td>\n",
       "    </tr>\n",
       "    <tr>\n",
       "      <th>1962</th>\n",
       "      <td>World</td>\n",
       "      <td>Agriculture</td>\n",
       "      <td>Gross Production Value (constant 2014-2016 tho...</td>\n",
       "      <td>1.118482e+09</td>\n",
       "      <td>949.056533</td>\n",
       "      <td>46197.393833</td>\n",
       "      <td>NaN</td>\n",
       "      <td>9.679992e+05</td>\n",
       "      <td>1.293527e+06</td>\n",
       "      <td>NaN</td>\n",
       "      <td>320758.748944</td>\n",
       "      <td>1210.410389</td>\n",
       "      <td>282.982267</td>\n",
       "    </tr>\n",
       "    <tr>\n",
       "      <th>1963</th>\n",
       "      <td>World</td>\n",
       "      <td>Agriculture</td>\n",
       "      <td>Gross Production Value (constant 2014-2016 tho...</td>\n",
       "      <td>1.146767e+09</td>\n",
       "      <td>972.081300</td>\n",
       "      <td>46589.456933</td>\n",
       "      <td>NaN</td>\n",
       "      <td>9.802791e+05</td>\n",
       "      <td>1.304505e+06</td>\n",
       "      <td>NaN</td>\n",
       "      <td>328449.022067</td>\n",
       "      <td>1239.430267</td>\n",
       "      <td>289.938750</td>\n",
       "    </tr>\n",
       "    <tr>\n",
       "      <th>1964</th>\n",
       "      <td>World</td>\n",
       "      <td>Agriculture</td>\n",
       "      <td>Gross Production Value (constant 2014-2016 tho...</td>\n",
       "      <td>1.184759e+09</td>\n",
       "      <td>1003.153100</td>\n",
       "      <td>47418.463000</td>\n",
       "      <td>NaN</td>\n",
       "      <td>1.000809e+06</td>\n",
       "      <td>1.327717e+06</td>\n",
       "      <td>NaN</td>\n",
       "      <td>338065.860011</td>\n",
       "      <td>1275.720222</td>\n",
       "      <td>298.363083</td>\n",
       "    </tr>\n",
       "    <tr>\n",
       "      <th>1965</th>\n",
       "      <td>World</td>\n",
       "      <td>Agriculture</td>\n",
       "      <td>Gross Production Value (constant 2014-2016 tho...</td>\n",
       "      <td>1.210465e+09</td>\n",
       "      <td>1039.440400</td>\n",
       "      <td>48080.514967</td>\n",
       "      <td>NaN</td>\n",
       "      <td>1.020766e+06</td>\n",
       "      <td>1.346254e+06</td>\n",
       "      <td>NaN</td>\n",
       "      <td>350099.507433</td>\n",
       "      <td>1321.130211</td>\n",
       "      <td>309.545500</td>\n",
       "    </tr>\n",
       "    <tr>\n",
       "      <th>...</th>\n",
       "      <td>...</td>\n",
       "      <td>...</td>\n",
       "      <td>...</td>\n",
       "      <td>...</td>\n",
       "      <td>...</td>\n",
       "      <td>...</td>\n",
       "      <td>...</td>\n",
       "      <td>...</td>\n",
       "      <td>...</td>\n",
       "      <td>...</td>\n",
       "      <td>...</td>\n",
       "      <td>...</td>\n",
       "      <td>...</td>\n",
       "    </tr>\n",
       "    <tr>\n",
       "      <th>2017</th>\n",
       "      <td>World</td>\n",
       "      <td>Agriculture</td>\n",
       "      <td>Gross Production Value (constant 2014-2016 tho...</td>\n",
       "      <td>3.909425e+09</td>\n",
       "      <td>1798.781890</td>\n",
       "      <td>49445.696047</td>\n",
       "      <td>3.936336e+06</td>\n",
       "      <td>3.730408e+06</td>\n",
       "      <td>1.384480e+06</td>\n",
       "      <td>665794.376922</td>\n",
       "      <td>496706.147613</td>\n",
       "      <td>1874.367713</td>\n",
       "      <td>680.944314</td>\n",
       "    </tr>\n",
       "    <tr>\n",
       "      <th>2018</th>\n",
       "      <td>World</td>\n",
       "      <td>Agriculture</td>\n",
       "      <td>Gross Production Value (constant 2014-2016 tho...</td>\n",
       "      <td>3.951008e+09</td>\n",
       "      <td>1794.242560</td>\n",
       "      <td>49863.821648</td>\n",
       "      <td>4.046141e+06</td>\n",
       "      <td>3.802846e+06</td>\n",
       "      <td>1.396187e+06</td>\n",
       "      <td>692122.776567</td>\n",
       "      <td>492270.283794</td>\n",
       "      <td>1857.628298</td>\n",
       "      <td>681.691271</td>\n",
       "    </tr>\n",
       "    <tr>\n",
       "      <th>2019</th>\n",
       "      <td>World</td>\n",
       "      <td>Agriculture</td>\n",
       "      <td>Gross Production Value (constant 2014-2016 tho...</td>\n",
       "      <td>3.993589e+09</td>\n",
       "      <td>1808.583730</td>\n",
       "      <td>50563.788502</td>\n",
       "      <td>4.081634e+06</td>\n",
       "      <td>3.841827e+06</td>\n",
       "      <td>1.415786e+06</td>\n",
       "      <td>701520.874389</td>\n",
       "      <td>496800.068715</td>\n",
       "      <td>1874.722215</td>\n",
       "      <td>687.330557</td>\n",
       "    </tr>\n",
       "    <tr>\n",
       "      <th>2020</th>\n",
       "      <td>World</td>\n",
       "      <td>Agriculture</td>\n",
       "      <td>Gross Production Value (constant 2014-2016 tho...</td>\n",
       "      <td>4.050315e+09</td>\n",
       "      <td>1836.409960</td>\n",
       "      <td>50270.813817</td>\n",
       "      <td>3.846628e+06</td>\n",
       "      <td>3.700838e+06</td>\n",
       "      <td>1.407583e+06</td>\n",
       "      <td>718240.740533</td>\n",
       "      <td>504010.838128</td>\n",
       "      <td>1901.932828</td>\n",
       "      <td>698.274000</td>\n",
       "    </tr>\n",
       "    <tr>\n",
       "      <th>2021</th>\n",
       "      <td>World</td>\n",
       "      <td>Agriculture</td>\n",
       "      <td>Gross Production Value (constant 2014-2016 tho...</td>\n",
       "      <td>4.125747e+09</td>\n",
       "      <td>NaN</td>\n",
       "      <td>NaN</td>\n",
       "      <td>NaN</td>\n",
       "      <td>NaN</td>\n",
       "      <td>NaN</td>\n",
       "      <td>NaN</td>\n",
       "      <td>NaN</td>\n",
       "      <td>NaN</td>\n",
       "      <td>NaN</td>\n",
       "    </tr>\n",
       "  </tbody>\n",
       "</table>\n",
       "<p>61 rows × 13 columns</p>\n",
       "</div>"
      ],
      "text/plain": [
       "       Area         Item                                            Element  \\\n",
       "Year                                                                          \n",
       "1961  World  Agriculture  Gross Production Value (constant 2014-2016 tho...   \n",
       "1962  World  Agriculture  Gross Production Value (constant 2014-2016 tho...   \n",
       "1963  World  Agriculture  Gross Production Value (constant 2014-2016 tho...   \n",
       "1964  World  Agriculture  Gross Production Value (constant 2014-2016 tho...   \n",
       "1965  World  Agriculture  Gross Production Value (constant 2014-2016 tho...   \n",
       "...     ...          ...                                                ...   \n",
       "2017  World  Agriculture  Gross Production Value (constant 2014-2016 tho...   \n",
       "2018  World  Agriculture  Gross Production Value (constant 2014-2016 tho...   \n",
       "2019  World  Agriculture  Gross Production Value (constant 2014-2016 tho...   \n",
       "2020  World  Agriculture  Gross Production Value (constant 2014-2016 tho...   \n",
       "2021  World  Agriculture  Gross Production Value (constant 2014-2016 tho...   \n",
       "\n",
       "             Value  Direct emissions (N2O)  Emissions (CH4)  Emissions (CO2)  \\\n",
       "Year                                                                           \n",
       "1961  1.083667e+09              921.046650     45320.530900              NaN   \n",
       "1962  1.118482e+09              949.056533     46197.393833              NaN   \n",
       "1963  1.146767e+09              972.081300     46589.456933              NaN   \n",
       "1964  1.184759e+09             1003.153100     47418.463000              NaN   \n",
       "1965  1.210465e+09             1039.440400     48080.514967              NaN   \n",
       "...            ...                     ...              ...              ...   \n",
       "2017  3.909425e+09             1798.781890     49445.696047     3.936336e+06   \n",
       "2018  3.951008e+09             1794.242560     49863.821648     4.046141e+06   \n",
       "2019  3.993589e+09             1808.583730     50563.788502     4.081634e+06   \n",
       "2020  4.050315e+09             1836.409960     50270.813817     3.846628e+06   \n",
       "2021  4.125747e+09                     NaN              NaN              NaN   \n",
       "\n",
       "      Emissions (CO2eq) (AR5)  Emissions (CO2eq) from CH4 (AR5)  \\\n",
       "Year                                                              \n",
       "1961             9.472034e+05                      1.268975e+06   \n",
       "1962             9.679992e+05                      1.293527e+06   \n",
       "1963             9.802791e+05                      1.304505e+06   \n",
       "1964             1.000809e+06                      1.327717e+06   \n",
       "1965             1.020766e+06                      1.346254e+06   \n",
       "...                       ...                               ...   \n",
       "2017             3.730408e+06                      1.384480e+06   \n",
       "2018             3.802846e+06                      1.396187e+06   \n",
       "2019             3.841827e+06                      1.415786e+06   \n",
       "2020             3.700838e+06                      1.407583e+06   \n",
       "2021                      NaN                               NaN   \n",
       "\n",
       "      Emissions (CO2eq) from F-gases (AR5)  Emissions (CO2eq) from N2O (AR5)  \\\n",
       "Year                                                                           \n",
       "1961                                   NaN                     311709.748133   \n",
       "1962                                   NaN                     320758.748944   \n",
       "1963                                   NaN                     328449.022067   \n",
       "1964                                   NaN                     338065.860011   \n",
       "1965                                   NaN                     350099.507433   \n",
       "...                                    ...                               ...   \n",
       "2017                         665794.376922                     496706.147613   \n",
       "2018                         692122.776567                     492270.283794   \n",
       "2019                         701520.874389                     496800.068715   \n",
       "2020                         718240.740533                     504010.838128   \n",
       "2021                                   NaN                               NaN   \n",
       "\n",
       "      Emissions (N2O)  Indirect emissions (N2O)  \n",
       "Year                                             \n",
       "1961      1176.263211                274.675400  \n",
       "1962      1210.410389                282.982267  \n",
       "1963      1239.430267                289.938750  \n",
       "1964      1275.720222                298.363083  \n",
       "1965      1321.130211                309.545500  \n",
       "...               ...                       ...  \n",
       "2017      1874.367713                680.944314  \n",
       "2018      1857.628298                681.691271  \n",
       "2019      1874.722215                687.330557  \n",
       "2020      1901.932828                698.274000  \n",
       "2021              NaN                       NaN  \n",
       "\n",
       "[61 rows x 13 columns]"
      ]
     },
     "execution_count": 67,
     "metadata": {},
     "output_type": "execute_result"
    }
   ],
   "source": [
    "#df['Date'] = pd.to_datetime(df['Date'])\n",
    "\n",
    "# Sort the DataFrame by the 'Date' column\n",
    "sorted_df = ml_use.sort_values(by='Year')\n",
    "\n",
    "# Optionally, reset the index to reindex the sorted DataFrame\n",
    "#sorted_df.reset_index(drop=True, inplace=True)\n",
    "sorted_df"
   ]
  },
  {
   "cell_type": "code",
   "execution_count": 69,
   "id": "3f509fe1",
   "metadata": {},
   "outputs": [
    {
     "data": {
      "text/html": [
       "<div>\n",
       "<style scoped>\n",
       "    .dataframe tbody tr th:only-of-type {\n",
       "        vertical-align: middle;\n",
       "    }\n",
       "\n",
       "    .dataframe tbody tr th {\n",
       "        vertical-align: top;\n",
       "    }\n",
       "\n",
       "    .dataframe thead th {\n",
       "        text-align: right;\n",
       "    }\n",
       "</style>\n",
       "<table border=\"1\" class=\"dataframe\">\n",
       "  <thead>\n",
       "    <tr style=\"text-align: right;\">\n",
       "      <th></th>\n",
       "      <th>Value</th>\n",
       "      <th>Direct emissions (N2O)</th>\n",
       "      <th>Emissions (CH4)</th>\n",
       "      <th>Emissions (CO2)</th>\n",
       "      <th>Emissions (CO2eq) (AR5)</th>\n",
       "      <th>Emissions (CO2eq) from CH4 (AR5)</th>\n",
       "      <th>Emissions (CO2eq) from F-gases (AR5)</th>\n",
       "      <th>Emissions (CO2eq) from N2O (AR5)</th>\n",
       "      <th>Emissions (N2O)</th>\n",
       "      <th>Indirect emissions (N2O)</th>\n",
       "    </tr>\n",
       "    <tr>\n",
       "      <th>Year</th>\n",
       "      <th></th>\n",
       "      <th></th>\n",
       "      <th></th>\n",
       "      <th></th>\n",
       "      <th></th>\n",
       "      <th></th>\n",
       "      <th></th>\n",
       "      <th></th>\n",
       "      <th></th>\n",
       "      <th></th>\n",
       "    </tr>\n",
       "  </thead>\n",
       "  <tbody>\n",
       "    <tr>\n",
       "      <th>1961</th>\n",
       "      <td>1.083667e+09</td>\n",
       "      <td>921.046650</td>\n",
       "      <td>45320.530900</td>\n",
       "      <td>NaN</td>\n",
       "      <td>9.472034e+05</td>\n",
       "      <td>1.268975e+06</td>\n",
       "      <td>NaN</td>\n",
       "      <td>311709.748133</td>\n",
       "      <td>1176.263211</td>\n",
       "      <td>274.675400</td>\n",
       "    </tr>\n",
       "    <tr>\n",
       "      <th>1962</th>\n",
       "      <td>1.118482e+09</td>\n",
       "      <td>949.056533</td>\n",
       "      <td>46197.393833</td>\n",
       "      <td>NaN</td>\n",
       "      <td>9.679992e+05</td>\n",
       "      <td>1.293527e+06</td>\n",
       "      <td>NaN</td>\n",
       "      <td>320758.748944</td>\n",
       "      <td>1210.410389</td>\n",
       "      <td>282.982267</td>\n",
       "    </tr>\n",
       "    <tr>\n",
       "      <th>1963</th>\n",
       "      <td>1.146767e+09</td>\n",
       "      <td>972.081300</td>\n",
       "      <td>46589.456933</td>\n",
       "      <td>NaN</td>\n",
       "      <td>9.802791e+05</td>\n",
       "      <td>1.304505e+06</td>\n",
       "      <td>NaN</td>\n",
       "      <td>328449.022067</td>\n",
       "      <td>1239.430267</td>\n",
       "      <td>289.938750</td>\n",
       "    </tr>\n",
       "    <tr>\n",
       "      <th>1964</th>\n",
       "      <td>1.184759e+09</td>\n",
       "      <td>1003.153100</td>\n",
       "      <td>47418.463000</td>\n",
       "      <td>NaN</td>\n",
       "      <td>1.000809e+06</td>\n",
       "      <td>1.327717e+06</td>\n",
       "      <td>NaN</td>\n",
       "      <td>338065.860011</td>\n",
       "      <td>1275.720222</td>\n",
       "      <td>298.363083</td>\n",
       "    </tr>\n",
       "    <tr>\n",
       "      <th>1965</th>\n",
       "      <td>1.210465e+09</td>\n",
       "      <td>1039.440400</td>\n",
       "      <td>48080.514967</td>\n",
       "      <td>NaN</td>\n",
       "      <td>1.020766e+06</td>\n",
       "      <td>1.346254e+06</td>\n",
       "      <td>NaN</td>\n",
       "      <td>350099.507433</td>\n",
       "      <td>1321.130211</td>\n",
       "      <td>309.545500</td>\n",
       "    </tr>\n",
       "    <tr>\n",
       "      <th>...</th>\n",
       "      <td>...</td>\n",
       "      <td>...</td>\n",
       "      <td>...</td>\n",
       "      <td>...</td>\n",
       "      <td>...</td>\n",
       "      <td>...</td>\n",
       "      <td>...</td>\n",
       "      <td>...</td>\n",
       "      <td>...</td>\n",
       "      <td>...</td>\n",
       "    </tr>\n",
       "    <tr>\n",
       "      <th>2017</th>\n",
       "      <td>3.909425e+09</td>\n",
       "      <td>1798.781890</td>\n",
       "      <td>49445.696047</td>\n",
       "      <td>3.936336e+06</td>\n",
       "      <td>3.730408e+06</td>\n",
       "      <td>1.384480e+06</td>\n",
       "      <td>665794.376922</td>\n",
       "      <td>496706.147613</td>\n",
       "      <td>1874.367713</td>\n",
       "      <td>680.944314</td>\n",
       "    </tr>\n",
       "    <tr>\n",
       "      <th>2018</th>\n",
       "      <td>3.951008e+09</td>\n",
       "      <td>1794.242560</td>\n",
       "      <td>49863.821648</td>\n",
       "      <td>4.046141e+06</td>\n",
       "      <td>3.802846e+06</td>\n",
       "      <td>1.396187e+06</td>\n",
       "      <td>692122.776567</td>\n",
       "      <td>492270.283794</td>\n",
       "      <td>1857.628298</td>\n",
       "      <td>681.691271</td>\n",
       "    </tr>\n",
       "    <tr>\n",
       "      <th>2019</th>\n",
       "      <td>3.993589e+09</td>\n",
       "      <td>1808.583730</td>\n",
       "      <td>50563.788502</td>\n",
       "      <td>4.081634e+06</td>\n",
       "      <td>3.841827e+06</td>\n",
       "      <td>1.415786e+06</td>\n",
       "      <td>701520.874389</td>\n",
       "      <td>496800.068715</td>\n",
       "      <td>1874.722215</td>\n",
       "      <td>687.330557</td>\n",
       "    </tr>\n",
       "    <tr>\n",
       "      <th>2020</th>\n",
       "      <td>4.050315e+09</td>\n",
       "      <td>1836.409960</td>\n",
       "      <td>50270.813817</td>\n",
       "      <td>3.846628e+06</td>\n",
       "      <td>3.700838e+06</td>\n",
       "      <td>1.407583e+06</td>\n",
       "      <td>718240.740533</td>\n",
       "      <td>504010.838128</td>\n",
       "      <td>1901.932828</td>\n",
       "      <td>698.274000</td>\n",
       "    </tr>\n",
       "    <tr>\n",
       "      <th>2021</th>\n",
       "      <td>4.125747e+09</td>\n",
       "      <td>NaN</td>\n",
       "      <td>NaN</td>\n",
       "      <td>NaN</td>\n",
       "      <td>NaN</td>\n",
       "      <td>NaN</td>\n",
       "      <td>NaN</td>\n",
       "      <td>NaN</td>\n",
       "      <td>NaN</td>\n",
       "      <td>NaN</td>\n",
       "    </tr>\n",
       "  </tbody>\n",
       "</table>\n",
       "<p>61 rows × 10 columns</p>\n",
       "</div>"
      ],
      "text/plain": [
       "             Value  Direct emissions (N2O)  Emissions (CH4)  Emissions (CO2)  \\\n",
       "Year                                                                           \n",
       "1961  1.083667e+09              921.046650     45320.530900              NaN   \n",
       "1962  1.118482e+09              949.056533     46197.393833              NaN   \n",
       "1963  1.146767e+09              972.081300     46589.456933              NaN   \n",
       "1964  1.184759e+09             1003.153100     47418.463000              NaN   \n",
       "1965  1.210465e+09             1039.440400     48080.514967              NaN   \n",
       "...            ...                     ...              ...              ...   \n",
       "2017  3.909425e+09             1798.781890     49445.696047     3.936336e+06   \n",
       "2018  3.951008e+09             1794.242560     49863.821648     4.046141e+06   \n",
       "2019  3.993589e+09             1808.583730     50563.788502     4.081634e+06   \n",
       "2020  4.050315e+09             1836.409960     50270.813817     3.846628e+06   \n",
       "2021  4.125747e+09                     NaN              NaN              NaN   \n",
       "\n",
       "      Emissions (CO2eq) (AR5)  Emissions (CO2eq) from CH4 (AR5)  \\\n",
       "Year                                                              \n",
       "1961             9.472034e+05                      1.268975e+06   \n",
       "1962             9.679992e+05                      1.293527e+06   \n",
       "1963             9.802791e+05                      1.304505e+06   \n",
       "1964             1.000809e+06                      1.327717e+06   \n",
       "1965             1.020766e+06                      1.346254e+06   \n",
       "...                       ...                               ...   \n",
       "2017             3.730408e+06                      1.384480e+06   \n",
       "2018             3.802846e+06                      1.396187e+06   \n",
       "2019             3.841827e+06                      1.415786e+06   \n",
       "2020             3.700838e+06                      1.407583e+06   \n",
       "2021                      NaN                               NaN   \n",
       "\n",
       "      Emissions (CO2eq) from F-gases (AR5)  Emissions (CO2eq) from N2O (AR5)  \\\n",
       "Year                                                                           \n",
       "1961                                   NaN                     311709.748133   \n",
       "1962                                   NaN                     320758.748944   \n",
       "1963                                   NaN                     328449.022067   \n",
       "1964                                   NaN                     338065.860011   \n",
       "1965                                   NaN                     350099.507433   \n",
       "...                                    ...                               ...   \n",
       "2017                         665794.376922                     496706.147613   \n",
       "2018                         692122.776567                     492270.283794   \n",
       "2019                         701520.874389                     496800.068715   \n",
       "2020                         718240.740533                     504010.838128   \n",
       "2021                                   NaN                               NaN   \n",
       "\n",
       "      Emissions (N2O)  Indirect emissions (N2O)  \n",
       "Year                                             \n",
       "1961      1176.263211                274.675400  \n",
       "1962      1210.410389                282.982267  \n",
       "1963      1239.430267                289.938750  \n",
       "1964      1275.720222                298.363083  \n",
       "1965      1321.130211                309.545500  \n",
       "...               ...                       ...  \n",
       "2017      1874.367713                680.944314  \n",
       "2018      1857.628298                681.691271  \n",
       "2019      1874.722215                687.330557  \n",
       "2020      1901.932828                698.274000  \n",
       "2021              NaN                       NaN  \n",
       "\n",
       "[61 rows x 10 columns]"
      ]
     },
     "execution_count": 69,
     "metadata": {},
     "output_type": "execute_result"
    }
   ],
   "source": [
    "droped_ml=sorted_df.drop(columns=['Area','Item','Element'],axis=1)\n",
    "droped_ml"
   ]
  },
  {
   "cell_type": "code",
   "execution_count": 70,
   "id": "01a98e77",
   "metadata": {},
   "outputs": [
    {
     "data": {
      "application/vnd.plotly.v1+json": {
       "config": {
        "plotlyServerURL": "https://plot.ly"
       },
       "data": [
        {
         "mode": "markers",
         "type": "scatter",
         "x": [
          921.0466499999999,
          949.0565333333334,
          972.0812999999999,
          1003.1531,
          1039.4404,
          1085.9032666666667,
          1123.0968,
          1158.8356,
          1182.34535,
          1217.5296,
          1256.4118,
          1287.15235,
          1329.6913,
          1345.5621333333333,
          1407.4919333333335,
          1435.18945,
          1472.0077666666666,
          1524.34115,
          1553.4805,
          1598.3656,
          1615.5273,
          1639.3291166666666,
          1677.28875,
          1726.62435,
          1733.9077666666665,
          1762.0393666666666,
          1787.57725,
          1825.6779,
          1849.46575,
          1237.4337545454543,
          1225.2100636363637,
          1280.8526545454545,
          1275.2942181818182,
          1276.1478727272727,
          1296.6159636363636,
          1331.1240272727273,
          1319.4977909090908,
          1322.156381818182,
          1337.1146090909092,
          1322.1402363636364,
          1334.8572636363635,
          1353.8695363636364,
          1372.3838181818182,
          1407.063081818182,
          1416.5822818181819,
          1433.8012636363635,
          1463.4030818181818,
          1473.184309090909,
          1486.0007545454546,
          1507.6939818181818,
          1534.1241181818184,
          1539.4572363636364,
          1577.2038818181818,
          1598.2491818181816,
          1748.8100399999998,
          1624.6824272727272,
          1798.7818899999997,
          1794.24256,
          1808.5837299999998,
          1836.4099600000002,
          null
         ],
         "y": [
          1083667059,
          1118482387,
          1146767041,
          1184758554,
          1210465099,
          1254340110,
          1299302844,
          1337368930,
          1344596827,
          1386707418,
          1420697818,
          1414268652,
          1493275029,
          1504827569,
          1533217930,
          1569694853,
          1607622952,
          1680725225,
          1699748103,
          1701820059,
          1757505557,
          1814875418,
          1822636743,
          1915023589,
          1947322965,
          1980385333,
          2003967791,
          2023984717,
          2094492093,
          2148500096,
          2087533162,
          2192203610,
          2210009822,
          2267786946,
          2312014062,
          2401322613,
          2454085045,
          2494018935,
          2572370880,
          2627259893,
          2665706906,
          2703188511,
          2770276457,
          2900173006,
          2954207241,
          3016099381,
          3097485761,
          3217408651,
          3240964362,
          3323571228,
          3448435091,
          3490019313,
          3630375823,
          3703588788,
          3757329935,
          3805258893,
          3909424813,
          3951007991,
          3993589039,
          4050314909,
          4125746540
         ]
        }
       ],
       "layout": {
        "template": {
         "data": {
          "bar": [
           {
            "error_x": {
             "color": "#2a3f5f"
            },
            "error_y": {
             "color": "#2a3f5f"
            },
            "marker": {
             "line": {
              "color": "#E5ECF6",
              "width": 0.5
             },
             "pattern": {
              "fillmode": "overlay",
              "size": 10,
              "solidity": 0.2
             }
            },
            "type": "bar"
           }
          ],
          "barpolar": [
           {
            "marker": {
             "line": {
              "color": "#E5ECF6",
              "width": 0.5
             },
             "pattern": {
              "fillmode": "overlay",
              "size": 10,
              "solidity": 0.2
             }
            },
            "type": "barpolar"
           }
          ],
          "carpet": [
           {
            "aaxis": {
             "endlinecolor": "#2a3f5f",
             "gridcolor": "white",
             "linecolor": "white",
             "minorgridcolor": "white",
             "startlinecolor": "#2a3f5f"
            },
            "baxis": {
             "endlinecolor": "#2a3f5f",
             "gridcolor": "white",
             "linecolor": "white",
             "minorgridcolor": "white",
             "startlinecolor": "#2a3f5f"
            },
            "type": "carpet"
           }
          ],
          "choropleth": [
           {
            "colorbar": {
             "outlinewidth": 0,
             "ticks": ""
            },
            "type": "choropleth"
           }
          ],
          "contour": [
           {
            "colorbar": {
             "outlinewidth": 0,
             "ticks": ""
            },
            "colorscale": [
             [
              0,
              "#0d0887"
             ],
             [
              0.1111111111111111,
              "#46039f"
             ],
             [
              0.2222222222222222,
              "#7201a8"
             ],
             [
              0.3333333333333333,
              "#9c179e"
             ],
             [
              0.4444444444444444,
              "#bd3786"
             ],
             [
              0.5555555555555556,
              "#d8576b"
             ],
             [
              0.6666666666666666,
              "#ed7953"
             ],
             [
              0.7777777777777778,
              "#fb9f3a"
             ],
             [
              0.8888888888888888,
              "#fdca26"
             ],
             [
              1,
              "#f0f921"
             ]
            ],
            "type": "contour"
           }
          ],
          "contourcarpet": [
           {
            "colorbar": {
             "outlinewidth": 0,
             "ticks": ""
            },
            "type": "contourcarpet"
           }
          ],
          "heatmap": [
           {
            "colorbar": {
             "outlinewidth": 0,
             "ticks": ""
            },
            "colorscale": [
             [
              0,
              "#0d0887"
             ],
             [
              0.1111111111111111,
              "#46039f"
             ],
             [
              0.2222222222222222,
              "#7201a8"
             ],
             [
              0.3333333333333333,
              "#9c179e"
             ],
             [
              0.4444444444444444,
              "#bd3786"
             ],
             [
              0.5555555555555556,
              "#d8576b"
             ],
             [
              0.6666666666666666,
              "#ed7953"
             ],
             [
              0.7777777777777778,
              "#fb9f3a"
             ],
             [
              0.8888888888888888,
              "#fdca26"
             ],
             [
              1,
              "#f0f921"
             ]
            ],
            "type": "heatmap"
           }
          ],
          "heatmapgl": [
           {
            "colorbar": {
             "outlinewidth": 0,
             "ticks": ""
            },
            "colorscale": [
             [
              0,
              "#0d0887"
             ],
             [
              0.1111111111111111,
              "#46039f"
             ],
             [
              0.2222222222222222,
              "#7201a8"
             ],
             [
              0.3333333333333333,
              "#9c179e"
             ],
             [
              0.4444444444444444,
              "#bd3786"
             ],
             [
              0.5555555555555556,
              "#d8576b"
             ],
             [
              0.6666666666666666,
              "#ed7953"
             ],
             [
              0.7777777777777778,
              "#fb9f3a"
             ],
             [
              0.8888888888888888,
              "#fdca26"
             ],
             [
              1,
              "#f0f921"
             ]
            ],
            "type": "heatmapgl"
           }
          ],
          "histogram": [
           {
            "marker": {
             "pattern": {
              "fillmode": "overlay",
              "size": 10,
              "solidity": 0.2
             }
            },
            "type": "histogram"
           }
          ],
          "histogram2d": [
           {
            "colorbar": {
             "outlinewidth": 0,
             "ticks": ""
            },
            "colorscale": [
             [
              0,
              "#0d0887"
             ],
             [
              0.1111111111111111,
              "#46039f"
             ],
             [
              0.2222222222222222,
              "#7201a8"
             ],
             [
              0.3333333333333333,
              "#9c179e"
             ],
             [
              0.4444444444444444,
              "#bd3786"
             ],
             [
              0.5555555555555556,
              "#d8576b"
             ],
             [
              0.6666666666666666,
              "#ed7953"
             ],
             [
              0.7777777777777778,
              "#fb9f3a"
             ],
             [
              0.8888888888888888,
              "#fdca26"
             ],
             [
              1,
              "#f0f921"
             ]
            ],
            "type": "histogram2d"
           }
          ],
          "histogram2dcontour": [
           {
            "colorbar": {
             "outlinewidth": 0,
             "ticks": ""
            },
            "colorscale": [
             [
              0,
              "#0d0887"
             ],
             [
              0.1111111111111111,
              "#46039f"
             ],
             [
              0.2222222222222222,
              "#7201a8"
             ],
             [
              0.3333333333333333,
              "#9c179e"
             ],
             [
              0.4444444444444444,
              "#bd3786"
             ],
             [
              0.5555555555555556,
              "#d8576b"
             ],
             [
              0.6666666666666666,
              "#ed7953"
             ],
             [
              0.7777777777777778,
              "#fb9f3a"
             ],
             [
              0.8888888888888888,
              "#fdca26"
             ],
             [
              1,
              "#f0f921"
             ]
            ],
            "type": "histogram2dcontour"
           }
          ],
          "mesh3d": [
           {
            "colorbar": {
             "outlinewidth": 0,
             "ticks": ""
            },
            "type": "mesh3d"
           }
          ],
          "parcoords": [
           {
            "line": {
             "colorbar": {
              "outlinewidth": 0,
              "ticks": ""
             }
            },
            "type": "parcoords"
           }
          ],
          "pie": [
           {
            "automargin": true,
            "type": "pie"
           }
          ],
          "scatter": [
           {
            "fillpattern": {
             "fillmode": "overlay",
             "size": 10,
             "solidity": 0.2
            },
            "type": "scatter"
           }
          ],
          "scatter3d": [
           {
            "line": {
             "colorbar": {
              "outlinewidth": 0,
              "ticks": ""
             }
            },
            "marker": {
             "colorbar": {
              "outlinewidth": 0,
              "ticks": ""
             }
            },
            "type": "scatter3d"
           }
          ],
          "scattercarpet": [
           {
            "marker": {
             "colorbar": {
              "outlinewidth": 0,
              "ticks": ""
             }
            },
            "type": "scattercarpet"
           }
          ],
          "scattergeo": [
           {
            "marker": {
             "colorbar": {
              "outlinewidth": 0,
              "ticks": ""
             }
            },
            "type": "scattergeo"
           }
          ],
          "scattergl": [
           {
            "marker": {
             "colorbar": {
              "outlinewidth": 0,
              "ticks": ""
             }
            },
            "type": "scattergl"
           }
          ],
          "scattermapbox": [
           {
            "marker": {
             "colorbar": {
              "outlinewidth": 0,
              "ticks": ""
             }
            },
            "type": "scattermapbox"
           }
          ],
          "scatterpolar": [
           {
            "marker": {
             "colorbar": {
              "outlinewidth": 0,
              "ticks": ""
             }
            },
            "type": "scatterpolar"
           }
          ],
          "scatterpolargl": [
           {
            "marker": {
             "colorbar": {
              "outlinewidth": 0,
              "ticks": ""
             }
            },
            "type": "scatterpolargl"
           }
          ],
          "scatterternary": [
           {
            "marker": {
             "colorbar": {
              "outlinewidth": 0,
              "ticks": ""
             }
            },
            "type": "scatterternary"
           }
          ],
          "surface": [
           {
            "colorbar": {
             "outlinewidth": 0,
             "ticks": ""
            },
            "colorscale": [
             [
              0,
              "#0d0887"
             ],
             [
              0.1111111111111111,
              "#46039f"
             ],
             [
              0.2222222222222222,
              "#7201a8"
             ],
             [
              0.3333333333333333,
              "#9c179e"
             ],
             [
              0.4444444444444444,
              "#bd3786"
             ],
             [
              0.5555555555555556,
              "#d8576b"
             ],
             [
              0.6666666666666666,
              "#ed7953"
             ],
             [
              0.7777777777777778,
              "#fb9f3a"
             ],
             [
              0.8888888888888888,
              "#fdca26"
             ],
             [
              1,
              "#f0f921"
             ]
            ],
            "type": "surface"
           }
          ],
          "table": [
           {
            "cells": {
             "fill": {
              "color": "#EBF0F8"
             },
             "line": {
              "color": "white"
             }
            },
            "header": {
             "fill": {
              "color": "#C8D4E3"
             },
             "line": {
              "color": "white"
             }
            },
            "type": "table"
           }
          ]
         },
         "layout": {
          "annotationdefaults": {
           "arrowcolor": "#2a3f5f",
           "arrowhead": 0,
           "arrowwidth": 1
          },
          "autotypenumbers": "strict",
          "coloraxis": {
           "colorbar": {
            "outlinewidth": 0,
            "ticks": ""
           }
          },
          "colorscale": {
           "diverging": [
            [
             0,
             "#8e0152"
            ],
            [
             0.1,
             "#c51b7d"
            ],
            [
             0.2,
             "#de77ae"
            ],
            [
             0.3,
             "#f1b6da"
            ],
            [
             0.4,
             "#fde0ef"
            ],
            [
             0.5,
             "#f7f7f7"
            ],
            [
             0.6,
             "#e6f5d0"
            ],
            [
             0.7,
             "#b8e186"
            ],
            [
             0.8,
             "#7fbc41"
            ],
            [
             0.9,
             "#4d9221"
            ],
            [
             1,
             "#276419"
            ]
           ],
           "sequential": [
            [
             0,
             "#0d0887"
            ],
            [
             0.1111111111111111,
             "#46039f"
            ],
            [
             0.2222222222222222,
             "#7201a8"
            ],
            [
             0.3333333333333333,
             "#9c179e"
            ],
            [
             0.4444444444444444,
             "#bd3786"
            ],
            [
             0.5555555555555556,
             "#d8576b"
            ],
            [
             0.6666666666666666,
             "#ed7953"
            ],
            [
             0.7777777777777778,
             "#fb9f3a"
            ],
            [
             0.8888888888888888,
             "#fdca26"
            ],
            [
             1,
             "#f0f921"
            ]
           ],
           "sequentialminus": [
            [
             0,
             "#0d0887"
            ],
            [
             0.1111111111111111,
             "#46039f"
            ],
            [
             0.2222222222222222,
             "#7201a8"
            ],
            [
             0.3333333333333333,
             "#9c179e"
            ],
            [
             0.4444444444444444,
             "#bd3786"
            ],
            [
             0.5555555555555556,
             "#d8576b"
            ],
            [
             0.6666666666666666,
             "#ed7953"
            ],
            [
             0.7777777777777778,
             "#fb9f3a"
            ],
            [
             0.8888888888888888,
             "#fdca26"
            ],
            [
             1,
             "#f0f921"
            ]
           ]
          },
          "colorway": [
           "#636efa",
           "#EF553B",
           "#00cc96",
           "#ab63fa",
           "#FFA15A",
           "#19d3f3",
           "#FF6692",
           "#B6E880",
           "#FF97FF",
           "#FECB52"
          ],
          "font": {
           "color": "#2a3f5f"
          },
          "geo": {
           "bgcolor": "white",
           "lakecolor": "white",
           "landcolor": "#E5ECF6",
           "showlakes": true,
           "showland": true,
           "subunitcolor": "white"
          },
          "hoverlabel": {
           "align": "left"
          },
          "hovermode": "closest",
          "mapbox": {
           "style": "light"
          },
          "paper_bgcolor": "white",
          "plot_bgcolor": "#E5ECF6",
          "polar": {
           "angularaxis": {
            "gridcolor": "white",
            "linecolor": "white",
            "ticks": ""
           },
           "bgcolor": "#E5ECF6",
           "radialaxis": {
            "gridcolor": "white",
            "linecolor": "white",
            "ticks": ""
           }
          },
          "scene": {
           "xaxis": {
            "backgroundcolor": "#E5ECF6",
            "gridcolor": "white",
            "gridwidth": 2,
            "linecolor": "white",
            "showbackground": true,
            "ticks": "",
            "zerolinecolor": "white"
           },
           "yaxis": {
            "backgroundcolor": "#E5ECF6",
            "gridcolor": "white",
            "gridwidth": 2,
            "linecolor": "white",
            "showbackground": true,
            "ticks": "",
            "zerolinecolor": "white"
           },
           "zaxis": {
            "backgroundcolor": "#E5ECF6",
            "gridcolor": "white",
            "gridwidth": 2,
            "linecolor": "white",
            "showbackground": true,
            "ticks": "",
            "zerolinecolor": "white"
           }
          },
          "shapedefaults": {
           "line": {
            "color": "#2a3f5f"
           }
          },
          "ternary": {
           "aaxis": {
            "gridcolor": "white",
            "linecolor": "white",
            "ticks": ""
           },
           "baxis": {
            "gridcolor": "white",
            "linecolor": "white",
            "ticks": ""
           },
           "bgcolor": "#E5ECF6",
           "caxis": {
            "gridcolor": "white",
            "linecolor": "white",
            "ticks": ""
           }
          },
          "title": {
           "x": 0.05
          },
          "xaxis": {
           "automargin": true,
           "gridcolor": "white",
           "linecolor": "white",
           "ticks": "",
           "title": {
            "standoff": 15
           },
           "zerolinecolor": "white",
           "zerolinewidth": 2
          },
          "yaxis": {
           "automargin": true,
           "gridcolor": "white",
           "linecolor": "white",
           "ticks": "",
           "title": {
            "standoff": 15
           },
           "zerolinecolor": "white",
           "zerolinewidth": 2
          }
         }
        },
        "title": {
         "text": "Scatter Plot Example"
        },
        "xaxis": {
         "title": {
          "text": "Direct emissions (N2O)"
         }
        },
        "yaxis": {
         "title": {
          "text": "Production"
         }
        }
       }
      },
      "text/html": [
       "<div>                            <div id=\"b1c5eb08-2616-4c44-91b1-43d436961e66\" class=\"plotly-graph-div\" style=\"height:525px; width:100%;\"></div>            <script type=\"text/javascript\">                require([\"plotly\"], function(Plotly) {                    window.PLOTLYENV=window.PLOTLYENV || {};                                    if (document.getElementById(\"b1c5eb08-2616-4c44-91b1-43d436961e66\")) {                    Plotly.newPlot(                        \"b1c5eb08-2616-4c44-91b1-43d436961e66\",                        [{\"mode\":\"markers\",\"x\":[921.0466499999999,949.0565333333334,972.0812999999999,1003.1531,1039.4404,1085.9032666666667,1123.0968,1158.8356,1182.34535,1217.5296,1256.4118,1287.15235,1329.6913,1345.5621333333333,1407.4919333333335,1435.18945,1472.0077666666666,1524.34115,1553.4805,1598.3656,1615.5273,1639.3291166666666,1677.28875,1726.62435,1733.9077666666665,1762.0393666666666,1787.57725,1825.6779,1849.46575,1237.4337545454543,1225.2100636363637,1280.8526545454545,1275.2942181818182,1276.1478727272727,1296.6159636363636,1331.1240272727273,1319.4977909090908,1322.156381818182,1337.1146090909092,1322.1402363636364,1334.8572636363635,1353.8695363636364,1372.3838181818182,1407.063081818182,1416.5822818181819,1433.8012636363635,1463.4030818181818,1473.184309090909,1486.0007545454546,1507.6939818181818,1534.1241181818184,1539.4572363636364,1577.2038818181818,1598.2491818181816,1748.8100399999998,1624.6824272727272,1798.7818899999997,1794.24256,1808.5837299999998,1836.4099600000002,null],\"y\":[1083667059.0,1118482387.0,1146767041.0,1184758554.0,1210465099.0,1254340110.0,1299302844.0,1337368930.0,1344596827.0,1386707418.0,1420697818.0,1414268652.0,1493275029.0,1504827569.0,1533217930.0,1569694853.0,1607622952.0,1680725225.0,1699748103.0,1701820059.0,1757505557.0,1814875418.0,1822636743.0,1915023589.0,1947322965.0,1980385333.0,2003967791.0,2023984717.0,2094492093.0,2148500096.0,2087533162.0,2192203610.0,2210009822.0,2267786946.0,2312014062.0,2401322613.0,2454085045.0,2494018935.0,2572370880.0,2627259893.0,2665706906.0,2703188511.0,2770276457.0,2900173006.0,2954207241.0,3016099381.0,3097485761.0,3217408651.0,3240964362.0,3323571228.0,3448435091.0,3490019313.0,3630375823.0,3703588788.0,3757329935.0,3805258893.0,3909424813.0,3951007991.0,3993589039.0,4050314909.0,4125746540.0],\"type\":\"scatter\"}],                        {\"template\":{\"data\":{\"histogram2dcontour\":[{\"type\":\"histogram2dcontour\",\"colorbar\":{\"outlinewidth\":0,\"ticks\":\"\"},\"colorscale\":[[0.0,\"#0d0887\"],[0.1111111111111111,\"#46039f\"],[0.2222222222222222,\"#7201a8\"],[0.3333333333333333,\"#9c179e\"],[0.4444444444444444,\"#bd3786\"],[0.5555555555555556,\"#d8576b\"],[0.6666666666666666,\"#ed7953\"],[0.7777777777777778,\"#fb9f3a\"],[0.8888888888888888,\"#fdca26\"],[1.0,\"#f0f921\"]]}],\"choropleth\":[{\"type\":\"choropleth\",\"colorbar\":{\"outlinewidth\":0,\"ticks\":\"\"}}],\"histogram2d\":[{\"type\":\"histogram2d\",\"colorbar\":{\"outlinewidth\":0,\"ticks\":\"\"},\"colorscale\":[[0.0,\"#0d0887\"],[0.1111111111111111,\"#46039f\"],[0.2222222222222222,\"#7201a8\"],[0.3333333333333333,\"#9c179e\"],[0.4444444444444444,\"#bd3786\"],[0.5555555555555556,\"#d8576b\"],[0.6666666666666666,\"#ed7953\"],[0.7777777777777778,\"#fb9f3a\"],[0.8888888888888888,\"#fdca26\"],[1.0,\"#f0f921\"]]}],\"heatmap\":[{\"type\":\"heatmap\",\"colorbar\":{\"outlinewidth\":0,\"ticks\":\"\"},\"colorscale\":[[0.0,\"#0d0887\"],[0.1111111111111111,\"#46039f\"],[0.2222222222222222,\"#7201a8\"],[0.3333333333333333,\"#9c179e\"],[0.4444444444444444,\"#bd3786\"],[0.5555555555555556,\"#d8576b\"],[0.6666666666666666,\"#ed7953\"],[0.7777777777777778,\"#fb9f3a\"],[0.8888888888888888,\"#fdca26\"],[1.0,\"#f0f921\"]]}],\"heatmapgl\":[{\"type\":\"heatmapgl\",\"colorbar\":{\"outlinewidth\":0,\"ticks\":\"\"},\"colorscale\":[[0.0,\"#0d0887\"],[0.1111111111111111,\"#46039f\"],[0.2222222222222222,\"#7201a8\"],[0.3333333333333333,\"#9c179e\"],[0.4444444444444444,\"#bd3786\"],[0.5555555555555556,\"#d8576b\"],[0.6666666666666666,\"#ed7953\"],[0.7777777777777778,\"#fb9f3a\"],[0.8888888888888888,\"#fdca26\"],[1.0,\"#f0f921\"]]}],\"contourcarpet\":[{\"type\":\"contourcarpet\",\"colorbar\":{\"outlinewidth\":0,\"ticks\":\"\"}}],\"contour\":[{\"type\":\"contour\",\"colorbar\":{\"outlinewidth\":0,\"ticks\":\"\"},\"colorscale\":[[0.0,\"#0d0887\"],[0.1111111111111111,\"#46039f\"],[0.2222222222222222,\"#7201a8\"],[0.3333333333333333,\"#9c179e\"],[0.4444444444444444,\"#bd3786\"],[0.5555555555555556,\"#d8576b\"],[0.6666666666666666,\"#ed7953\"],[0.7777777777777778,\"#fb9f3a\"],[0.8888888888888888,\"#fdca26\"],[1.0,\"#f0f921\"]]}],\"surface\":[{\"type\":\"surface\",\"colorbar\":{\"outlinewidth\":0,\"ticks\":\"\"},\"colorscale\":[[0.0,\"#0d0887\"],[0.1111111111111111,\"#46039f\"],[0.2222222222222222,\"#7201a8\"],[0.3333333333333333,\"#9c179e\"],[0.4444444444444444,\"#bd3786\"],[0.5555555555555556,\"#d8576b\"],[0.6666666666666666,\"#ed7953\"],[0.7777777777777778,\"#fb9f3a\"],[0.8888888888888888,\"#fdca26\"],[1.0,\"#f0f921\"]]}],\"mesh3d\":[{\"type\":\"mesh3d\",\"colorbar\":{\"outlinewidth\":0,\"ticks\":\"\"}}],\"scatter\":[{\"fillpattern\":{\"fillmode\":\"overlay\",\"size\":10,\"solidity\":0.2},\"type\":\"scatter\"}],\"parcoords\":[{\"type\":\"parcoords\",\"line\":{\"colorbar\":{\"outlinewidth\":0,\"ticks\":\"\"}}}],\"scatterpolargl\":[{\"type\":\"scatterpolargl\",\"marker\":{\"colorbar\":{\"outlinewidth\":0,\"ticks\":\"\"}}}],\"bar\":[{\"error_x\":{\"color\":\"#2a3f5f\"},\"error_y\":{\"color\":\"#2a3f5f\"},\"marker\":{\"line\":{\"color\":\"#E5ECF6\",\"width\":0.5},\"pattern\":{\"fillmode\":\"overlay\",\"size\":10,\"solidity\":0.2}},\"type\":\"bar\"}],\"scattergeo\":[{\"type\":\"scattergeo\",\"marker\":{\"colorbar\":{\"outlinewidth\":0,\"ticks\":\"\"}}}],\"scatterpolar\":[{\"type\":\"scatterpolar\",\"marker\":{\"colorbar\":{\"outlinewidth\":0,\"ticks\":\"\"}}}],\"histogram\":[{\"marker\":{\"pattern\":{\"fillmode\":\"overlay\",\"size\":10,\"solidity\":0.2}},\"type\":\"histogram\"}],\"scattergl\":[{\"type\":\"scattergl\",\"marker\":{\"colorbar\":{\"outlinewidth\":0,\"ticks\":\"\"}}}],\"scatter3d\":[{\"type\":\"scatter3d\",\"line\":{\"colorbar\":{\"outlinewidth\":0,\"ticks\":\"\"}},\"marker\":{\"colorbar\":{\"outlinewidth\":0,\"ticks\":\"\"}}}],\"scattermapbox\":[{\"type\":\"scattermapbox\",\"marker\":{\"colorbar\":{\"outlinewidth\":0,\"ticks\":\"\"}}}],\"scatterternary\":[{\"type\":\"scatterternary\",\"marker\":{\"colorbar\":{\"outlinewidth\":0,\"ticks\":\"\"}}}],\"scattercarpet\":[{\"type\":\"scattercarpet\",\"marker\":{\"colorbar\":{\"outlinewidth\":0,\"ticks\":\"\"}}}],\"carpet\":[{\"aaxis\":{\"endlinecolor\":\"#2a3f5f\",\"gridcolor\":\"white\",\"linecolor\":\"white\",\"minorgridcolor\":\"white\",\"startlinecolor\":\"#2a3f5f\"},\"baxis\":{\"endlinecolor\":\"#2a3f5f\",\"gridcolor\":\"white\",\"linecolor\":\"white\",\"minorgridcolor\":\"white\",\"startlinecolor\":\"#2a3f5f\"},\"type\":\"carpet\"}],\"table\":[{\"cells\":{\"fill\":{\"color\":\"#EBF0F8\"},\"line\":{\"color\":\"white\"}},\"header\":{\"fill\":{\"color\":\"#C8D4E3\"},\"line\":{\"color\":\"white\"}},\"type\":\"table\"}],\"barpolar\":[{\"marker\":{\"line\":{\"color\":\"#E5ECF6\",\"width\":0.5},\"pattern\":{\"fillmode\":\"overlay\",\"size\":10,\"solidity\":0.2}},\"type\":\"barpolar\"}],\"pie\":[{\"automargin\":true,\"type\":\"pie\"}]},\"layout\":{\"autotypenumbers\":\"strict\",\"colorway\":[\"#636efa\",\"#EF553B\",\"#00cc96\",\"#ab63fa\",\"#FFA15A\",\"#19d3f3\",\"#FF6692\",\"#B6E880\",\"#FF97FF\",\"#FECB52\"],\"font\":{\"color\":\"#2a3f5f\"},\"hovermode\":\"closest\",\"hoverlabel\":{\"align\":\"left\"},\"paper_bgcolor\":\"white\",\"plot_bgcolor\":\"#E5ECF6\",\"polar\":{\"bgcolor\":\"#E5ECF6\",\"angularaxis\":{\"gridcolor\":\"white\",\"linecolor\":\"white\",\"ticks\":\"\"},\"radialaxis\":{\"gridcolor\":\"white\",\"linecolor\":\"white\",\"ticks\":\"\"}},\"ternary\":{\"bgcolor\":\"#E5ECF6\",\"aaxis\":{\"gridcolor\":\"white\",\"linecolor\":\"white\",\"ticks\":\"\"},\"baxis\":{\"gridcolor\":\"white\",\"linecolor\":\"white\",\"ticks\":\"\"},\"caxis\":{\"gridcolor\":\"white\",\"linecolor\":\"white\",\"ticks\":\"\"}},\"coloraxis\":{\"colorbar\":{\"outlinewidth\":0,\"ticks\":\"\"}},\"colorscale\":{\"sequential\":[[0.0,\"#0d0887\"],[0.1111111111111111,\"#46039f\"],[0.2222222222222222,\"#7201a8\"],[0.3333333333333333,\"#9c179e\"],[0.4444444444444444,\"#bd3786\"],[0.5555555555555556,\"#d8576b\"],[0.6666666666666666,\"#ed7953\"],[0.7777777777777778,\"#fb9f3a\"],[0.8888888888888888,\"#fdca26\"],[1.0,\"#f0f921\"]],\"sequentialminus\":[[0.0,\"#0d0887\"],[0.1111111111111111,\"#46039f\"],[0.2222222222222222,\"#7201a8\"],[0.3333333333333333,\"#9c179e\"],[0.4444444444444444,\"#bd3786\"],[0.5555555555555556,\"#d8576b\"],[0.6666666666666666,\"#ed7953\"],[0.7777777777777778,\"#fb9f3a\"],[0.8888888888888888,\"#fdca26\"],[1.0,\"#f0f921\"]],\"diverging\":[[0,\"#8e0152\"],[0.1,\"#c51b7d\"],[0.2,\"#de77ae\"],[0.3,\"#f1b6da\"],[0.4,\"#fde0ef\"],[0.5,\"#f7f7f7\"],[0.6,\"#e6f5d0\"],[0.7,\"#b8e186\"],[0.8,\"#7fbc41\"],[0.9,\"#4d9221\"],[1,\"#276419\"]]},\"xaxis\":{\"gridcolor\":\"white\",\"linecolor\":\"white\",\"ticks\":\"\",\"title\":{\"standoff\":15},\"zerolinecolor\":\"white\",\"automargin\":true,\"zerolinewidth\":2},\"yaxis\":{\"gridcolor\":\"white\",\"linecolor\":\"white\",\"ticks\":\"\",\"title\":{\"standoff\":15},\"zerolinecolor\":\"white\",\"automargin\":true,\"zerolinewidth\":2},\"scene\":{\"xaxis\":{\"backgroundcolor\":\"#E5ECF6\",\"gridcolor\":\"white\",\"linecolor\":\"white\",\"showbackground\":true,\"ticks\":\"\",\"zerolinecolor\":\"white\",\"gridwidth\":2},\"yaxis\":{\"backgroundcolor\":\"#E5ECF6\",\"gridcolor\":\"white\",\"linecolor\":\"white\",\"showbackground\":true,\"ticks\":\"\",\"zerolinecolor\":\"white\",\"gridwidth\":2},\"zaxis\":{\"backgroundcolor\":\"#E5ECF6\",\"gridcolor\":\"white\",\"linecolor\":\"white\",\"showbackground\":true,\"ticks\":\"\",\"zerolinecolor\":\"white\",\"gridwidth\":2}},\"shapedefaults\":{\"line\":{\"color\":\"#2a3f5f\"}},\"annotationdefaults\":{\"arrowcolor\":\"#2a3f5f\",\"arrowhead\":0,\"arrowwidth\":1},\"geo\":{\"bgcolor\":\"white\",\"landcolor\":\"#E5ECF6\",\"subunitcolor\":\"white\",\"showland\":true,\"showlakes\":true,\"lakecolor\":\"white\"},\"title\":{\"x\":0.05},\"mapbox\":{\"style\":\"light\"}}},\"xaxis\":{\"title\":{\"text\":\"Direct emissions (N2O)\"}},\"yaxis\":{\"title\":{\"text\":\"Production\"}},\"title\":{\"text\":\"Scatter Plot Example\"}},                        {\"responsive\": true}                    ).then(function(){\n",
       "                            \n",
       "var gd = document.getElementById('b1c5eb08-2616-4c44-91b1-43d436961e66');\n",
       "var x = new MutationObserver(function (mutations, observer) {{\n",
       "        var display = window.getComputedStyle(gd).display;\n",
       "        if (!display || display === 'none') {{\n",
       "            console.log([gd, 'removed!']);\n",
       "            Plotly.purge(gd);\n",
       "            observer.disconnect();\n",
       "        }}\n",
       "}});\n",
       "\n",
       "// Listen for the removal of the full notebook cells\n",
       "var notebookContainer = gd.closest('#notebook-container');\n",
       "if (notebookContainer) {{\n",
       "    x.observe(notebookContainer, {childList: true});\n",
       "}}\n",
       "\n",
       "// Listen for the clearing of the current output cell\n",
       "var outputEl = gd.closest('.output');\n",
       "if (outputEl) {{\n",
       "    x.observe(outputEl, {childList: true});\n",
       "}}\n",
       "\n",
       "                        })                };                });            </script>        </div>"
      ]
     },
     "metadata": {},
     "output_type": "display_data"
    },
    {
     "data": {
      "application/vnd.plotly.v1+json": {
       "config": {
        "plotlyServerURL": "https://plot.ly"
       },
       "data": [
        {
         "mode": "markers",
         "type": "scatter",
         "x": [
          45320.53089999999,
          46197.393833333335,
          46589.456933333335,
          47418.462999999996,
          48080.51496666667,
          49001.6948,
          49903.6224,
          50634.89430000001,
          50897.27336666667,
          51256.39051666667,
          52123.196533333336,
          52631.95825,
          53502.05856666667,
          54543.021349999995,
          55500.3748,
          55806.81541666667,
          56111.09176666667,
          56277.387083333335,
          56432.39328333334,
          57238.920933333335,
          57668.035,
          57887.34488333333,
          58157.1001,
          58637.6816,
          58828.84058333334,
          59240.67815,
          59043.27966666667,
          59642.65085,
          60506.2174,
          42834.43588,
          42391.6299325,
          42814.2992275,
          42899.257612500005,
          44876.36041,
          42627.09375365853,
          44483.05546,
          45445.0649175,
          45101.676797500004,
          44903.05487,
          44888.56978536586,
          44427.6982775,
          45651.356127499996,
          45865.6083775,
          47528.01311,
          47771.42929,
          46567.77904878049,
          47248.418065,
          47494.995045,
          47931.913555,
          49141.300525,
          49006.88362,
          49752.5013775,
          49317.3099525,
          49908.515980000004,
          51100.967747500006,
          49587.383519999996,
          49445.696047499994,
          49863.8216475,
          50563.7885025,
          50270.8138175,
          null
         ],
         "y": [
          1083667059,
          1118482387,
          1146767041,
          1184758554,
          1210465099,
          1254340110,
          1299302844,
          1337368930,
          1344596827,
          1386707418,
          1420697818,
          1414268652,
          1493275029,
          1504827569,
          1533217930,
          1569694853,
          1607622952,
          1680725225,
          1699748103,
          1701820059,
          1757505557,
          1814875418,
          1822636743,
          1915023589,
          1947322965,
          1980385333,
          2003967791,
          2023984717,
          2094492093,
          2148500096,
          2087533162,
          2192203610,
          2210009822,
          2267786946,
          2312014062,
          2401322613,
          2454085045,
          2494018935,
          2572370880,
          2627259893,
          2665706906,
          2703188511,
          2770276457,
          2900173006,
          2954207241,
          3016099381,
          3097485761,
          3217408651,
          3240964362,
          3323571228,
          3448435091,
          3490019313,
          3630375823,
          3703588788,
          3757329935,
          3805258893,
          3909424813,
          3951007991,
          3993589039,
          4050314909,
          4125746540
         ]
        }
       ],
       "layout": {
        "template": {
         "data": {
          "bar": [
           {
            "error_x": {
             "color": "#2a3f5f"
            },
            "error_y": {
             "color": "#2a3f5f"
            },
            "marker": {
             "line": {
              "color": "#E5ECF6",
              "width": 0.5
             },
             "pattern": {
              "fillmode": "overlay",
              "size": 10,
              "solidity": 0.2
             }
            },
            "type": "bar"
           }
          ],
          "barpolar": [
           {
            "marker": {
             "line": {
              "color": "#E5ECF6",
              "width": 0.5
             },
             "pattern": {
              "fillmode": "overlay",
              "size": 10,
              "solidity": 0.2
             }
            },
            "type": "barpolar"
           }
          ],
          "carpet": [
           {
            "aaxis": {
             "endlinecolor": "#2a3f5f",
             "gridcolor": "white",
             "linecolor": "white",
             "minorgridcolor": "white",
             "startlinecolor": "#2a3f5f"
            },
            "baxis": {
             "endlinecolor": "#2a3f5f",
             "gridcolor": "white",
             "linecolor": "white",
             "minorgridcolor": "white",
             "startlinecolor": "#2a3f5f"
            },
            "type": "carpet"
           }
          ],
          "choropleth": [
           {
            "colorbar": {
             "outlinewidth": 0,
             "ticks": ""
            },
            "type": "choropleth"
           }
          ],
          "contour": [
           {
            "colorbar": {
             "outlinewidth": 0,
             "ticks": ""
            },
            "colorscale": [
             [
              0,
              "#0d0887"
             ],
             [
              0.1111111111111111,
              "#46039f"
             ],
             [
              0.2222222222222222,
              "#7201a8"
             ],
             [
              0.3333333333333333,
              "#9c179e"
             ],
             [
              0.4444444444444444,
              "#bd3786"
             ],
             [
              0.5555555555555556,
              "#d8576b"
             ],
             [
              0.6666666666666666,
              "#ed7953"
             ],
             [
              0.7777777777777778,
              "#fb9f3a"
             ],
             [
              0.8888888888888888,
              "#fdca26"
             ],
             [
              1,
              "#f0f921"
             ]
            ],
            "type": "contour"
           }
          ],
          "contourcarpet": [
           {
            "colorbar": {
             "outlinewidth": 0,
             "ticks": ""
            },
            "type": "contourcarpet"
           }
          ],
          "heatmap": [
           {
            "colorbar": {
             "outlinewidth": 0,
             "ticks": ""
            },
            "colorscale": [
             [
              0,
              "#0d0887"
             ],
             [
              0.1111111111111111,
              "#46039f"
             ],
             [
              0.2222222222222222,
              "#7201a8"
             ],
             [
              0.3333333333333333,
              "#9c179e"
             ],
             [
              0.4444444444444444,
              "#bd3786"
             ],
             [
              0.5555555555555556,
              "#d8576b"
             ],
             [
              0.6666666666666666,
              "#ed7953"
             ],
             [
              0.7777777777777778,
              "#fb9f3a"
             ],
             [
              0.8888888888888888,
              "#fdca26"
             ],
             [
              1,
              "#f0f921"
             ]
            ],
            "type": "heatmap"
           }
          ],
          "heatmapgl": [
           {
            "colorbar": {
             "outlinewidth": 0,
             "ticks": ""
            },
            "colorscale": [
             [
              0,
              "#0d0887"
             ],
             [
              0.1111111111111111,
              "#46039f"
             ],
             [
              0.2222222222222222,
              "#7201a8"
             ],
             [
              0.3333333333333333,
              "#9c179e"
             ],
             [
              0.4444444444444444,
              "#bd3786"
             ],
             [
              0.5555555555555556,
              "#d8576b"
             ],
             [
              0.6666666666666666,
              "#ed7953"
             ],
             [
              0.7777777777777778,
              "#fb9f3a"
             ],
             [
              0.8888888888888888,
              "#fdca26"
             ],
             [
              1,
              "#f0f921"
             ]
            ],
            "type": "heatmapgl"
           }
          ],
          "histogram": [
           {
            "marker": {
             "pattern": {
              "fillmode": "overlay",
              "size": 10,
              "solidity": 0.2
             }
            },
            "type": "histogram"
           }
          ],
          "histogram2d": [
           {
            "colorbar": {
             "outlinewidth": 0,
             "ticks": ""
            },
            "colorscale": [
             [
              0,
              "#0d0887"
             ],
             [
              0.1111111111111111,
              "#46039f"
             ],
             [
              0.2222222222222222,
              "#7201a8"
             ],
             [
              0.3333333333333333,
              "#9c179e"
             ],
             [
              0.4444444444444444,
              "#bd3786"
             ],
             [
              0.5555555555555556,
              "#d8576b"
             ],
             [
              0.6666666666666666,
              "#ed7953"
             ],
             [
              0.7777777777777778,
              "#fb9f3a"
             ],
             [
              0.8888888888888888,
              "#fdca26"
             ],
             [
              1,
              "#f0f921"
             ]
            ],
            "type": "histogram2d"
           }
          ],
          "histogram2dcontour": [
           {
            "colorbar": {
             "outlinewidth": 0,
             "ticks": ""
            },
            "colorscale": [
             [
              0,
              "#0d0887"
             ],
             [
              0.1111111111111111,
              "#46039f"
             ],
             [
              0.2222222222222222,
              "#7201a8"
             ],
             [
              0.3333333333333333,
              "#9c179e"
             ],
             [
              0.4444444444444444,
              "#bd3786"
             ],
             [
              0.5555555555555556,
              "#d8576b"
             ],
             [
              0.6666666666666666,
              "#ed7953"
             ],
             [
              0.7777777777777778,
              "#fb9f3a"
             ],
             [
              0.8888888888888888,
              "#fdca26"
             ],
             [
              1,
              "#f0f921"
             ]
            ],
            "type": "histogram2dcontour"
           }
          ],
          "mesh3d": [
           {
            "colorbar": {
             "outlinewidth": 0,
             "ticks": ""
            },
            "type": "mesh3d"
           }
          ],
          "parcoords": [
           {
            "line": {
             "colorbar": {
              "outlinewidth": 0,
              "ticks": ""
             }
            },
            "type": "parcoords"
           }
          ],
          "pie": [
           {
            "automargin": true,
            "type": "pie"
           }
          ],
          "scatter": [
           {
            "fillpattern": {
             "fillmode": "overlay",
             "size": 10,
             "solidity": 0.2
            },
            "type": "scatter"
           }
          ],
          "scatter3d": [
           {
            "line": {
             "colorbar": {
              "outlinewidth": 0,
              "ticks": ""
             }
            },
            "marker": {
             "colorbar": {
              "outlinewidth": 0,
              "ticks": ""
             }
            },
            "type": "scatter3d"
           }
          ],
          "scattercarpet": [
           {
            "marker": {
             "colorbar": {
              "outlinewidth": 0,
              "ticks": ""
             }
            },
            "type": "scattercarpet"
           }
          ],
          "scattergeo": [
           {
            "marker": {
             "colorbar": {
              "outlinewidth": 0,
              "ticks": ""
             }
            },
            "type": "scattergeo"
           }
          ],
          "scattergl": [
           {
            "marker": {
             "colorbar": {
              "outlinewidth": 0,
              "ticks": ""
             }
            },
            "type": "scattergl"
           }
          ],
          "scattermapbox": [
           {
            "marker": {
             "colorbar": {
              "outlinewidth": 0,
              "ticks": ""
             }
            },
            "type": "scattermapbox"
           }
          ],
          "scatterpolar": [
           {
            "marker": {
             "colorbar": {
              "outlinewidth": 0,
              "ticks": ""
             }
            },
            "type": "scatterpolar"
           }
          ],
          "scatterpolargl": [
           {
            "marker": {
             "colorbar": {
              "outlinewidth": 0,
              "ticks": ""
             }
            },
            "type": "scatterpolargl"
           }
          ],
          "scatterternary": [
           {
            "marker": {
             "colorbar": {
              "outlinewidth": 0,
              "ticks": ""
             }
            },
            "type": "scatterternary"
           }
          ],
          "surface": [
           {
            "colorbar": {
             "outlinewidth": 0,
             "ticks": ""
            },
            "colorscale": [
             [
              0,
              "#0d0887"
             ],
             [
              0.1111111111111111,
              "#46039f"
             ],
             [
              0.2222222222222222,
              "#7201a8"
             ],
             [
              0.3333333333333333,
              "#9c179e"
             ],
             [
              0.4444444444444444,
              "#bd3786"
             ],
             [
              0.5555555555555556,
              "#d8576b"
             ],
             [
              0.6666666666666666,
              "#ed7953"
             ],
             [
              0.7777777777777778,
              "#fb9f3a"
             ],
             [
              0.8888888888888888,
              "#fdca26"
             ],
             [
              1,
              "#f0f921"
             ]
            ],
            "type": "surface"
           }
          ],
          "table": [
           {
            "cells": {
             "fill": {
              "color": "#EBF0F8"
             },
             "line": {
              "color": "white"
             }
            },
            "header": {
             "fill": {
              "color": "#C8D4E3"
             },
             "line": {
              "color": "white"
             }
            },
            "type": "table"
           }
          ]
         },
         "layout": {
          "annotationdefaults": {
           "arrowcolor": "#2a3f5f",
           "arrowhead": 0,
           "arrowwidth": 1
          },
          "autotypenumbers": "strict",
          "coloraxis": {
           "colorbar": {
            "outlinewidth": 0,
            "ticks": ""
           }
          },
          "colorscale": {
           "diverging": [
            [
             0,
             "#8e0152"
            ],
            [
             0.1,
             "#c51b7d"
            ],
            [
             0.2,
             "#de77ae"
            ],
            [
             0.3,
             "#f1b6da"
            ],
            [
             0.4,
             "#fde0ef"
            ],
            [
             0.5,
             "#f7f7f7"
            ],
            [
             0.6,
             "#e6f5d0"
            ],
            [
             0.7,
             "#b8e186"
            ],
            [
             0.8,
             "#7fbc41"
            ],
            [
             0.9,
             "#4d9221"
            ],
            [
             1,
             "#276419"
            ]
           ],
           "sequential": [
            [
             0,
             "#0d0887"
            ],
            [
             0.1111111111111111,
             "#46039f"
            ],
            [
             0.2222222222222222,
             "#7201a8"
            ],
            [
             0.3333333333333333,
             "#9c179e"
            ],
            [
             0.4444444444444444,
             "#bd3786"
            ],
            [
             0.5555555555555556,
             "#d8576b"
            ],
            [
             0.6666666666666666,
             "#ed7953"
            ],
            [
             0.7777777777777778,
             "#fb9f3a"
            ],
            [
             0.8888888888888888,
             "#fdca26"
            ],
            [
             1,
             "#f0f921"
            ]
           ],
           "sequentialminus": [
            [
             0,
             "#0d0887"
            ],
            [
             0.1111111111111111,
             "#46039f"
            ],
            [
             0.2222222222222222,
             "#7201a8"
            ],
            [
             0.3333333333333333,
             "#9c179e"
            ],
            [
             0.4444444444444444,
             "#bd3786"
            ],
            [
             0.5555555555555556,
             "#d8576b"
            ],
            [
             0.6666666666666666,
             "#ed7953"
            ],
            [
             0.7777777777777778,
             "#fb9f3a"
            ],
            [
             0.8888888888888888,
             "#fdca26"
            ],
            [
             1,
             "#f0f921"
            ]
           ]
          },
          "colorway": [
           "#636efa",
           "#EF553B",
           "#00cc96",
           "#ab63fa",
           "#FFA15A",
           "#19d3f3",
           "#FF6692",
           "#B6E880",
           "#FF97FF",
           "#FECB52"
          ],
          "font": {
           "color": "#2a3f5f"
          },
          "geo": {
           "bgcolor": "white",
           "lakecolor": "white",
           "landcolor": "#E5ECF6",
           "showlakes": true,
           "showland": true,
           "subunitcolor": "white"
          },
          "hoverlabel": {
           "align": "left"
          },
          "hovermode": "closest",
          "mapbox": {
           "style": "light"
          },
          "paper_bgcolor": "white",
          "plot_bgcolor": "#E5ECF6",
          "polar": {
           "angularaxis": {
            "gridcolor": "white",
            "linecolor": "white",
            "ticks": ""
           },
           "bgcolor": "#E5ECF6",
           "radialaxis": {
            "gridcolor": "white",
            "linecolor": "white",
            "ticks": ""
           }
          },
          "scene": {
           "xaxis": {
            "backgroundcolor": "#E5ECF6",
            "gridcolor": "white",
            "gridwidth": 2,
            "linecolor": "white",
            "showbackground": true,
            "ticks": "",
            "zerolinecolor": "white"
           },
           "yaxis": {
            "backgroundcolor": "#E5ECF6",
            "gridcolor": "white",
            "gridwidth": 2,
            "linecolor": "white",
            "showbackground": true,
            "ticks": "",
            "zerolinecolor": "white"
           },
           "zaxis": {
            "backgroundcolor": "#E5ECF6",
            "gridcolor": "white",
            "gridwidth": 2,
            "linecolor": "white",
            "showbackground": true,
            "ticks": "",
            "zerolinecolor": "white"
           }
          },
          "shapedefaults": {
           "line": {
            "color": "#2a3f5f"
           }
          },
          "ternary": {
           "aaxis": {
            "gridcolor": "white",
            "linecolor": "white",
            "ticks": ""
           },
           "baxis": {
            "gridcolor": "white",
            "linecolor": "white",
            "ticks": ""
           },
           "bgcolor": "#E5ECF6",
           "caxis": {
            "gridcolor": "white",
            "linecolor": "white",
            "ticks": ""
           }
          },
          "title": {
           "x": 0.05
          },
          "xaxis": {
           "automargin": true,
           "gridcolor": "white",
           "linecolor": "white",
           "ticks": "",
           "title": {
            "standoff": 15
           },
           "zerolinecolor": "white",
           "zerolinewidth": 2
          },
          "yaxis": {
           "automargin": true,
           "gridcolor": "white",
           "linecolor": "white",
           "ticks": "",
           "title": {
            "standoff": 15
           },
           "zerolinecolor": "white",
           "zerolinewidth": 2
          }
         }
        },
        "title": {
         "text": "Scatter Plot Example"
        },
        "xaxis": {
         "title": {
          "text": "Emissions (CH4)"
         }
        },
        "yaxis": {
         "title": {
          "text": "Production"
         }
        }
       }
      },
      "text/html": [
       "<div>                            <div id=\"32b8d254-dc33-4ff8-a585-b25a2045e9fe\" class=\"plotly-graph-div\" style=\"height:525px; width:100%;\"></div>            <script type=\"text/javascript\">                require([\"plotly\"], function(Plotly) {                    window.PLOTLYENV=window.PLOTLYENV || {};                                    if (document.getElementById(\"32b8d254-dc33-4ff8-a585-b25a2045e9fe\")) {                    Plotly.newPlot(                        \"32b8d254-dc33-4ff8-a585-b25a2045e9fe\",                        [{\"mode\":\"markers\",\"x\":[45320.53089999999,46197.393833333335,46589.456933333335,47418.462999999996,48080.51496666667,49001.6948,49903.6224,50634.89430000001,50897.27336666667,51256.39051666667,52123.196533333336,52631.95825,53502.05856666667,54543.021349999995,55500.3748,55806.81541666667,56111.09176666667,56277.387083333335,56432.39328333334,57238.920933333335,57668.035,57887.34488333333,58157.1001,58637.6816,58828.84058333334,59240.67815,59043.27966666667,59642.65085,60506.2174,42834.43588,42391.6299325,42814.2992275,42899.257612500005,44876.36041,42627.09375365853,44483.05546,45445.0649175,45101.676797500004,44903.05487,44888.56978536586,44427.6982775,45651.356127499996,45865.6083775,47528.01311,47771.42929,46567.77904878049,47248.418065,47494.995045,47931.913555,49141.300525,49006.88362,49752.5013775,49317.3099525,49908.515980000004,51100.967747500006,49587.383519999996,49445.696047499994,49863.8216475,50563.7885025,50270.8138175,null],\"y\":[1083667059.0,1118482387.0,1146767041.0,1184758554.0,1210465099.0,1254340110.0,1299302844.0,1337368930.0,1344596827.0,1386707418.0,1420697818.0,1414268652.0,1493275029.0,1504827569.0,1533217930.0,1569694853.0,1607622952.0,1680725225.0,1699748103.0,1701820059.0,1757505557.0,1814875418.0,1822636743.0,1915023589.0,1947322965.0,1980385333.0,2003967791.0,2023984717.0,2094492093.0,2148500096.0,2087533162.0,2192203610.0,2210009822.0,2267786946.0,2312014062.0,2401322613.0,2454085045.0,2494018935.0,2572370880.0,2627259893.0,2665706906.0,2703188511.0,2770276457.0,2900173006.0,2954207241.0,3016099381.0,3097485761.0,3217408651.0,3240964362.0,3323571228.0,3448435091.0,3490019313.0,3630375823.0,3703588788.0,3757329935.0,3805258893.0,3909424813.0,3951007991.0,3993589039.0,4050314909.0,4125746540.0],\"type\":\"scatter\"}],                        {\"template\":{\"data\":{\"histogram2dcontour\":[{\"type\":\"histogram2dcontour\",\"colorbar\":{\"outlinewidth\":0,\"ticks\":\"\"},\"colorscale\":[[0.0,\"#0d0887\"],[0.1111111111111111,\"#46039f\"],[0.2222222222222222,\"#7201a8\"],[0.3333333333333333,\"#9c179e\"],[0.4444444444444444,\"#bd3786\"],[0.5555555555555556,\"#d8576b\"],[0.6666666666666666,\"#ed7953\"],[0.7777777777777778,\"#fb9f3a\"],[0.8888888888888888,\"#fdca26\"],[1.0,\"#f0f921\"]]}],\"choropleth\":[{\"type\":\"choropleth\",\"colorbar\":{\"outlinewidth\":0,\"ticks\":\"\"}}],\"histogram2d\":[{\"type\":\"histogram2d\",\"colorbar\":{\"outlinewidth\":0,\"ticks\":\"\"},\"colorscale\":[[0.0,\"#0d0887\"],[0.1111111111111111,\"#46039f\"],[0.2222222222222222,\"#7201a8\"],[0.3333333333333333,\"#9c179e\"],[0.4444444444444444,\"#bd3786\"],[0.5555555555555556,\"#d8576b\"],[0.6666666666666666,\"#ed7953\"],[0.7777777777777778,\"#fb9f3a\"],[0.8888888888888888,\"#fdca26\"],[1.0,\"#f0f921\"]]}],\"heatmap\":[{\"type\":\"heatmap\",\"colorbar\":{\"outlinewidth\":0,\"ticks\":\"\"},\"colorscale\":[[0.0,\"#0d0887\"],[0.1111111111111111,\"#46039f\"],[0.2222222222222222,\"#7201a8\"],[0.3333333333333333,\"#9c179e\"],[0.4444444444444444,\"#bd3786\"],[0.5555555555555556,\"#d8576b\"],[0.6666666666666666,\"#ed7953\"],[0.7777777777777778,\"#fb9f3a\"],[0.8888888888888888,\"#fdca26\"],[1.0,\"#f0f921\"]]}],\"heatmapgl\":[{\"type\":\"heatmapgl\",\"colorbar\":{\"outlinewidth\":0,\"ticks\":\"\"},\"colorscale\":[[0.0,\"#0d0887\"],[0.1111111111111111,\"#46039f\"],[0.2222222222222222,\"#7201a8\"],[0.3333333333333333,\"#9c179e\"],[0.4444444444444444,\"#bd3786\"],[0.5555555555555556,\"#d8576b\"],[0.6666666666666666,\"#ed7953\"],[0.7777777777777778,\"#fb9f3a\"],[0.8888888888888888,\"#fdca26\"],[1.0,\"#f0f921\"]]}],\"contourcarpet\":[{\"type\":\"contourcarpet\",\"colorbar\":{\"outlinewidth\":0,\"ticks\":\"\"}}],\"contour\":[{\"type\":\"contour\",\"colorbar\":{\"outlinewidth\":0,\"ticks\":\"\"},\"colorscale\":[[0.0,\"#0d0887\"],[0.1111111111111111,\"#46039f\"],[0.2222222222222222,\"#7201a8\"],[0.3333333333333333,\"#9c179e\"],[0.4444444444444444,\"#bd3786\"],[0.5555555555555556,\"#d8576b\"],[0.6666666666666666,\"#ed7953\"],[0.7777777777777778,\"#fb9f3a\"],[0.8888888888888888,\"#fdca26\"],[1.0,\"#f0f921\"]]}],\"surface\":[{\"type\":\"surface\",\"colorbar\":{\"outlinewidth\":0,\"ticks\":\"\"},\"colorscale\":[[0.0,\"#0d0887\"],[0.1111111111111111,\"#46039f\"],[0.2222222222222222,\"#7201a8\"],[0.3333333333333333,\"#9c179e\"],[0.4444444444444444,\"#bd3786\"],[0.5555555555555556,\"#d8576b\"],[0.6666666666666666,\"#ed7953\"],[0.7777777777777778,\"#fb9f3a\"],[0.8888888888888888,\"#fdca26\"],[1.0,\"#f0f921\"]]}],\"mesh3d\":[{\"type\":\"mesh3d\",\"colorbar\":{\"outlinewidth\":0,\"ticks\":\"\"}}],\"scatter\":[{\"fillpattern\":{\"fillmode\":\"overlay\",\"size\":10,\"solidity\":0.2},\"type\":\"scatter\"}],\"parcoords\":[{\"type\":\"parcoords\",\"line\":{\"colorbar\":{\"outlinewidth\":0,\"ticks\":\"\"}}}],\"scatterpolargl\":[{\"type\":\"scatterpolargl\",\"marker\":{\"colorbar\":{\"outlinewidth\":0,\"ticks\":\"\"}}}],\"bar\":[{\"error_x\":{\"color\":\"#2a3f5f\"},\"error_y\":{\"color\":\"#2a3f5f\"},\"marker\":{\"line\":{\"color\":\"#E5ECF6\",\"width\":0.5},\"pattern\":{\"fillmode\":\"overlay\",\"size\":10,\"solidity\":0.2}},\"type\":\"bar\"}],\"scattergeo\":[{\"type\":\"scattergeo\",\"marker\":{\"colorbar\":{\"outlinewidth\":0,\"ticks\":\"\"}}}],\"scatterpolar\":[{\"type\":\"scatterpolar\",\"marker\":{\"colorbar\":{\"outlinewidth\":0,\"ticks\":\"\"}}}],\"histogram\":[{\"marker\":{\"pattern\":{\"fillmode\":\"overlay\",\"size\":10,\"solidity\":0.2}},\"type\":\"histogram\"}],\"scattergl\":[{\"type\":\"scattergl\",\"marker\":{\"colorbar\":{\"outlinewidth\":0,\"ticks\":\"\"}}}],\"scatter3d\":[{\"type\":\"scatter3d\",\"line\":{\"colorbar\":{\"outlinewidth\":0,\"ticks\":\"\"}},\"marker\":{\"colorbar\":{\"outlinewidth\":0,\"ticks\":\"\"}}}],\"scattermapbox\":[{\"type\":\"scattermapbox\",\"marker\":{\"colorbar\":{\"outlinewidth\":0,\"ticks\":\"\"}}}],\"scatterternary\":[{\"type\":\"scatterternary\",\"marker\":{\"colorbar\":{\"outlinewidth\":0,\"ticks\":\"\"}}}],\"scattercarpet\":[{\"type\":\"scattercarpet\",\"marker\":{\"colorbar\":{\"outlinewidth\":0,\"ticks\":\"\"}}}],\"carpet\":[{\"aaxis\":{\"endlinecolor\":\"#2a3f5f\",\"gridcolor\":\"white\",\"linecolor\":\"white\",\"minorgridcolor\":\"white\",\"startlinecolor\":\"#2a3f5f\"},\"baxis\":{\"endlinecolor\":\"#2a3f5f\",\"gridcolor\":\"white\",\"linecolor\":\"white\",\"minorgridcolor\":\"white\",\"startlinecolor\":\"#2a3f5f\"},\"type\":\"carpet\"}],\"table\":[{\"cells\":{\"fill\":{\"color\":\"#EBF0F8\"},\"line\":{\"color\":\"white\"}},\"header\":{\"fill\":{\"color\":\"#C8D4E3\"},\"line\":{\"color\":\"white\"}},\"type\":\"table\"}],\"barpolar\":[{\"marker\":{\"line\":{\"color\":\"#E5ECF6\",\"width\":0.5},\"pattern\":{\"fillmode\":\"overlay\",\"size\":10,\"solidity\":0.2}},\"type\":\"barpolar\"}],\"pie\":[{\"automargin\":true,\"type\":\"pie\"}]},\"layout\":{\"autotypenumbers\":\"strict\",\"colorway\":[\"#636efa\",\"#EF553B\",\"#00cc96\",\"#ab63fa\",\"#FFA15A\",\"#19d3f3\",\"#FF6692\",\"#B6E880\",\"#FF97FF\",\"#FECB52\"],\"font\":{\"color\":\"#2a3f5f\"},\"hovermode\":\"closest\",\"hoverlabel\":{\"align\":\"left\"},\"paper_bgcolor\":\"white\",\"plot_bgcolor\":\"#E5ECF6\",\"polar\":{\"bgcolor\":\"#E5ECF6\",\"angularaxis\":{\"gridcolor\":\"white\",\"linecolor\":\"white\",\"ticks\":\"\"},\"radialaxis\":{\"gridcolor\":\"white\",\"linecolor\":\"white\",\"ticks\":\"\"}},\"ternary\":{\"bgcolor\":\"#E5ECF6\",\"aaxis\":{\"gridcolor\":\"white\",\"linecolor\":\"white\",\"ticks\":\"\"},\"baxis\":{\"gridcolor\":\"white\",\"linecolor\":\"white\",\"ticks\":\"\"},\"caxis\":{\"gridcolor\":\"white\",\"linecolor\":\"white\",\"ticks\":\"\"}},\"coloraxis\":{\"colorbar\":{\"outlinewidth\":0,\"ticks\":\"\"}},\"colorscale\":{\"sequential\":[[0.0,\"#0d0887\"],[0.1111111111111111,\"#46039f\"],[0.2222222222222222,\"#7201a8\"],[0.3333333333333333,\"#9c179e\"],[0.4444444444444444,\"#bd3786\"],[0.5555555555555556,\"#d8576b\"],[0.6666666666666666,\"#ed7953\"],[0.7777777777777778,\"#fb9f3a\"],[0.8888888888888888,\"#fdca26\"],[1.0,\"#f0f921\"]],\"sequentialminus\":[[0.0,\"#0d0887\"],[0.1111111111111111,\"#46039f\"],[0.2222222222222222,\"#7201a8\"],[0.3333333333333333,\"#9c179e\"],[0.4444444444444444,\"#bd3786\"],[0.5555555555555556,\"#d8576b\"],[0.6666666666666666,\"#ed7953\"],[0.7777777777777778,\"#fb9f3a\"],[0.8888888888888888,\"#fdca26\"],[1.0,\"#f0f921\"]],\"diverging\":[[0,\"#8e0152\"],[0.1,\"#c51b7d\"],[0.2,\"#de77ae\"],[0.3,\"#f1b6da\"],[0.4,\"#fde0ef\"],[0.5,\"#f7f7f7\"],[0.6,\"#e6f5d0\"],[0.7,\"#b8e186\"],[0.8,\"#7fbc41\"],[0.9,\"#4d9221\"],[1,\"#276419\"]]},\"xaxis\":{\"gridcolor\":\"white\",\"linecolor\":\"white\",\"ticks\":\"\",\"title\":{\"standoff\":15},\"zerolinecolor\":\"white\",\"automargin\":true,\"zerolinewidth\":2},\"yaxis\":{\"gridcolor\":\"white\",\"linecolor\":\"white\",\"ticks\":\"\",\"title\":{\"standoff\":15},\"zerolinecolor\":\"white\",\"automargin\":true,\"zerolinewidth\":2},\"scene\":{\"xaxis\":{\"backgroundcolor\":\"#E5ECF6\",\"gridcolor\":\"white\",\"linecolor\":\"white\",\"showbackground\":true,\"ticks\":\"\",\"zerolinecolor\":\"white\",\"gridwidth\":2},\"yaxis\":{\"backgroundcolor\":\"#E5ECF6\",\"gridcolor\":\"white\",\"linecolor\":\"white\",\"showbackground\":true,\"ticks\":\"\",\"zerolinecolor\":\"white\",\"gridwidth\":2},\"zaxis\":{\"backgroundcolor\":\"#E5ECF6\",\"gridcolor\":\"white\",\"linecolor\":\"white\",\"showbackground\":true,\"ticks\":\"\",\"zerolinecolor\":\"white\",\"gridwidth\":2}},\"shapedefaults\":{\"line\":{\"color\":\"#2a3f5f\"}},\"annotationdefaults\":{\"arrowcolor\":\"#2a3f5f\",\"arrowhead\":0,\"arrowwidth\":1},\"geo\":{\"bgcolor\":\"white\",\"landcolor\":\"#E5ECF6\",\"subunitcolor\":\"white\",\"showland\":true,\"showlakes\":true,\"lakecolor\":\"white\"},\"title\":{\"x\":0.05},\"mapbox\":{\"style\":\"light\"}}},\"xaxis\":{\"title\":{\"text\":\"Emissions (CH4)\"}},\"yaxis\":{\"title\":{\"text\":\"Production\"}},\"title\":{\"text\":\"Scatter Plot Example\"}},                        {\"responsive\": true}                    ).then(function(){\n",
       "                            \n",
       "var gd = document.getElementById('32b8d254-dc33-4ff8-a585-b25a2045e9fe');\n",
       "var x = new MutationObserver(function (mutations, observer) {{\n",
       "        var display = window.getComputedStyle(gd).display;\n",
       "        if (!display || display === 'none') {{\n",
       "            console.log([gd, 'removed!']);\n",
       "            Plotly.purge(gd);\n",
       "            observer.disconnect();\n",
       "        }}\n",
       "}});\n",
       "\n",
       "// Listen for the removal of the full notebook cells\n",
       "var notebookContainer = gd.closest('#notebook-container');\n",
       "if (notebookContainer) {{\n",
       "    x.observe(notebookContainer, {childList: true});\n",
       "}}\n",
       "\n",
       "// Listen for the clearing of the current output cell\n",
       "var outputEl = gd.closest('.output');\n",
       "if (outputEl) {{\n",
       "    x.observe(outputEl, {childList: true});\n",
       "}}\n",
       "\n",
       "                        })                };                });            </script>        </div>"
      ]
     },
     "metadata": {},
     "output_type": "display_data"
    },
    {
     "data": {
      "application/vnd.plotly.v1+json": {
       "config": {
        "plotlyServerURL": "https://plot.ly"
       },
       "data": [
        {
         "mode": "markers",
         "type": "scatter",
         "x": [
          null,
          null,
          null,
          null,
          null,
          null,
          null,
          null,
          null,
          null,
          null,
          null,
          null,
          null,
          null,
          null,
          null,
          null,
          null,
          null,
          null,
          null,
          null,
          null,
          null,
          null,
          null,
          null,
          null,
          2804054.220822857,
          2859717.3162971428,
          2822673.3372,
          2835525.6014971426,
          2837895.876894286,
          2900328.7887457144,
          2957056.3746314286,
          3113002.862394286,
          2991458.21386,
          3002882.6549314284,
          3068363.8544085715,
          2992758.98402,
          3128200.1124371425,
          3199230.5770628573,
          3392119.0615714286,
          3422062.6654114285,
          3570057.868268572,
          3572618.139542857,
          3643239.1838971428,
          3654148.4212885713,
          3723002.149331428,
          3701741.263422857,
          3741211.008762857,
          3794789.604465714,
          3873449.5162885715,
          3880319.44748,
          3883510.2980714287,
          3936335.86528,
          4046140.7812371426,
          4081633.655882857,
          3846627.9796285713,
          null
         ],
         "y": [
          1083667059,
          1118482387,
          1146767041,
          1184758554,
          1210465099,
          1254340110,
          1299302844,
          1337368930,
          1344596827,
          1386707418,
          1420697818,
          1414268652,
          1493275029,
          1504827569,
          1533217930,
          1569694853,
          1607622952,
          1680725225,
          1699748103,
          1701820059,
          1757505557,
          1814875418,
          1822636743,
          1915023589,
          1947322965,
          1980385333,
          2003967791,
          2023984717,
          2094492093,
          2148500096,
          2087533162,
          2192203610,
          2210009822,
          2267786946,
          2312014062,
          2401322613,
          2454085045,
          2494018935,
          2572370880,
          2627259893,
          2665706906,
          2703188511,
          2770276457,
          2900173006,
          2954207241,
          3016099381,
          3097485761,
          3217408651,
          3240964362,
          3323571228,
          3448435091,
          3490019313,
          3630375823,
          3703588788,
          3757329935,
          3805258893,
          3909424813,
          3951007991,
          3993589039,
          4050314909,
          4125746540
         ]
        }
       ],
       "layout": {
        "template": {
         "data": {
          "bar": [
           {
            "error_x": {
             "color": "#2a3f5f"
            },
            "error_y": {
             "color": "#2a3f5f"
            },
            "marker": {
             "line": {
              "color": "#E5ECF6",
              "width": 0.5
             },
             "pattern": {
              "fillmode": "overlay",
              "size": 10,
              "solidity": 0.2
             }
            },
            "type": "bar"
           }
          ],
          "barpolar": [
           {
            "marker": {
             "line": {
              "color": "#E5ECF6",
              "width": 0.5
             },
             "pattern": {
              "fillmode": "overlay",
              "size": 10,
              "solidity": 0.2
             }
            },
            "type": "barpolar"
           }
          ],
          "carpet": [
           {
            "aaxis": {
             "endlinecolor": "#2a3f5f",
             "gridcolor": "white",
             "linecolor": "white",
             "minorgridcolor": "white",
             "startlinecolor": "#2a3f5f"
            },
            "baxis": {
             "endlinecolor": "#2a3f5f",
             "gridcolor": "white",
             "linecolor": "white",
             "minorgridcolor": "white",
             "startlinecolor": "#2a3f5f"
            },
            "type": "carpet"
           }
          ],
          "choropleth": [
           {
            "colorbar": {
             "outlinewidth": 0,
             "ticks": ""
            },
            "type": "choropleth"
           }
          ],
          "contour": [
           {
            "colorbar": {
             "outlinewidth": 0,
             "ticks": ""
            },
            "colorscale": [
             [
              0,
              "#0d0887"
             ],
             [
              0.1111111111111111,
              "#46039f"
             ],
             [
              0.2222222222222222,
              "#7201a8"
             ],
             [
              0.3333333333333333,
              "#9c179e"
             ],
             [
              0.4444444444444444,
              "#bd3786"
             ],
             [
              0.5555555555555556,
              "#d8576b"
             ],
             [
              0.6666666666666666,
              "#ed7953"
             ],
             [
              0.7777777777777778,
              "#fb9f3a"
             ],
             [
              0.8888888888888888,
              "#fdca26"
             ],
             [
              1,
              "#f0f921"
             ]
            ],
            "type": "contour"
           }
          ],
          "contourcarpet": [
           {
            "colorbar": {
             "outlinewidth": 0,
             "ticks": ""
            },
            "type": "contourcarpet"
           }
          ],
          "heatmap": [
           {
            "colorbar": {
             "outlinewidth": 0,
             "ticks": ""
            },
            "colorscale": [
             [
              0,
              "#0d0887"
             ],
             [
              0.1111111111111111,
              "#46039f"
             ],
             [
              0.2222222222222222,
              "#7201a8"
             ],
             [
              0.3333333333333333,
              "#9c179e"
             ],
             [
              0.4444444444444444,
              "#bd3786"
             ],
             [
              0.5555555555555556,
              "#d8576b"
             ],
             [
              0.6666666666666666,
              "#ed7953"
             ],
             [
              0.7777777777777778,
              "#fb9f3a"
             ],
             [
              0.8888888888888888,
              "#fdca26"
             ],
             [
              1,
              "#f0f921"
             ]
            ],
            "type": "heatmap"
           }
          ],
          "heatmapgl": [
           {
            "colorbar": {
             "outlinewidth": 0,
             "ticks": ""
            },
            "colorscale": [
             [
              0,
              "#0d0887"
             ],
             [
              0.1111111111111111,
              "#46039f"
             ],
             [
              0.2222222222222222,
              "#7201a8"
             ],
             [
              0.3333333333333333,
              "#9c179e"
             ],
             [
              0.4444444444444444,
              "#bd3786"
             ],
             [
              0.5555555555555556,
              "#d8576b"
             ],
             [
              0.6666666666666666,
              "#ed7953"
             ],
             [
              0.7777777777777778,
              "#fb9f3a"
             ],
             [
              0.8888888888888888,
              "#fdca26"
             ],
             [
              1,
              "#f0f921"
             ]
            ],
            "type": "heatmapgl"
           }
          ],
          "histogram": [
           {
            "marker": {
             "pattern": {
              "fillmode": "overlay",
              "size": 10,
              "solidity": 0.2
             }
            },
            "type": "histogram"
           }
          ],
          "histogram2d": [
           {
            "colorbar": {
             "outlinewidth": 0,
             "ticks": ""
            },
            "colorscale": [
             [
              0,
              "#0d0887"
             ],
             [
              0.1111111111111111,
              "#46039f"
             ],
             [
              0.2222222222222222,
              "#7201a8"
             ],
             [
              0.3333333333333333,
              "#9c179e"
             ],
             [
              0.4444444444444444,
              "#bd3786"
             ],
             [
              0.5555555555555556,
              "#d8576b"
             ],
             [
              0.6666666666666666,
              "#ed7953"
             ],
             [
              0.7777777777777778,
              "#fb9f3a"
             ],
             [
              0.8888888888888888,
              "#fdca26"
             ],
             [
              1,
              "#f0f921"
             ]
            ],
            "type": "histogram2d"
           }
          ],
          "histogram2dcontour": [
           {
            "colorbar": {
             "outlinewidth": 0,
             "ticks": ""
            },
            "colorscale": [
             [
              0,
              "#0d0887"
             ],
             [
              0.1111111111111111,
              "#46039f"
             ],
             [
              0.2222222222222222,
              "#7201a8"
             ],
             [
              0.3333333333333333,
              "#9c179e"
             ],
             [
              0.4444444444444444,
              "#bd3786"
             ],
             [
              0.5555555555555556,
              "#d8576b"
             ],
             [
              0.6666666666666666,
              "#ed7953"
             ],
             [
              0.7777777777777778,
              "#fb9f3a"
             ],
             [
              0.8888888888888888,
              "#fdca26"
             ],
             [
              1,
              "#f0f921"
             ]
            ],
            "type": "histogram2dcontour"
           }
          ],
          "mesh3d": [
           {
            "colorbar": {
             "outlinewidth": 0,
             "ticks": ""
            },
            "type": "mesh3d"
           }
          ],
          "parcoords": [
           {
            "line": {
             "colorbar": {
              "outlinewidth": 0,
              "ticks": ""
             }
            },
            "type": "parcoords"
           }
          ],
          "pie": [
           {
            "automargin": true,
            "type": "pie"
           }
          ],
          "scatter": [
           {
            "fillpattern": {
             "fillmode": "overlay",
             "size": 10,
             "solidity": 0.2
            },
            "type": "scatter"
           }
          ],
          "scatter3d": [
           {
            "line": {
             "colorbar": {
              "outlinewidth": 0,
              "ticks": ""
             }
            },
            "marker": {
             "colorbar": {
              "outlinewidth": 0,
              "ticks": ""
             }
            },
            "type": "scatter3d"
           }
          ],
          "scattercarpet": [
           {
            "marker": {
             "colorbar": {
              "outlinewidth": 0,
              "ticks": ""
             }
            },
            "type": "scattercarpet"
           }
          ],
          "scattergeo": [
           {
            "marker": {
             "colorbar": {
              "outlinewidth": 0,
              "ticks": ""
             }
            },
            "type": "scattergeo"
           }
          ],
          "scattergl": [
           {
            "marker": {
             "colorbar": {
              "outlinewidth": 0,
              "ticks": ""
             }
            },
            "type": "scattergl"
           }
          ],
          "scattermapbox": [
           {
            "marker": {
             "colorbar": {
              "outlinewidth": 0,
              "ticks": ""
             }
            },
            "type": "scattermapbox"
           }
          ],
          "scatterpolar": [
           {
            "marker": {
             "colorbar": {
              "outlinewidth": 0,
              "ticks": ""
             }
            },
            "type": "scatterpolar"
           }
          ],
          "scatterpolargl": [
           {
            "marker": {
             "colorbar": {
              "outlinewidth": 0,
              "ticks": ""
             }
            },
            "type": "scatterpolargl"
           }
          ],
          "scatterternary": [
           {
            "marker": {
             "colorbar": {
              "outlinewidth": 0,
              "ticks": ""
             }
            },
            "type": "scatterternary"
           }
          ],
          "surface": [
           {
            "colorbar": {
             "outlinewidth": 0,
             "ticks": ""
            },
            "colorscale": [
             [
              0,
              "#0d0887"
             ],
             [
              0.1111111111111111,
              "#46039f"
             ],
             [
              0.2222222222222222,
              "#7201a8"
             ],
             [
              0.3333333333333333,
              "#9c179e"
             ],
             [
              0.4444444444444444,
              "#bd3786"
             ],
             [
              0.5555555555555556,
              "#d8576b"
             ],
             [
              0.6666666666666666,
              "#ed7953"
             ],
             [
              0.7777777777777778,
              "#fb9f3a"
             ],
             [
              0.8888888888888888,
              "#fdca26"
             ],
             [
              1,
              "#f0f921"
             ]
            ],
            "type": "surface"
           }
          ],
          "table": [
           {
            "cells": {
             "fill": {
              "color": "#EBF0F8"
             },
             "line": {
              "color": "white"
             }
            },
            "header": {
             "fill": {
              "color": "#C8D4E3"
             },
             "line": {
              "color": "white"
             }
            },
            "type": "table"
           }
          ]
         },
         "layout": {
          "annotationdefaults": {
           "arrowcolor": "#2a3f5f",
           "arrowhead": 0,
           "arrowwidth": 1
          },
          "autotypenumbers": "strict",
          "coloraxis": {
           "colorbar": {
            "outlinewidth": 0,
            "ticks": ""
           }
          },
          "colorscale": {
           "diverging": [
            [
             0,
             "#8e0152"
            ],
            [
             0.1,
             "#c51b7d"
            ],
            [
             0.2,
             "#de77ae"
            ],
            [
             0.3,
             "#f1b6da"
            ],
            [
             0.4,
             "#fde0ef"
            ],
            [
             0.5,
             "#f7f7f7"
            ],
            [
             0.6,
             "#e6f5d0"
            ],
            [
             0.7,
             "#b8e186"
            ],
            [
             0.8,
             "#7fbc41"
            ],
            [
             0.9,
             "#4d9221"
            ],
            [
             1,
             "#276419"
            ]
           ],
           "sequential": [
            [
             0,
             "#0d0887"
            ],
            [
             0.1111111111111111,
             "#46039f"
            ],
            [
             0.2222222222222222,
             "#7201a8"
            ],
            [
             0.3333333333333333,
             "#9c179e"
            ],
            [
             0.4444444444444444,
             "#bd3786"
            ],
            [
             0.5555555555555556,
             "#d8576b"
            ],
            [
             0.6666666666666666,
             "#ed7953"
            ],
            [
             0.7777777777777778,
             "#fb9f3a"
            ],
            [
             0.8888888888888888,
             "#fdca26"
            ],
            [
             1,
             "#f0f921"
            ]
           ],
           "sequentialminus": [
            [
             0,
             "#0d0887"
            ],
            [
             0.1111111111111111,
             "#46039f"
            ],
            [
             0.2222222222222222,
             "#7201a8"
            ],
            [
             0.3333333333333333,
             "#9c179e"
            ],
            [
             0.4444444444444444,
             "#bd3786"
            ],
            [
             0.5555555555555556,
             "#d8576b"
            ],
            [
             0.6666666666666666,
             "#ed7953"
            ],
            [
             0.7777777777777778,
             "#fb9f3a"
            ],
            [
             0.8888888888888888,
             "#fdca26"
            ],
            [
             1,
             "#f0f921"
            ]
           ]
          },
          "colorway": [
           "#636efa",
           "#EF553B",
           "#00cc96",
           "#ab63fa",
           "#FFA15A",
           "#19d3f3",
           "#FF6692",
           "#B6E880",
           "#FF97FF",
           "#FECB52"
          ],
          "font": {
           "color": "#2a3f5f"
          },
          "geo": {
           "bgcolor": "white",
           "lakecolor": "white",
           "landcolor": "#E5ECF6",
           "showlakes": true,
           "showland": true,
           "subunitcolor": "white"
          },
          "hoverlabel": {
           "align": "left"
          },
          "hovermode": "closest",
          "mapbox": {
           "style": "light"
          },
          "paper_bgcolor": "white",
          "plot_bgcolor": "#E5ECF6",
          "polar": {
           "angularaxis": {
            "gridcolor": "white",
            "linecolor": "white",
            "ticks": ""
           },
           "bgcolor": "#E5ECF6",
           "radialaxis": {
            "gridcolor": "white",
            "linecolor": "white",
            "ticks": ""
           }
          },
          "scene": {
           "xaxis": {
            "backgroundcolor": "#E5ECF6",
            "gridcolor": "white",
            "gridwidth": 2,
            "linecolor": "white",
            "showbackground": true,
            "ticks": "",
            "zerolinecolor": "white"
           },
           "yaxis": {
            "backgroundcolor": "#E5ECF6",
            "gridcolor": "white",
            "gridwidth": 2,
            "linecolor": "white",
            "showbackground": true,
            "ticks": "",
            "zerolinecolor": "white"
           },
           "zaxis": {
            "backgroundcolor": "#E5ECF6",
            "gridcolor": "white",
            "gridwidth": 2,
            "linecolor": "white",
            "showbackground": true,
            "ticks": "",
            "zerolinecolor": "white"
           }
          },
          "shapedefaults": {
           "line": {
            "color": "#2a3f5f"
           }
          },
          "ternary": {
           "aaxis": {
            "gridcolor": "white",
            "linecolor": "white",
            "ticks": ""
           },
           "baxis": {
            "gridcolor": "white",
            "linecolor": "white",
            "ticks": ""
           },
           "bgcolor": "#E5ECF6",
           "caxis": {
            "gridcolor": "white",
            "linecolor": "white",
            "ticks": ""
           }
          },
          "title": {
           "x": 0.05
          },
          "xaxis": {
           "automargin": true,
           "gridcolor": "white",
           "linecolor": "white",
           "ticks": "",
           "title": {
            "standoff": 15
           },
           "zerolinecolor": "white",
           "zerolinewidth": 2
          },
          "yaxis": {
           "automargin": true,
           "gridcolor": "white",
           "linecolor": "white",
           "ticks": "",
           "title": {
            "standoff": 15
           },
           "zerolinecolor": "white",
           "zerolinewidth": 2
          }
         }
        },
        "title": {
         "text": "Scatter Plot Example"
        },
        "xaxis": {
         "title": {
          "text": "Emissions (CO2)"
         }
        },
        "yaxis": {
         "title": {
          "text": "Production"
         }
        }
       }
      },
      "text/html": [
       "<div>                            <div id=\"582c239c-1b0c-482f-8aaf-bcc1ca64d12c\" class=\"plotly-graph-div\" style=\"height:525px; width:100%;\"></div>            <script type=\"text/javascript\">                require([\"plotly\"], function(Plotly) {                    window.PLOTLYENV=window.PLOTLYENV || {};                                    if (document.getElementById(\"582c239c-1b0c-482f-8aaf-bcc1ca64d12c\")) {                    Plotly.newPlot(                        \"582c239c-1b0c-482f-8aaf-bcc1ca64d12c\",                        [{\"mode\":\"markers\",\"x\":[null,null,null,null,null,null,null,null,null,null,null,null,null,null,null,null,null,null,null,null,null,null,null,null,null,null,null,null,null,2804054.220822857,2859717.3162971428,2822673.3372,2835525.6014971426,2837895.876894286,2900328.7887457144,2957056.3746314286,3113002.862394286,2991458.21386,3002882.6549314284,3068363.8544085715,2992758.98402,3128200.1124371425,3199230.5770628573,3392119.0615714286,3422062.6654114285,3570057.868268572,3572618.139542857,3643239.1838971428,3654148.4212885713,3723002.149331428,3701741.263422857,3741211.008762857,3794789.604465714,3873449.5162885715,3880319.44748,3883510.2980714287,3936335.86528,4046140.7812371426,4081633.655882857,3846627.9796285713,null],\"y\":[1083667059.0,1118482387.0,1146767041.0,1184758554.0,1210465099.0,1254340110.0,1299302844.0,1337368930.0,1344596827.0,1386707418.0,1420697818.0,1414268652.0,1493275029.0,1504827569.0,1533217930.0,1569694853.0,1607622952.0,1680725225.0,1699748103.0,1701820059.0,1757505557.0,1814875418.0,1822636743.0,1915023589.0,1947322965.0,1980385333.0,2003967791.0,2023984717.0,2094492093.0,2148500096.0,2087533162.0,2192203610.0,2210009822.0,2267786946.0,2312014062.0,2401322613.0,2454085045.0,2494018935.0,2572370880.0,2627259893.0,2665706906.0,2703188511.0,2770276457.0,2900173006.0,2954207241.0,3016099381.0,3097485761.0,3217408651.0,3240964362.0,3323571228.0,3448435091.0,3490019313.0,3630375823.0,3703588788.0,3757329935.0,3805258893.0,3909424813.0,3951007991.0,3993589039.0,4050314909.0,4125746540.0],\"type\":\"scatter\"}],                        {\"template\":{\"data\":{\"histogram2dcontour\":[{\"type\":\"histogram2dcontour\",\"colorbar\":{\"outlinewidth\":0,\"ticks\":\"\"},\"colorscale\":[[0.0,\"#0d0887\"],[0.1111111111111111,\"#46039f\"],[0.2222222222222222,\"#7201a8\"],[0.3333333333333333,\"#9c179e\"],[0.4444444444444444,\"#bd3786\"],[0.5555555555555556,\"#d8576b\"],[0.6666666666666666,\"#ed7953\"],[0.7777777777777778,\"#fb9f3a\"],[0.8888888888888888,\"#fdca26\"],[1.0,\"#f0f921\"]]}],\"choropleth\":[{\"type\":\"choropleth\",\"colorbar\":{\"outlinewidth\":0,\"ticks\":\"\"}}],\"histogram2d\":[{\"type\":\"histogram2d\",\"colorbar\":{\"outlinewidth\":0,\"ticks\":\"\"},\"colorscale\":[[0.0,\"#0d0887\"],[0.1111111111111111,\"#46039f\"],[0.2222222222222222,\"#7201a8\"],[0.3333333333333333,\"#9c179e\"],[0.4444444444444444,\"#bd3786\"],[0.5555555555555556,\"#d8576b\"],[0.6666666666666666,\"#ed7953\"],[0.7777777777777778,\"#fb9f3a\"],[0.8888888888888888,\"#fdca26\"],[1.0,\"#f0f921\"]]}],\"heatmap\":[{\"type\":\"heatmap\",\"colorbar\":{\"outlinewidth\":0,\"ticks\":\"\"},\"colorscale\":[[0.0,\"#0d0887\"],[0.1111111111111111,\"#46039f\"],[0.2222222222222222,\"#7201a8\"],[0.3333333333333333,\"#9c179e\"],[0.4444444444444444,\"#bd3786\"],[0.5555555555555556,\"#d8576b\"],[0.6666666666666666,\"#ed7953\"],[0.7777777777777778,\"#fb9f3a\"],[0.8888888888888888,\"#fdca26\"],[1.0,\"#f0f921\"]]}],\"heatmapgl\":[{\"type\":\"heatmapgl\",\"colorbar\":{\"outlinewidth\":0,\"ticks\":\"\"},\"colorscale\":[[0.0,\"#0d0887\"],[0.1111111111111111,\"#46039f\"],[0.2222222222222222,\"#7201a8\"],[0.3333333333333333,\"#9c179e\"],[0.4444444444444444,\"#bd3786\"],[0.5555555555555556,\"#d8576b\"],[0.6666666666666666,\"#ed7953\"],[0.7777777777777778,\"#fb9f3a\"],[0.8888888888888888,\"#fdca26\"],[1.0,\"#f0f921\"]]}],\"contourcarpet\":[{\"type\":\"contourcarpet\",\"colorbar\":{\"outlinewidth\":0,\"ticks\":\"\"}}],\"contour\":[{\"type\":\"contour\",\"colorbar\":{\"outlinewidth\":0,\"ticks\":\"\"},\"colorscale\":[[0.0,\"#0d0887\"],[0.1111111111111111,\"#46039f\"],[0.2222222222222222,\"#7201a8\"],[0.3333333333333333,\"#9c179e\"],[0.4444444444444444,\"#bd3786\"],[0.5555555555555556,\"#d8576b\"],[0.6666666666666666,\"#ed7953\"],[0.7777777777777778,\"#fb9f3a\"],[0.8888888888888888,\"#fdca26\"],[1.0,\"#f0f921\"]]}],\"surface\":[{\"type\":\"surface\",\"colorbar\":{\"outlinewidth\":0,\"ticks\":\"\"},\"colorscale\":[[0.0,\"#0d0887\"],[0.1111111111111111,\"#46039f\"],[0.2222222222222222,\"#7201a8\"],[0.3333333333333333,\"#9c179e\"],[0.4444444444444444,\"#bd3786\"],[0.5555555555555556,\"#d8576b\"],[0.6666666666666666,\"#ed7953\"],[0.7777777777777778,\"#fb9f3a\"],[0.8888888888888888,\"#fdca26\"],[1.0,\"#f0f921\"]]}],\"mesh3d\":[{\"type\":\"mesh3d\",\"colorbar\":{\"outlinewidth\":0,\"ticks\":\"\"}}],\"scatter\":[{\"fillpattern\":{\"fillmode\":\"overlay\",\"size\":10,\"solidity\":0.2},\"type\":\"scatter\"}],\"parcoords\":[{\"type\":\"parcoords\",\"line\":{\"colorbar\":{\"outlinewidth\":0,\"ticks\":\"\"}}}],\"scatterpolargl\":[{\"type\":\"scatterpolargl\",\"marker\":{\"colorbar\":{\"outlinewidth\":0,\"ticks\":\"\"}}}],\"bar\":[{\"error_x\":{\"color\":\"#2a3f5f\"},\"error_y\":{\"color\":\"#2a3f5f\"},\"marker\":{\"line\":{\"color\":\"#E5ECF6\",\"width\":0.5},\"pattern\":{\"fillmode\":\"overlay\",\"size\":10,\"solidity\":0.2}},\"type\":\"bar\"}],\"scattergeo\":[{\"type\":\"scattergeo\",\"marker\":{\"colorbar\":{\"outlinewidth\":0,\"ticks\":\"\"}}}],\"scatterpolar\":[{\"type\":\"scatterpolar\",\"marker\":{\"colorbar\":{\"outlinewidth\":0,\"ticks\":\"\"}}}],\"histogram\":[{\"marker\":{\"pattern\":{\"fillmode\":\"overlay\",\"size\":10,\"solidity\":0.2}},\"type\":\"histogram\"}],\"scattergl\":[{\"type\":\"scattergl\",\"marker\":{\"colorbar\":{\"outlinewidth\":0,\"ticks\":\"\"}}}],\"scatter3d\":[{\"type\":\"scatter3d\",\"line\":{\"colorbar\":{\"outlinewidth\":0,\"ticks\":\"\"}},\"marker\":{\"colorbar\":{\"outlinewidth\":0,\"ticks\":\"\"}}}],\"scattermapbox\":[{\"type\":\"scattermapbox\",\"marker\":{\"colorbar\":{\"outlinewidth\":0,\"ticks\":\"\"}}}],\"scatterternary\":[{\"type\":\"scatterternary\",\"marker\":{\"colorbar\":{\"outlinewidth\":0,\"ticks\":\"\"}}}],\"scattercarpet\":[{\"type\":\"scattercarpet\",\"marker\":{\"colorbar\":{\"outlinewidth\":0,\"ticks\":\"\"}}}],\"carpet\":[{\"aaxis\":{\"endlinecolor\":\"#2a3f5f\",\"gridcolor\":\"white\",\"linecolor\":\"white\",\"minorgridcolor\":\"white\",\"startlinecolor\":\"#2a3f5f\"},\"baxis\":{\"endlinecolor\":\"#2a3f5f\",\"gridcolor\":\"white\",\"linecolor\":\"white\",\"minorgridcolor\":\"white\",\"startlinecolor\":\"#2a3f5f\"},\"type\":\"carpet\"}],\"table\":[{\"cells\":{\"fill\":{\"color\":\"#EBF0F8\"},\"line\":{\"color\":\"white\"}},\"header\":{\"fill\":{\"color\":\"#C8D4E3\"},\"line\":{\"color\":\"white\"}},\"type\":\"table\"}],\"barpolar\":[{\"marker\":{\"line\":{\"color\":\"#E5ECF6\",\"width\":0.5},\"pattern\":{\"fillmode\":\"overlay\",\"size\":10,\"solidity\":0.2}},\"type\":\"barpolar\"}],\"pie\":[{\"automargin\":true,\"type\":\"pie\"}]},\"layout\":{\"autotypenumbers\":\"strict\",\"colorway\":[\"#636efa\",\"#EF553B\",\"#00cc96\",\"#ab63fa\",\"#FFA15A\",\"#19d3f3\",\"#FF6692\",\"#B6E880\",\"#FF97FF\",\"#FECB52\"],\"font\":{\"color\":\"#2a3f5f\"},\"hovermode\":\"closest\",\"hoverlabel\":{\"align\":\"left\"},\"paper_bgcolor\":\"white\",\"plot_bgcolor\":\"#E5ECF6\",\"polar\":{\"bgcolor\":\"#E5ECF6\",\"angularaxis\":{\"gridcolor\":\"white\",\"linecolor\":\"white\",\"ticks\":\"\"},\"radialaxis\":{\"gridcolor\":\"white\",\"linecolor\":\"white\",\"ticks\":\"\"}},\"ternary\":{\"bgcolor\":\"#E5ECF6\",\"aaxis\":{\"gridcolor\":\"white\",\"linecolor\":\"white\",\"ticks\":\"\"},\"baxis\":{\"gridcolor\":\"white\",\"linecolor\":\"white\",\"ticks\":\"\"},\"caxis\":{\"gridcolor\":\"white\",\"linecolor\":\"white\",\"ticks\":\"\"}},\"coloraxis\":{\"colorbar\":{\"outlinewidth\":0,\"ticks\":\"\"}},\"colorscale\":{\"sequential\":[[0.0,\"#0d0887\"],[0.1111111111111111,\"#46039f\"],[0.2222222222222222,\"#7201a8\"],[0.3333333333333333,\"#9c179e\"],[0.4444444444444444,\"#bd3786\"],[0.5555555555555556,\"#d8576b\"],[0.6666666666666666,\"#ed7953\"],[0.7777777777777778,\"#fb9f3a\"],[0.8888888888888888,\"#fdca26\"],[1.0,\"#f0f921\"]],\"sequentialminus\":[[0.0,\"#0d0887\"],[0.1111111111111111,\"#46039f\"],[0.2222222222222222,\"#7201a8\"],[0.3333333333333333,\"#9c179e\"],[0.4444444444444444,\"#bd3786\"],[0.5555555555555556,\"#d8576b\"],[0.6666666666666666,\"#ed7953\"],[0.7777777777777778,\"#fb9f3a\"],[0.8888888888888888,\"#fdca26\"],[1.0,\"#f0f921\"]],\"diverging\":[[0,\"#8e0152\"],[0.1,\"#c51b7d\"],[0.2,\"#de77ae\"],[0.3,\"#f1b6da\"],[0.4,\"#fde0ef\"],[0.5,\"#f7f7f7\"],[0.6,\"#e6f5d0\"],[0.7,\"#b8e186\"],[0.8,\"#7fbc41\"],[0.9,\"#4d9221\"],[1,\"#276419\"]]},\"xaxis\":{\"gridcolor\":\"white\",\"linecolor\":\"white\",\"ticks\":\"\",\"title\":{\"standoff\":15},\"zerolinecolor\":\"white\",\"automargin\":true,\"zerolinewidth\":2},\"yaxis\":{\"gridcolor\":\"white\",\"linecolor\":\"white\",\"ticks\":\"\",\"title\":{\"standoff\":15},\"zerolinecolor\":\"white\",\"automargin\":true,\"zerolinewidth\":2},\"scene\":{\"xaxis\":{\"backgroundcolor\":\"#E5ECF6\",\"gridcolor\":\"white\",\"linecolor\":\"white\",\"showbackground\":true,\"ticks\":\"\",\"zerolinecolor\":\"white\",\"gridwidth\":2},\"yaxis\":{\"backgroundcolor\":\"#E5ECF6\",\"gridcolor\":\"white\",\"linecolor\":\"white\",\"showbackground\":true,\"ticks\":\"\",\"zerolinecolor\":\"white\",\"gridwidth\":2},\"zaxis\":{\"backgroundcolor\":\"#E5ECF6\",\"gridcolor\":\"white\",\"linecolor\":\"white\",\"showbackground\":true,\"ticks\":\"\",\"zerolinecolor\":\"white\",\"gridwidth\":2}},\"shapedefaults\":{\"line\":{\"color\":\"#2a3f5f\"}},\"annotationdefaults\":{\"arrowcolor\":\"#2a3f5f\",\"arrowhead\":0,\"arrowwidth\":1},\"geo\":{\"bgcolor\":\"white\",\"landcolor\":\"#E5ECF6\",\"subunitcolor\":\"white\",\"showland\":true,\"showlakes\":true,\"lakecolor\":\"white\"},\"title\":{\"x\":0.05},\"mapbox\":{\"style\":\"light\"}}},\"xaxis\":{\"title\":{\"text\":\"Emissions (CO2)\"}},\"yaxis\":{\"title\":{\"text\":\"Production\"}},\"title\":{\"text\":\"Scatter Plot Example\"}},                        {\"responsive\": true}                    ).then(function(){\n",
       "                            \n",
       "var gd = document.getElementById('582c239c-1b0c-482f-8aaf-bcc1ca64d12c');\n",
       "var x = new MutationObserver(function (mutations, observer) {{\n",
       "        var display = window.getComputedStyle(gd).display;\n",
       "        if (!display || display === 'none') {{\n",
       "            console.log([gd, 'removed!']);\n",
       "            Plotly.purge(gd);\n",
       "            observer.disconnect();\n",
       "        }}\n",
       "}});\n",
       "\n",
       "// Listen for the removal of the full notebook cells\n",
       "var notebookContainer = gd.closest('#notebook-container');\n",
       "if (notebookContainer) {{\n",
       "    x.observe(notebookContainer, {childList: true});\n",
       "}}\n",
       "\n",
       "// Listen for the clearing of the current output cell\n",
       "var outputEl = gd.closest('.output');\n",
       "if (outputEl) {{\n",
       "    x.observe(outputEl, {childList: true});\n",
       "}}\n",
       "\n",
       "                        })                };                });            </script>        </div>"
      ]
     },
     "metadata": {},
     "output_type": "display_data"
    },
    {
     "data": {
      "application/vnd.plotly.v1+json": {
       "config": {
        "plotlyServerURL": "https://plot.ly"
       },
       "data": [
        {
         "mode": "markers",
         "type": "scatter",
         "x": [
          947203.3565363637,
          967999.1730000001,
          980279.0873636362,
          1000808.5929818182,
          1020765.6437727272,
          1047125.0940454545,
          1070992.0865,
          1091363.5759727273,
          1101260.5976,
          1115661.9033000001,
          1139479.1134000001,
          1155611.8294000002,
          1179874.2962636363,
          1200252.9504090908,
          1230757.8213727272,
          1242080.7038909092,
          1256073.6935636364,
          1272139.9377000001,
          1282410.0402454545,
          1306491.100690909,
          1317292.1226272727,
          1326795.2758090908,
          1341020.6107818182,
          1361192.5720545454,
          1366183.4701727272,
          1380044.7650181819,
          1383935.4336272727,
          1402642.1214,
          1422008.532281818,
          2743151.798362295,
          2758081.997083606,
          2751629.6516737705,
          2759229.897881967,
          2816433.980391803,
          2821847.6259311475,
          2869881.735819672,
          2980392.740377049,
          2907824.3677491806,
          2916449.583227869,
          3023145.6830180325,
          2947022.5588540984,
          3058295.889016393,
          3109723.044839344,
          3266122.0022032787,
          3295202.5807885244,
          3391655.9900885243,
          3390847.548485246,
          3444414.929934426,
          3452784.9656934426,
          3502544.9604360657,
          3490613.9189180327,
          3540028.4450409836,
          3565137.7092016395,
          3626983.444211475,
          3720933.9780616667,
          3633049.7708196724,
          3730408.431683333,
          3802845.605151667,
          3841826.837943333,
          3700838.1997216665,
          null
         ],
         "y": [
          1083667059,
          1118482387,
          1146767041,
          1184758554,
          1210465099,
          1254340110,
          1299302844,
          1337368930,
          1344596827,
          1386707418,
          1420697818,
          1414268652,
          1493275029,
          1504827569,
          1533217930,
          1569694853,
          1607622952,
          1680725225,
          1699748103,
          1701820059,
          1757505557,
          1814875418,
          1822636743,
          1915023589,
          1947322965,
          1980385333,
          2003967791,
          2023984717,
          2094492093,
          2148500096,
          2087533162,
          2192203610,
          2210009822,
          2267786946,
          2312014062,
          2401322613,
          2454085045,
          2494018935,
          2572370880,
          2627259893,
          2665706906,
          2703188511,
          2770276457,
          2900173006,
          2954207241,
          3016099381,
          3097485761,
          3217408651,
          3240964362,
          3323571228,
          3448435091,
          3490019313,
          3630375823,
          3703588788,
          3757329935,
          3805258893,
          3909424813,
          3951007991,
          3993589039,
          4050314909,
          4125746540
         ]
        }
       ],
       "layout": {
        "template": {
         "data": {
          "bar": [
           {
            "error_x": {
             "color": "#2a3f5f"
            },
            "error_y": {
             "color": "#2a3f5f"
            },
            "marker": {
             "line": {
              "color": "#E5ECF6",
              "width": 0.5
             },
             "pattern": {
              "fillmode": "overlay",
              "size": 10,
              "solidity": 0.2
             }
            },
            "type": "bar"
           }
          ],
          "barpolar": [
           {
            "marker": {
             "line": {
              "color": "#E5ECF6",
              "width": 0.5
             },
             "pattern": {
              "fillmode": "overlay",
              "size": 10,
              "solidity": 0.2
             }
            },
            "type": "barpolar"
           }
          ],
          "carpet": [
           {
            "aaxis": {
             "endlinecolor": "#2a3f5f",
             "gridcolor": "white",
             "linecolor": "white",
             "minorgridcolor": "white",
             "startlinecolor": "#2a3f5f"
            },
            "baxis": {
             "endlinecolor": "#2a3f5f",
             "gridcolor": "white",
             "linecolor": "white",
             "minorgridcolor": "white",
             "startlinecolor": "#2a3f5f"
            },
            "type": "carpet"
           }
          ],
          "choropleth": [
           {
            "colorbar": {
             "outlinewidth": 0,
             "ticks": ""
            },
            "type": "choropleth"
           }
          ],
          "contour": [
           {
            "colorbar": {
             "outlinewidth": 0,
             "ticks": ""
            },
            "colorscale": [
             [
              0,
              "#0d0887"
             ],
             [
              0.1111111111111111,
              "#46039f"
             ],
             [
              0.2222222222222222,
              "#7201a8"
             ],
             [
              0.3333333333333333,
              "#9c179e"
             ],
             [
              0.4444444444444444,
              "#bd3786"
             ],
             [
              0.5555555555555556,
              "#d8576b"
             ],
             [
              0.6666666666666666,
              "#ed7953"
             ],
             [
              0.7777777777777778,
              "#fb9f3a"
             ],
             [
              0.8888888888888888,
              "#fdca26"
             ],
             [
              1,
              "#f0f921"
             ]
            ],
            "type": "contour"
           }
          ],
          "contourcarpet": [
           {
            "colorbar": {
             "outlinewidth": 0,
             "ticks": ""
            },
            "type": "contourcarpet"
           }
          ],
          "heatmap": [
           {
            "colorbar": {
             "outlinewidth": 0,
             "ticks": ""
            },
            "colorscale": [
             [
              0,
              "#0d0887"
             ],
             [
              0.1111111111111111,
              "#46039f"
             ],
             [
              0.2222222222222222,
              "#7201a8"
             ],
             [
              0.3333333333333333,
              "#9c179e"
             ],
             [
              0.4444444444444444,
              "#bd3786"
             ],
             [
              0.5555555555555556,
              "#d8576b"
             ],
             [
              0.6666666666666666,
              "#ed7953"
             ],
             [
              0.7777777777777778,
              "#fb9f3a"
             ],
             [
              0.8888888888888888,
              "#fdca26"
             ],
             [
              1,
              "#f0f921"
             ]
            ],
            "type": "heatmap"
           }
          ],
          "heatmapgl": [
           {
            "colorbar": {
             "outlinewidth": 0,
             "ticks": ""
            },
            "colorscale": [
             [
              0,
              "#0d0887"
             ],
             [
              0.1111111111111111,
              "#46039f"
             ],
             [
              0.2222222222222222,
              "#7201a8"
             ],
             [
              0.3333333333333333,
              "#9c179e"
             ],
             [
              0.4444444444444444,
              "#bd3786"
             ],
             [
              0.5555555555555556,
              "#d8576b"
             ],
             [
              0.6666666666666666,
              "#ed7953"
             ],
             [
              0.7777777777777778,
              "#fb9f3a"
             ],
             [
              0.8888888888888888,
              "#fdca26"
             ],
             [
              1,
              "#f0f921"
             ]
            ],
            "type": "heatmapgl"
           }
          ],
          "histogram": [
           {
            "marker": {
             "pattern": {
              "fillmode": "overlay",
              "size": 10,
              "solidity": 0.2
             }
            },
            "type": "histogram"
           }
          ],
          "histogram2d": [
           {
            "colorbar": {
             "outlinewidth": 0,
             "ticks": ""
            },
            "colorscale": [
             [
              0,
              "#0d0887"
             ],
             [
              0.1111111111111111,
              "#46039f"
             ],
             [
              0.2222222222222222,
              "#7201a8"
             ],
             [
              0.3333333333333333,
              "#9c179e"
             ],
             [
              0.4444444444444444,
              "#bd3786"
             ],
             [
              0.5555555555555556,
              "#d8576b"
             ],
             [
              0.6666666666666666,
              "#ed7953"
             ],
             [
              0.7777777777777778,
              "#fb9f3a"
             ],
             [
              0.8888888888888888,
              "#fdca26"
             ],
             [
              1,
              "#f0f921"
             ]
            ],
            "type": "histogram2d"
           }
          ],
          "histogram2dcontour": [
           {
            "colorbar": {
             "outlinewidth": 0,
             "ticks": ""
            },
            "colorscale": [
             [
              0,
              "#0d0887"
             ],
             [
              0.1111111111111111,
              "#46039f"
             ],
             [
              0.2222222222222222,
              "#7201a8"
             ],
             [
              0.3333333333333333,
              "#9c179e"
             ],
             [
              0.4444444444444444,
              "#bd3786"
             ],
             [
              0.5555555555555556,
              "#d8576b"
             ],
             [
              0.6666666666666666,
              "#ed7953"
             ],
             [
              0.7777777777777778,
              "#fb9f3a"
             ],
             [
              0.8888888888888888,
              "#fdca26"
             ],
             [
              1,
              "#f0f921"
             ]
            ],
            "type": "histogram2dcontour"
           }
          ],
          "mesh3d": [
           {
            "colorbar": {
             "outlinewidth": 0,
             "ticks": ""
            },
            "type": "mesh3d"
           }
          ],
          "parcoords": [
           {
            "line": {
             "colorbar": {
              "outlinewidth": 0,
              "ticks": ""
             }
            },
            "type": "parcoords"
           }
          ],
          "pie": [
           {
            "automargin": true,
            "type": "pie"
           }
          ],
          "scatter": [
           {
            "fillpattern": {
             "fillmode": "overlay",
             "size": 10,
             "solidity": 0.2
            },
            "type": "scatter"
           }
          ],
          "scatter3d": [
           {
            "line": {
             "colorbar": {
              "outlinewidth": 0,
              "ticks": ""
             }
            },
            "marker": {
             "colorbar": {
              "outlinewidth": 0,
              "ticks": ""
             }
            },
            "type": "scatter3d"
           }
          ],
          "scattercarpet": [
           {
            "marker": {
             "colorbar": {
              "outlinewidth": 0,
              "ticks": ""
             }
            },
            "type": "scattercarpet"
           }
          ],
          "scattergeo": [
           {
            "marker": {
             "colorbar": {
              "outlinewidth": 0,
              "ticks": ""
             }
            },
            "type": "scattergeo"
           }
          ],
          "scattergl": [
           {
            "marker": {
             "colorbar": {
              "outlinewidth": 0,
              "ticks": ""
             }
            },
            "type": "scattergl"
           }
          ],
          "scattermapbox": [
           {
            "marker": {
             "colorbar": {
              "outlinewidth": 0,
              "ticks": ""
             }
            },
            "type": "scattermapbox"
           }
          ],
          "scatterpolar": [
           {
            "marker": {
             "colorbar": {
              "outlinewidth": 0,
              "ticks": ""
             }
            },
            "type": "scatterpolar"
           }
          ],
          "scatterpolargl": [
           {
            "marker": {
             "colorbar": {
              "outlinewidth": 0,
              "ticks": ""
             }
            },
            "type": "scatterpolargl"
           }
          ],
          "scatterternary": [
           {
            "marker": {
             "colorbar": {
              "outlinewidth": 0,
              "ticks": ""
             }
            },
            "type": "scatterternary"
           }
          ],
          "surface": [
           {
            "colorbar": {
             "outlinewidth": 0,
             "ticks": ""
            },
            "colorscale": [
             [
              0,
              "#0d0887"
             ],
             [
              0.1111111111111111,
              "#46039f"
             ],
             [
              0.2222222222222222,
              "#7201a8"
             ],
             [
              0.3333333333333333,
              "#9c179e"
             ],
             [
              0.4444444444444444,
              "#bd3786"
             ],
             [
              0.5555555555555556,
              "#d8576b"
             ],
             [
              0.6666666666666666,
              "#ed7953"
             ],
             [
              0.7777777777777778,
              "#fb9f3a"
             ],
             [
              0.8888888888888888,
              "#fdca26"
             ],
             [
              1,
              "#f0f921"
             ]
            ],
            "type": "surface"
           }
          ],
          "table": [
           {
            "cells": {
             "fill": {
              "color": "#EBF0F8"
             },
             "line": {
              "color": "white"
             }
            },
            "header": {
             "fill": {
              "color": "#C8D4E3"
             },
             "line": {
              "color": "white"
             }
            },
            "type": "table"
           }
          ]
         },
         "layout": {
          "annotationdefaults": {
           "arrowcolor": "#2a3f5f",
           "arrowhead": 0,
           "arrowwidth": 1
          },
          "autotypenumbers": "strict",
          "coloraxis": {
           "colorbar": {
            "outlinewidth": 0,
            "ticks": ""
           }
          },
          "colorscale": {
           "diverging": [
            [
             0,
             "#8e0152"
            ],
            [
             0.1,
             "#c51b7d"
            ],
            [
             0.2,
             "#de77ae"
            ],
            [
             0.3,
             "#f1b6da"
            ],
            [
             0.4,
             "#fde0ef"
            ],
            [
             0.5,
             "#f7f7f7"
            ],
            [
             0.6,
             "#e6f5d0"
            ],
            [
             0.7,
             "#b8e186"
            ],
            [
             0.8,
             "#7fbc41"
            ],
            [
             0.9,
             "#4d9221"
            ],
            [
             1,
             "#276419"
            ]
           ],
           "sequential": [
            [
             0,
             "#0d0887"
            ],
            [
             0.1111111111111111,
             "#46039f"
            ],
            [
             0.2222222222222222,
             "#7201a8"
            ],
            [
             0.3333333333333333,
             "#9c179e"
            ],
            [
             0.4444444444444444,
             "#bd3786"
            ],
            [
             0.5555555555555556,
             "#d8576b"
            ],
            [
             0.6666666666666666,
             "#ed7953"
            ],
            [
             0.7777777777777778,
             "#fb9f3a"
            ],
            [
             0.8888888888888888,
             "#fdca26"
            ],
            [
             1,
             "#f0f921"
            ]
           ],
           "sequentialminus": [
            [
             0,
             "#0d0887"
            ],
            [
             0.1111111111111111,
             "#46039f"
            ],
            [
             0.2222222222222222,
             "#7201a8"
            ],
            [
             0.3333333333333333,
             "#9c179e"
            ],
            [
             0.4444444444444444,
             "#bd3786"
            ],
            [
             0.5555555555555556,
             "#d8576b"
            ],
            [
             0.6666666666666666,
             "#ed7953"
            ],
            [
             0.7777777777777778,
             "#fb9f3a"
            ],
            [
             0.8888888888888888,
             "#fdca26"
            ],
            [
             1,
             "#f0f921"
            ]
           ]
          },
          "colorway": [
           "#636efa",
           "#EF553B",
           "#00cc96",
           "#ab63fa",
           "#FFA15A",
           "#19d3f3",
           "#FF6692",
           "#B6E880",
           "#FF97FF",
           "#FECB52"
          ],
          "font": {
           "color": "#2a3f5f"
          },
          "geo": {
           "bgcolor": "white",
           "lakecolor": "white",
           "landcolor": "#E5ECF6",
           "showlakes": true,
           "showland": true,
           "subunitcolor": "white"
          },
          "hoverlabel": {
           "align": "left"
          },
          "hovermode": "closest",
          "mapbox": {
           "style": "light"
          },
          "paper_bgcolor": "white",
          "plot_bgcolor": "#E5ECF6",
          "polar": {
           "angularaxis": {
            "gridcolor": "white",
            "linecolor": "white",
            "ticks": ""
           },
           "bgcolor": "#E5ECF6",
           "radialaxis": {
            "gridcolor": "white",
            "linecolor": "white",
            "ticks": ""
           }
          },
          "scene": {
           "xaxis": {
            "backgroundcolor": "#E5ECF6",
            "gridcolor": "white",
            "gridwidth": 2,
            "linecolor": "white",
            "showbackground": true,
            "ticks": "",
            "zerolinecolor": "white"
           },
           "yaxis": {
            "backgroundcolor": "#E5ECF6",
            "gridcolor": "white",
            "gridwidth": 2,
            "linecolor": "white",
            "showbackground": true,
            "ticks": "",
            "zerolinecolor": "white"
           },
           "zaxis": {
            "backgroundcolor": "#E5ECF6",
            "gridcolor": "white",
            "gridwidth": 2,
            "linecolor": "white",
            "showbackground": true,
            "ticks": "",
            "zerolinecolor": "white"
           }
          },
          "shapedefaults": {
           "line": {
            "color": "#2a3f5f"
           }
          },
          "ternary": {
           "aaxis": {
            "gridcolor": "white",
            "linecolor": "white",
            "ticks": ""
           },
           "baxis": {
            "gridcolor": "white",
            "linecolor": "white",
            "ticks": ""
           },
           "bgcolor": "#E5ECF6",
           "caxis": {
            "gridcolor": "white",
            "linecolor": "white",
            "ticks": ""
           }
          },
          "title": {
           "x": 0.05
          },
          "xaxis": {
           "automargin": true,
           "gridcolor": "white",
           "linecolor": "white",
           "ticks": "",
           "title": {
            "standoff": 15
           },
           "zerolinecolor": "white",
           "zerolinewidth": 2
          },
          "yaxis": {
           "automargin": true,
           "gridcolor": "white",
           "linecolor": "white",
           "ticks": "",
           "title": {
            "standoff": 15
           },
           "zerolinecolor": "white",
           "zerolinewidth": 2
          }
         }
        },
        "title": {
         "text": "Scatter Plot Example"
        },
        "xaxis": {
         "title": {
          "text": "Emissions (CO2eq) (AR5)"
         }
        },
        "yaxis": {
         "title": {
          "text": "Production"
         }
        }
       }
      },
      "text/html": [
       "<div>                            <div id=\"7a2413ad-cc5f-4882-a433-9711b8ea6014\" class=\"plotly-graph-div\" style=\"height:525px; width:100%;\"></div>            <script type=\"text/javascript\">                require([\"plotly\"], function(Plotly) {                    window.PLOTLYENV=window.PLOTLYENV || {};                                    if (document.getElementById(\"7a2413ad-cc5f-4882-a433-9711b8ea6014\")) {                    Plotly.newPlot(                        \"7a2413ad-cc5f-4882-a433-9711b8ea6014\",                        [{\"mode\":\"markers\",\"x\":[947203.3565363637,967999.1730000001,980279.0873636362,1000808.5929818182,1020765.6437727272,1047125.0940454545,1070992.0865,1091363.5759727273,1101260.5976,1115661.9033000001,1139479.1134000001,1155611.8294000002,1179874.2962636363,1200252.9504090908,1230757.8213727272,1242080.7038909092,1256073.6935636364,1272139.9377000001,1282410.0402454545,1306491.100690909,1317292.1226272727,1326795.2758090908,1341020.6107818182,1361192.5720545454,1366183.4701727272,1380044.7650181819,1383935.4336272727,1402642.1214,1422008.532281818,2743151.798362295,2758081.997083606,2751629.6516737705,2759229.897881967,2816433.980391803,2821847.6259311475,2869881.735819672,2980392.740377049,2907824.3677491806,2916449.583227869,3023145.6830180325,2947022.5588540984,3058295.889016393,3109723.044839344,3266122.0022032787,3295202.5807885244,3391655.9900885243,3390847.548485246,3444414.929934426,3452784.9656934426,3502544.9604360657,3490613.9189180327,3540028.4450409836,3565137.7092016395,3626983.444211475,3720933.9780616667,3633049.7708196724,3730408.431683333,3802845.605151667,3841826.837943333,3700838.1997216665,null],\"y\":[1083667059.0,1118482387.0,1146767041.0,1184758554.0,1210465099.0,1254340110.0,1299302844.0,1337368930.0,1344596827.0,1386707418.0,1420697818.0,1414268652.0,1493275029.0,1504827569.0,1533217930.0,1569694853.0,1607622952.0,1680725225.0,1699748103.0,1701820059.0,1757505557.0,1814875418.0,1822636743.0,1915023589.0,1947322965.0,1980385333.0,2003967791.0,2023984717.0,2094492093.0,2148500096.0,2087533162.0,2192203610.0,2210009822.0,2267786946.0,2312014062.0,2401322613.0,2454085045.0,2494018935.0,2572370880.0,2627259893.0,2665706906.0,2703188511.0,2770276457.0,2900173006.0,2954207241.0,3016099381.0,3097485761.0,3217408651.0,3240964362.0,3323571228.0,3448435091.0,3490019313.0,3630375823.0,3703588788.0,3757329935.0,3805258893.0,3909424813.0,3951007991.0,3993589039.0,4050314909.0,4125746540.0],\"type\":\"scatter\"}],                        {\"template\":{\"data\":{\"histogram2dcontour\":[{\"type\":\"histogram2dcontour\",\"colorbar\":{\"outlinewidth\":0,\"ticks\":\"\"},\"colorscale\":[[0.0,\"#0d0887\"],[0.1111111111111111,\"#46039f\"],[0.2222222222222222,\"#7201a8\"],[0.3333333333333333,\"#9c179e\"],[0.4444444444444444,\"#bd3786\"],[0.5555555555555556,\"#d8576b\"],[0.6666666666666666,\"#ed7953\"],[0.7777777777777778,\"#fb9f3a\"],[0.8888888888888888,\"#fdca26\"],[1.0,\"#f0f921\"]]}],\"choropleth\":[{\"type\":\"choropleth\",\"colorbar\":{\"outlinewidth\":0,\"ticks\":\"\"}}],\"histogram2d\":[{\"type\":\"histogram2d\",\"colorbar\":{\"outlinewidth\":0,\"ticks\":\"\"},\"colorscale\":[[0.0,\"#0d0887\"],[0.1111111111111111,\"#46039f\"],[0.2222222222222222,\"#7201a8\"],[0.3333333333333333,\"#9c179e\"],[0.4444444444444444,\"#bd3786\"],[0.5555555555555556,\"#d8576b\"],[0.6666666666666666,\"#ed7953\"],[0.7777777777777778,\"#fb9f3a\"],[0.8888888888888888,\"#fdca26\"],[1.0,\"#f0f921\"]]}],\"heatmap\":[{\"type\":\"heatmap\",\"colorbar\":{\"outlinewidth\":0,\"ticks\":\"\"},\"colorscale\":[[0.0,\"#0d0887\"],[0.1111111111111111,\"#46039f\"],[0.2222222222222222,\"#7201a8\"],[0.3333333333333333,\"#9c179e\"],[0.4444444444444444,\"#bd3786\"],[0.5555555555555556,\"#d8576b\"],[0.6666666666666666,\"#ed7953\"],[0.7777777777777778,\"#fb9f3a\"],[0.8888888888888888,\"#fdca26\"],[1.0,\"#f0f921\"]]}],\"heatmapgl\":[{\"type\":\"heatmapgl\",\"colorbar\":{\"outlinewidth\":0,\"ticks\":\"\"},\"colorscale\":[[0.0,\"#0d0887\"],[0.1111111111111111,\"#46039f\"],[0.2222222222222222,\"#7201a8\"],[0.3333333333333333,\"#9c179e\"],[0.4444444444444444,\"#bd3786\"],[0.5555555555555556,\"#d8576b\"],[0.6666666666666666,\"#ed7953\"],[0.7777777777777778,\"#fb9f3a\"],[0.8888888888888888,\"#fdca26\"],[1.0,\"#f0f921\"]]}],\"contourcarpet\":[{\"type\":\"contourcarpet\",\"colorbar\":{\"outlinewidth\":0,\"ticks\":\"\"}}],\"contour\":[{\"type\":\"contour\",\"colorbar\":{\"outlinewidth\":0,\"ticks\":\"\"},\"colorscale\":[[0.0,\"#0d0887\"],[0.1111111111111111,\"#46039f\"],[0.2222222222222222,\"#7201a8\"],[0.3333333333333333,\"#9c179e\"],[0.4444444444444444,\"#bd3786\"],[0.5555555555555556,\"#d8576b\"],[0.6666666666666666,\"#ed7953\"],[0.7777777777777778,\"#fb9f3a\"],[0.8888888888888888,\"#fdca26\"],[1.0,\"#f0f921\"]]}],\"surface\":[{\"type\":\"surface\",\"colorbar\":{\"outlinewidth\":0,\"ticks\":\"\"},\"colorscale\":[[0.0,\"#0d0887\"],[0.1111111111111111,\"#46039f\"],[0.2222222222222222,\"#7201a8\"],[0.3333333333333333,\"#9c179e\"],[0.4444444444444444,\"#bd3786\"],[0.5555555555555556,\"#d8576b\"],[0.6666666666666666,\"#ed7953\"],[0.7777777777777778,\"#fb9f3a\"],[0.8888888888888888,\"#fdca26\"],[1.0,\"#f0f921\"]]}],\"mesh3d\":[{\"type\":\"mesh3d\",\"colorbar\":{\"outlinewidth\":0,\"ticks\":\"\"}}],\"scatter\":[{\"fillpattern\":{\"fillmode\":\"overlay\",\"size\":10,\"solidity\":0.2},\"type\":\"scatter\"}],\"parcoords\":[{\"type\":\"parcoords\",\"line\":{\"colorbar\":{\"outlinewidth\":0,\"ticks\":\"\"}}}],\"scatterpolargl\":[{\"type\":\"scatterpolargl\",\"marker\":{\"colorbar\":{\"outlinewidth\":0,\"ticks\":\"\"}}}],\"bar\":[{\"error_x\":{\"color\":\"#2a3f5f\"},\"error_y\":{\"color\":\"#2a3f5f\"},\"marker\":{\"line\":{\"color\":\"#E5ECF6\",\"width\":0.5},\"pattern\":{\"fillmode\":\"overlay\",\"size\":10,\"solidity\":0.2}},\"type\":\"bar\"}],\"scattergeo\":[{\"type\":\"scattergeo\",\"marker\":{\"colorbar\":{\"outlinewidth\":0,\"ticks\":\"\"}}}],\"scatterpolar\":[{\"type\":\"scatterpolar\",\"marker\":{\"colorbar\":{\"outlinewidth\":0,\"ticks\":\"\"}}}],\"histogram\":[{\"marker\":{\"pattern\":{\"fillmode\":\"overlay\",\"size\":10,\"solidity\":0.2}},\"type\":\"histogram\"}],\"scattergl\":[{\"type\":\"scattergl\",\"marker\":{\"colorbar\":{\"outlinewidth\":0,\"ticks\":\"\"}}}],\"scatter3d\":[{\"type\":\"scatter3d\",\"line\":{\"colorbar\":{\"outlinewidth\":0,\"ticks\":\"\"}},\"marker\":{\"colorbar\":{\"outlinewidth\":0,\"ticks\":\"\"}}}],\"scattermapbox\":[{\"type\":\"scattermapbox\",\"marker\":{\"colorbar\":{\"outlinewidth\":0,\"ticks\":\"\"}}}],\"scatterternary\":[{\"type\":\"scatterternary\",\"marker\":{\"colorbar\":{\"outlinewidth\":0,\"ticks\":\"\"}}}],\"scattercarpet\":[{\"type\":\"scattercarpet\",\"marker\":{\"colorbar\":{\"outlinewidth\":0,\"ticks\":\"\"}}}],\"carpet\":[{\"aaxis\":{\"endlinecolor\":\"#2a3f5f\",\"gridcolor\":\"white\",\"linecolor\":\"white\",\"minorgridcolor\":\"white\",\"startlinecolor\":\"#2a3f5f\"},\"baxis\":{\"endlinecolor\":\"#2a3f5f\",\"gridcolor\":\"white\",\"linecolor\":\"white\",\"minorgridcolor\":\"white\",\"startlinecolor\":\"#2a3f5f\"},\"type\":\"carpet\"}],\"table\":[{\"cells\":{\"fill\":{\"color\":\"#EBF0F8\"},\"line\":{\"color\":\"white\"}},\"header\":{\"fill\":{\"color\":\"#C8D4E3\"},\"line\":{\"color\":\"white\"}},\"type\":\"table\"}],\"barpolar\":[{\"marker\":{\"line\":{\"color\":\"#E5ECF6\",\"width\":0.5},\"pattern\":{\"fillmode\":\"overlay\",\"size\":10,\"solidity\":0.2}},\"type\":\"barpolar\"}],\"pie\":[{\"automargin\":true,\"type\":\"pie\"}]},\"layout\":{\"autotypenumbers\":\"strict\",\"colorway\":[\"#636efa\",\"#EF553B\",\"#00cc96\",\"#ab63fa\",\"#FFA15A\",\"#19d3f3\",\"#FF6692\",\"#B6E880\",\"#FF97FF\",\"#FECB52\"],\"font\":{\"color\":\"#2a3f5f\"},\"hovermode\":\"closest\",\"hoverlabel\":{\"align\":\"left\"},\"paper_bgcolor\":\"white\",\"plot_bgcolor\":\"#E5ECF6\",\"polar\":{\"bgcolor\":\"#E5ECF6\",\"angularaxis\":{\"gridcolor\":\"white\",\"linecolor\":\"white\",\"ticks\":\"\"},\"radialaxis\":{\"gridcolor\":\"white\",\"linecolor\":\"white\",\"ticks\":\"\"}},\"ternary\":{\"bgcolor\":\"#E5ECF6\",\"aaxis\":{\"gridcolor\":\"white\",\"linecolor\":\"white\",\"ticks\":\"\"},\"baxis\":{\"gridcolor\":\"white\",\"linecolor\":\"white\",\"ticks\":\"\"},\"caxis\":{\"gridcolor\":\"white\",\"linecolor\":\"white\",\"ticks\":\"\"}},\"coloraxis\":{\"colorbar\":{\"outlinewidth\":0,\"ticks\":\"\"}},\"colorscale\":{\"sequential\":[[0.0,\"#0d0887\"],[0.1111111111111111,\"#46039f\"],[0.2222222222222222,\"#7201a8\"],[0.3333333333333333,\"#9c179e\"],[0.4444444444444444,\"#bd3786\"],[0.5555555555555556,\"#d8576b\"],[0.6666666666666666,\"#ed7953\"],[0.7777777777777778,\"#fb9f3a\"],[0.8888888888888888,\"#fdca26\"],[1.0,\"#f0f921\"]],\"sequentialminus\":[[0.0,\"#0d0887\"],[0.1111111111111111,\"#46039f\"],[0.2222222222222222,\"#7201a8\"],[0.3333333333333333,\"#9c179e\"],[0.4444444444444444,\"#bd3786\"],[0.5555555555555556,\"#d8576b\"],[0.6666666666666666,\"#ed7953\"],[0.7777777777777778,\"#fb9f3a\"],[0.8888888888888888,\"#fdca26\"],[1.0,\"#f0f921\"]],\"diverging\":[[0,\"#8e0152\"],[0.1,\"#c51b7d\"],[0.2,\"#de77ae\"],[0.3,\"#f1b6da\"],[0.4,\"#fde0ef\"],[0.5,\"#f7f7f7\"],[0.6,\"#e6f5d0\"],[0.7,\"#b8e186\"],[0.8,\"#7fbc41\"],[0.9,\"#4d9221\"],[1,\"#276419\"]]},\"xaxis\":{\"gridcolor\":\"white\",\"linecolor\":\"white\",\"ticks\":\"\",\"title\":{\"standoff\":15},\"zerolinecolor\":\"white\",\"automargin\":true,\"zerolinewidth\":2},\"yaxis\":{\"gridcolor\":\"white\",\"linecolor\":\"white\",\"ticks\":\"\",\"title\":{\"standoff\":15},\"zerolinecolor\":\"white\",\"automargin\":true,\"zerolinewidth\":2},\"scene\":{\"xaxis\":{\"backgroundcolor\":\"#E5ECF6\",\"gridcolor\":\"white\",\"linecolor\":\"white\",\"showbackground\":true,\"ticks\":\"\",\"zerolinecolor\":\"white\",\"gridwidth\":2},\"yaxis\":{\"backgroundcolor\":\"#E5ECF6\",\"gridcolor\":\"white\",\"linecolor\":\"white\",\"showbackground\":true,\"ticks\":\"\",\"zerolinecolor\":\"white\",\"gridwidth\":2},\"zaxis\":{\"backgroundcolor\":\"#E5ECF6\",\"gridcolor\":\"white\",\"linecolor\":\"white\",\"showbackground\":true,\"ticks\":\"\",\"zerolinecolor\":\"white\",\"gridwidth\":2}},\"shapedefaults\":{\"line\":{\"color\":\"#2a3f5f\"}},\"annotationdefaults\":{\"arrowcolor\":\"#2a3f5f\",\"arrowhead\":0,\"arrowwidth\":1},\"geo\":{\"bgcolor\":\"white\",\"landcolor\":\"#E5ECF6\",\"subunitcolor\":\"white\",\"showland\":true,\"showlakes\":true,\"lakecolor\":\"white\"},\"title\":{\"x\":0.05},\"mapbox\":{\"style\":\"light\"}}},\"xaxis\":{\"title\":{\"text\":\"Emissions (CO2eq) (AR5)\"}},\"yaxis\":{\"title\":{\"text\":\"Production\"}},\"title\":{\"text\":\"Scatter Plot Example\"}},                        {\"responsive\": true}                    ).then(function(){\n",
       "                            \n",
       "var gd = document.getElementById('7a2413ad-cc5f-4882-a433-9711b8ea6014');\n",
       "var x = new MutationObserver(function (mutations, observer) {{\n",
       "        var display = window.getComputedStyle(gd).display;\n",
       "        if (!display || display === 'none') {{\n",
       "            console.log([gd, 'removed!']);\n",
       "            Plotly.purge(gd);\n",
       "            observer.disconnect();\n",
       "        }}\n",
       "}});\n",
       "\n",
       "// Listen for the removal of the full notebook cells\n",
       "var notebookContainer = gd.closest('#notebook-container');\n",
       "if (notebookContainer) {{\n",
       "    x.observe(notebookContainer, {childList: true});\n",
       "}}\n",
       "\n",
       "// Listen for the clearing of the current output cell\n",
       "var outputEl = gd.closest('.output');\n",
       "if (outputEl) {{\n",
       "    x.observe(outputEl, {childList: true});\n",
       "}}\n",
       "\n",
       "                        })                };                });            </script>        </div>"
      ]
     },
     "metadata": {},
     "output_type": "display_data"
    },
    {
     "data": {
      "application/vnd.plotly.v1+json": {
       "config": {
        "plotlyServerURL": "https://plot.ly"
       },
       "data": [
        {
         "mode": "markers",
         "type": "scatter",
         "x": [
          1268974.8647833334,
          1293527.0270833333,
          1304504.7937166665,
          1327716.9638,
          1346254.4190999998,
          1372047.4545666666,
          1397301.4274333334,
          1417777.0402333334,
          1425123.6545333334,
          1435178.9348666666,
          1459449.5024333333,
          1473694.8309166667,
          1498057.6401166667,
          1527204.5976166667,
          1554010.4944666668,
          1562590.8317,
          1571110.5698499999,
          1575766.8379,
          1580107.0119333332,
          1602689.786066667,
          1614704.9802166668,
          1620845.6563333336,
          1628398.8025666669,
          1641855.0848333333,
          1647207.5362666666,
          1658738.9878333334,
          1653211.8308333333,
          1669994.2235833332,
          1694174.0874666665,
          1199364.4547724999,
          1186965.8880475,
          1198800.9284525,
          1201179.7883075,
          1256538.7416349999,
          1193559.2348731707,
          1245525.45282,
          1272461.7176100002,
          1262846.8000824999,
          1257285.4115,
          1256879.807587805,
          1243975.4265625,
          1278237.896505,
          1284236.9345475,
          1330784.3670775,
          1337600.0951275001,
          1303897.8379048782,
          1322955.83087,
          1329860.0112275002,
          1342093.6295925,
          1375956.6398875,
          1372193.091075,
          1393070.438575,
          1380884.8784425,
          1397438.6724925,
          1430827.29709,
          1388447.013725,
          1384479.7891799998,
          1396187.2811250002,
          1415786.3281075,
          1407583.0369375,
          null
         ],
         "y": [
          1083667059,
          1118482387,
          1146767041,
          1184758554,
          1210465099,
          1254340110,
          1299302844,
          1337368930,
          1344596827,
          1386707418,
          1420697818,
          1414268652,
          1493275029,
          1504827569,
          1533217930,
          1569694853,
          1607622952,
          1680725225,
          1699748103,
          1701820059,
          1757505557,
          1814875418,
          1822636743,
          1915023589,
          1947322965,
          1980385333,
          2003967791,
          2023984717,
          2094492093,
          2148500096,
          2087533162,
          2192203610,
          2210009822,
          2267786946,
          2312014062,
          2401322613,
          2454085045,
          2494018935,
          2572370880,
          2627259893,
          2665706906,
          2703188511,
          2770276457,
          2900173006,
          2954207241,
          3016099381,
          3097485761,
          3217408651,
          3240964362,
          3323571228,
          3448435091,
          3490019313,
          3630375823,
          3703588788,
          3757329935,
          3805258893,
          3909424813,
          3951007991,
          3993589039,
          4050314909,
          4125746540
         ]
        }
       ],
       "layout": {
        "template": {
         "data": {
          "bar": [
           {
            "error_x": {
             "color": "#2a3f5f"
            },
            "error_y": {
             "color": "#2a3f5f"
            },
            "marker": {
             "line": {
              "color": "#E5ECF6",
              "width": 0.5
             },
             "pattern": {
              "fillmode": "overlay",
              "size": 10,
              "solidity": 0.2
             }
            },
            "type": "bar"
           }
          ],
          "barpolar": [
           {
            "marker": {
             "line": {
              "color": "#E5ECF6",
              "width": 0.5
             },
             "pattern": {
              "fillmode": "overlay",
              "size": 10,
              "solidity": 0.2
             }
            },
            "type": "barpolar"
           }
          ],
          "carpet": [
           {
            "aaxis": {
             "endlinecolor": "#2a3f5f",
             "gridcolor": "white",
             "linecolor": "white",
             "minorgridcolor": "white",
             "startlinecolor": "#2a3f5f"
            },
            "baxis": {
             "endlinecolor": "#2a3f5f",
             "gridcolor": "white",
             "linecolor": "white",
             "minorgridcolor": "white",
             "startlinecolor": "#2a3f5f"
            },
            "type": "carpet"
           }
          ],
          "choropleth": [
           {
            "colorbar": {
             "outlinewidth": 0,
             "ticks": ""
            },
            "type": "choropleth"
           }
          ],
          "contour": [
           {
            "colorbar": {
             "outlinewidth": 0,
             "ticks": ""
            },
            "colorscale": [
             [
              0,
              "#0d0887"
             ],
             [
              0.1111111111111111,
              "#46039f"
             ],
             [
              0.2222222222222222,
              "#7201a8"
             ],
             [
              0.3333333333333333,
              "#9c179e"
             ],
             [
              0.4444444444444444,
              "#bd3786"
             ],
             [
              0.5555555555555556,
              "#d8576b"
             ],
             [
              0.6666666666666666,
              "#ed7953"
             ],
             [
              0.7777777777777778,
              "#fb9f3a"
             ],
             [
              0.8888888888888888,
              "#fdca26"
             ],
             [
              1,
              "#f0f921"
             ]
            ],
            "type": "contour"
           }
          ],
          "contourcarpet": [
           {
            "colorbar": {
             "outlinewidth": 0,
             "ticks": ""
            },
            "type": "contourcarpet"
           }
          ],
          "heatmap": [
           {
            "colorbar": {
             "outlinewidth": 0,
             "ticks": ""
            },
            "colorscale": [
             [
              0,
              "#0d0887"
             ],
             [
              0.1111111111111111,
              "#46039f"
             ],
             [
              0.2222222222222222,
              "#7201a8"
             ],
             [
              0.3333333333333333,
              "#9c179e"
             ],
             [
              0.4444444444444444,
              "#bd3786"
             ],
             [
              0.5555555555555556,
              "#d8576b"
             ],
             [
              0.6666666666666666,
              "#ed7953"
             ],
             [
              0.7777777777777778,
              "#fb9f3a"
             ],
             [
              0.8888888888888888,
              "#fdca26"
             ],
             [
              1,
              "#f0f921"
             ]
            ],
            "type": "heatmap"
           }
          ],
          "heatmapgl": [
           {
            "colorbar": {
             "outlinewidth": 0,
             "ticks": ""
            },
            "colorscale": [
             [
              0,
              "#0d0887"
             ],
             [
              0.1111111111111111,
              "#46039f"
             ],
             [
              0.2222222222222222,
              "#7201a8"
             ],
             [
              0.3333333333333333,
              "#9c179e"
             ],
             [
              0.4444444444444444,
              "#bd3786"
             ],
             [
              0.5555555555555556,
              "#d8576b"
             ],
             [
              0.6666666666666666,
              "#ed7953"
             ],
             [
              0.7777777777777778,
              "#fb9f3a"
             ],
             [
              0.8888888888888888,
              "#fdca26"
             ],
             [
              1,
              "#f0f921"
             ]
            ],
            "type": "heatmapgl"
           }
          ],
          "histogram": [
           {
            "marker": {
             "pattern": {
              "fillmode": "overlay",
              "size": 10,
              "solidity": 0.2
             }
            },
            "type": "histogram"
           }
          ],
          "histogram2d": [
           {
            "colorbar": {
             "outlinewidth": 0,
             "ticks": ""
            },
            "colorscale": [
             [
              0,
              "#0d0887"
             ],
             [
              0.1111111111111111,
              "#46039f"
             ],
             [
              0.2222222222222222,
              "#7201a8"
             ],
             [
              0.3333333333333333,
              "#9c179e"
             ],
             [
              0.4444444444444444,
              "#bd3786"
             ],
             [
              0.5555555555555556,
              "#d8576b"
             ],
             [
              0.6666666666666666,
              "#ed7953"
             ],
             [
              0.7777777777777778,
              "#fb9f3a"
             ],
             [
              0.8888888888888888,
              "#fdca26"
             ],
             [
              1,
              "#f0f921"
             ]
            ],
            "type": "histogram2d"
           }
          ],
          "histogram2dcontour": [
           {
            "colorbar": {
             "outlinewidth": 0,
             "ticks": ""
            },
            "colorscale": [
             [
              0,
              "#0d0887"
             ],
             [
              0.1111111111111111,
              "#46039f"
             ],
             [
              0.2222222222222222,
              "#7201a8"
             ],
             [
              0.3333333333333333,
              "#9c179e"
             ],
             [
              0.4444444444444444,
              "#bd3786"
             ],
             [
              0.5555555555555556,
              "#d8576b"
             ],
             [
              0.6666666666666666,
              "#ed7953"
             ],
             [
              0.7777777777777778,
              "#fb9f3a"
             ],
             [
              0.8888888888888888,
              "#fdca26"
             ],
             [
              1,
              "#f0f921"
             ]
            ],
            "type": "histogram2dcontour"
           }
          ],
          "mesh3d": [
           {
            "colorbar": {
             "outlinewidth": 0,
             "ticks": ""
            },
            "type": "mesh3d"
           }
          ],
          "parcoords": [
           {
            "line": {
             "colorbar": {
              "outlinewidth": 0,
              "ticks": ""
             }
            },
            "type": "parcoords"
           }
          ],
          "pie": [
           {
            "automargin": true,
            "type": "pie"
           }
          ],
          "scatter": [
           {
            "fillpattern": {
             "fillmode": "overlay",
             "size": 10,
             "solidity": 0.2
            },
            "type": "scatter"
           }
          ],
          "scatter3d": [
           {
            "line": {
             "colorbar": {
              "outlinewidth": 0,
              "ticks": ""
             }
            },
            "marker": {
             "colorbar": {
              "outlinewidth": 0,
              "ticks": ""
             }
            },
            "type": "scatter3d"
           }
          ],
          "scattercarpet": [
           {
            "marker": {
             "colorbar": {
              "outlinewidth": 0,
              "ticks": ""
             }
            },
            "type": "scattercarpet"
           }
          ],
          "scattergeo": [
           {
            "marker": {
             "colorbar": {
              "outlinewidth": 0,
              "ticks": ""
             }
            },
            "type": "scattergeo"
           }
          ],
          "scattergl": [
           {
            "marker": {
             "colorbar": {
              "outlinewidth": 0,
              "ticks": ""
             }
            },
            "type": "scattergl"
           }
          ],
          "scattermapbox": [
           {
            "marker": {
             "colorbar": {
              "outlinewidth": 0,
              "ticks": ""
             }
            },
            "type": "scattermapbox"
           }
          ],
          "scatterpolar": [
           {
            "marker": {
             "colorbar": {
              "outlinewidth": 0,
              "ticks": ""
             }
            },
            "type": "scatterpolar"
           }
          ],
          "scatterpolargl": [
           {
            "marker": {
             "colorbar": {
              "outlinewidth": 0,
              "ticks": ""
             }
            },
            "type": "scatterpolargl"
           }
          ],
          "scatterternary": [
           {
            "marker": {
             "colorbar": {
              "outlinewidth": 0,
              "ticks": ""
             }
            },
            "type": "scatterternary"
           }
          ],
          "surface": [
           {
            "colorbar": {
             "outlinewidth": 0,
             "ticks": ""
            },
            "colorscale": [
             [
              0,
              "#0d0887"
             ],
             [
              0.1111111111111111,
              "#46039f"
             ],
             [
              0.2222222222222222,
              "#7201a8"
             ],
             [
              0.3333333333333333,
              "#9c179e"
             ],
             [
              0.4444444444444444,
              "#bd3786"
             ],
             [
              0.5555555555555556,
              "#d8576b"
             ],
             [
              0.6666666666666666,
              "#ed7953"
             ],
             [
              0.7777777777777778,
              "#fb9f3a"
             ],
             [
              0.8888888888888888,
              "#fdca26"
             ],
             [
              1,
              "#f0f921"
             ]
            ],
            "type": "surface"
           }
          ],
          "table": [
           {
            "cells": {
             "fill": {
              "color": "#EBF0F8"
             },
             "line": {
              "color": "white"
             }
            },
            "header": {
             "fill": {
              "color": "#C8D4E3"
             },
             "line": {
              "color": "white"
             }
            },
            "type": "table"
           }
          ]
         },
         "layout": {
          "annotationdefaults": {
           "arrowcolor": "#2a3f5f",
           "arrowhead": 0,
           "arrowwidth": 1
          },
          "autotypenumbers": "strict",
          "coloraxis": {
           "colorbar": {
            "outlinewidth": 0,
            "ticks": ""
           }
          },
          "colorscale": {
           "diverging": [
            [
             0,
             "#8e0152"
            ],
            [
             0.1,
             "#c51b7d"
            ],
            [
             0.2,
             "#de77ae"
            ],
            [
             0.3,
             "#f1b6da"
            ],
            [
             0.4,
             "#fde0ef"
            ],
            [
             0.5,
             "#f7f7f7"
            ],
            [
             0.6,
             "#e6f5d0"
            ],
            [
             0.7,
             "#b8e186"
            ],
            [
             0.8,
             "#7fbc41"
            ],
            [
             0.9,
             "#4d9221"
            ],
            [
             1,
             "#276419"
            ]
           ],
           "sequential": [
            [
             0,
             "#0d0887"
            ],
            [
             0.1111111111111111,
             "#46039f"
            ],
            [
             0.2222222222222222,
             "#7201a8"
            ],
            [
             0.3333333333333333,
             "#9c179e"
            ],
            [
             0.4444444444444444,
             "#bd3786"
            ],
            [
             0.5555555555555556,
             "#d8576b"
            ],
            [
             0.6666666666666666,
             "#ed7953"
            ],
            [
             0.7777777777777778,
             "#fb9f3a"
            ],
            [
             0.8888888888888888,
             "#fdca26"
            ],
            [
             1,
             "#f0f921"
            ]
           ],
           "sequentialminus": [
            [
             0,
             "#0d0887"
            ],
            [
             0.1111111111111111,
             "#46039f"
            ],
            [
             0.2222222222222222,
             "#7201a8"
            ],
            [
             0.3333333333333333,
             "#9c179e"
            ],
            [
             0.4444444444444444,
             "#bd3786"
            ],
            [
             0.5555555555555556,
             "#d8576b"
            ],
            [
             0.6666666666666666,
             "#ed7953"
            ],
            [
             0.7777777777777778,
             "#fb9f3a"
            ],
            [
             0.8888888888888888,
             "#fdca26"
            ],
            [
             1,
             "#f0f921"
            ]
           ]
          },
          "colorway": [
           "#636efa",
           "#EF553B",
           "#00cc96",
           "#ab63fa",
           "#FFA15A",
           "#19d3f3",
           "#FF6692",
           "#B6E880",
           "#FF97FF",
           "#FECB52"
          ],
          "font": {
           "color": "#2a3f5f"
          },
          "geo": {
           "bgcolor": "white",
           "lakecolor": "white",
           "landcolor": "#E5ECF6",
           "showlakes": true,
           "showland": true,
           "subunitcolor": "white"
          },
          "hoverlabel": {
           "align": "left"
          },
          "hovermode": "closest",
          "mapbox": {
           "style": "light"
          },
          "paper_bgcolor": "white",
          "plot_bgcolor": "#E5ECF6",
          "polar": {
           "angularaxis": {
            "gridcolor": "white",
            "linecolor": "white",
            "ticks": ""
           },
           "bgcolor": "#E5ECF6",
           "radialaxis": {
            "gridcolor": "white",
            "linecolor": "white",
            "ticks": ""
           }
          },
          "scene": {
           "xaxis": {
            "backgroundcolor": "#E5ECF6",
            "gridcolor": "white",
            "gridwidth": 2,
            "linecolor": "white",
            "showbackground": true,
            "ticks": "",
            "zerolinecolor": "white"
           },
           "yaxis": {
            "backgroundcolor": "#E5ECF6",
            "gridcolor": "white",
            "gridwidth": 2,
            "linecolor": "white",
            "showbackground": true,
            "ticks": "",
            "zerolinecolor": "white"
           },
           "zaxis": {
            "backgroundcolor": "#E5ECF6",
            "gridcolor": "white",
            "gridwidth": 2,
            "linecolor": "white",
            "showbackground": true,
            "ticks": "",
            "zerolinecolor": "white"
           }
          },
          "shapedefaults": {
           "line": {
            "color": "#2a3f5f"
           }
          },
          "ternary": {
           "aaxis": {
            "gridcolor": "white",
            "linecolor": "white",
            "ticks": ""
           },
           "baxis": {
            "gridcolor": "white",
            "linecolor": "white",
            "ticks": ""
           },
           "bgcolor": "#E5ECF6",
           "caxis": {
            "gridcolor": "white",
            "linecolor": "white",
            "ticks": ""
           }
          },
          "title": {
           "x": 0.05
          },
          "xaxis": {
           "automargin": true,
           "gridcolor": "white",
           "linecolor": "white",
           "ticks": "",
           "title": {
            "standoff": 15
           },
           "zerolinecolor": "white",
           "zerolinewidth": 2
          },
          "yaxis": {
           "automargin": true,
           "gridcolor": "white",
           "linecolor": "white",
           "ticks": "",
           "title": {
            "standoff": 15
           },
           "zerolinecolor": "white",
           "zerolinewidth": 2
          }
         }
        },
        "title": {
         "text": "Scatter Plot Example"
        },
        "xaxis": {
         "title": {
          "text": "Emissions (CO2eq) from CH4 (AR5)"
         }
        },
        "yaxis": {
         "title": {
          "text": "Production"
         }
        }
       }
      },
      "text/html": [
       "<div>                            <div id=\"40e9ebd8-1125-43d8-aa1f-a0ad45677d98\" class=\"plotly-graph-div\" style=\"height:525px; width:100%;\"></div>            <script type=\"text/javascript\">                require([\"plotly\"], function(Plotly) {                    window.PLOTLYENV=window.PLOTLYENV || {};                                    if (document.getElementById(\"40e9ebd8-1125-43d8-aa1f-a0ad45677d98\")) {                    Plotly.newPlot(                        \"40e9ebd8-1125-43d8-aa1f-a0ad45677d98\",                        [{\"mode\":\"markers\",\"x\":[1268974.8647833334,1293527.0270833333,1304504.7937166665,1327716.9638,1346254.4190999998,1372047.4545666666,1397301.4274333334,1417777.0402333334,1425123.6545333334,1435178.9348666666,1459449.5024333333,1473694.8309166667,1498057.6401166667,1527204.5976166667,1554010.4944666668,1562590.8317,1571110.5698499999,1575766.8379,1580107.0119333332,1602689.786066667,1614704.9802166668,1620845.6563333336,1628398.8025666669,1641855.0848333333,1647207.5362666666,1658738.9878333334,1653211.8308333333,1669994.2235833332,1694174.0874666665,1199364.4547724999,1186965.8880475,1198800.9284525,1201179.7883075,1256538.7416349999,1193559.2348731707,1245525.45282,1272461.7176100002,1262846.8000824999,1257285.4115,1256879.807587805,1243975.4265625,1278237.896505,1284236.9345475,1330784.3670775,1337600.0951275001,1303897.8379048782,1322955.83087,1329860.0112275002,1342093.6295925,1375956.6398875,1372193.091075,1393070.438575,1380884.8784425,1397438.6724925,1430827.29709,1388447.013725,1384479.7891799998,1396187.2811250002,1415786.3281075,1407583.0369375,null],\"y\":[1083667059.0,1118482387.0,1146767041.0,1184758554.0,1210465099.0,1254340110.0,1299302844.0,1337368930.0,1344596827.0,1386707418.0,1420697818.0,1414268652.0,1493275029.0,1504827569.0,1533217930.0,1569694853.0,1607622952.0,1680725225.0,1699748103.0,1701820059.0,1757505557.0,1814875418.0,1822636743.0,1915023589.0,1947322965.0,1980385333.0,2003967791.0,2023984717.0,2094492093.0,2148500096.0,2087533162.0,2192203610.0,2210009822.0,2267786946.0,2312014062.0,2401322613.0,2454085045.0,2494018935.0,2572370880.0,2627259893.0,2665706906.0,2703188511.0,2770276457.0,2900173006.0,2954207241.0,3016099381.0,3097485761.0,3217408651.0,3240964362.0,3323571228.0,3448435091.0,3490019313.0,3630375823.0,3703588788.0,3757329935.0,3805258893.0,3909424813.0,3951007991.0,3993589039.0,4050314909.0,4125746540.0],\"type\":\"scatter\"}],                        {\"template\":{\"data\":{\"histogram2dcontour\":[{\"type\":\"histogram2dcontour\",\"colorbar\":{\"outlinewidth\":0,\"ticks\":\"\"},\"colorscale\":[[0.0,\"#0d0887\"],[0.1111111111111111,\"#46039f\"],[0.2222222222222222,\"#7201a8\"],[0.3333333333333333,\"#9c179e\"],[0.4444444444444444,\"#bd3786\"],[0.5555555555555556,\"#d8576b\"],[0.6666666666666666,\"#ed7953\"],[0.7777777777777778,\"#fb9f3a\"],[0.8888888888888888,\"#fdca26\"],[1.0,\"#f0f921\"]]}],\"choropleth\":[{\"type\":\"choropleth\",\"colorbar\":{\"outlinewidth\":0,\"ticks\":\"\"}}],\"histogram2d\":[{\"type\":\"histogram2d\",\"colorbar\":{\"outlinewidth\":0,\"ticks\":\"\"},\"colorscale\":[[0.0,\"#0d0887\"],[0.1111111111111111,\"#46039f\"],[0.2222222222222222,\"#7201a8\"],[0.3333333333333333,\"#9c179e\"],[0.4444444444444444,\"#bd3786\"],[0.5555555555555556,\"#d8576b\"],[0.6666666666666666,\"#ed7953\"],[0.7777777777777778,\"#fb9f3a\"],[0.8888888888888888,\"#fdca26\"],[1.0,\"#f0f921\"]]}],\"heatmap\":[{\"type\":\"heatmap\",\"colorbar\":{\"outlinewidth\":0,\"ticks\":\"\"},\"colorscale\":[[0.0,\"#0d0887\"],[0.1111111111111111,\"#46039f\"],[0.2222222222222222,\"#7201a8\"],[0.3333333333333333,\"#9c179e\"],[0.4444444444444444,\"#bd3786\"],[0.5555555555555556,\"#d8576b\"],[0.6666666666666666,\"#ed7953\"],[0.7777777777777778,\"#fb9f3a\"],[0.8888888888888888,\"#fdca26\"],[1.0,\"#f0f921\"]]}],\"heatmapgl\":[{\"type\":\"heatmapgl\",\"colorbar\":{\"outlinewidth\":0,\"ticks\":\"\"},\"colorscale\":[[0.0,\"#0d0887\"],[0.1111111111111111,\"#46039f\"],[0.2222222222222222,\"#7201a8\"],[0.3333333333333333,\"#9c179e\"],[0.4444444444444444,\"#bd3786\"],[0.5555555555555556,\"#d8576b\"],[0.6666666666666666,\"#ed7953\"],[0.7777777777777778,\"#fb9f3a\"],[0.8888888888888888,\"#fdca26\"],[1.0,\"#f0f921\"]]}],\"contourcarpet\":[{\"type\":\"contourcarpet\",\"colorbar\":{\"outlinewidth\":0,\"ticks\":\"\"}}],\"contour\":[{\"type\":\"contour\",\"colorbar\":{\"outlinewidth\":0,\"ticks\":\"\"},\"colorscale\":[[0.0,\"#0d0887\"],[0.1111111111111111,\"#46039f\"],[0.2222222222222222,\"#7201a8\"],[0.3333333333333333,\"#9c179e\"],[0.4444444444444444,\"#bd3786\"],[0.5555555555555556,\"#d8576b\"],[0.6666666666666666,\"#ed7953\"],[0.7777777777777778,\"#fb9f3a\"],[0.8888888888888888,\"#fdca26\"],[1.0,\"#f0f921\"]]}],\"surface\":[{\"type\":\"surface\",\"colorbar\":{\"outlinewidth\":0,\"ticks\":\"\"},\"colorscale\":[[0.0,\"#0d0887\"],[0.1111111111111111,\"#46039f\"],[0.2222222222222222,\"#7201a8\"],[0.3333333333333333,\"#9c179e\"],[0.4444444444444444,\"#bd3786\"],[0.5555555555555556,\"#d8576b\"],[0.6666666666666666,\"#ed7953\"],[0.7777777777777778,\"#fb9f3a\"],[0.8888888888888888,\"#fdca26\"],[1.0,\"#f0f921\"]]}],\"mesh3d\":[{\"type\":\"mesh3d\",\"colorbar\":{\"outlinewidth\":0,\"ticks\":\"\"}}],\"scatter\":[{\"fillpattern\":{\"fillmode\":\"overlay\",\"size\":10,\"solidity\":0.2},\"type\":\"scatter\"}],\"parcoords\":[{\"type\":\"parcoords\",\"line\":{\"colorbar\":{\"outlinewidth\":0,\"ticks\":\"\"}}}],\"scatterpolargl\":[{\"type\":\"scatterpolargl\",\"marker\":{\"colorbar\":{\"outlinewidth\":0,\"ticks\":\"\"}}}],\"bar\":[{\"error_x\":{\"color\":\"#2a3f5f\"},\"error_y\":{\"color\":\"#2a3f5f\"},\"marker\":{\"line\":{\"color\":\"#E5ECF6\",\"width\":0.5},\"pattern\":{\"fillmode\":\"overlay\",\"size\":10,\"solidity\":0.2}},\"type\":\"bar\"}],\"scattergeo\":[{\"type\":\"scattergeo\",\"marker\":{\"colorbar\":{\"outlinewidth\":0,\"ticks\":\"\"}}}],\"scatterpolar\":[{\"type\":\"scatterpolar\",\"marker\":{\"colorbar\":{\"outlinewidth\":0,\"ticks\":\"\"}}}],\"histogram\":[{\"marker\":{\"pattern\":{\"fillmode\":\"overlay\",\"size\":10,\"solidity\":0.2}},\"type\":\"histogram\"}],\"scattergl\":[{\"type\":\"scattergl\",\"marker\":{\"colorbar\":{\"outlinewidth\":0,\"ticks\":\"\"}}}],\"scatter3d\":[{\"type\":\"scatter3d\",\"line\":{\"colorbar\":{\"outlinewidth\":0,\"ticks\":\"\"}},\"marker\":{\"colorbar\":{\"outlinewidth\":0,\"ticks\":\"\"}}}],\"scattermapbox\":[{\"type\":\"scattermapbox\",\"marker\":{\"colorbar\":{\"outlinewidth\":0,\"ticks\":\"\"}}}],\"scatterternary\":[{\"type\":\"scatterternary\",\"marker\":{\"colorbar\":{\"outlinewidth\":0,\"ticks\":\"\"}}}],\"scattercarpet\":[{\"type\":\"scattercarpet\",\"marker\":{\"colorbar\":{\"outlinewidth\":0,\"ticks\":\"\"}}}],\"carpet\":[{\"aaxis\":{\"endlinecolor\":\"#2a3f5f\",\"gridcolor\":\"white\",\"linecolor\":\"white\",\"minorgridcolor\":\"white\",\"startlinecolor\":\"#2a3f5f\"},\"baxis\":{\"endlinecolor\":\"#2a3f5f\",\"gridcolor\":\"white\",\"linecolor\":\"white\",\"minorgridcolor\":\"white\",\"startlinecolor\":\"#2a3f5f\"},\"type\":\"carpet\"}],\"table\":[{\"cells\":{\"fill\":{\"color\":\"#EBF0F8\"},\"line\":{\"color\":\"white\"}},\"header\":{\"fill\":{\"color\":\"#C8D4E3\"},\"line\":{\"color\":\"white\"}},\"type\":\"table\"}],\"barpolar\":[{\"marker\":{\"line\":{\"color\":\"#E5ECF6\",\"width\":0.5},\"pattern\":{\"fillmode\":\"overlay\",\"size\":10,\"solidity\":0.2}},\"type\":\"barpolar\"}],\"pie\":[{\"automargin\":true,\"type\":\"pie\"}]},\"layout\":{\"autotypenumbers\":\"strict\",\"colorway\":[\"#636efa\",\"#EF553B\",\"#00cc96\",\"#ab63fa\",\"#FFA15A\",\"#19d3f3\",\"#FF6692\",\"#B6E880\",\"#FF97FF\",\"#FECB52\"],\"font\":{\"color\":\"#2a3f5f\"},\"hovermode\":\"closest\",\"hoverlabel\":{\"align\":\"left\"},\"paper_bgcolor\":\"white\",\"plot_bgcolor\":\"#E5ECF6\",\"polar\":{\"bgcolor\":\"#E5ECF6\",\"angularaxis\":{\"gridcolor\":\"white\",\"linecolor\":\"white\",\"ticks\":\"\"},\"radialaxis\":{\"gridcolor\":\"white\",\"linecolor\":\"white\",\"ticks\":\"\"}},\"ternary\":{\"bgcolor\":\"#E5ECF6\",\"aaxis\":{\"gridcolor\":\"white\",\"linecolor\":\"white\",\"ticks\":\"\"},\"baxis\":{\"gridcolor\":\"white\",\"linecolor\":\"white\",\"ticks\":\"\"},\"caxis\":{\"gridcolor\":\"white\",\"linecolor\":\"white\",\"ticks\":\"\"}},\"coloraxis\":{\"colorbar\":{\"outlinewidth\":0,\"ticks\":\"\"}},\"colorscale\":{\"sequential\":[[0.0,\"#0d0887\"],[0.1111111111111111,\"#46039f\"],[0.2222222222222222,\"#7201a8\"],[0.3333333333333333,\"#9c179e\"],[0.4444444444444444,\"#bd3786\"],[0.5555555555555556,\"#d8576b\"],[0.6666666666666666,\"#ed7953\"],[0.7777777777777778,\"#fb9f3a\"],[0.8888888888888888,\"#fdca26\"],[1.0,\"#f0f921\"]],\"sequentialminus\":[[0.0,\"#0d0887\"],[0.1111111111111111,\"#46039f\"],[0.2222222222222222,\"#7201a8\"],[0.3333333333333333,\"#9c179e\"],[0.4444444444444444,\"#bd3786\"],[0.5555555555555556,\"#d8576b\"],[0.6666666666666666,\"#ed7953\"],[0.7777777777777778,\"#fb9f3a\"],[0.8888888888888888,\"#fdca26\"],[1.0,\"#f0f921\"]],\"diverging\":[[0,\"#8e0152\"],[0.1,\"#c51b7d\"],[0.2,\"#de77ae\"],[0.3,\"#f1b6da\"],[0.4,\"#fde0ef\"],[0.5,\"#f7f7f7\"],[0.6,\"#e6f5d0\"],[0.7,\"#b8e186\"],[0.8,\"#7fbc41\"],[0.9,\"#4d9221\"],[1,\"#276419\"]]},\"xaxis\":{\"gridcolor\":\"white\",\"linecolor\":\"white\",\"ticks\":\"\",\"title\":{\"standoff\":15},\"zerolinecolor\":\"white\",\"automargin\":true,\"zerolinewidth\":2},\"yaxis\":{\"gridcolor\":\"white\",\"linecolor\":\"white\",\"ticks\":\"\",\"title\":{\"standoff\":15},\"zerolinecolor\":\"white\",\"automargin\":true,\"zerolinewidth\":2},\"scene\":{\"xaxis\":{\"backgroundcolor\":\"#E5ECF6\",\"gridcolor\":\"white\",\"linecolor\":\"white\",\"showbackground\":true,\"ticks\":\"\",\"zerolinecolor\":\"white\",\"gridwidth\":2},\"yaxis\":{\"backgroundcolor\":\"#E5ECF6\",\"gridcolor\":\"white\",\"linecolor\":\"white\",\"showbackground\":true,\"ticks\":\"\",\"zerolinecolor\":\"white\",\"gridwidth\":2},\"zaxis\":{\"backgroundcolor\":\"#E5ECF6\",\"gridcolor\":\"white\",\"linecolor\":\"white\",\"showbackground\":true,\"ticks\":\"\",\"zerolinecolor\":\"white\",\"gridwidth\":2}},\"shapedefaults\":{\"line\":{\"color\":\"#2a3f5f\"}},\"annotationdefaults\":{\"arrowcolor\":\"#2a3f5f\",\"arrowhead\":0,\"arrowwidth\":1},\"geo\":{\"bgcolor\":\"white\",\"landcolor\":\"#E5ECF6\",\"subunitcolor\":\"white\",\"showland\":true,\"showlakes\":true,\"lakecolor\":\"white\"},\"title\":{\"x\":0.05},\"mapbox\":{\"style\":\"light\"}}},\"xaxis\":{\"title\":{\"text\":\"Emissions (CO2eq) from CH4 (AR5)\"}},\"yaxis\":{\"title\":{\"text\":\"Production\"}},\"title\":{\"text\":\"Scatter Plot Example\"}},                        {\"responsive\": true}                    ).then(function(){\n",
       "                            \n",
       "var gd = document.getElementById('40e9ebd8-1125-43d8-aa1f-a0ad45677d98');\n",
       "var x = new MutationObserver(function (mutations, observer) {{\n",
       "        var display = window.getComputedStyle(gd).display;\n",
       "        if (!display || display === 'none') {{\n",
       "            console.log([gd, 'removed!']);\n",
       "            Plotly.purge(gd);\n",
       "            observer.disconnect();\n",
       "        }}\n",
       "}});\n",
       "\n",
       "// Listen for the removal of the full notebook cells\n",
       "var notebookContainer = gd.closest('#notebook-container');\n",
       "if (notebookContainer) {{\n",
       "    x.observe(notebookContainer, {childList: true});\n",
       "}}\n",
       "\n",
       "// Listen for the clearing of the current output cell\n",
       "var outputEl = gd.closest('.output');\n",
       "if (outputEl) {{\n",
       "    x.observe(outputEl, {childList: true});\n",
       "}}\n",
       "\n",
       "                        })                };                });            </script>        </div>"
      ]
     },
     "metadata": {},
     "output_type": "display_data"
    },
    {
     "data": {
      "application/vnd.plotly.v1+json": {
       "config": {
        "plotlyServerURL": "https://plot.ly"
       },
       "data": [
        {
         "mode": "markers",
         "type": "scatter",
         "x": [
          null,
          null,
          null,
          null,
          null,
          null,
          null,
          null,
          null,
          null,
          null,
          null,
          null,
          null,
          null,
          null,
          null,
          null,
          null,
          null,
          null,
          null,
          null,
          null,
          null,
          null,
          null,
          null,
          null,
          136663.33227777778,
          145514.78903333336,
          142685.21473333333,
          141340.37492222222,
          149870.18774444444,
          155956.9295888889,
          165668.03446666666,
          182855.20078888888,
          189745.7174,
          220184.46297777776,
          220116.7510888889,
          225939.7424111111,
          249387.1091111111,
          271429.8048444444,
          309432.1901666667,
          338425.8860777778,
          372441.0531777778,
          391492.89408888883,
          415669.3117444445,
          434964.5604444444,
          477684.13018888887,
          497972.0620222222,
          541727.4986333334,
          580363.6947444445,
          608899.9194888888,
          613414.7615111112,
          636253.2412666666,
          665794.3769222223,
          692122.7765666667,
          701520.874388889,
          718240.7405333333,
          null
         ],
         "y": [
          1083667059,
          1118482387,
          1146767041,
          1184758554,
          1210465099,
          1254340110,
          1299302844,
          1337368930,
          1344596827,
          1386707418,
          1420697818,
          1414268652,
          1493275029,
          1504827569,
          1533217930,
          1569694853,
          1607622952,
          1680725225,
          1699748103,
          1701820059,
          1757505557,
          1814875418,
          1822636743,
          1915023589,
          1947322965,
          1980385333,
          2003967791,
          2023984717,
          2094492093,
          2148500096,
          2087533162,
          2192203610,
          2210009822,
          2267786946,
          2312014062,
          2401322613,
          2454085045,
          2494018935,
          2572370880,
          2627259893,
          2665706906,
          2703188511,
          2770276457,
          2900173006,
          2954207241,
          3016099381,
          3097485761,
          3217408651,
          3240964362,
          3323571228,
          3448435091,
          3490019313,
          3630375823,
          3703588788,
          3757329935,
          3805258893,
          3909424813,
          3951007991,
          3993589039,
          4050314909,
          4125746540
         ]
        }
       ],
       "layout": {
        "template": {
         "data": {
          "bar": [
           {
            "error_x": {
             "color": "#2a3f5f"
            },
            "error_y": {
             "color": "#2a3f5f"
            },
            "marker": {
             "line": {
              "color": "#E5ECF6",
              "width": 0.5
             },
             "pattern": {
              "fillmode": "overlay",
              "size": 10,
              "solidity": 0.2
             }
            },
            "type": "bar"
           }
          ],
          "barpolar": [
           {
            "marker": {
             "line": {
              "color": "#E5ECF6",
              "width": 0.5
             },
             "pattern": {
              "fillmode": "overlay",
              "size": 10,
              "solidity": 0.2
             }
            },
            "type": "barpolar"
           }
          ],
          "carpet": [
           {
            "aaxis": {
             "endlinecolor": "#2a3f5f",
             "gridcolor": "white",
             "linecolor": "white",
             "minorgridcolor": "white",
             "startlinecolor": "#2a3f5f"
            },
            "baxis": {
             "endlinecolor": "#2a3f5f",
             "gridcolor": "white",
             "linecolor": "white",
             "minorgridcolor": "white",
             "startlinecolor": "#2a3f5f"
            },
            "type": "carpet"
           }
          ],
          "choropleth": [
           {
            "colorbar": {
             "outlinewidth": 0,
             "ticks": ""
            },
            "type": "choropleth"
           }
          ],
          "contour": [
           {
            "colorbar": {
             "outlinewidth": 0,
             "ticks": ""
            },
            "colorscale": [
             [
              0,
              "#0d0887"
             ],
             [
              0.1111111111111111,
              "#46039f"
             ],
             [
              0.2222222222222222,
              "#7201a8"
             ],
             [
              0.3333333333333333,
              "#9c179e"
             ],
             [
              0.4444444444444444,
              "#bd3786"
             ],
             [
              0.5555555555555556,
              "#d8576b"
             ],
             [
              0.6666666666666666,
              "#ed7953"
             ],
             [
              0.7777777777777778,
              "#fb9f3a"
             ],
             [
              0.8888888888888888,
              "#fdca26"
             ],
             [
              1,
              "#f0f921"
             ]
            ],
            "type": "contour"
           }
          ],
          "contourcarpet": [
           {
            "colorbar": {
             "outlinewidth": 0,
             "ticks": ""
            },
            "type": "contourcarpet"
           }
          ],
          "heatmap": [
           {
            "colorbar": {
             "outlinewidth": 0,
             "ticks": ""
            },
            "colorscale": [
             [
              0,
              "#0d0887"
             ],
             [
              0.1111111111111111,
              "#46039f"
             ],
             [
              0.2222222222222222,
              "#7201a8"
             ],
             [
              0.3333333333333333,
              "#9c179e"
             ],
             [
              0.4444444444444444,
              "#bd3786"
             ],
             [
              0.5555555555555556,
              "#d8576b"
             ],
             [
              0.6666666666666666,
              "#ed7953"
             ],
             [
              0.7777777777777778,
              "#fb9f3a"
             ],
             [
              0.8888888888888888,
              "#fdca26"
             ],
             [
              1,
              "#f0f921"
             ]
            ],
            "type": "heatmap"
           }
          ],
          "heatmapgl": [
           {
            "colorbar": {
             "outlinewidth": 0,
             "ticks": ""
            },
            "colorscale": [
             [
              0,
              "#0d0887"
             ],
             [
              0.1111111111111111,
              "#46039f"
             ],
             [
              0.2222222222222222,
              "#7201a8"
             ],
             [
              0.3333333333333333,
              "#9c179e"
             ],
             [
              0.4444444444444444,
              "#bd3786"
             ],
             [
              0.5555555555555556,
              "#d8576b"
             ],
             [
              0.6666666666666666,
              "#ed7953"
             ],
             [
              0.7777777777777778,
              "#fb9f3a"
             ],
             [
              0.8888888888888888,
              "#fdca26"
             ],
             [
              1,
              "#f0f921"
             ]
            ],
            "type": "heatmapgl"
           }
          ],
          "histogram": [
           {
            "marker": {
             "pattern": {
              "fillmode": "overlay",
              "size": 10,
              "solidity": 0.2
             }
            },
            "type": "histogram"
           }
          ],
          "histogram2d": [
           {
            "colorbar": {
             "outlinewidth": 0,
             "ticks": ""
            },
            "colorscale": [
             [
              0,
              "#0d0887"
             ],
             [
              0.1111111111111111,
              "#46039f"
             ],
             [
              0.2222222222222222,
              "#7201a8"
             ],
             [
              0.3333333333333333,
              "#9c179e"
             ],
             [
              0.4444444444444444,
              "#bd3786"
             ],
             [
              0.5555555555555556,
              "#d8576b"
             ],
             [
              0.6666666666666666,
              "#ed7953"
             ],
             [
              0.7777777777777778,
              "#fb9f3a"
             ],
             [
              0.8888888888888888,
              "#fdca26"
             ],
             [
              1,
              "#f0f921"
             ]
            ],
            "type": "histogram2d"
           }
          ],
          "histogram2dcontour": [
           {
            "colorbar": {
             "outlinewidth": 0,
             "ticks": ""
            },
            "colorscale": [
             [
              0,
              "#0d0887"
             ],
             [
              0.1111111111111111,
              "#46039f"
             ],
             [
              0.2222222222222222,
              "#7201a8"
             ],
             [
              0.3333333333333333,
              "#9c179e"
             ],
             [
              0.4444444444444444,
              "#bd3786"
             ],
             [
              0.5555555555555556,
              "#d8576b"
             ],
             [
              0.6666666666666666,
              "#ed7953"
             ],
             [
              0.7777777777777778,
              "#fb9f3a"
             ],
             [
              0.8888888888888888,
              "#fdca26"
             ],
             [
              1,
              "#f0f921"
             ]
            ],
            "type": "histogram2dcontour"
           }
          ],
          "mesh3d": [
           {
            "colorbar": {
             "outlinewidth": 0,
             "ticks": ""
            },
            "type": "mesh3d"
           }
          ],
          "parcoords": [
           {
            "line": {
             "colorbar": {
              "outlinewidth": 0,
              "ticks": ""
             }
            },
            "type": "parcoords"
           }
          ],
          "pie": [
           {
            "automargin": true,
            "type": "pie"
           }
          ],
          "scatter": [
           {
            "fillpattern": {
             "fillmode": "overlay",
             "size": 10,
             "solidity": 0.2
            },
            "type": "scatter"
           }
          ],
          "scatter3d": [
           {
            "line": {
             "colorbar": {
              "outlinewidth": 0,
              "ticks": ""
             }
            },
            "marker": {
             "colorbar": {
              "outlinewidth": 0,
              "ticks": ""
             }
            },
            "type": "scatter3d"
           }
          ],
          "scattercarpet": [
           {
            "marker": {
             "colorbar": {
              "outlinewidth": 0,
              "ticks": ""
             }
            },
            "type": "scattercarpet"
           }
          ],
          "scattergeo": [
           {
            "marker": {
             "colorbar": {
              "outlinewidth": 0,
              "ticks": ""
             }
            },
            "type": "scattergeo"
           }
          ],
          "scattergl": [
           {
            "marker": {
             "colorbar": {
              "outlinewidth": 0,
              "ticks": ""
             }
            },
            "type": "scattergl"
           }
          ],
          "scattermapbox": [
           {
            "marker": {
             "colorbar": {
              "outlinewidth": 0,
              "ticks": ""
             }
            },
            "type": "scattermapbox"
           }
          ],
          "scatterpolar": [
           {
            "marker": {
             "colorbar": {
              "outlinewidth": 0,
              "ticks": ""
             }
            },
            "type": "scatterpolar"
           }
          ],
          "scatterpolargl": [
           {
            "marker": {
             "colorbar": {
              "outlinewidth": 0,
              "ticks": ""
             }
            },
            "type": "scatterpolargl"
           }
          ],
          "scatterternary": [
           {
            "marker": {
             "colorbar": {
              "outlinewidth": 0,
              "ticks": ""
             }
            },
            "type": "scatterternary"
           }
          ],
          "surface": [
           {
            "colorbar": {
             "outlinewidth": 0,
             "ticks": ""
            },
            "colorscale": [
             [
              0,
              "#0d0887"
             ],
             [
              0.1111111111111111,
              "#46039f"
             ],
             [
              0.2222222222222222,
              "#7201a8"
             ],
             [
              0.3333333333333333,
              "#9c179e"
             ],
             [
              0.4444444444444444,
              "#bd3786"
             ],
             [
              0.5555555555555556,
              "#d8576b"
             ],
             [
              0.6666666666666666,
              "#ed7953"
             ],
             [
              0.7777777777777778,
              "#fb9f3a"
             ],
             [
              0.8888888888888888,
              "#fdca26"
             ],
             [
              1,
              "#f0f921"
             ]
            ],
            "type": "surface"
           }
          ],
          "table": [
           {
            "cells": {
             "fill": {
              "color": "#EBF0F8"
             },
             "line": {
              "color": "white"
             }
            },
            "header": {
             "fill": {
              "color": "#C8D4E3"
             },
             "line": {
              "color": "white"
             }
            },
            "type": "table"
           }
          ]
         },
         "layout": {
          "annotationdefaults": {
           "arrowcolor": "#2a3f5f",
           "arrowhead": 0,
           "arrowwidth": 1
          },
          "autotypenumbers": "strict",
          "coloraxis": {
           "colorbar": {
            "outlinewidth": 0,
            "ticks": ""
           }
          },
          "colorscale": {
           "diverging": [
            [
             0,
             "#8e0152"
            ],
            [
             0.1,
             "#c51b7d"
            ],
            [
             0.2,
             "#de77ae"
            ],
            [
             0.3,
             "#f1b6da"
            ],
            [
             0.4,
             "#fde0ef"
            ],
            [
             0.5,
             "#f7f7f7"
            ],
            [
             0.6,
             "#e6f5d0"
            ],
            [
             0.7,
             "#b8e186"
            ],
            [
             0.8,
             "#7fbc41"
            ],
            [
             0.9,
             "#4d9221"
            ],
            [
             1,
             "#276419"
            ]
           ],
           "sequential": [
            [
             0,
             "#0d0887"
            ],
            [
             0.1111111111111111,
             "#46039f"
            ],
            [
             0.2222222222222222,
             "#7201a8"
            ],
            [
             0.3333333333333333,
             "#9c179e"
            ],
            [
             0.4444444444444444,
             "#bd3786"
            ],
            [
             0.5555555555555556,
             "#d8576b"
            ],
            [
             0.6666666666666666,
             "#ed7953"
            ],
            [
             0.7777777777777778,
             "#fb9f3a"
            ],
            [
             0.8888888888888888,
             "#fdca26"
            ],
            [
             1,
             "#f0f921"
            ]
           ],
           "sequentialminus": [
            [
             0,
             "#0d0887"
            ],
            [
             0.1111111111111111,
             "#46039f"
            ],
            [
             0.2222222222222222,
             "#7201a8"
            ],
            [
             0.3333333333333333,
             "#9c179e"
            ],
            [
             0.4444444444444444,
             "#bd3786"
            ],
            [
             0.5555555555555556,
             "#d8576b"
            ],
            [
             0.6666666666666666,
             "#ed7953"
            ],
            [
             0.7777777777777778,
             "#fb9f3a"
            ],
            [
             0.8888888888888888,
             "#fdca26"
            ],
            [
             1,
             "#f0f921"
            ]
           ]
          },
          "colorway": [
           "#636efa",
           "#EF553B",
           "#00cc96",
           "#ab63fa",
           "#FFA15A",
           "#19d3f3",
           "#FF6692",
           "#B6E880",
           "#FF97FF",
           "#FECB52"
          ],
          "font": {
           "color": "#2a3f5f"
          },
          "geo": {
           "bgcolor": "white",
           "lakecolor": "white",
           "landcolor": "#E5ECF6",
           "showlakes": true,
           "showland": true,
           "subunitcolor": "white"
          },
          "hoverlabel": {
           "align": "left"
          },
          "hovermode": "closest",
          "mapbox": {
           "style": "light"
          },
          "paper_bgcolor": "white",
          "plot_bgcolor": "#E5ECF6",
          "polar": {
           "angularaxis": {
            "gridcolor": "white",
            "linecolor": "white",
            "ticks": ""
           },
           "bgcolor": "#E5ECF6",
           "radialaxis": {
            "gridcolor": "white",
            "linecolor": "white",
            "ticks": ""
           }
          },
          "scene": {
           "xaxis": {
            "backgroundcolor": "#E5ECF6",
            "gridcolor": "white",
            "gridwidth": 2,
            "linecolor": "white",
            "showbackground": true,
            "ticks": "",
            "zerolinecolor": "white"
           },
           "yaxis": {
            "backgroundcolor": "#E5ECF6",
            "gridcolor": "white",
            "gridwidth": 2,
            "linecolor": "white",
            "showbackground": true,
            "ticks": "",
            "zerolinecolor": "white"
           },
           "zaxis": {
            "backgroundcolor": "#E5ECF6",
            "gridcolor": "white",
            "gridwidth": 2,
            "linecolor": "white",
            "showbackground": true,
            "ticks": "",
            "zerolinecolor": "white"
           }
          },
          "shapedefaults": {
           "line": {
            "color": "#2a3f5f"
           }
          },
          "ternary": {
           "aaxis": {
            "gridcolor": "white",
            "linecolor": "white",
            "ticks": ""
           },
           "baxis": {
            "gridcolor": "white",
            "linecolor": "white",
            "ticks": ""
           },
           "bgcolor": "#E5ECF6",
           "caxis": {
            "gridcolor": "white",
            "linecolor": "white",
            "ticks": ""
           }
          },
          "title": {
           "x": 0.05
          },
          "xaxis": {
           "automargin": true,
           "gridcolor": "white",
           "linecolor": "white",
           "ticks": "",
           "title": {
            "standoff": 15
           },
           "zerolinecolor": "white",
           "zerolinewidth": 2
          },
          "yaxis": {
           "automargin": true,
           "gridcolor": "white",
           "linecolor": "white",
           "ticks": "",
           "title": {
            "standoff": 15
           },
           "zerolinecolor": "white",
           "zerolinewidth": 2
          }
         }
        },
        "title": {
         "text": "Scatter Plot Example"
        },
        "xaxis": {
         "title": {
          "text": "Emissions (CO2eq) from F-gases (AR5)"
         }
        },
        "yaxis": {
         "title": {
          "text": "Production"
         }
        }
       }
      },
      "text/html": [
       "<div>                            <div id=\"95b84d48-aa8d-44e2-b7cd-1657c0d68be8\" class=\"plotly-graph-div\" style=\"height:525px; width:100%;\"></div>            <script type=\"text/javascript\">                require([\"plotly\"], function(Plotly) {                    window.PLOTLYENV=window.PLOTLYENV || {};                                    if (document.getElementById(\"95b84d48-aa8d-44e2-b7cd-1657c0d68be8\")) {                    Plotly.newPlot(                        \"95b84d48-aa8d-44e2-b7cd-1657c0d68be8\",                        [{\"mode\":\"markers\",\"x\":[null,null,null,null,null,null,null,null,null,null,null,null,null,null,null,null,null,null,null,null,null,null,null,null,null,null,null,null,null,136663.33227777778,145514.78903333336,142685.21473333333,141340.37492222222,149870.18774444444,155956.9295888889,165668.03446666666,182855.20078888888,189745.7174,220184.46297777776,220116.7510888889,225939.7424111111,249387.1091111111,271429.8048444444,309432.1901666667,338425.8860777778,372441.0531777778,391492.89408888883,415669.3117444445,434964.5604444444,477684.13018888887,497972.0620222222,541727.4986333334,580363.6947444445,608899.9194888888,613414.7615111112,636253.2412666666,665794.3769222223,692122.7765666667,701520.874388889,718240.7405333333,null],\"y\":[1083667059.0,1118482387.0,1146767041.0,1184758554.0,1210465099.0,1254340110.0,1299302844.0,1337368930.0,1344596827.0,1386707418.0,1420697818.0,1414268652.0,1493275029.0,1504827569.0,1533217930.0,1569694853.0,1607622952.0,1680725225.0,1699748103.0,1701820059.0,1757505557.0,1814875418.0,1822636743.0,1915023589.0,1947322965.0,1980385333.0,2003967791.0,2023984717.0,2094492093.0,2148500096.0,2087533162.0,2192203610.0,2210009822.0,2267786946.0,2312014062.0,2401322613.0,2454085045.0,2494018935.0,2572370880.0,2627259893.0,2665706906.0,2703188511.0,2770276457.0,2900173006.0,2954207241.0,3016099381.0,3097485761.0,3217408651.0,3240964362.0,3323571228.0,3448435091.0,3490019313.0,3630375823.0,3703588788.0,3757329935.0,3805258893.0,3909424813.0,3951007991.0,3993589039.0,4050314909.0,4125746540.0],\"type\":\"scatter\"}],                        {\"template\":{\"data\":{\"histogram2dcontour\":[{\"type\":\"histogram2dcontour\",\"colorbar\":{\"outlinewidth\":0,\"ticks\":\"\"},\"colorscale\":[[0.0,\"#0d0887\"],[0.1111111111111111,\"#46039f\"],[0.2222222222222222,\"#7201a8\"],[0.3333333333333333,\"#9c179e\"],[0.4444444444444444,\"#bd3786\"],[0.5555555555555556,\"#d8576b\"],[0.6666666666666666,\"#ed7953\"],[0.7777777777777778,\"#fb9f3a\"],[0.8888888888888888,\"#fdca26\"],[1.0,\"#f0f921\"]]}],\"choropleth\":[{\"type\":\"choropleth\",\"colorbar\":{\"outlinewidth\":0,\"ticks\":\"\"}}],\"histogram2d\":[{\"type\":\"histogram2d\",\"colorbar\":{\"outlinewidth\":0,\"ticks\":\"\"},\"colorscale\":[[0.0,\"#0d0887\"],[0.1111111111111111,\"#46039f\"],[0.2222222222222222,\"#7201a8\"],[0.3333333333333333,\"#9c179e\"],[0.4444444444444444,\"#bd3786\"],[0.5555555555555556,\"#d8576b\"],[0.6666666666666666,\"#ed7953\"],[0.7777777777777778,\"#fb9f3a\"],[0.8888888888888888,\"#fdca26\"],[1.0,\"#f0f921\"]]}],\"heatmap\":[{\"type\":\"heatmap\",\"colorbar\":{\"outlinewidth\":0,\"ticks\":\"\"},\"colorscale\":[[0.0,\"#0d0887\"],[0.1111111111111111,\"#46039f\"],[0.2222222222222222,\"#7201a8\"],[0.3333333333333333,\"#9c179e\"],[0.4444444444444444,\"#bd3786\"],[0.5555555555555556,\"#d8576b\"],[0.6666666666666666,\"#ed7953\"],[0.7777777777777778,\"#fb9f3a\"],[0.8888888888888888,\"#fdca26\"],[1.0,\"#f0f921\"]]}],\"heatmapgl\":[{\"type\":\"heatmapgl\",\"colorbar\":{\"outlinewidth\":0,\"ticks\":\"\"},\"colorscale\":[[0.0,\"#0d0887\"],[0.1111111111111111,\"#46039f\"],[0.2222222222222222,\"#7201a8\"],[0.3333333333333333,\"#9c179e\"],[0.4444444444444444,\"#bd3786\"],[0.5555555555555556,\"#d8576b\"],[0.6666666666666666,\"#ed7953\"],[0.7777777777777778,\"#fb9f3a\"],[0.8888888888888888,\"#fdca26\"],[1.0,\"#f0f921\"]]}],\"contourcarpet\":[{\"type\":\"contourcarpet\",\"colorbar\":{\"outlinewidth\":0,\"ticks\":\"\"}}],\"contour\":[{\"type\":\"contour\",\"colorbar\":{\"outlinewidth\":0,\"ticks\":\"\"},\"colorscale\":[[0.0,\"#0d0887\"],[0.1111111111111111,\"#46039f\"],[0.2222222222222222,\"#7201a8\"],[0.3333333333333333,\"#9c179e\"],[0.4444444444444444,\"#bd3786\"],[0.5555555555555556,\"#d8576b\"],[0.6666666666666666,\"#ed7953\"],[0.7777777777777778,\"#fb9f3a\"],[0.8888888888888888,\"#fdca26\"],[1.0,\"#f0f921\"]]}],\"surface\":[{\"type\":\"surface\",\"colorbar\":{\"outlinewidth\":0,\"ticks\":\"\"},\"colorscale\":[[0.0,\"#0d0887\"],[0.1111111111111111,\"#46039f\"],[0.2222222222222222,\"#7201a8\"],[0.3333333333333333,\"#9c179e\"],[0.4444444444444444,\"#bd3786\"],[0.5555555555555556,\"#d8576b\"],[0.6666666666666666,\"#ed7953\"],[0.7777777777777778,\"#fb9f3a\"],[0.8888888888888888,\"#fdca26\"],[1.0,\"#f0f921\"]]}],\"mesh3d\":[{\"type\":\"mesh3d\",\"colorbar\":{\"outlinewidth\":0,\"ticks\":\"\"}}],\"scatter\":[{\"fillpattern\":{\"fillmode\":\"overlay\",\"size\":10,\"solidity\":0.2},\"type\":\"scatter\"}],\"parcoords\":[{\"type\":\"parcoords\",\"line\":{\"colorbar\":{\"outlinewidth\":0,\"ticks\":\"\"}}}],\"scatterpolargl\":[{\"type\":\"scatterpolargl\",\"marker\":{\"colorbar\":{\"outlinewidth\":0,\"ticks\":\"\"}}}],\"bar\":[{\"error_x\":{\"color\":\"#2a3f5f\"},\"error_y\":{\"color\":\"#2a3f5f\"},\"marker\":{\"line\":{\"color\":\"#E5ECF6\",\"width\":0.5},\"pattern\":{\"fillmode\":\"overlay\",\"size\":10,\"solidity\":0.2}},\"type\":\"bar\"}],\"scattergeo\":[{\"type\":\"scattergeo\",\"marker\":{\"colorbar\":{\"outlinewidth\":0,\"ticks\":\"\"}}}],\"scatterpolar\":[{\"type\":\"scatterpolar\",\"marker\":{\"colorbar\":{\"outlinewidth\":0,\"ticks\":\"\"}}}],\"histogram\":[{\"marker\":{\"pattern\":{\"fillmode\":\"overlay\",\"size\":10,\"solidity\":0.2}},\"type\":\"histogram\"}],\"scattergl\":[{\"type\":\"scattergl\",\"marker\":{\"colorbar\":{\"outlinewidth\":0,\"ticks\":\"\"}}}],\"scatter3d\":[{\"type\":\"scatter3d\",\"line\":{\"colorbar\":{\"outlinewidth\":0,\"ticks\":\"\"}},\"marker\":{\"colorbar\":{\"outlinewidth\":0,\"ticks\":\"\"}}}],\"scattermapbox\":[{\"type\":\"scattermapbox\",\"marker\":{\"colorbar\":{\"outlinewidth\":0,\"ticks\":\"\"}}}],\"scatterternary\":[{\"type\":\"scatterternary\",\"marker\":{\"colorbar\":{\"outlinewidth\":0,\"ticks\":\"\"}}}],\"scattercarpet\":[{\"type\":\"scattercarpet\",\"marker\":{\"colorbar\":{\"outlinewidth\":0,\"ticks\":\"\"}}}],\"carpet\":[{\"aaxis\":{\"endlinecolor\":\"#2a3f5f\",\"gridcolor\":\"white\",\"linecolor\":\"white\",\"minorgridcolor\":\"white\",\"startlinecolor\":\"#2a3f5f\"},\"baxis\":{\"endlinecolor\":\"#2a3f5f\",\"gridcolor\":\"white\",\"linecolor\":\"white\",\"minorgridcolor\":\"white\",\"startlinecolor\":\"#2a3f5f\"},\"type\":\"carpet\"}],\"table\":[{\"cells\":{\"fill\":{\"color\":\"#EBF0F8\"},\"line\":{\"color\":\"white\"}},\"header\":{\"fill\":{\"color\":\"#C8D4E3\"},\"line\":{\"color\":\"white\"}},\"type\":\"table\"}],\"barpolar\":[{\"marker\":{\"line\":{\"color\":\"#E5ECF6\",\"width\":0.5},\"pattern\":{\"fillmode\":\"overlay\",\"size\":10,\"solidity\":0.2}},\"type\":\"barpolar\"}],\"pie\":[{\"automargin\":true,\"type\":\"pie\"}]},\"layout\":{\"autotypenumbers\":\"strict\",\"colorway\":[\"#636efa\",\"#EF553B\",\"#00cc96\",\"#ab63fa\",\"#FFA15A\",\"#19d3f3\",\"#FF6692\",\"#B6E880\",\"#FF97FF\",\"#FECB52\"],\"font\":{\"color\":\"#2a3f5f\"},\"hovermode\":\"closest\",\"hoverlabel\":{\"align\":\"left\"},\"paper_bgcolor\":\"white\",\"plot_bgcolor\":\"#E5ECF6\",\"polar\":{\"bgcolor\":\"#E5ECF6\",\"angularaxis\":{\"gridcolor\":\"white\",\"linecolor\":\"white\",\"ticks\":\"\"},\"radialaxis\":{\"gridcolor\":\"white\",\"linecolor\":\"white\",\"ticks\":\"\"}},\"ternary\":{\"bgcolor\":\"#E5ECF6\",\"aaxis\":{\"gridcolor\":\"white\",\"linecolor\":\"white\",\"ticks\":\"\"},\"baxis\":{\"gridcolor\":\"white\",\"linecolor\":\"white\",\"ticks\":\"\"},\"caxis\":{\"gridcolor\":\"white\",\"linecolor\":\"white\",\"ticks\":\"\"}},\"coloraxis\":{\"colorbar\":{\"outlinewidth\":0,\"ticks\":\"\"}},\"colorscale\":{\"sequential\":[[0.0,\"#0d0887\"],[0.1111111111111111,\"#46039f\"],[0.2222222222222222,\"#7201a8\"],[0.3333333333333333,\"#9c179e\"],[0.4444444444444444,\"#bd3786\"],[0.5555555555555556,\"#d8576b\"],[0.6666666666666666,\"#ed7953\"],[0.7777777777777778,\"#fb9f3a\"],[0.8888888888888888,\"#fdca26\"],[1.0,\"#f0f921\"]],\"sequentialminus\":[[0.0,\"#0d0887\"],[0.1111111111111111,\"#46039f\"],[0.2222222222222222,\"#7201a8\"],[0.3333333333333333,\"#9c179e\"],[0.4444444444444444,\"#bd3786\"],[0.5555555555555556,\"#d8576b\"],[0.6666666666666666,\"#ed7953\"],[0.7777777777777778,\"#fb9f3a\"],[0.8888888888888888,\"#fdca26\"],[1.0,\"#f0f921\"]],\"diverging\":[[0,\"#8e0152\"],[0.1,\"#c51b7d\"],[0.2,\"#de77ae\"],[0.3,\"#f1b6da\"],[0.4,\"#fde0ef\"],[0.5,\"#f7f7f7\"],[0.6,\"#e6f5d0\"],[0.7,\"#b8e186\"],[0.8,\"#7fbc41\"],[0.9,\"#4d9221\"],[1,\"#276419\"]]},\"xaxis\":{\"gridcolor\":\"white\",\"linecolor\":\"white\",\"ticks\":\"\",\"title\":{\"standoff\":15},\"zerolinecolor\":\"white\",\"automargin\":true,\"zerolinewidth\":2},\"yaxis\":{\"gridcolor\":\"white\",\"linecolor\":\"white\",\"ticks\":\"\",\"title\":{\"standoff\":15},\"zerolinecolor\":\"white\",\"automargin\":true,\"zerolinewidth\":2},\"scene\":{\"xaxis\":{\"backgroundcolor\":\"#E5ECF6\",\"gridcolor\":\"white\",\"linecolor\":\"white\",\"showbackground\":true,\"ticks\":\"\",\"zerolinecolor\":\"white\",\"gridwidth\":2},\"yaxis\":{\"backgroundcolor\":\"#E5ECF6\",\"gridcolor\":\"white\",\"linecolor\":\"white\",\"showbackground\":true,\"ticks\":\"\",\"zerolinecolor\":\"white\",\"gridwidth\":2},\"zaxis\":{\"backgroundcolor\":\"#E5ECF6\",\"gridcolor\":\"white\",\"linecolor\":\"white\",\"showbackground\":true,\"ticks\":\"\",\"zerolinecolor\":\"white\",\"gridwidth\":2}},\"shapedefaults\":{\"line\":{\"color\":\"#2a3f5f\"}},\"annotationdefaults\":{\"arrowcolor\":\"#2a3f5f\",\"arrowhead\":0,\"arrowwidth\":1},\"geo\":{\"bgcolor\":\"white\",\"landcolor\":\"#E5ECF6\",\"subunitcolor\":\"white\",\"showland\":true,\"showlakes\":true,\"lakecolor\":\"white\"},\"title\":{\"x\":0.05},\"mapbox\":{\"style\":\"light\"}}},\"xaxis\":{\"title\":{\"text\":\"Emissions (CO2eq) from F-gases (AR5)\"}},\"yaxis\":{\"title\":{\"text\":\"Production\"}},\"title\":{\"text\":\"Scatter Plot Example\"}},                        {\"responsive\": true}                    ).then(function(){\n",
       "                            \n",
       "var gd = document.getElementById('95b84d48-aa8d-44e2-b7cd-1657c0d68be8');\n",
       "var x = new MutationObserver(function (mutations, observer) {{\n",
       "        var display = window.getComputedStyle(gd).display;\n",
       "        if (!display || display === 'none') {{\n",
       "            console.log([gd, 'removed!']);\n",
       "            Plotly.purge(gd);\n",
       "            observer.disconnect();\n",
       "        }}\n",
       "}});\n",
       "\n",
       "// Listen for the removal of the full notebook cells\n",
       "var notebookContainer = gd.closest('#notebook-container');\n",
       "if (notebookContainer) {{\n",
       "    x.observe(notebookContainer, {childList: true});\n",
       "}}\n",
       "\n",
       "// Listen for the clearing of the current output cell\n",
       "var outputEl = gd.closest('.output');\n",
       "if (outputEl) {{\n",
       "    x.observe(outputEl, {childList: true});\n",
       "}}\n",
       "\n",
       "                        })                };                });            </script>        </div>"
      ]
     },
     "metadata": {},
     "output_type": "display_data"
    },
    {
     "data": {
      "application/vnd.plotly.v1+json": {
       "config": {
        "plotlyServerURL": "https://plot.ly"
       },
       "data": [
        {
         "mode": "markers",
         "type": "scatter",
         "x": [
          311709.7481333333,
          320758.74894444447,
          328449.0220666666,
          338065.86001111113,
          350099.5074333333,
          365121.2563555555,
          377456.04298888886,
          388704.1215777778,
          395902.7384888889,
          406800.81412222225,
          419730.35921111115,
          429951.23754444445,
          443363.4909,
          448839.4298666667,
          468252.5631444445,
          476371.4169666667,
          487794.1344555555,
          504326.47636666667,
          513985.37456666667,
          528362.5990222222,
          533553.7186222222,
          541074.8995555555,
          553425.9892333333,
          569109.7537444445,
          571641.4393666666,
          580895.3875777777,
          589335.4205333334,
          601010.8882111111,
          608561.0367111112,
          398477.20032500004,
          385500.8219208333,
          394400.42050625006,
          392956.9880104167,
          416211.51341041666,
          403926.3477604166,
          403374.98877708334,
          404417.43165625003,
          407475.00162291666,
          408923.4262791667,
          465090.51715208334,
          459249.66626458336,
          468901.03680000006,
          473283.7739791667,
          485356.2116041667,
          489136.6483041667,
          498105.00218333333,
          502674.79284583335,
          508769.28083541663,
          497452.0473645833,
          473947.79615,
          473300.9232395833,
          481360.9066145834,
          476868.0038791667,
          479265.24646875,
          497151.8128553191,
          481129.362525,
          496706.1476127659,
          492270.28379361704,
          496800.06871489366,
          504010.8381276596,
          null
         ],
         "y": [
          1083667059,
          1118482387,
          1146767041,
          1184758554,
          1210465099,
          1254340110,
          1299302844,
          1337368930,
          1344596827,
          1386707418,
          1420697818,
          1414268652,
          1493275029,
          1504827569,
          1533217930,
          1569694853,
          1607622952,
          1680725225,
          1699748103,
          1701820059,
          1757505557,
          1814875418,
          1822636743,
          1915023589,
          1947322965,
          1980385333,
          2003967791,
          2023984717,
          2094492093,
          2148500096,
          2087533162,
          2192203610,
          2210009822,
          2267786946,
          2312014062,
          2401322613,
          2454085045,
          2494018935,
          2572370880,
          2627259893,
          2665706906,
          2703188511,
          2770276457,
          2900173006,
          2954207241,
          3016099381,
          3097485761,
          3217408651,
          3240964362,
          3323571228,
          3448435091,
          3490019313,
          3630375823,
          3703588788,
          3757329935,
          3805258893,
          3909424813,
          3951007991,
          3993589039,
          4050314909,
          4125746540
         ]
        }
       ],
       "layout": {
        "template": {
         "data": {
          "bar": [
           {
            "error_x": {
             "color": "#2a3f5f"
            },
            "error_y": {
             "color": "#2a3f5f"
            },
            "marker": {
             "line": {
              "color": "#E5ECF6",
              "width": 0.5
             },
             "pattern": {
              "fillmode": "overlay",
              "size": 10,
              "solidity": 0.2
             }
            },
            "type": "bar"
           }
          ],
          "barpolar": [
           {
            "marker": {
             "line": {
              "color": "#E5ECF6",
              "width": 0.5
             },
             "pattern": {
              "fillmode": "overlay",
              "size": 10,
              "solidity": 0.2
             }
            },
            "type": "barpolar"
           }
          ],
          "carpet": [
           {
            "aaxis": {
             "endlinecolor": "#2a3f5f",
             "gridcolor": "white",
             "linecolor": "white",
             "minorgridcolor": "white",
             "startlinecolor": "#2a3f5f"
            },
            "baxis": {
             "endlinecolor": "#2a3f5f",
             "gridcolor": "white",
             "linecolor": "white",
             "minorgridcolor": "white",
             "startlinecolor": "#2a3f5f"
            },
            "type": "carpet"
           }
          ],
          "choropleth": [
           {
            "colorbar": {
             "outlinewidth": 0,
             "ticks": ""
            },
            "type": "choropleth"
           }
          ],
          "contour": [
           {
            "colorbar": {
             "outlinewidth": 0,
             "ticks": ""
            },
            "colorscale": [
             [
              0,
              "#0d0887"
             ],
             [
              0.1111111111111111,
              "#46039f"
             ],
             [
              0.2222222222222222,
              "#7201a8"
             ],
             [
              0.3333333333333333,
              "#9c179e"
             ],
             [
              0.4444444444444444,
              "#bd3786"
             ],
             [
              0.5555555555555556,
              "#d8576b"
             ],
             [
              0.6666666666666666,
              "#ed7953"
             ],
             [
              0.7777777777777778,
              "#fb9f3a"
             ],
             [
              0.8888888888888888,
              "#fdca26"
             ],
             [
              1,
              "#f0f921"
             ]
            ],
            "type": "contour"
           }
          ],
          "contourcarpet": [
           {
            "colorbar": {
             "outlinewidth": 0,
             "ticks": ""
            },
            "type": "contourcarpet"
           }
          ],
          "heatmap": [
           {
            "colorbar": {
             "outlinewidth": 0,
             "ticks": ""
            },
            "colorscale": [
             [
              0,
              "#0d0887"
             ],
             [
              0.1111111111111111,
              "#46039f"
             ],
             [
              0.2222222222222222,
              "#7201a8"
             ],
             [
              0.3333333333333333,
              "#9c179e"
             ],
             [
              0.4444444444444444,
              "#bd3786"
             ],
             [
              0.5555555555555556,
              "#d8576b"
             ],
             [
              0.6666666666666666,
              "#ed7953"
             ],
             [
              0.7777777777777778,
              "#fb9f3a"
             ],
             [
              0.8888888888888888,
              "#fdca26"
             ],
             [
              1,
              "#f0f921"
             ]
            ],
            "type": "heatmap"
           }
          ],
          "heatmapgl": [
           {
            "colorbar": {
             "outlinewidth": 0,
             "ticks": ""
            },
            "colorscale": [
             [
              0,
              "#0d0887"
             ],
             [
              0.1111111111111111,
              "#46039f"
             ],
             [
              0.2222222222222222,
              "#7201a8"
             ],
             [
              0.3333333333333333,
              "#9c179e"
             ],
             [
              0.4444444444444444,
              "#bd3786"
             ],
             [
              0.5555555555555556,
              "#d8576b"
             ],
             [
              0.6666666666666666,
              "#ed7953"
             ],
             [
              0.7777777777777778,
              "#fb9f3a"
             ],
             [
              0.8888888888888888,
              "#fdca26"
             ],
             [
              1,
              "#f0f921"
             ]
            ],
            "type": "heatmapgl"
           }
          ],
          "histogram": [
           {
            "marker": {
             "pattern": {
              "fillmode": "overlay",
              "size": 10,
              "solidity": 0.2
             }
            },
            "type": "histogram"
           }
          ],
          "histogram2d": [
           {
            "colorbar": {
             "outlinewidth": 0,
             "ticks": ""
            },
            "colorscale": [
             [
              0,
              "#0d0887"
             ],
             [
              0.1111111111111111,
              "#46039f"
             ],
             [
              0.2222222222222222,
              "#7201a8"
             ],
             [
              0.3333333333333333,
              "#9c179e"
             ],
             [
              0.4444444444444444,
              "#bd3786"
             ],
             [
              0.5555555555555556,
              "#d8576b"
             ],
             [
              0.6666666666666666,
              "#ed7953"
             ],
             [
              0.7777777777777778,
              "#fb9f3a"
             ],
             [
              0.8888888888888888,
              "#fdca26"
             ],
             [
              1,
              "#f0f921"
             ]
            ],
            "type": "histogram2d"
           }
          ],
          "histogram2dcontour": [
           {
            "colorbar": {
             "outlinewidth": 0,
             "ticks": ""
            },
            "colorscale": [
             [
              0,
              "#0d0887"
             ],
             [
              0.1111111111111111,
              "#46039f"
             ],
             [
              0.2222222222222222,
              "#7201a8"
             ],
             [
              0.3333333333333333,
              "#9c179e"
             ],
             [
              0.4444444444444444,
              "#bd3786"
             ],
             [
              0.5555555555555556,
              "#d8576b"
             ],
             [
              0.6666666666666666,
              "#ed7953"
             ],
             [
              0.7777777777777778,
              "#fb9f3a"
             ],
             [
              0.8888888888888888,
              "#fdca26"
             ],
             [
              1,
              "#f0f921"
             ]
            ],
            "type": "histogram2dcontour"
           }
          ],
          "mesh3d": [
           {
            "colorbar": {
             "outlinewidth": 0,
             "ticks": ""
            },
            "type": "mesh3d"
           }
          ],
          "parcoords": [
           {
            "line": {
             "colorbar": {
              "outlinewidth": 0,
              "ticks": ""
             }
            },
            "type": "parcoords"
           }
          ],
          "pie": [
           {
            "automargin": true,
            "type": "pie"
           }
          ],
          "scatter": [
           {
            "fillpattern": {
             "fillmode": "overlay",
             "size": 10,
             "solidity": 0.2
            },
            "type": "scatter"
           }
          ],
          "scatter3d": [
           {
            "line": {
             "colorbar": {
              "outlinewidth": 0,
              "ticks": ""
             }
            },
            "marker": {
             "colorbar": {
              "outlinewidth": 0,
              "ticks": ""
             }
            },
            "type": "scatter3d"
           }
          ],
          "scattercarpet": [
           {
            "marker": {
             "colorbar": {
              "outlinewidth": 0,
              "ticks": ""
             }
            },
            "type": "scattercarpet"
           }
          ],
          "scattergeo": [
           {
            "marker": {
             "colorbar": {
              "outlinewidth": 0,
              "ticks": ""
             }
            },
            "type": "scattergeo"
           }
          ],
          "scattergl": [
           {
            "marker": {
             "colorbar": {
              "outlinewidth": 0,
              "ticks": ""
             }
            },
            "type": "scattergl"
           }
          ],
          "scattermapbox": [
           {
            "marker": {
             "colorbar": {
              "outlinewidth": 0,
              "ticks": ""
             }
            },
            "type": "scattermapbox"
           }
          ],
          "scatterpolar": [
           {
            "marker": {
             "colorbar": {
              "outlinewidth": 0,
              "ticks": ""
             }
            },
            "type": "scatterpolar"
           }
          ],
          "scatterpolargl": [
           {
            "marker": {
             "colorbar": {
              "outlinewidth": 0,
              "ticks": ""
             }
            },
            "type": "scatterpolargl"
           }
          ],
          "scatterternary": [
           {
            "marker": {
             "colorbar": {
              "outlinewidth": 0,
              "ticks": ""
             }
            },
            "type": "scatterternary"
           }
          ],
          "surface": [
           {
            "colorbar": {
             "outlinewidth": 0,
             "ticks": ""
            },
            "colorscale": [
             [
              0,
              "#0d0887"
             ],
             [
              0.1111111111111111,
              "#46039f"
             ],
             [
              0.2222222222222222,
              "#7201a8"
             ],
             [
              0.3333333333333333,
              "#9c179e"
             ],
             [
              0.4444444444444444,
              "#bd3786"
             ],
             [
              0.5555555555555556,
              "#d8576b"
             ],
             [
              0.6666666666666666,
              "#ed7953"
             ],
             [
              0.7777777777777778,
              "#fb9f3a"
             ],
             [
              0.8888888888888888,
              "#fdca26"
             ],
             [
              1,
              "#f0f921"
             ]
            ],
            "type": "surface"
           }
          ],
          "table": [
           {
            "cells": {
             "fill": {
              "color": "#EBF0F8"
             },
             "line": {
              "color": "white"
             }
            },
            "header": {
             "fill": {
              "color": "#C8D4E3"
             },
             "line": {
              "color": "white"
             }
            },
            "type": "table"
           }
          ]
         },
         "layout": {
          "annotationdefaults": {
           "arrowcolor": "#2a3f5f",
           "arrowhead": 0,
           "arrowwidth": 1
          },
          "autotypenumbers": "strict",
          "coloraxis": {
           "colorbar": {
            "outlinewidth": 0,
            "ticks": ""
           }
          },
          "colorscale": {
           "diverging": [
            [
             0,
             "#8e0152"
            ],
            [
             0.1,
             "#c51b7d"
            ],
            [
             0.2,
             "#de77ae"
            ],
            [
             0.3,
             "#f1b6da"
            ],
            [
             0.4,
             "#fde0ef"
            ],
            [
             0.5,
             "#f7f7f7"
            ],
            [
             0.6,
             "#e6f5d0"
            ],
            [
             0.7,
             "#b8e186"
            ],
            [
             0.8,
             "#7fbc41"
            ],
            [
             0.9,
             "#4d9221"
            ],
            [
             1,
             "#276419"
            ]
           ],
           "sequential": [
            [
             0,
             "#0d0887"
            ],
            [
             0.1111111111111111,
             "#46039f"
            ],
            [
             0.2222222222222222,
             "#7201a8"
            ],
            [
             0.3333333333333333,
             "#9c179e"
            ],
            [
             0.4444444444444444,
             "#bd3786"
            ],
            [
             0.5555555555555556,
             "#d8576b"
            ],
            [
             0.6666666666666666,
             "#ed7953"
            ],
            [
             0.7777777777777778,
             "#fb9f3a"
            ],
            [
             0.8888888888888888,
             "#fdca26"
            ],
            [
             1,
             "#f0f921"
            ]
           ],
           "sequentialminus": [
            [
             0,
             "#0d0887"
            ],
            [
             0.1111111111111111,
             "#46039f"
            ],
            [
             0.2222222222222222,
             "#7201a8"
            ],
            [
             0.3333333333333333,
             "#9c179e"
            ],
            [
             0.4444444444444444,
             "#bd3786"
            ],
            [
             0.5555555555555556,
             "#d8576b"
            ],
            [
             0.6666666666666666,
             "#ed7953"
            ],
            [
             0.7777777777777778,
             "#fb9f3a"
            ],
            [
             0.8888888888888888,
             "#fdca26"
            ],
            [
             1,
             "#f0f921"
            ]
           ]
          },
          "colorway": [
           "#636efa",
           "#EF553B",
           "#00cc96",
           "#ab63fa",
           "#FFA15A",
           "#19d3f3",
           "#FF6692",
           "#B6E880",
           "#FF97FF",
           "#FECB52"
          ],
          "font": {
           "color": "#2a3f5f"
          },
          "geo": {
           "bgcolor": "white",
           "lakecolor": "white",
           "landcolor": "#E5ECF6",
           "showlakes": true,
           "showland": true,
           "subunitcolor": "white"
          },
          "hoverlabel": {
           "align": "left"
          },
          "hovermode": "closest",
          "mapbox": {
           "style": "light"
          },
          "paper_bgcolor": "white",
          "plot_bgcolor": "#E5ECF6",
          "polar": {
           "angularaxis": {
            "gridcolor": "white",
            "linecolor": "white",
            "ticks": ""
           },
           "bgcolor": "#E5ECF6",
           "radialaxis": {
            "gridcolor": "white",
            "linecolor": "white",
            "ticks": ""
           }
          },
          "scene": {
           "xaxis": {
            "backgroundcolor": "#E5ECF6",
            "gridcolor": "white",
            "gridwidth": 2,
            "linecolor": "white",
            "showbackground": true,
            "ticks": "",
            "zerolinecolor": "white"
           },
           "yaxis": {
            "backgroundcolor": "#E5ECF6",
            "gridcolor": "white",
            "gridwidth": 2,
            "linecolor": "white",
            "showbackground": true,
            "ticks": "",
            "zerolinecolor": "white"
           },
           "zaxis": {
            "backgroundcolor": "#E5ECF6",
            "gridcolor": "white",
            "gridwidth": 2,
            "linecolor": "white",
            "showbackground": true,
            "ticks": "",
            "zerolinecolor": "white"
           }
          },
          "shapedefaults": {
           "line": {
            "color": "#2a3f5f"
           }
          },
          "ternary": {
           "aaxis": {
            "gridcolor": "white",
            "linecolor": "white",
            "ticks": ""
           },
           "baxis": {
            "gridcolor": "white",
            "linecolor": "white",
            "ticks": ""
           },
           "bgcolor": "#E5ECF6",
           "caxis": {
            "gridcolor": "white",
            "linecolor": "white",
            "ticks": ""
           }
          },
          "title": {
           "x": 0.05
          },
          "xaxis": {
           "automargin": true,
           "gridcolor": "white",
           "linecolor": "white",
           "ticks": "",
           "title": {
            "standoff": 15
           },
           "zerolinecolor": "white",
           "zerolinewidth": 2
          },
          "yaxis": {
           "automargin": true,
           "gridcolor": "white",
           "linecolor": "white",
           "ticks": "",
           "title": {
            "standoff": 15
           },
           "zerolinecolor": "white",
           "zerolinewidth": 2
          }
         }
        },
        "title": {
         "text": "Scatter Plot Example"
        },
        "xaxis": {
         "title": {
          "text": "Emissions (CO2eq) from N2O (AR5)"
         }
        },
        "yaxis": {
         "title": {
          "text": "Production"
         }
        }
       }
      },
      "text/html": [
       "<div>                            <div id=\"564c05b5-3ab6-4d43-abdd-e0a8b627f56b\" class=\"plotly-graph-div\" style=\"height:525px; width:100%;\"></div>            <script type=\"text/javascript\">                require([\"plotly\"], function(Plotly) {                    window.PLOTLYENV=window.PLOTLYENV || {};                                    if (document.getElementById(\"564c05b5-3ab6-4d43-abdd-e0a8b627f56b\")) {                    Plotly.newPlot(                        \"564c05b5-3ab6-4d43-abdd-e0a8b627f56b\",                        [{\"mode\":\"markers\",\"x\":[311709.7481333333,320758.74894444447,328449.0220666666,338065.86001111113,350099.5074333333,365121.2563555555,377456.04298888886,388704.1215777778,395902.7384888889,406800.81412222225,419730.35921111115,429951.23754444445,443363.4909,448839.4298666667,468252.5631444445,476371.4169666667,487794.1344555555,504326.47636666667,513985.37456666667,528362.5990222222,533553.7186222222,541074.8995555555,553425.9892333333,569109.7537444445,571641.4393666666,580895.3875777777,589335.4205333334,601010.8882111111,608561.0367111112,398477.20032500004,385500.8219208333,394400.42050625006,392956.9880104167,416211.51341041666,403926.3477604166,403374.98877708334,404417.43165625003,407475.00162291666,408923.4262791667,465090.51715208334,459249.66626458336,468901.03680000006,473283.7739791667,485356.2116041667,489136.6483041667,498105.00218333333,502674.79284583335,508769.28083541663,497452.0473645833,473947.79615,473300.9232395833,481360.9066145834,476868.0038791667,479265.24646875,497151.8128553191,481129.362525,496706.1476127659,492270.28379361704,496800.06871489366,504010.8381276596,null],\"y\":[1083667059.0,1118482387.0,1146767041.0,1184758554.0,1210465099.0,1254340110.0,1299302844.0,1337368930.0,1344596827.0,1386707418.0,1420697818.0,1414268652.0,1493275029.0,1504827569.0,1533217930.0,1569694853.0,1607622952.0,1680725225.0,1699748103.0,1701820059.0,1757505557.0,1814875418.0,1822636743.0,1915023589.0,1947322965.0,1980385333.0,2003967791.0,2023984717.0,2094492093.0,2148500096.0,2087533162.0,2192203610.0,2210009822.0,2267786946.0,2312014062.0,2401322613.0,2454085045.0,2494018935.0,2572370880.0,2627259893.0,2665706906.0,2703188511.0,2770276457.0,2900173006.0,2954207241.0,3016099381.0,3097485761.0,3217408651.0,3240964362.0,3323571228.0,3448435091.0,3490019313.0,3630375823.0,3703588788.0,3757329935.0,3805258893.0,3909424813.0,3951007991.0,3993589039.0,4050314909.0,4125746540.0],\"type\":\"scatter\"}],                        {\"template\":{\"data\":{\"histogram2dcontour\":[{\"type\":\"histogram2dcontour\",\"colorbar\":{\"outlinewidth\":0,\"ticks\":\"\"},\"colorscale\":[[0.0,\"#0d0887\"],[0.1111111111111111,\"#46039f\"],[0.2222222222222222,\"#7201a8\"],[0.3333333333333333,\"#9c179e\"],[0.4444444444444444,\"#bd3786\"],[0.5555555555555556,\"#d8576b\"],[0.6666666666666666,\"#ed7953\"],[0.7777777777777778,\"#fb9f3a\"],[0.8888888888888888,\"#fdca26\"],[1.0,\"#f0f921\"]]}],\"choropleth\":[{\"type\":\"choropleth\",\"colorbar\":{\"outlinewidth\":0,\"ticks\":\"\"}}],\"histogram2d\":[{\"type\":\"histogram2d\",\"colorbar\":{\"outlinewidth\":0,\"ticks\":\"\"},\"colorscale\":[[0.0,\"#0d0887\"],[0.1111111111111111,\"#46039f\"],[0.2222222222222222,\"#7201a8\"],[0.3333333333333333,\"#9c179e\"],[0.4444444444444444,\"#bd3786\"],[0.5555555555555556,\"#d8576b\"],[0.6666666666666666,\"#ed7953\"],[0.7777777777777778,\"#fb9f3a\"],[0.8888888888888888,\"#fdca26\"],[1.0,\"#f0f921\"]]}],\"heatmap\":[{\"type\":\"heatmap\",\"colorbar\":{\"outlinewidth\":0,\"ticks\":\"\"},\"colorscale\":[[0.0,\"#0d0887\"],[0.1111111111111111,\"#46039f\"],[0.2222222222222222,\"#7201a8\"],[0.3333333333333333,\"#9c179e\"],[0.4444444444444444,\"#bd3786\"],[0.5555555555555556,\"#d8576b\"],[0.6666666666666666,\"#ed7953\"],[0.7777777777777778,\"#fb9f3a\"],[0.8888888888888888,\"#fdca26\"],[1.0,\"#f0f921\"]]}],\"heatmapgl\":[{\"type\":\"heatmapgl\",\"colorbar\":{\"outlinewidth\":0,\"ticks\":\"\"},\"colorscale\":[[0.0,\"#0d0887\"],[0.1111111111111111,\"#46039f\"],[0.2222222222222222,\"#7201a8\"],[0.3333333333333333,\"#9c179e\"],[0.4444444444444444,\"#bd3786\"],[0.5555555555555556,\"#d8576b\"],[0.6666666666666666,\"#ed7953\"],[0.7777777777777778,\"#fb9f3a\"],[0.8888888888888888,\"#fdca26\"],[1.0,\"#f0f921\"]]}],\"contourcarpet\":[{\"type\":\"contourcarpet\",\"colorbar\":{\"outlinewidth\":0,\"ticks\":\"\"}}],\"contour\":[{\"type\":\"contour\",\"colorbar\":{\"outlinewidth\":0,\"ticks\":\"\"},\"colorscale\":[[0.0,\"#0d0887\"],[0.1111111111111111,\"#46039f\"],[0.2222222222222222,\"#7201a8\"],[0.3333333333333333,\"#9c179e\"],[0.4444444444444444,\"#bd3786\"],[0.5555555555555556,\"#d8576b\"],[0.6666666666666666,\"#ed7953\"],[0.7777777777777778,\"#fb9f3a\"],[0.8888888888888888,\"#fdca26\"],[1.0,\"#f0f921\"]]}],\"surface\":[{\"type\":\"surface\",\"colorbar\":{\"outlinewidth\":0,\"ticks\":\"\"},\"colorscale\":[[0.0,\"#0d0887\"],[0.1111111111111111,\"#46039f\"],[0.2222222222222222,\"#7201a8\"],[0.3333333333333333,\"#9c179e\"],[0.4444444444444444,\"#bd3786\"],[0.5555555555555556,\"#d8576b\"],[0.6666666666666666,\"#ed7953\"],[0.7777777777777778,\"#fb9f3a\"],[0.8888888888888888,\"#fdca26\"],[1.0,\"#f0f921\"]]}],\"mesh3d\":[{\"type\":\"mesh3d\",\"colorbar\":{\"outlinewidth\":0,\"ticks\":\"\"}}],\"scatter\":[{\"fillpattern\":{\"fillmode\":\"overlay\",\"size\":10,\"solidity\":0.2},\"type\":\"scatter\"}],\"parcoords\":[{\"type\":\"parcoords\",\"line\":{\"colorbar\":{\"outlinewidth\":0,\"ticks\":\"\"}}}],\"scatterpolargl\":[{\"type\":\"scatterpolargl\",\"marker\":{\"colorbar\":{\"outlinewidth\":0,\"ticks\":\"\"}}}],\"bar\":[{\"error_x\":{\"color\":\"#2a3f5f\"},\"error_y\":{\"color\":\"#2a3f5f\"},\"marker\":{\"line\":{\"color\":\"#E5ECF6\",\"width\":0.5},\"pattern\":{\"fillmode\":\"overlay\",\"size\":10,\"solidity\":0.2}},\"type\":\"bar\"}],\"scattergeo\":[{\"type\":\"scattergeo\",\"marker\":{\"colorbar\":{\"outlinewidth\":0,\"ticks\":\"\"}}}],\"scatterpolar\":[{\"type\":\"scatterpolar\",\"marker\":{\"colorbar\":{\"outlinewidth\":0,\"ticks\":\"\"}}}],\"histogram\":[{\"marker\":{\"pattern\":{\"fillmode\":\"overlay\",\"size\":10,\"solidity\":0.2}},\"type\":\"histogram\"}],\"scattergl\":[{\"type\":\"scattergl\",\"marker\":{\"colorbar\":{\"outlinewidth\":0,\"ticks\":\"\"}}}],\"scatter3d\":[{\"type\":\"scatter3d\",\"line\":{\"colorbar\":{\"outlinewidth\":0,\"ticks\":\"\"}},\"marker\":{\"colorbar\":{\"outlinewidth\":0,\"ticks\":\"\"}}}],\"scattermapbox\":[{\"type\":\"scattermapbox\",\"marker\":{\"colorbar\":{\"outlinewidth\":0,\"ticks\":\"\"}}}],\"scatterternary\":[{\"type\":\"scatterternary\",\"marker\":{\"colorbar\":{\"outlinewidth\":0,\"ticks\":\"\"}}}],\"scattercarpet\":[{\"type\":\"scattercarpet\",\"marker\":{\"colorbar\":{\"outlinewidth\":0,\"ticks\":\"\"}}}],\"carpet\":[{\"aaxis\":{\"endlinecolor\":\"#2a3f5f\",\"gridcolor\":\"white\",\"linecolor\":\"white\",\"minorgridcolor\":\"white\",\"startlinecolor\":\"#2a3f5f\"},\"baxis\":{\"endlinecolor\":\"#2a3f5f\",\"gridcolor\":\"white\",\"linecolor\":\"white\",\"minorgridcolor\":\"white\",\"startlinecolor\":\"#2a3f5f\"},\"type\":\"carpet\"}],\"table\":[{\"cells\":{\"fill\":{\"color\":\"#EBF0F8\"},\"line\":{\"color\":\"white\"}},\"header\":{\"fill\":{\"color\":\"#C8D4E3\"},\"line\":{\"color\":\"white\"}},\"type\":\"table\"}],\"barpolar\":[{\"marker\":{\"line\":{\"color\":\"#E5ECF6\",\"width\":0.5},\"pattern\":{\"fillmode\":\"overlay\",\"size\":10,\"solidity\":0.2}},\"type\":\"barpolar\"}],\"pie\":[{\"automargin\":true,\"type\":\"pie\"}]},\"layout\":{\"autotypenumbers\":\"strict\",\"colorway\":[\"#636efa\",\"#EF553B\",\"#00cc96\",\"#ab63fa\",\"#FFA15A\",\"#19d3f3\",\"#FF6692\",\"#B6E880\",\"#FF97FF\",\"#FECB52\"],\"font\":{\"color\":\"#2a3f5f\"},\"hovermode\":\"closest\",\"hoverlabel\":{\"align\":\"left\"},\"paper_bgcolor\":\"white\",\"plot_bgcolor\":\"#E5ECF6\",\"polar\":{\"bgcolor\":\"#E5ECF6\",\"angularaxis\":{\"gridcolor\":\"white\",\"linecolor\":\"white\",\"ticks\":\"\"},\"radialaxis\":{\"gridcolor\":\"white\",\"linecolor\":\"white\",\"ticks\":\"\"}},\"ternary\":{\"bgcolor\":\"#E5ECF6\",\"aaxis\":{\"gridcolor\":\"white\",\"linecolor\":\"white\",\"ticks\":\"\"},\"baxis\":{\"gridcolor\":\"white\",\"linecolor\":\"white\",\"ticks\":\"\"},\"caxis\":{\"gridcolor\":\"white\",\"linecolor\":\"white\",\"ticks\":\"\"}},\"coloraxis\":{\"colorbar\":{\"outlinewidth\":0,\"ticks\":\"\"}},\"colorscale\":{\"sequential\":[[0.0,\"#0d0887\"],[0.1111111111111111,\"#46039f\"],[0.2222222222222222,\"#7201a8\"],[0.3333333333333333,\"#9c179e\"],[0.4444444444444444,\"#bd3786\"],[0.5555555555555556,\"#d8576b\"],[0.6666666666666666,\"#ed7953\"],[0.7777777777777778,\"#fb9f3a\"],[0.8888888888888888,\"#fdca26\"],[1.0,\"#f0f921\"]],\"sequentialminus\":[[0.0,\"#0d0887\"],[0.1111111111111111,\"#46039f\"],[0.2222222222222222,\"#7201a8\"],[0.3333333333333333,\"#9c179e\"],[0.4444444444444444,\"#bd3786\"],[0.5555555555555556,\"#d8576b\"],[0.6666666666666666,\"#ed7953\"],[0.7777777777777778,\"#fb9f3a\"],[0.8888888888888888,\"#fdca26\"],[1.0,\"#f0f921\"]],\"diverging\":[[0,\"#8e0152\"],[0.1,\"#c51b7d\"],[0.2,\"#de77ae\"],[0.3,\"#f1b6da\"],[0.4,\"#fde0ef\"],[0.5,\"#f7f7f7\"],[0.6,\"#e6f5d0\"],[0.7,\"#b8e186\"],[0.8,\"#7fbc41\"],[0.9,\"#4d9221\"],[1,\"#276419\"]]},\"xaxis\":{\"gridcolor\":\"white\",\"linecolor\":\"white\",\"ticks\":\"\",\"title\":{\"standoff\":15},\"zerolinecolor\":\"white\",\"automargin\":true,\"zerolinewidth\":2},\"yaxis\":{\"gridcolor\":\"white\",\"linecolor\":\"white\",\"ticks\":\"\",\"title\":{\"standoff\":15},\"zerolinecolor\":\"white\",\"automargin\":true,\"zerolinewidth\":2},\"scene\":{\"xaxis\":{\"backgroundcolor\":\"#E5ECF6\",\"gridcolor\":\"white\",\"linecolor\":\"white\",\"showbackground\":true,\"ticks\":\"\",\"zerolinecolor\":\"white\",\"gridwidth\":2},\"yaxis\":{\"backgroundcolor\":\"#E5ECF6\",\"gridcolor\":\"white\",\"linecolor\":\"white\",\"showbackground\":true,\"ticks\":\"\",\"zerolinecolor\":\"white\",\"gridwidth\":2},\"zaxis\":{\"backgroundcolor\":\"#E5ECF6\",\"gridcolor\":\"white\",\"linecolor\":\"white\",\"showbackground\":true,\"ticks\":\"\",\"zerolinecolor\":\"white\",\"gridwidth\":2}},\"shapedefaults\":{\"line\":{\"color\":\"#2a3f5f\"}},\"annotationdefaults\":{\"arrowcolor\":\"#2a3f5f\",\"arrowhead\":0,\"arrowwidth\":1},\"geo\":{\"bgcolor\":\"white\",\"landcolor\":\"#E5ECF6\",\"subunitcolor\":\"white\",\"showland\":true,\"showlakes\":true,\"lakecolor\":\"white\"},\"title\":{\"x\":0.05},\"mapbox\":{\"style\":\"light\"}}},\"xaxis\":{\"title\":{\"text\":\"Emissions (CO2eq) from N2O (AR5)\"}},\"yaxis\":{\"title\":{\"text\":\"Production\"}},\"title\":{\"text\":\"Scatter Plot Example\"}},                        {\"responsive\": true}                    ).then(function(){\n",
       "                            \n",
       "var gd = document.getElementById('564c05b5-3ab6-4d43-abdd-e0a8b627f56b');\n",
       "var x = new MutationObserver(function (mutations, observer) {{\n",
       "        var display = window.getComputedStyle(gd).display;\n",
       "        if (!display || display === 'none') {{\n",
       "            console.log([gd, 'removed!']);\n",
       "            Plotly.purge(gd);\n",
       "            observer.disconnect();\n",
       "        }}\n",
       "}});\n",
       "\n",
       "// Listen for the removal of the full notebook cells\n",
       "var notebookContainer = gd.closest('#notebook-container');\n",
       "if (notebookContainer) {{\n",
       "    x.observe(notebookContainer, {childList: true});\n",
       "}}\n",
       "\n",
       "// Listen for the clearing of the current output cell\n",
       "var outputEl = gd.closest('.output');\n",
       "if (outputEl) {{\n",
       "    x.observe(outputEl, {childList: true});\n",
       "}}\n",
       "\n",
       "                        })                };                });            </script>        </div>"
      ]
     },
     "metadata": {},
     "output_type": "display_data"
    },
    {
     "data": {
      "application/vnd.plotly.v1+json": {
       "config": {
        "plotlyServerURL": "https://plot.ly"
       },
       "data": [
        {
         "mode": "markers",
         "type": "scatter",
         "x": [
          1176.263211111111,
          1210.410388888889,
          1239.4302666666667,
          1275.7202222222222,
          1321.130211111111,
          1377.8160555555555,
          1424.3624222222222,
          1466.808,
          1493.9726,
          1535.0974111111111,
          1583.8881444444444,
          1622.4574777777777,
          1673.0697777777777,
          1693.733711111111,
          1766.990788888889,
          1797.6279777777777,
          1840.7325777777778,
          1903.1187777777777,
          1939.5674555555556,
          1993.8211222222224,
          2013.4102666666668,
          2041.7920666666666,
          2088.3999555555556,
          2147.583966666667,
          2157.1375222222223,
          2192.0580666666665,
          2223.9072444444446,
          2267.9656111111112,
          2296.4567333333334,
          1503.6963541666667,
          1454.7086791666668,
          1488.3074083333333,
          1482.8612729166664,
          1570.612710416667,
          1524.2541333333331,
          1522.1734541666665,
          1526.1079979166668,
          1537.6461583333332,
          1543.11238125,
          1755.0639062500002,
          1733.0229520833334,
          1769.4429020833334,
          1785.9815354166667,
          1831.5371937500001,
          1845.8024604166667,
          1879.6453708333331,
          1896.8901812499998,
          1919.8884145833333,
          1877.1832041666667,
          1788.48673125,
          1786.0438166666665,
          1816.4584604166666,
          1799.5063041666665,
          1808.5524979166667,
          1876.049636170213,
          1815.5870625,
          1874.3677127659575,
          1857.6282978723405,
          1874.7222148936169,
          1901.9328276595745,
          null
         ],
         "y": [
          1083667059,
          1118482387,
          1146767041,
          1184758554,
          1210465099,
          1254340110,
          1299302844,
          1337368930,
          1344596827,
          1386707418,
          1420697818,
          1414268652,
          1493275029,
          1504827569,
          1533217930,
          1569694853,
          1607622952,
          1680725225,
          1699748103,
          1701820059,
          1757505557,
          1814875418,
          1822636743,
          1915023589,
          1947322965,
          1980385333,
          2003967791,
          2023984717,
          2094492093,
          2148500096,
          2087533162,
          2192203610,
          2210009822,
          2267786946,
          2312014062,
          2401322613,
          2454085045,
          2494018935,
          2572370880,
          2627259893,
          2665706906,
          2703188511,
          2770276457,
          2900173006,
          2954207241,
          3016099381,
          3097485761,
          3217408651,
          3240964362,
          3323571228,
          3448435091,
          3490019313,
          3630375823,
          3703588788,
          3757329935,
          3805258893,
          3909424813,
          3951007991,
          3993589039,
          4050314909,
          4125746540
         ]
        }
       ],
       "layout": {
        "template": {
         "data": {
          "bar": [
           {
            "error_x": {
             "color": "#2a3f5f"
            },
            "error_y": {
             "color": "#2a3f5f"
            },
            "marker": {
             "line": {
              "color": "#E5ECF6",
              "width": 0.5
             },
             "pattern": {
              "fillmode": "overlay",
              "size": 10,
              "solidity": 0.2
             }
            },
            "type": "bar"
           }
          ],
          "barpolar": [
           {
            "marker": {
             "line": {
              "color": "#E5ECF6",
              "width": 0.5
             },
             "pattern": {
              "fillmode": "overlay",
              "size": 10,
              "solidity": 0.2
             }
            },
            "type": "barpolar"
           }
          ],
          "carpet": [
           {
            "aaxis": {
             "endlinecolor": "#2a3f5f",
             "gridcolor": "white",
             "linecolor": "white",
             "minorgridcolor": "white",
             "startlinecolor": "#2a3f5f"
            },
            "baxis": {
             "endlinecolor": "#2a3f5f",
             "gridcolor": "white",
             "linecolor": "white",
             "minorgridcolor": "white",
             "startlinecolor": "#2a3f5f"
            },
            "type": "carpet"
           }
          ],
          "choropleth": [
           {
            "colorbar": {
             "outlinewidth": 0,
             "ticks": ""
            },
            "type": "choropleth"
           }
          ],
          "contour": [
           {
            "colorbar": {
             "outlinewidth": 0,
             "ticks": ""
            },
            "colorscale": [
             [
              0,
              "#0d0887"
             ],
             [
              0.1111111111111111,
              "#46039f"
             ],
             [
              0.2222222222222222,
              "#7201a8"
             ],
             [
              0.3333333333333333,
              "#9c179e"
             ],
             [
              0.4444444444444444,
              "#bd3786"
             ],
             [
              0.5555555555555556,
              "#d8576b"
             ],
             [
              0.6666666666666666,
              "#ed7953"
             ],
             [
              0.7777777777777778,
              "#fb9f3a"
             ],
             [
              0.8888888888888888,
              "#fdca26"
             ],
             [
              1,
              "#f0f921"
             ]
            ],
            "type": "contour"
           }
          ],
          "contourcarpet": [
           {
            "colorbar": {
             "outlinewidth": 0,
             "ticks": ""
            },
            "type": "contourcarpet"
           }
          ],
          "heatmap": [
           {
            "colorbar": {
             "outlinewidth": 0,
             "ticks": ""
            },
            "colorscale": [
             [
              0,
              "#0d0887"
             ],
             [
              0.1111111111111111,
              "#46039f"
             ],
             [
              0.2222222222222222,
              "#7201a8"
             ],
             [
              0.3333333333333333,
              "#9c179e"
             ],
             [
              0.4444444444444444,
              "#bd3786"
             ],
             [
              0.5555555555555556,
              "#d8576b"
             ],
             [
              0.6666666666666666,
              "#ed7953"
             ],
             [
              0.7777777777777778,
              "#fb9f3a"
             ],
             [
              0.8888888888888888,
              "#fdca26"
             ],
             [
              1,
              "#f0f921"
             ]
            ],
            "type": "heatmap"
           }
          ],
          "heatmapgl": [
           {
            "colorbar": {
             "outlinewidth": 0,
             "ticks": ""
            },
            "colorscale": [
             [
              0,
              "#0d0887"
             ],
             [
              0.1111111111111111,
              "#46039f"
             ],
             [
              0.2222222222222222,
              "#7201a8"
             ],
             [
              0.3333333333333333,
              "#9c179e"
             ],
             [
              0.4444444444444444,
              "#bd3786"
             ],
             [
              0.5555555555555556,
              "#d8576b"
             ],
             [
              0.6666666666666666,
              "#ed7953"
             ],
             [
              0.7777777777777778,
              "#fb9f3a"
             ],
             [
              0.8888888888888888,
              "#fdca26"
             ],
             [
              1,
              "#f0f921"
             ]
            ],
            "type": "heatmapgl"
           }
          ],
          "histogram": [
           {
            "marker": {
             "pattern": {
              "fillmode": "overlay",
              "size": 10,
              "solidity": 0.2
             }
            },
            "type": "histogram"
           }
          ],
          "histogram2d": [
           {
            "colorbar": {
             "outlinewidth": 0,
             "ticks": ""
            },
            "colorscale": [
             [
              0,
              "#0d0887"
             ],
             [
              0.1111111111111111,
              "#46039f"
             ],
             [
              0.2222222222222222,
              "#7201a8"
             ],
             [
              0.3333333333333333,
              "#9c179e"
             ],
             [
              0.4444444444444444,
              "#bd3786"
             ],
             [
              0.5555555555555556,
              "#d8576b"
             ],
             [
              0.6666666666666666,
              "#ed7953"
             ],
             [
              0.7777777777777778,
              "#fb9f3a"
             ],
             [
              0.8888888888888888,
              "#fdca26"
             ],
             [
              1,
              "#f0f921"
             ]
            ],
            "type": "histogram2d"
           }
          ],
          "histogram2dcontour": [
           {
            "colorbar": {
             "outlinewidth": 0,
             "ticks": ""
            },
            "colorscale": [
             [
              0,
              "#0d0887"
             ],
             [
              0.1111111111111111,
              "#46039f"
             ],
             [
              0.2222222222222222,
              "#7201a8"
             ],
             [
              0.3333333333333333,
              "#9c179e"
             ],
             [
              0.4444444444444444,
              "#bd3786"
             ],
             [
              0.5555555555555556,
              "#d8576b"
             ],
             [
              0.6666666666666666,
              "#ed7953"
             ],
             [
              0.7777777777777778,
              "#fb9f3a"
             ],
             [
              0.8888888888888888,
              "#fdca26"
             ],
             [
              1,
              "#f0f921"
             ]
            ],
            "type": "histogram2dcontour"
           }
          ],
          "mesh3d": [
           {
            "colorbar": {
             "outlinewidth": 0,
             "ticks": ""
            },
            "type": "mesh3d"
           }
          ],
          "parcoords": [
           {
            "line": {
             "colorbar": {
              "outlinewidth": 0,
              "ticks": ""
             }
            },
            "type": "parcoords"
           }
          ],
          "pie": [
           {
            "automargin": true,
            "type": "pie"
           }
          ],
          "scatter": [
           {
            "fillpattern": {
             "fillmode": "overlay",
             "size": 10,
             "solidity": 0.2
            },
            "type": "scatter"
           }
          ],
          "scatter3d": [
           {
            "line": {
             "colorbar": {
              "outlinewidth": 0,
              "ticks": ""
             }
            },
            "marker": {
             "colorbar": {
              "outlinewidth": 0,
              "ticks": ""
             }
            },
            "type": "scatter3d"
           }
          ],
          "scattercarpet": [
           {
            "marker": {
             "colorbar": {
              "outlinewidth": 0,
              "ticks": ""
             }
            },
            "type": "scattercarpet"
           }
          ],
          "scattergeo": [
           {
            "marker": {
             "colorbar": {
              "outlinewidth": 0,
              "ticks": ""
             }
            },
            "type": "scattergeo"
           }
          ],
          "scattergl": [
           {
            "marker": {
             "colorbar": {
              "outlinewidth": 0,
              "ticks": ""
             }
            },
            "type": "scattergl"
           }
          ],
          "scattermapbox": [
           {
            "marker": {
             "colorbar": {
              "outlinewidth": 0,
              "ticks": ""
             }
            },
            "type": "scattermapbox"
           }
          ],
          "scatterpolar": [
           {
            "marker": {
             "colorbar": {
              "outlinewidth": 0,
              "ticks": ""
             }
            },
            "type": "scatterpolar"
           }
          ],
          "scatterpolargl": [
           {
            "marker": {
             "colorbar": {
              "outlinewidth": 0,
              "ticks": ""
             }
            },
            "type": "scatterpolargl"
           }
          ],
          "scatterternary": [
           {
            "marker": {
             "colorbar": {
              "outlinewidth": 0,
              "ticks": ""
             }
            },
            "type": "scatterternary"
           }
          ],
          "surface": [
           {
            "colorbar": {
             "outlinewidth": 0,
             "ticks": ""
            },
            "colorscale": [
             [
              0,
              "#0d0887"
             ],
             [
              0.1111111111111111,
              "#46039f"
             ],
             [
              0.2222222222222222,
              "#7201a8"
             ],
             [
              0.3333333333333333,
              "#9c179e"
             ],
             [
              0.4444444444444444,
              "#bd3786"
             ],
             [
              0.5555555555555556,
              "#d8576b"
             ],
             [
              0.6666666666666666,
              "#ed7953"
             ],
             [
              0.7777777777777778,
              "#fb9f3a"
             ],
             [
              0.8888888888888888,
              "#fdca26"
             ],
             [
              1,
              "#f0f921"
             ]
            ],
            "type": "surface"
           }
          ],
          "table": [
           {
            "cells": {
             "fill": {
              "color": "#EBF0F8"
             },
             "line": {
              "color": "white"
             }
            },
            "header": {
             "fill": {
              "color": "#C8D4E3"
             },
             "line": {
              "color": "white"
             }
            },
            "type": "table"
           }
          ]
         },
         "layout": {
          "annotationdefaults": {
           "arrowcolor": "#2a3f5f",
           "arrowhead": 0,
           "arrowwidth": 1
          },
          "autotypenumbers": "strict",
          "coloraxis": {
           "colorbar": {
            "outlinewidth": 0,
            "ticks": ""
           }
          },
          "colorscale": {
           "diverging": [
            [
             0,
             "#8e0152"
            ],
            [
             0.1,
             "#c51b7d"
            ],
            [
             0.2,
             "#de77ae"
            ],
            [
             0.3,
             "#f1b6da"
            ],
            [
             0.4,
             "#fde0ef"
            ],
            [
             0.5,
             "#f7f7f7"
            ],
            [
             0.6,
             "#e6f5d0"
            ],
            [
             0.7,
             "#b8e186"
            ],
            [
             0.8,
             "#7fbc41"
            ],
            [
             0.9,
             "#4d9221"
            ],
            [
             1,
             "#276419"
            ]
           ],
           "sequential": [
            [
             0,
             "#0d0887"
            ],
            [
             0.1111111111111111,
             "#46039f"
            ],
            [
             0.2222222222222222,
             "#7201a8"
            ],
            [
             0.3333333333333333,
             "#9c179e"
            ],
            [
             0.4444444444444444,
             "#bd3786"
            ],
            [
             0.5555555555555556,
             "#d8576b"
            ],
            [
             0.6666666666666666,
             "#ed7953"
            ],
            [
             0.7777777777777778,
             "#fb9f3a"
            ],
            [
             0.8888888888888888,
             "#fdca26"
            ],
            [
             1,
             "#f0f921"
            ]
           ],
           "sequentialminus": [
            [
             0,
             "#0d0887"
            ],
            [
             0.1111111111111111,
             "#46039f"
            ],
            [
             0.2222222222222222,
             "#7201a8"
            ],
            [
             0.3333333333333333,
             "#9c179e"
            ],
            [
             0.4444444444444444,
             "#bd3786"
            ],
            [
             0.5555555555555556,
             "#d8576b"
            ],
            [
             0.6666666666666666,
             "#ed7953"
            ],
            [
             0.7777777777777778,
             "#fb9f3a"
            ],
            [
             0.8888888888888888,
             "#fdca26"
            ],
            [
             1,
             "#f0f921"
            ]
           ]
          },
          "colorway": [
           "#636efa",
           "#EF553B",
           "#00cc96",
           "#ab63fa",
           "#FFA15A",
           "#19d3f3",
           "#FF6692",
           "#B6E880",
           "#FF97FF",
           "#FECB52"
          ],
          "font": {
           "color": "#2a3f5f"
          },
          "geo": {
           "bgcolor": "white",
           "lakecolor": "white",
           "landcolor": "#E5ECF6",
           "showlakes": true,
           "showland": true,
           "subunitcolor": "white"
          },
          "hoverlabel": {
           "align": "left"
          },
          "hovermode": "closest",
          "mapbox": {
           "style": "light"
          },
          "paper_bgcolor": "white",
          "plot_bgcolor": "#E5ECF6",
          "polar": {
           "angularaxis": {
            "gridcolor": "white",
            "linecolor": "white",
            "ticks": ""
           },
           "bgcolor": "#E5ECF6",
           "radialaxis": {
            "gridcolor": "white",
            "linecolor": "white",
            "ticks": ""
           }
          },
          "scene": {
           "xaxis": {
            "backgroundcolor": "#E5ECF6",
            "gridcolor": "white",
            "gridwidth": 2,
            "linecolor": "white",
            "showbackground": true,
            "ticks": "",
            "zerolinecolor": "white"
           },
           "yaxis": {
            "backgroundcolor": "#E5ECF6",
            "gridcolor": "white",
            "gridwidth": 2,
            "linecolor": "white",
            "showbackground": true,
            "ticks": "",
            "zerolinecolor": "white"
           },
           "zaxis": {
            "backgroundcolor": "#E5ECF6",
            "gridcolor": "white",
            "gridwidth": 2,
            "linecolor": "white",
            "showbackground": true,
            "ticks": "",
            "zerolinecolor": "white"
           }
          },
          "shapedefaults": {
           "line": {
            "color": "#2a3f5f"
           }
          },
          "ternary": {
           "aaxis": {
            "gridcolor": "white",
            "linecolor": "white",
            "ticks": ""
           },
           "baxis": {
            "gridcolor": "white",
            "linecolor": "white",
            "ticks": ""
           },
           "bgcolor": "#E5ECF6",
           "caxis": {
            "gridcolor": "white",
            "linecolor": "white",
            "ticks": ""
           }
          },
          "title": {
           "x": 0.05
          },
          "xaxis": {
           "automargin": true,
           "gridcolor": "white",
           "linecolor": "white",
           "ticks": "",
           "title": {
            "standoff": 15
           },
           "zerolinecolor": "white",
           "zerolinewidth": 2
          },
          "yaxis": {
           "automargin": true,
           "gridcolor": "white",
           "linecolor": "white",
           "ticks": "",
           "title": {
            "standoff": 15
           },
           "zerolinecolor": "white",
           "zerolinewidth": 2
          }
         }
        },
        "title": {
         "text": "Scatter Plot Example"
        },
        "xaxis": {
         "title": {
          "text": "Emissions (N2O)"
         }
        },
        "yaxis": {
         "title": {
          "text": "Production"
         }
        }
       }
      },
      "text/html": [
       "<div>                            <div id=\"5b3feb8b-4b86-4a37-aa6e-a43e0fec4f99\" class=\"plotly-graph-div\" style=\"height:525px; width:100%;\"></div>            <script type=\"text/javascript\">                require([\"plotly\"], function(Plotly) {                    window.PLOTLYENV=window.PLOTLYENV || {};                                    if (document.getElementById(\"5b3feb8b-4b86-4a37-aa6e-a43e0fec4f99\")) {                    Plotly.newPlot(                        \"5b3feb8b-4b86-4a37-aa6e-a43e0fec4f99\",                        [{\"mode\":\"markers\",\"x\":[1176.263211111111,1210.410388888889,1239.4302666666667,1275.7202222222222,1321.130211111111,1377.8160555555555,1424.3624222222222,1466.808,1493.9726,1535.0974111111111,1583.8881444444444,1622.4574777777777,1673.0697777777777,1693.733711111111,1766.990788888889,1797.6279777777777,1840.7325777777778,1903.1187777777777,1939.5674555555556,1993.8211222222224,2013.4102666666668,2041.7920666666666,2088.3999555555556,2147.583966666667,2157.1375222222223,2192.0580666666665,2223.9072444444446,2267.9656111111112,2296.4567333333334,1503.6963541666667,1454.7086791666668,1488.3074083333333,1482.8612729166664,1570.612710416667,1524.2541333333331,1522.1734541666665,1526.1079979166668,1537.6461583333332,1543.11238125,1755.0639062500002,1733.0229520833334,1769.4429020833334,1785.9815354166667,1831.5371937500001,1845.8024604166667,1879.6453708333331,1896.8901812499998,1919.8884145833333,1877.1832041666667,1788.48673125,1786.0438166666665,1816.4584604166666,1799.5063041666665,1808.5524979166667,1876.049636170213,1815.5870625,1874.3677127659575,1857.6282978723405,1874.7222148936169,1901.9328276595745,null],\"y\":[1083667059.0,1118482387.0,1146767041.0,1184758554.0,1210465099.0,1254340110.0,1299302844.0,1337368930.0,1344596827.0,1386707418.0,1420697818.0,1414268652.0,1493275029.0,1504827569.0,1533217930.0,1569694853.0,1607622952.0,1680725225.0,1699748103.0,1701820059.0,1757505557.0,1814875418.0,1822636743.0,1915023589.0,1947322965.0,1980385333.0,2003967791.0,2023984717.0,2094492093.0,2148500096.0,2087533162.0,2192203610.0,2210009822.0,2267786946.0,2312014062.0,2401322613.0,2454085045.0,2494018935.0,2572370880.0,2627259893.0,2665706906.0,2703188511.0,2770276457.0,2900173006.0,2954207241.0,3016099381.0,3097485761.0,3217408651.0,3240964362.0,3323571228.0,3448435091.0,3490019313.0,3630375823.0,3703588788.0,3757329935.0,3805258893.0,3909424813.0,3951007991.0,3993589039.0,4050314909.0,4125746540.0],\"type\":\"scatter\"}],                        {\"template\":{\"data\":{\"histogram2dcontour\":[{\"type\":\"histogram2dcontour\",\"colorbar\":{\"outlinewidth\":0,\"ticks\":\"\"},\"colorscale\":[[0.0,\"#0d0887\"],[0.1111111111111111,\"#46039f\"],[0.2222222222222222,\"#7201a8\"],[0.3333333333333333,\"#9c179e\"],[0.4444444444444444,\"#bd3786\"],[0.5555555555555556,\"#d8576b\"],[0.6666666666666666,\"#ed7953\"],[0.7777777777777778,\"#fb9f3a\"],[0.8888888888888888,\"#fdca26\"],[1.0,\"#f0f921\"]]}],\"choropleth\":[{\"type\":\"choropleth\",\"colorbar\":{\"outlinewidth\":0,\"ticks\":\"\"}}],\"histogram2d\":[{\"type\":\"histogram2d\",\"colorbar\":{\"outlinewidth\":0,\"ticks\":\"\"},\"colorscale\":[[0.0,\"#0d0887\"],[0.1111111111111111,\"#46039f\"],[0.2222222222222222,\"#7201a8\"],[0.3333333333333333,\"#9c179e\"],[0.4444444444444444,\"#bd3786\"],[0.5555555555555556,\"#d8576b\"],[0.6666666666666666,\"#ed7953\"],[0.7777777777777778,\"#fb9f3a\"],[0.8888888888888888,\"#fdca26\"],[1.0,\"#f0f921\"]]}],\"heatmap\":[{\"type\":\"heatmap\",\"colorbar\":{\"outlinewidth\":0,\"ticks\":\"\"},\"colorscale\":[[0.0,\"#0d0887\"],[0.1111111111111111,\"#46039f\"],[0.2222222222222222,\"#7201a8\"],[0.3333333333333333,\"#9c179e\"],[0.4444444444444444,\"#bd3786\"],[0.5555555555555556,\"#d8576b\"],[0.6666666666666666,\"#ed7953\"],[0.7777777777777778,\"#fb9f3a\"],[0.8888888888888888,\"#fdca26\"],[1.0,\"#f0f921\"]]}],\"heatmapgl\":[{\"type\":\"heatmapgl\",\"colorbar\":{\"outlinewidth\":0,\"ticks\":\"\"},\"colorscale\":[[0.0,\"#0d0887\"],[0.1111111111111111,\"#46039f\"],[0.2222222222222222,\"#7201a8\"],[0.3333333333333333,\"#9c179e\"],[0.4444444444444444,\"#bd3786\"],[0.5555555555555556,\"#d8576b\"],[0.6666666666666666,\"#ed7953\"],[0.7777777777777778,\"#fb9f3a\"],[0.8888888888888888,\"#fdca26\"],[1.0,\"#f0f921\"]]}],\"contourcarpet\":[{\"type\":\"contourcarpet\",\"colorbar\":{\"outlinewidth\":0,\"ticks\":\"\"}}],\"contour\":[{\"type\":\"contour\",\"colorbar\":{\"outlinewidth\":0,\"ticks\":\"\"},\"colorscale\":[[0.0,\"#0d0887\"],[0.1111111111111111,\"#46039f\"],[0.2222222222222222,\"#7201a8\"],[0.3333333333333333,\"#9c179e\"],[0.4444444444444444,\"#bd3786\"],[0.5555555555555556,\"#d8576b\"],[0.6666666666666666,\"#ed7953\"],[0.7777777777777778,\"#fb9f3a\"],[0.8888888888888888,\"#fdca26\"],[1.0,\"#f0f921\"]]}],\"surface\":[{\"type\":\"surface\",\"colorbar\":{\"outlinewidth\":0,\"ticks\":\"\"},\"colorscale\":[[0.0,\"#0d0887\"],[0.1111111111111111,\"#46039f\"],[0.2222222222222222,\"#7201a8\"],[0.3333333333333333,\"#9c179e\"],[0.4444444444444444,\"#bd3786\"],[0.5555555555555556,\"#d8576b\"],[0.6666666666666666,\"#ed7953\"],[0.7777777777777778,\"#fb9f3a\"],[0.8888888888888888,\"#fdca26\"],[1.0,\"#f0f921\"]]}],\"mesh3d\":[{\"type\":\"mesh3d\",\"colorbar\":{\"outlinewidth\":0,\"ticks\":\"\"}}],\"scatter\":[{\"fillpattern\":{\"fillmode\":\"overlay\",\"size\":10,\"solidity\":0.2},\"type\":\"scatter\"}],\"parcoords\":[{\"type\":\"parcoords\",\"line\":{\"colorbar\":{\"outlinewidth\":0,\"ticks\":\"\"}}}],\"scatterpolargl\":[{\"type\":\"scatterpolargl\",\"marker\":{\"colorbar\":{\"outlinewidth\":0,\"ticks\":\"\"}}}],\"bar\":[{\"error_x\":{\"color\":\"#2a3f5f\"},\"error_y\":{\"color\":\"#2a3f5f\"},\"marker\":{\"line\":{\"color\":\"#E5ECF6\",\"width\":0.5},\"pattern\":{\"fillmode\":\"overlay\",\"size\":10,\"solidity\":0.2}},\"type\":\"bar\"}],\"scattergeo\":[{\"type\":\"scattergeo\",\"marker\":{\"colorbar\":{\"outlinewidth\":0,\"ticks\":\"\"}}}],\"scatterpolar\":[{\"type\":\"scatterpolar\",\"marker\":{\"colorbar\":{\"outlinewidth\":0,\"ticks\":\"\"}}}],\"histogram\":[{\"marker\":{\"pattern\":{\"fillmode\":\"overlay\",\"size\":10,\"solidity\":0.2}},\"type\":\"histogram\"}],\"scattergl\":[{\"type\":\"scattergl\",\"marker\":{\"colorbar\":{\"outlinewidth\":0,\"ticks\":\"\"}}}],\"scatter3d\":[{\"type\":\"scatter3d\",\"line\":{\"colorbar\":{\"outlinewidth\":0,\"ticks\":\"\"}},\"marker\":{\"colorbar\":{\"outlinewidth\":0,\"ticks\":\"\"}}}],\"scattermapbox\":[{\"type\":\"scattermapbox\",\"marker\":{\"colorbar\":{\"outlinewidth\":0,\"ticks\":\"\"}}}],\"scatterternary\":[{\"type\":\"scatterternary\",\"marker\":{\"colorbar\":{\"outlinewidth\":0,\"ticks\":\"\"}}}],\"scattercarpet\":[{\"type\":\"scattercarpet\",\"marker\":{\"colorbar\":{\"outlinewidth\":0,\"ticks\":\"\"}}}],\"carpet\":[{\"aaxis\":{\"endlinecolor\":\"#2a3f5f\",\"gridcolor\":\"white\",\"linecolor\":\"white\",\"minorgridcolor\":\"white\",\"startlinecolor\":\"#2a3f5f\"},\"baxis\":{\"endlinecolor\":\"#2a3f5f\",\"gridcolor\":\"white\",\"linecolor\":\"white\",\"minorgridcolor\":\"white\",\"startlinecolor\":\"#2a3f5f\"},\"type\":\"carpet\"}],\"table\":[{\"cells\":{\"fill\":{\"color\":\"#EBF0F8\"},\"line\":{\"color\":\"white\"}},\"header\":{\"fill\":{\"color\":\"#C8D4E3\"},\"line\":{\"color\":\"white\"}},\"type\":\"table\"}],\"barpolar\":[{\"marker\":{\"line\":{\"color\":\"#E5ECF6\",\"width\":0.5},\"pattern\":{\"fillmode\":\"overlay\",\"size\":10,\"solidity\":0.2}},\"type\":\"barpolar\"}],\"pie\":[{\"automargin\":true,\"type\":\"pie\"}]},\"layout\":{\"autotypenumbers\":\"strict\",\"colorway\":[\"#636efa\",\"#EF553B\",\"#00cc96\",\"#ab63fa\",\"#FFA15A\",\"#19d3f3\",\"#FF6692\",\"#B6E880\",\"#FF97FF\",\"#FECB52\"],\"font\":{\"color\":\"#2a3f5f\"},\"hovermode\":\"closest\",\"hoverlabel\":{\"align\":\"left\"},\"paper_bgcolor\":\"white\",\"plot_bgcolor\":\"#E5ECF6\",\"polar\":{\"bgcolor\":\"#E5ECF6\",\"angularaxis\":{\"gridcolor\":\"white\",\"linecolor\":\"white\",\"ticks\":\"\"},\"radialaxis\":{\"gridcolor\":\"white\",\"linecolor\":\"white\",\"ticks\":\"\"}},\"ternary\":{\"bgcolor\":\"#E5ECF6\",\"aaxis\":{\"gridcolor\":\"white\",\"linecolor\":\"white\",\"ticks\":\"\"},\"baxis\":{\"gridcolor\":\"white\",\"linecolor\":\"white\",\"ticks\":\"\"},\"caxis\":{\"gridcolor\":\"white\",\"linecolor\":\"white\",\"ticks\":\"\"}},\"coloraxis\":{\"colorbar\":{\"outlinewidth\":0,\"ticks\":\"\"}},\"colorscale\":{\"sequential\":[[0.0,\"#0d0887\"],[0.1111111111111111,\"#46039f\"],[0.2222222222222222,\"#7201a8\"],[0.3333333333333333,\"#9c179e\"],[0.4444444444444444,\"#bd3786\"],[0.5555555555555556,\"#d8576b\"],[0.6666666666666666,\"#ed7953\"],[0.7777777777777778,\"#fb9f3a\"],[0.8888888888888888,\"#fdca26\"],[1.0,\"#f0f921\"]],\"sequentialminus\":[[0.0,\"#0d0887\"],[0.1111111111111111,\"#46039f\"],[0.2222222222222222,\"#7201a8\"],[0.3333333333333333,\"#9c179e\"],[0.4444444444444444,\"#bd3786\"],[0.5555555555555556,\"#d8576b\"],[0.6666666666666666,\"#ed7953\"],[0.7777777777777778,\"#fb9f3a\"],[0.8888888888888888,\"#fdca26\"],[1.0,\"#f0f921\"]],\"diverging\":[[0,\"#8e0152\"],[0.1,\"#c51b7d\"],[0.2,\"#de77ae\"],[0.3,\"#f1b6da\"],[0.4,\"#fde0ef\"],[0.5,\"#f7f7f7\"],[0.6,\"#e6f5d0\"],[0.7,\"#b8e186\"],[0.8,\"#7fbc41\"],[0.9,\"#4d9221\"],[1,\"#276419\"]]},\"xaxis\":{\"gridcolor\":\"white\",\"linecolor\":\"white\",\"ticks\":\"\",\"title\":{\"standoff\":15},\"zerolinecolor\":\"white\",\"automargin\":true,\"zerolinewidth\":2},\"yaxis\":{\"gridcolor\":\"white\",\"linecolor\":\"white\",\"ticks\":\"\",\"title\":{\"standoff\":15},\"zerolinecolor\":\"white\",\"automargin\":true,\"zerolinewidth\":2},\"scene\":{\"xaxis\":{\"backgroundcolor\":\"#E5ECF6\",\"gridcolor\":\"white\",\"linecolor\":\"white\",\"showbackground\":true,\"ticks\":\"\",\"zerolinecolor\":\"white\",\"gridwidth\":2},\"yaxis\":{\"backgroundcolor\":\"#E5ECF6\",\"gridcolor\":\"white\",\"linecolor\":\"white\",\"showbackground\":true,\"ticks\":\"\",\"zerolinecolor\":\"white\",\"gridwidth\":2},\"zaxis\":{\"backgroundcolor\":\"#E5ECF6\",\"gridcolor\":\"white\",\"linecolor\":\"white\",\"showbackground\":true,\"ticks\":\"\",\"zerolinecolor\":\"white\",\"gridwidth\":2}},\"shapedefaults\":{\"line\":{\"color\":\"#2a3f5f\"}},\"annotationdefaults\":{\"arrowcolor\":\"#2a3f5f\",\"arrowhead\":0,\"arrowwidth\":1},\"geo\":{\"bgcolor\":\"white\",\"landcolor\":\"#E5ECF6\",\"subunitcolor\":\"white\",\"showland\":true,\"showlakes\":true,\"lakecolor\":\"white\"},\"title\":{\"x\":0.05},\"mapbox\":{\"style\":\"light\"}}},\"xaxis\":{\"title\":{\"text\":\"Emissions (N2O)\"}},\"yaxis\":{\"title\":{\"text\":\"Production\"}},\"title\":{\"text\":\"Scatter Plot Example\"}},                        {\"responsive\": true}                    ).then(function(){\n",
       "                            \n",
       "var gd = document.getElementById('5b3feb8b-4b86-4a37-aa6e-a43e0fec4f99');\n",
       "var x = new MutationObserver(function (mutations, observer) {{\n",
       "        var display = window.getComputedStyle(gd).display;\n",
       "        if (!display || display === 'none') {{\n",
       "            console.log([gd, 'removed!']);\n",
       "            Plotly.purge(gd);\n",
       "            observer.disconnect();\n",
       "        }}\n",
       "}});\n",
       "\n",
       "// Listen for the removal of the full notebook cells\n",
       "var notebookContainer = gd.closest('#notebook-container');\n",
       "if (notebookContainer) {{\n",
       "    x.observe(notebookContainer, {childList: true});\n",
       "}}\n",
       "\n",
       "// Listen for the clearing of the current output cell\n",
       "var outputEl = gd.closest('.output');\n",
       "if (outputEl) {{\n",
       "    x.observe(outputEl, {childList: true});\n",
       "}}\n",
       "\n",
       "                        })                };                });            </script>        </div>"
      ]
     },
     "metadata": {},
     "output_type": "display_data"
    },
    {
     "data": {
      "application/vnd.plotly.v1+json": {
       "config": {
        "plotlyServerURL": "https://plot.ly"
       },
       "data": [
        {
         "mode": "markers",
         "type": "scatter",
         "x": [
          274.6754,
          282.98226666666665,
          289.93875,
          298.36308333333335,
          309.5455,
          323.289,
          334.48565,
          344.96325,
          352.12375,
          362.57555,
          374.0310833333333,
          382.89995,
          394.39725,
          398.7535666666667,
          417.8523,
          425.1979166666667,
          436.7449333333334,
          453.47255,
          463.8240666666666,
          478.0094833333333,
          482.5273,
          489.52405,
          502.21145,
          516.9247166666668,
          519.00285,
          527.8247666666667,
          537.2390333333334,
          549.59405,
          556.04565,
          521.0979428571429,
          514.3861285714286,
          523.6675571428572,
          519.193,
          517.968,
          531.6865714285715,
          544.0824285714286,
          538.3178714285714,
          543.4077285714286,
          548.1455,
          540.6626428571429,
          547.0479714285714,
          554.1915,
          563.4237571428572,
          579.5260999999999,
          582.3667857142857,
          591.6913857142856,
          605.8776285714285,
          609.7335428571429,
          615.6822428571429,
          625.5733857142857,
          637.7718000000001,
          638.2371571428572,
          653.8996714285714,
          659.8973857142856,
          664.6581428571428,
          677.3534,
          680.9443142857143,
          681.6912714285714,
          687.3305571428572,
          698.274,
          null
         ],
         "y": [
          1083667059,
          1118482387,
          1146767041,
          1184758554,
          1210465099,
          1254340110,
          1299302844,
          1337368930,
          1344596827,
          1386707418,
          1420697818,
          1414268652,
          1493275029,
          1504827569,
          1533217930,
          1569694853,
          1607622952,
          1680725225,
          1699748103,
          1701820059,
          1757505557,
          1814875418,
          1822636743,
          1915023589,
          1947322965,
          1980385333,
          2003967791,
          2023984717,
          2094492093,
          2148500096,
          2087533162,
          2192203610,
          2210009822,
          2267786946,
          2312014062,
          2401322613,
          2454085045,
          2494018935,
          2572370880,
          2627259893,
          2665706906,
          2703188511,
          2770276457,
          2900173006,
          2954207241,
          3016099381,
          3097485761,
          3217408651,
          3240964362,
          3323571228,
          3448435091,
          3490019313,
          3630375823,
          3703588788,
          3757329935,
          3805258893,
          3909424813,
          3951007991,
          3993589039,
          4050314909,
          4125746540
         ]
        }
       ],
       "layout": {
        "template": {
         "data": {
          "bar": [
           {
            "error_x": {
             "color": "#2a3f5f"
            },
            "error_y": {
             "color": "#2a3f5f"
            },
            "marker": {
             "line": {
              "color": "#E5ECF6",
              "width": 0.5
             },
             "pattern": {
              "fillmode": "overlay",
              "size": 10,
              "solidity": 0.2
             }
            },
            "type": "bar"
           }
          ],
          "barpolar": [
           {
            "marker": {
             "line": {
              "color": "#E5ECF6",
              "width": 0.5
             },
             "pattern": {
              "fillmode": "overlay",
              "size": 10,
              "solidity": 0.2
             }
            },
            "type": "barpolar"
           }
          ],
          "carpet": [
           {
            "aaxis": {
             "endlinecolor": "#2a3f5f",
             "gridcolor": "white",
             "linecolor": "white",
             "minorgridcolor": "white",
             "startlinecolor": "#2a3f5f"
            },
            "baxis": {
             "endlinecolor": "#2a3f5f",
             "gridcolor": "white",
             "linecolor": "white",
             "minorgridcolor": "white",
             "startlinecolor": "#2a3f5f"
            },
            "type": "carpet"
           }
          ],
          "choropleth": [
           {
            "colorbar": {
             "outlinewidth": 0,
             "ticks": ""
            },
            "type": "choropleth"
           }
          ],
          "contour": [
           {
            "colorbar": {
             "outlinewidth": 0,
             "ticks": ""
            },
            "colorscale": [
             [
              0,
              "#0d0887"
             ],
             [
              0.1111111111111111,
              "#46039f"
             ],
             [
              0.2222222222222222,
              "#7201a8"
             ],
             [
              0.3333333333333333,
              "#9c179e"
             ],
             [
              0.4444444444444444,
              "#bd3786"
             ],
             [
              0.5555555555555556,
              "#d8576b"
             ],
             [
              0.6666666666666666,
              "#ed7953"
             ],
             [
              0.7777777777777778,
              "#fb9f3a"
             ],
             [
              0.8888888888888888,
              "#fdca26"
             ],
             [
              1,
              "#f0f921"
             ]
            ],
            "type": "contour"
           }
          ],
          "contourcarpet": [
           {
            "colorbar": {
             "outlinewidth": 0,
             "ticks": ""
            },
            "type": "contourcarpet"
           }
          ],
          "heatmap": [
           {
            "colorbar": {
             "outlinewidth": 0,
             "ticks": ""
            },
            "colorscale": [
             [
              0,
              "#0d0887"
             ],
             [
              0.1111111111111111,
              "#46039f"
             ],
             [
              0.2222222222222222,
              "#7201a8"
             ],
             [
              0.3333333333333333,
              "#9c179e"
             ],
             [
              0.4444444444444444,
              "#bd3786"
             ],
             [
              0.5555555555555556,
              "#d8576b"
             ],
             [
              0.6666666666666666,
              "#ed7953"
             ],
             [
              0.7777777777777778,
              "#fb9f3a"
             ],
             [
              0.8888888888888888,
              "#fdca26"
             ],
             [
              1,
              "#f0f921"
             ]
            ],
            "type": "heatmap"
           }
          ],
          "heatmapgl": [
           {
            "colorbar": {
             "outlinewidth": 0,
             "ticks": ""
            },
            "colorscale": [
             [
              0,
              "#0d0887"
             ],
             [
              0.1111111111111111,
              "#46039f"
             ],
             [
              0.2222222222222222,
              "#7201a8"
             ],
             [
              0.3333333333333333,
              "#9c179e"
             ],
             [
              0.4444444444444444,
              "#bd3786"
             ],
             [
              0.5555555555555556,
              "#d8576b"
             ],
             [
              0.6666666666666666,
              "#ed7953"
             ],
             [
              0.7777777777777778,
              "#fb9f3a"
             ],
             [
              0.8888888888888888,
              "#fdca26"
             ],
             [
              1,
              "#f0f921"
             ]
            ],
            "type": "heatmapgl"
           }
          ],
          "histogram": [
           {
            "marker": {
             "pattern": {
              "fillmode": "overlay",
              "size": 10,
              "solidity": 0.2
             }
            },
            "type": "histogram"
           }
          ],
          "histogram2d": [
           {
            "colorbar": {
             "outlinewidth": 0,
             "ticks": ""
            },
            "colorscale": [
             [
              0,
              "#0d0887"
             ],
             [
              0.1111111111111111,
              "#46039f"
             ],
             [
              0.2222222222222222,
              "#7201a8"
             ],
             [
              0.3333333333333333,
              "#9c179e"
             ],
             [
              0.4444444444444444,
              "#bd3786"
             ],
             [
              0.5555555555555556,
              "#d8576b"
             ],
             [
              0.6666666666666666,
              "#ed7953"
             ],
             [
              0.7777777777777778,
              "#fb9f3a"
             ],
             [
              0.8888888888888888,
              "#fdca26"
             ],
             [
              1,
              "#f0f921"
             ]
            ],
            "type": "histogram2d"
           }
          ],
          "histogram2dcontour": [
           {
            "colorbar": {
             "outlinewidth": 0,
             "ticks": ""
            },
            "colorscale": [
             [
              0,
              "#0d0887"
             ],
             [
              0.1111111111111111,
              "#46039f"
             ],
             [
              0.2222222222222222,
              "#7201a8"
             ],
             [
              0.3333333333333333,
              "#9c179e"
             ],
             [
              0.4444444444444444,
              "#bd3786"
             ],
             [
              0.5555555555555556,
              "#d8576b"
             ],
             [
              0.6666666666666666,
              "#ed7953"
             ],
             [
              0.7777777777777778,
              "#fb9f3a"
             ],
             [
              0.8888888888888888,
              "#fdca26"
             ],
             [
              1,
              "#f0f921"
             ]
            ],
            "type": "histogram2dcontour"
           }
          ],
          "mesh3d": [
           {
            "colorbar": {
             "outlinewidth": 0,
             "ticks": ""
            },
            "type": "mesh3d"
           }
          ],
          "parcoords": [
           {
            "line": {
             "colorbar": {
              "outlinewidth": 0,
              "ticks": ""
             }
            },
            "type": "parcoords"
           }
          ],
          "pie": [
           {
            "automargin": true,
            "type": "pie"
           }
          ],
          "scatter": [
           {
            "fillpattern": {
             "fillmode": "overlay",
             "size": 10,
             "solidity": 0.2
            },
            "type": "scatter"
           }
          ],
          "scatter3d": [
           {
            "line": {
             "colorbar": {
              "outlinewidth": 0,
              "ticks": ""
             }
            },
            "marker": {
             "colorbar": {
              "outlinewidth": 0,
              "ticks": ""
             }
            },
            "type": "scatter3d"
           }
          ],
          "scattercarpet": [
           {
            "marker": {
             "colorbar": {
              "outlinewidth": 0,
              "ticks": ""
             }
            },
            "type": "scattercarpet"
           }
          ],
          "scattergeo": [
           {
            "marker": {
             "colorbar": {
              "outlinewidth": 0,
              "ticks": ""
             }
            },
            "type": "scattergeo"
           }
          ],
          "scattergl": [
           {
            "marker": {
             "colorbar": {
              "outlinewidth": 0,
              "ticks": ""
             }
            },
            "type": "scattergl"
           }
          ],
          "scattermapbox": [
           {
            "marker": {
             "colorbar": {
              "outlinewidth": 0,
              "ticks": ""
             }
            },
            "type": "scattermapbox"
           }
          ],
          "scatterpolar": [
           {
            "marker": {
             "colorbar": {
              "outlinewidth": 0,
              "ticks": ""
             }
            },
            "type": "scatterpolar"
           }
          ],
          "scatterpolargl": [
           {
            "marker": {
             "colorbar": {
              "outlinewidth": 0,
              "ticks": ""
             }
            },
            "type": "scatterpolargl"
           }
          ],
          "scatterternary": [
           {
            "marker": {
             "colorbar": {
              "outlinewidth": 0,
              "ticks": ""
             }
            },
            "type": "scatterternary"
           }
          ],
          "surface": [
           {
            "colorbar": {
             "outlinewidth": 0,
             "ticks": ""
            },
            "colorscale": [
             [
              0,
              "#0d0887"
             ],
             [
              0.1111111111111111,
              "#46039f"
             ],
             [
              0.2222222222222222,
              "#7201a8"
             ],
             [
              0.3333333333333333,
              "#9c179e"
             ],
             [
              0.4444444444444444,
              "#bd3786"
             ],
             [
              0.5555555555555556,
              "#d8576b"
             ],
             [
              0.6666666666666666,
              "#ed7953"
             ],
             [
              0.7777777777777778,
              "#fb9f3a"
             ],
             [
              0.8888888888888888,
              "#fdca26"
             ],
             [
              1,
              "#f0f921"
             ]
            ],
            "type": "surface"
           }
          ],
          "table": [
           {
            "cells": {
             "fill": {
              "color": "#EBF0F8"
             },
             "line": {
              "color": "white"
             }
            },
            "header": {
             "fill": {
              "color": "#C8D4E3"
             },
             "line": {
              "color": "white"
             }
            },
            "type": "table"
           }
          ]
         },
         "layout": {
          "annotationdefaults": {
           "arrowcolor": "#2a3f5f",
           "arrowhead": 0,
           "arrowwidth": 1
          },
          "autotypenumbers": "strict",
          "coloraxis": {
           "colorbar": {
            "outlinewidth": 0,
            "ticks": ""
           }
          },
          "colorscale": {
           "diverging": [
            [
             0,
             "#8e0152"
            ],
            [
             0.1,
             "#c51b7d"
            ],
            [
             0.2,
             "#de77ae"
            ],
            [
             0.3,
             "#f1b6da"
            ],
            [
             0.4,
             "#fde0ef"
            ],
            [
             0.5,
             "#f7f7f7"
            ],
            [
             0.6,
             "#e6f5d0"
            ],
            [
             0.7,
             "#b8e186"
            ],
            [
             0.8,
             "#7fbc41"
            ],
            [
             0.9,
             "#4d9221"
            ],
            [
             1,
             "#276419"
            ]
           ],
           "sequential": [
            [
             0,
             "#0d0887"
            ],
            [
             0.1111111111111111,
             "#46039f"
            ],
            [
             0.2222222222222222,
             "#7201a8"
            ],
            [
             0.3333333333333333,
             "#9c179e"
            ],
            [
             0.4444444444444444,
             "#bd3786"
            ],
            [
             0.5555555555555556,
             "#d8576b"
            ],
            [
             0.6666666666666666,
             "#ed7953"
            ],
            [
             0.7777777777777778,
             "#fb9f3a"
            ],
            [
             0.8888888888888888,
             "#fdca26"
            ],
            [
             1,
             "#f0f921"
            ]
           ],
           "sequentialminus": [
            [
             0,
             "#0d0887"
            ],
            [
             0.1111111111111111,
             "#46039f"
            ],
            [
             0.2222222222222222,
             "#7201a8"
            ],
            [
             0.3333333333333333,
             "#9c179e"
            ],
            [
             0.4444444444444444,
             "#bd3786"
            ],
            [
             0.5555555555555556,
             "#d8576b"
            ],
            [
             0.6666666666666666,
             "#ed7953"
            ],
            [
             0.7777777777777778,
             "#fb9f3a"
            ],
            [
             0.8888888888888888,
             "#fdca26"
            ],
            [
             1,
             "#f0f921"
            ]
           ]
          },
          "colorway": [
           "#636efa",
           "#EF553B",
           "#00cc96",
           "#ab63fa",
           "#FFA15A",
           "#19d3f3",
           "#FF6692",
           "#B6E880",
           "#FF97FF",
           "#FECB52"
          ],
          "font": {
           "color": "#2a3f5f"
          },
          "geo": {
           "bgcolor": "white",
           "lakecolor": "white",
           "landcolor": "#E5ECF6",
           "showlakes": true,
           "showland": true,
           "subunitcolor": "white"
          },
          "hoverlabel": {
           "align": "left"
          },
          "hovermode": "closest",
          "mapbox": {
           "style": "light"
          },
          "paper_bgcolor": "white",
          "plot_bgcolor": "#E5ECF6",
          "polar": {
           "angularaxis": {
            "gridcolor": "white",
            "linecolor": "white",
            "ticks": ""
           },
           "bgcolor": "#E5ECF6",
           "radialaxis": {
            "gridcolor": "white",
            "linecolor": "white",
            "ticks": ""
           }
          },
          "scene": {
           "xaxis": {
            "backgroundcolor": "#E5ECF6",
            "gridcolor": "white",
            "gridwidth": 2,
            "linecolor": "white",
            "showbackground": true,
            "ticks": "",
            "zerolinecolor": "white"
           },
           "yaxis": {
            "backgroundcolor": "#E5ECF6",
            "gridcolor": "white",
            "gridwidth": 2,
            "linecolor": "white",
            "showbackground": true,
            "ticks": "",
            "zerolinecolor": "white"
           },
           "zaxis": {
            "backgroundcolor": "#E5ECF6",
            "gridcolor": "white",
            "gridwidth": 2,
            "linecolor": "white",
            "showbackground": true,
            "ticks": "",
            "zerolinecolor": "white"
           }
          },
          "shapedefaults": {
           "line": {
            "color": "#2a3f5f"
           }
          },
          "ternary": {
           "aaxis": {
            "gridcolor": "white",
            "linecolor": "white",
            "ticks": ""
           },
           "baxis": {
            "gridcolor": "white",
            "linecolor": "white",
            "ticks": ""
           },
           "bgcolor": "#E5ECF6",
           "caxis": {
            "gridcolor": "white",
            "linecolor": "white",
            "ticks": ""
           }
          },
          "title": {
           "x": 0.05
          },
          "xaxis": {
           "automargin": true,
           "gridcolor": "white",
           "linecolor": "white",
           "ticks": "",
           "title": {
            "standoff": 15
           },
           "zerolinecolor": "white",
           "zerolinewidth": 2
          },
          "yaxis": {
           "automargin": true,
           "gridcolor": "white",
           "linecolor": "white",
           "ticks": "",
           "title": {
            "standoff": 15
           },
           "zerolinecolor": "white",
           "zerolinewidth": 2
          }
         }
        },
        "title": {
         "text": "Scatter Plot Example"
        },
        "xaxis": {
         "title": {
          "text": "Indirect emissions (N2O)"
         }
        },
        "yaxis": {
         "title": {
          "text": "Production"
         }
        }
       }
      },
      "text/html": [
       "<div>                            <div id=\"67e95290-c55b-4391-857d-6a15b2894ebe\" class=\"plotly-graph-div\" style=\"height:525px; width:100%;\"></div>            <script type=\"text/javascript\">                require([\"plotly\"], function(Plotly) {                    window.PLOTLYENV=window.PLOTLYENV || {};                                    if (document.getElementById(\"67e95290-c55b-4391-857d-6a15b2894ebe\")) {                    Plotly.newPlot(                        \"67e95290-c55b-4391-857d-6a15b2894ebe\",                        [{\"mode\":\"markers\",\"x\":[274.6754,282.98226666666665,289.93875,298.36308333333335,309.5455,323.289,334.48565,344.96325,352.12375,362.57555,374.0310833333333,382.89995,394.39725,398.7535666666667,417.8523,425.1979166666667,436.7449333333334,453.47255,463.8240666666666,478.0094833333333,482.5273,489.52405,502.21145,516.9247166666668,519.00285,527.8247666666667,537.2390333333334,549.59405,556.04565,521.0979428571429,514.3861285714286,523.6675571428572,519.193,517.968,531.6865714285715,544.0824285714286,538.3178714285714,543.4077285714286,548.1455,540.6626428571429,547.0479714285714,554.1915,563.4237571428572,579.5260999999999,582.3667857142857,591.6913857142856,605.8776285714285,609.7335428571429,615.6822428571429,625.5733857142857,637.7718000000001,638.2371571428572,653.8996714285714,659.8973857142856,664.6581428571428,677.3534,680.9443142857143,681.6912714285714,687.3305571428572,698.274,null],\"y\":[1083667059.0,1118482387.0,1146767041.0,1184758554.0,1210465099.0,1254340110.0,1299302844.0,1337368930.0,1344596827.0,1386707418.0,1420697818.0,1414268652.0,1493275029.0,1504827569.0,1533217930.0,1569694853.0,1607622952.0,1680725225.0,1699748103.0,1701820059.0,1757505557.0,1814875418.0,1822636743.0,1915023589.0,1947322965.0,1980385333.0,2003967791.0,2023984717.0,2094492093.0,2148500096.0,2087533162.0,2192203610.0,2210009822.0,2267786946.0,2312014062.0,2401322613.0,2454085045.0,2494018935.0,2572370880.0,2627259893.0,2665706906.0,2703188511.0,2770276457.0,2900173006.0,2954207241.0,3016099381.0,3097485761.0,3217408651.0,3240964362.0,3323571228.0,3448435091.0,3490019313.0,3630375823.0,3703588788.0,3757329935.0,3805258893.0,3909424813.0,3951007991.0,3993589039.0,4050314909.0,4125746540.0],\"type\":\"scatter\"}],                        {\"template\":{\"data\":{\"histogram2dcontour\":[{\"type\":\"histogram2dcontour\",\"colorbar\":{\"outlinewidth\":0,\"ticks\":\"\"},\"colorscale\":[[0.0,\"#0d0887\"],[0.1111111111111111,\"#46039f\"],[0.2222222222222222,\"#7201a8\"],[0.3333333333333333,\"#9c179e\"],[0.4444444444444444,\"#bd3786\"],[0.5555555555555556,\"#d8576b\"],[0.6666666666666666,\"#ed7953\"],[0.7777777777777778,\"#fb9f3a\"],[0.8888888888888888,\"#fdca26\"],[1.0,\"#f0f921\"]]}],\"choropleth\":[{\"type\":\"choropleth\",\"colorbar\":{\"outlinewidth\":0,\"ticks\":\"\"}}],\"histogram2d\":[{\"type\":\"histogram2d\",\"colorbar\":{\"outlinewidth\":0,\"ticks\":\"\"},\"colorscale\":[[0.0,\"#0d0887\"],[0.1111111111111111,\"#46039f\"],[0.2222222222222222,\"#7201a8\"],[0.3333333333333333,\"#9c179e\"],[0.4444444444444444,\"#bd3786\"],[0.5555555555555556,\"#d8576b\"],[0.6666666666666666,\"#ed7953\"],[0.7777777777777778,\"#fb9f3a\"],[0.8888888888888888,\"#fdca26\"],[1.0,\"#f0f921\"]]}],\"heatmap\":[{\"type\":\"heatmap\",\"colorbar\":{\"outlinewidth\":0,\"ticks\":\"\"},\"colorscale\":[[0.0,\"#0d0887\"],[0.1111111111111111,\"#46039f\"],[0.2222222222222222,\"#7201a8\"],[0.3333333333333333,\"#9c179e\"],[0.4444444444444444,\"#bd3786\"],[0.5555555555555556,\"#d8576b\"],[0.6666666666666666,\"#ed7953\"],[0.7777777777777778,\"#fb9f3a\"],[0.8888888888888888,\"#fdca26\"],[1.0,\"#f0f921\"]]}],\"heatmapgl\":[{\"type\":\"heatmapgl\",\"colorbar\":{\"outlinewidth\":0,\"ticks\":\"\"},\"colorscale\":[[0.0,\"#0d0887\"],[0.1111111111111111,\"#46039f\"],[0.2222222222222222,\"#7201a8\"],[0.3333333333333333,\"#9c179e\"],[0.4444444444444444,\"#bd3786\"],[0.5555555555555556,\"#d8576b\"],[0.6666666666666666,\"#ed7953\"],[0.7777777777777778,\"#fb9f3a\"],[0.8888888888888888,\"#fdca26\"],[1.0,\"#f0f921\"]]}],\"contourcarpet\":[{\"type\":\"contourcarpet\",\"colorbar\":{\"outlinewidth\":0,\"ticks\":\"\"}}],\"contour\":[{\"type\":\"contour\",\"colorbar\":{\"outlinewidth\":0,\"ticks\":\"\"},\"colorscale\":[[0.0,\"#0d0887\"],[0.1111111111111111,\"#46039f\"],[0.2222222222222222,\"#7201a8\"],[0.3333333333333333,\"#9c179e\"],[0.4444444444444444,\"#bd3786\"],[0.5555555555555556,\"#d8576b\"],[0.6666666666666666,\"#ed7953\"],[0.7777777777777778,\"#fb9f3a\"],[0.8888888888888888,\"#fdca26\"],[1.0,\"#f0f921\"]]}],\"surface\":[{\"type\":\"surface\",\"colorbar\":{\"outlinewidth\":0,\"ticks\":\"\"},\"colorscale\":[[0.0,\"#0d0887\"],[0.1111111111111111,\"#46039f\"],[0.2222222222222222,\"#7201a8\"],[0.3333333333333333,\"#9c179e\"],[0.4444444444444444,\"#bd3786\"],[0.5555555555555556,\"#d8576b\"],[0.6666666666666666,\"#ed7953\"],[0.7777777777777778,\"#fb9f3a\"],[0.8888888888888888,\"#fdca26\"],[1.0,\"#f0f921\"]]}],\"mesh3d\":[{\"type\":\"mesh3d\",\"colorbar\":{\"outlinewidth\":0,\"ticks\":\"\"}}],\"scatter\":[{\"fillpattern\":{\"fillmode\":\"overlay\",\"size\":10,\"solidity\":0.2},\"type\":\"scatter\"}],\"parcoords\":[{\"type\":\"parcoords\",\"line\":{\"colorbar\":{\"outlinewidth\":0,\"ticks\":\"\"}}}],\"scatterpolargl\":[{\"type\":\"scatterpolargl\",\"marker\":{\"colorbar\":{\"outlinewidth\":0,\"ticks\":\"\"}}}],\"bar\":[{\"error_x\":{\"color\":\"#2a3f5f\"},\"error_y\":{\"color\":\"#2a3f5f\"},\"marker\":{\"line\":{\"color\":\"#E5ECF6\",\"width\":0.5},\"pattern\":{\"fillmode\":\"overlay\",\"size\":10,\"solidity\":0.2}},\"type\":\"bar\"}],\"scattergeo\":[{\"type\":\"scattergeo\",\"marker\":{\"colorbar\":{\"outlinewidth\":0,\"ticks\":\"\"}}}],\"scatterpolar\":[{\"type\":\"scatterpolar\",\"marker\":{\"colorbar\":{\"outlinewidth\":0,\"ticks\":\"\"}}}],\"histogram\":[{\"marker\":{\"pattern\":{\"fillmode\":\"overlay\",\"size\":10,\"solidity\":0.2}},\"type\":\"histogram\"}],\"scattergl\":[{\"type\":\"scattergl\",\"marker\":{\"colorbar\":{\"outlinewidth\":0,\"ticks\":\"\"}}}],\"scatter3d\":[{\"type\":\"scatter3d\",\"line\":{\"colorbar\":{\"outlinewidth\":0,\"ticks\":\"\"}},\"marker\":{\"colorbar\":{\"outlinewidth\":0,\"ticks\":\"\"}}}],\"scattermapbox\":[{\"type\":\"scattermapbox\",\"marker\":{\"colorbar\":{\"outlinewidth\":0,\"ticks\":\"\"}}}],\"scatterternary\":[{\"type\":\"scatterternary\",\"marker\":{\"colorbar\":{\"outlinewidth\":0,\"ticks\":\"\"}}}],\"scattercarpet\":[{\"type\":\"scattercarpet\",\"marker\":{\"colorbar\":{\"outlinewidth\":0,\"ticks\":\"\"}}}],\"carpet\":[{\"aaxis\":{\"endlinecolor\":\"#2a3f5f\",\"gridcolor\":\"white\",\"linecolor\":\"white\",\"minorgridcolor\":\"white\",\"startlinecolor\":\"#2a3f5f\"},\"baxis\":{\"endlinecolor\":\"#2a3f5f\",\"gridcolor\":\"white\",\"linecolor\":\"white\",\"minorgridcolor\":\"white\",\"startlinecolor\":\"#2a3f5f\"},\"type\":\"carpet\"}],\"table\":[{\"cells\":{\"fill\":{\"color\":\"#EBF0F8\"},\"line\":{\"color\":\"white\"}},\"header\":{\"fill\":{\"color\":\"#C8D4E3\"},\"line\":{\"color\":\"white\"}},\"type\":\"table\"}],\"barpolar\":[{\"marker\":{\"line\":{\"color\":\"#E5ECF6\",\"width\":0.5},\"pattern\":{\"fillmode\":\"overlay\",\"size\":10,\"solidity\":0.2}},\"type\":\"barpolar\"}],\"pie\":[{\"automargin\":true,\"type\":\"pie\"}]},\"layout\":{\"autotypenumbers\":\"strict\",\"colorway\":[\"#636efa\",\"#EF553B\",\"#00cc96\",\"#ab63fa\",\"#FFA15A\",\"#19d3f3\",\"#FF6692\",\"#B6E880\",\"#FF97FF\",\"#FECB52\"],\"font\":{\"color\":\"#2a3f5f\"},\"hovermode\":\"closest\",\"hoverlabel\":{\"align\":\"left\"},\"paper_bgcolor\":\"white\",\"plot_bgcolor\":\"#E5ECF6\",\"polar\":{\"bgcolor\":\"#E5ECF6\",\"angularaxis\":{\"gridcolor\":\"white\",\"linecolor\":\"white\",\"ticks\":\"\"},\"radialaxis\":{\"gridcolor\":\"white\",\"linecolor\":\"white\",\"ticks\":\"\"}},\"ternary\":{\"bgcolor\":\"#E5ECF6\",\"aaxis\":{\"gridcolor\":\"white\",\"linecolor\":\"white\",\"ticks\":\"\"},\"baxis\":{\"gridcolor\":\"white\",\"linecolor\":\"white\",\"ticks\":\"\"},\"caxis\":{\"gridcolor\":\"white\",\"linecolor\":\"white\",\"ticks\":\"\"}},\"coloraxis\":{\"colorbar\":{\"outlinewidth\":0,\"ticks\":\"\"}},\"colorscale\":{\"sequential\":[[0.0,\"#0d0887\"],[0.1111111111111111,\"#46039f\"],[0.2222222222222222,\"#7201a8\"],[0.3333333333333333,\"#9c179e\"],[0.4444444444444444,\"#bd3786\"],[0.5555555555555556,\"#d8576b\"],[0.6666666666666666,\"#ed7953\"],[0.7777777777777778,\"#fb9f3a\"],[0.8888888888888888,\"#fdca26\"],[1.0,\"#f0f921\"]],\"sequentialminus\":[[0.0,\"#0d0887\"],[0.1111111111111111,\"#46039f\"],[0.2222222222222222,\"#7201a8\"],[0.3333333333333333,\"#9c179e\"],[0.4444444444444444,\"#bd3786\"],[0.5555555555555556,\"#d8576b\"],[0.6666666666666666,\"#ed7953\"],[0.7777777777777778,\"#fb9f3a\"],[0.8888888888888888,\"#fdca26\"],[1.0,\"#f0f921\"]],\"diverging\":[[0,\"#8e0152\"],[0.1,\"#c51b7d\"],[0.2,\"#de77ae\"],[0.3,\"#f1b6da\"],[0.4,\"#fde0ef\"],[0.5,\"#f7f7f7\"],[0.6,\"#e6f5d0\"],[0.7,\"#b8e186\"],[0.8,\"#7fbc41\"],[0.9,\"#4d9221\"],[1,\"#276419\"]]},\"xaxis\":{\"gridcolor\":\"white\",\"linecolor\":\"white\",\"ticks\":\"\",\"title\":{\"standoff\":15},\"zerolinecolor\":\"white\",\"automargin\":true,\"zerolinewidth\":2},\"yaxis\":{\"gridcolor\":\"white\",\"linecolor\":\"white\",\"ticks\":\"\",\"title\":{\"standoff\":15},\"zerolinecolor\":\"white\",\"automargin\":true,\"zerolinewidth\":2},\"scene\":{\"xaxis\":{\"backgroundcolor\":\"#E5ECF6\",\"gridcolor\":\"white\",\"linecolor\":\"white\",\"showbackground\":true,\"ticks\":\"\",\"zerolinecolor\":\"white\",\"gridwidth\":2},\"yaxis\":{\"backgroundcolor\":\"#E5ECF6\",\"gridcolor\":\"white\",\"linecolor\":\"white\",\"showbackground\":true,\"ticks\":\"\",\"zerolinecolor\":\"white\",\"gridwidth\":2},\"zaxis\":{\"backgroundcolor\":\"#E5ECF6\",\"gridcolor\":\"white\",\"linecolor\":\"white\",\"showbackground\":true,\"ticks\":\"\",\"zerolinecolor\":\"white\",\"gridwidth\":2}},\"shapedefaults\":{\"line\":{\"color\":\"#2a3f5f\"}},\"annotationdefaults\":{\"arrowcolor\":\"#2a3f5f\",\"arrowhead\":0,\"arrowwidth\":1},\"geo\":{\"bgcolor\":\"white\",\"landcolor\":\"#E5ECF6\",\"subunitcolor\":\"white\",\"showland\":true,\"showlakes\":true,\"lakecolor\":\"white\"},\"title\":{\"x\":0.05},\"mapbox\":{\"style\":\"light\"}}},\"xaxis\":{\"title\":{\"text\":\"Indirect emissions (N2O)\"}},\"yaxis\":{\"title\":{\"text\":\"Production\"}},\"title\":{\"text\":\"Scatter Plot Example\"}},                        {\"responsive\": true}                    ).then(function(){\n",
       "                            \n",
       "var gd = document.getElementById('67e95290-c55b-4391-857d-6a15b2894ebe');\n",
       "var x = new MutationObserver(function (mutations, observer) {{\n",
       "        var display = window.getComputedStyle(gd).display;\n",
       "        if (!display || display === 'none') {{\n",
       "            console.log([gd, 'removed!']);\n",
       "            Plotly.purge(gd);\n",
       "            observer.disconnect();\n",
       "        }}\n",
       "}});\n",
       "\n",
       "// Listen for the removal of the full notebook cells\n",
       "var notebookContainer = gd.closest('#notebook-container');\n",
       "if (notebookContainer) {{\n",
       "    x.observe(notebookContainer, {childList: true});\n",
       "}}\n",
       "\n",
       "// Listen for the clearing of the current output cell\n",
       "var outputEl = gd.closest('.output');\n",
       "if (outputEl) {{\n",
       "    x.observe(outputEl, {childList: true});\n",
       "}}\n",
       "\n",
       "                        })                };                });            </script>        </div>"
      ]
     },
     "metadata": {},
     "output_type": "display_data"
    }
   ],
   "source": [
    "# Create a scatter plot\n",
    "for i in droped_ml.columns.drop(['Value']):\n",
    "    fig = go.Figure(data=go.Scatter(x=droped_ml[i], y=droped_ml['Value'], mode='markers'))\n",
    "    # Set axis labels and plot title\n",
    "    fig.update_layout(\n",
    "    xaxis_title=i,\n",
    "    yaxis_title='Production',\n",
    "    title='Scatter Plot Example'\n",
    "    )\n",
    "# Show the plot\n",
    "    fig.show()\n",
    "     # Change the file path and format as needed\n",
    "# Save the figure to the specified file\n",
    "    #pio.write_image(fig, 'D:\\\\Un Datathon\\\\'+i+'.png')"
   ]
  },
  {
   "cell_type": "code",
   "execution_count": 71,
   "id": "07af6b32",
   "metadata": {},
   "outputs": [],
   "source": [
    "#!pip install -U kaleido"
   ]
  },
  {
   "cell_type": "code",
   "execution_count": 72,
   "id": "033a0921",
   "metadata": {},
   "outputs": [],
   "source": [
    "# ml_use.to_csv(\"D:\\\\Un Datathon\\\\Data\\\\Final\\\\ml_use.csv\")"
   ]
  },
  {
   "cell_type": "code",
   "execution_count": 73,
   "id": "b1d806ad",
   "metadata": {},
   "outputs": [],
   "source": [
    "# import pandas as pd\n",
    "# data={\n",
    "#     'ID': [1, 2, 3],\n",
    "#     'Name': ['Alice', 'Bob', 'Charlie'],\n",
    "#     'Math_Score': [90, 85, 78],\n",
    "#     'Science_Score': [88, 92, 76],\n",
    "# }\n",
    "# df = pd.DataFrame(data)\n",
    "# df_long = pd.melt(df,id_vars=['ID', 'Name'], var_name='Subject', value_name='Score')"
   ]
  },
  {
   "cell_type": "code",
   "execution_count": 52,
   "id": "a98b9a9e",
   "metadata": {},
   "outputs": [
    {
     "data": {
      "text/plain": [
       "array(['Afghanistan', 'Algeria', 'Angola', 'Argentina', 'Armenia',\n",
       "       'Azerbaijan', 'Bangladesh', 'Belarus', 'Benin', 'Bhutan',\n",
       "       'Bolivia', 'Burkina Faso', 'Burundi', 'Cambodia', 'Cameroon',\n",
       "       'Cape Verde', 'Central African Republic', 'Chad', 'China',\n",
       "       'Colombia', 'Congo', 'Costa Rica', \"Cote d'Ivoire\",\n",
       "       'Democratic Republic of the Congo', 'Djibouti',\n",
       "       'Dominican Republic', 'Ecuador', 'El Salvador', 'Ethiopia',\n",
       "       'Gabon', 'Gambia', 'Georgia', 'Ghana', 'Guatemala',\n",
       "       'Guinea-Bissau', 'Guinea', 'Haiti', 'Honduras', 'Bassas da India',\n",
       "       'Indonesia', 'Iran  (Islamic Republic of)', 'Iraq', 'Japan',\n",
       "       'Jordan', 'Kazakhstan', 'Kenya', 'Kyrgyzstan',\n",
       "       \"Lao People's Democratic Republic\", 'Lebanon', 'Lesotho',\n",
       "       'Liberia', 'Libya', 'Madagascar', 'Malawi', 'Mali', 'Mauritania',\n",
       "       'Mexico', 'Moldova Republic of', 'Mongolia', 'Mozambique',\n",
       "       'Myanmar', 'Namibia', 'Nepal', 'Nicaragua', 'Niger', 'Nigeria',\n",
       "       'Pakistan', 'Panama', 'Paraguay', 'Peru', 'Philippines',\n",
       "       'Russian Federation', 'Rwanda', 'Senegal', 'Sierra Leone',\n",
       "       'Somalia', 'South Africa', 'Sri Lanka', 'Swaziland',\n",
       "       'Syrian Arab Republic', 'Tajikistan', 'Thailand', 'Timor-Leste',\n",
       "       'Togo', 'Turkey', 'Uganda', 'Ukraine',\n",
       "       'United Republic of Tanzania', 'Venezuela', 'Viet Nam', 'Yemen',\n",
       "       'Zambia', 'Zimbabwe', 'State of Palestine', 'Sudan', 'Egypt',\n",
       "       'South Sudan'], dtype=object)"
      ]
     },
     "execution_count": 52,
     "metadata": {},
     "output_type": "execute_result"
    }
   ],
   "source": [
    "prices_food['country_name'].unique()"
   ]
  },
  {
   "cell_type": "markdown",
   "id": "f4ca3349",
   "metadata": {},
   "source": [
    "### Null filling "
   ]
  },
  {
   "cell_type": "code",
   "execution_count": 135,
   "id": "f577e7e1",
   "metadata": {},
   "outputs": [],
   "source": [
    "droped_ml=droped_ml.iloc[:-1] "
   ]
  },
  {
   "cell_type": "code",
   "execution_count": 136,
   "id": "526b6d86",
   "metadata": {},
   "outputs": [
    {
     "name": "stdout",
     "output_type": "stream",
     "text": [
      "[IterativeImputer] Completing matrix with shape (60, 10)\n",
      "[IterativeImputer] Change: 4478658.141404902, scaled tolerance: 4050314.909 \n",
      "[IterativeImputer] Change: 363245.2634334564, scaled tolerance: 4050314.909 \n",
      "[IterativeImputer] Early stopping criterion reached.\n"
     ]
    },
    {
     "data": {
      "text/html": [
       "<div>\n",
       "<style scoped>\n",
       "    .dataframe tbody tr th:only-of-type {\n",
       "        vertical-align: middle;\n",
       "    }\n",
       "\n",
       "    .dataframe tbody tr th {\n",
       "        vertical-align: top;\n",
       "    }\n",
       "\n",
       "    .dataframe thead th {\n",
       "        text-align: right;\n",
       "    }\n",
       "</style>\n",
       "<table border=\"1\" class=\"dataframe\">\n",
       "  <thead>\n",
       "    <tr style=\"text-align: right;\">\n",
       "      <th></th>\n",
       "      <th>Value</th>\n",
       "      <th>Direct emissions (N2O)</th>\n",
       "      <th>Emissions (CH4)</th>\n",
       "      <th>Emissions (CO2)</th>\n",
       "      <th>Emissions (CO2eq) (AR5)</th>\n",
       "      <th>Emissions (CO2eq) from CH4 (AR5)</th>\n",
       "      <th>Emissions (CO2eq) from F-gases (AR5)</th>\n",
       "      <th>Emissions (CO2eq) from N2O (AR5)</th>\n",
       "      <th>Emissions (N2O)</th>\n",
       "      <th>Indirect emissions (N2O)</th>\n",
       "    </tr>\n",
       "    <tr>\n",
       "      <th>Year</th>\n",
       "      <th></th>\n",
       "      <th></th>\n",
       "      <th></th>\n",
       "      <th></th>\n",
       "      <th></th>\n",
       "      <th></th>\n",
       "      <th></th>\n",
       "      <th></th>\n",
       "      <th></th>\n",
       "      <th></th>\n",
       "    </tr>\n",
       "  </thead>\n",
       "  <tbody>\n",
       "    <tr>\n",
       "      <th>1961</th>\n",
       "      <td>1.083667e+09</td>\n",
       "      <td>921.046650</td>\n",
       "      <td>45320.530900</td>\n",
       "      <td>-1.290128e+05</td>\n",
       "      <td>9.472034e+05</td>\n",
       "      <td>1.268975e+06</td>\n",
       "      <td>-441168.834081</td>\n",
       "      <td>311709.748133</td>\n",
       "      <td>1176.263211</td>\n",
       "      <td>274.675400</td>\n",
       "    </tr>\n",
       "    <tr>\n",
       "      <th>1962</th>\n",
       "      <td>1.118482e+09</td>\n",
       "      <td>949.056533</td>\n",
       "      <td>46197.393833</td>\n",
       "      <td>-1.287567e+05</td>\n",
       "      <td>9.679992e+05</td>\n",
       "      <td>1.293527e+06</td>\n",
       "      <td>-430996.829364</td>\n",
       "      <td>320758.748944</td>\n",
       "      <td>1210.410389</td>\n",
       "      <td>282.982267</td>\n",
       "    </tr>\n",
       "    <tr>\n",
       "      <th>1963</th>\n",
       "      <td>1.146767e+09</td>\n",
       "      <td>972.081300</td>\n",
       "      <td>46589.456933</td>\n",
       "      <td>-1.299022e+05</td>\n",
       "      <td>9.802791e+05</td>\n",
       "      <td>1.304505e+06</td>\n",
       "      <td>-421475.102663</td>\n",
       "      <td>328449.022067</td>\n",
       "      <td>1239.430267</td>\n",
       "      <td>289.938750</td>\n",
       "    </tr>\n",
       "    <tr>\n",
       "      <th>1964</th>\n",
       "      <td>1.184759e+09</td>\n",
       "      <td>1003.153100</td>\n",
       "      <td>47418.463000</td>\n",
       "      <td>-1.315460e+05</td>\n",
       "      <td>1.000809e+06</td>\n",
       "      <td>1.327717e+06</td>\n",
       "      <td>-410384.015074</td>\n",
       "      <td>338065.860011</td>\n",
       "      <td>1275.720222</td>\n",
       "      <td>298.363083</td>\n",
       "    </tr>\n",
       "    <tr>\n",
       "      <th>1965</th>\n",
       "      <td>1.210465e+09</td>\n",
       "      <td>1039.440400</td>\n",
       "      <td>48080.514967</td>\n",
       "      <td>-1.313510e+05</td>\n",
       "      <td>1.020766e+06</td>\n",
       "      <td>1.346254e+06</td>\n",
       "      <td>-399449.740717</td>\n",
       "      <td>350099.507433</td>\n",
       "      <td>1321.130211</td>\n",
       "      <td>309.545500</td>\n",
       "    </tr>\n",
       "    <tr>\n",
       "      <th>1966</th>\n",
       "      <td>1.254340e+09</td>\n",
       "      <td>1085.903267</td>\n",
       "      <td>49001.694800</td>\n",
       "      <td>-1.325115e+05</td>\n",
       "      <td>1.047125e+06</td>\n",
       "      <td>1.372047e+06</td>\n",
       "      <td>-383736.231393</td>\n",
       "      <td>365121.256356</td>\n",
       "      <td>1377.816056</td>\n",
       "      <td>323.289000</td>\n",
       "    </tr>\n",
       "    <tr>\n",
       "      <th>1967</th>\n",
       "      <td>1.299303e+09</td>\n",
       "      <td>1123.096800</td>\n",
       "      <td>49903.622400</td>\n",
       "      <td>-1.330648e+05</td>\n",
       "      <td>1.070992e+06</td>\n",
       "      <td>1.397301e+06</td>\n",
       "      <td>-369521.137966</td>\n",
       "      <td>377456.042989</td>\n",
       "      <td>1424.362422</td>\n",
       "      <td>334.485650</td>\n",
       "    </tr>\n",
       "    <tr>\n",
       "      <th>1968</th>\n",
       "      <td>1.337369e+09</td>\n",
       "      <td>1158.835600</td>\n",
       "      <td>50634.894300</td>\n",
       "      <td>-1.343387e+05</td>\n",
       "      <td>1.091364e+06</td>\n",
       "      <td>1.417777e+06</td>\n",
       "      <td>-356597.433947</td>\n",
       "      <td>388704.121578</td>\n",
       "      <td>1466.808000</td>\n",
       "      <td>344.963250</td>\n",
       "    </tr>\n",
       "    <tr>\n",
       "      <th>1969</th>\n",
       "      <td>1.344597e+09</td>\n",
       "      <td>1182.345350</td>\n",
       "      <td>50897.273367</td>\n",
       "      <td>-1.344683e+05</td>\n",
       "      <td>1.101261e+06</td>\n",
       "      <td>1.425124e+06</td>\n",
       "      <td>-350900.073791</td>\n",
       "      <td>395902.738489</td>\n",
       "      <td>1493.972600</td>\n",
       "      <td>352.123750</td>\n",
       "    </tr>\n",
       "    <tr>\n",
       "      <th>1970</th>\n",
       "      <td>1.386707e+09</td>\n",
       "      <td>1217.529600</td>\n",
       "      <td>51256.390517</td>\n",
       "      <td>-1.376213e+05</td>\n",
       "      <td>1.115662e+06</td>\n",
       "      <td>1.435179e+06</td>\n",
       "      <td>-335733.012908</td>\n",
       "      <td>406800.814122</td>\n",
       "      <td>1535.097411</td>\n",
       "      <td>362.575550</td>\n",
       "    </tr>\n",
       "    <tr>\n",
       "      <th>1971</th>\n",
       "      <td>1.420698e+09</td>\n",
       "      <td>1256.411800</td>\n",
       "      <td>52123.196533</td>\n",
       "      <td>-1.379642e+05</td>\n",
       "      <td>1.139479e+06</td>\n",
       "      <td>1.459450e+06</td>\n",
       "      <td>-323667.214282</td>\n",
       "      <td>419730.359211</td>\n",
       "      <td>1583.888144</td>\n",
       "      <td>374.031083</td>\n",
       "    </tr>\n",
       "    <tr>\n",
       "      <th>1972</th>\n",
       "      <td>1.414269e+09</td>\n",
       "      <td>1287.152350</td>\n",
       "      <td>52631.958250</td>\n",
       "      <td>-1.368680e+05</td>\n",
       "      <td>1.155612e+06</td>\n",
       "      <td>1.473695e+06</td>\n",
       "      <td>-320804.330495</td>\n",
       "      <td>429951.237544</td>\n",
       "      <td>1622.457478</td>\n",
       "      <td>382.899950</td>\n",
       "    </tr>\n",
       "    <tr>\n",
       "      <th>1973</th>\n",
       "      <td>1.493275e+09</td>\n",
       "      <td>1329.691300</td>\n",
       "      <td>53502.058567</td>\n",
       "      <td>-1.424929e+05</td>\n",
       "      <td>1.179874e+06</td>\n",
       "      <td>1.498058e+06</td>\n",
       "      <td>-298988.199843</td>\n",
       "      <td>443363.490900</td>\n",
       "      <td>1673.069778</td>\n",
       "      <td>394.397250</td>\n",
       "    </tr>\n",
       "    <tr>\n",
       "      <th>1974</th>\n",
       "      <td>1.504828e+09</td>\n",
       "      <td>1345.562133</td>\n",
       "      <td>54543.021350</td>\n",
       "      <td>-1.396171e+05</td>\n",
       "      <td>1.200253e+06</td>\n",
       "      <td>1.527205e+06</td>\n",
       "      <td>-297317.956194</td>\n",
       "      <td>448839.429867</td>\n",
       "      <td>1693.733711</td>\n",
       "      <td>398.753567</td>\n",
       "    </tr>\n",
       "    <tr>\n",
       "      <th>1975</th>\n",
       "      <td>1.533218e+09</td>\n",
       "      <td>1407.491933</td>\n",
       "      <td>55500.374800</td>\n",
       "      <td>-1.389909e+05</td>\n",
       "      <td>1.230758e+06</td>\n",
       "      <td>1.554010e+06</td>\n",
       "      <td>-281062.934785</td>\n",
       "      <td>468252.563144</td>\n",
       "      <td>1766.990789</td>\n",
       "      <td>417.852300</td>\n",
       "    </tr>\n",
       "    <tr>\n",
       "      <th>1976</th>\n",
       "      <td>1.569695e+09</td>\n",
       "      <td>1435.189450</td>\n",
       "      <td>55806.815417</td>\n",
       "      <td>-1.430329e+05</td>\n",
       "      <td>1.242081e+06</td>\n",
       "      <td>1.562591e+06</td>\n",
       "      <td>-269140.963547</td>\n",
       "      <td>476371.416967</td>\n",
       "      <td>1797.627978</td>\n",
       "      <td>425.197917</td>\n",
       "    </tr>\n",
       "    <tr>\n",
       "      <th>1977</th>\n",
       "      <td>1.607623e+09</td>\n",
       "      <td>1472.007767</td>\n",
       "      <td>56111.091767</td>\n",
       "      <td>-1.452420e+05</td>\n",
       "      <td>1.256074e+06</td>\n",
       "      <td>1.571111e+06</td>\n",
       "      <td>-253841.282644</td>\n",
       "      <td>487794.134456</td>\n",
       "      <td>1840.732578</td>\n",
       "      <td>436.744933</td>\n",
       "    </tr>\n",
       "    <tr>\n",
       "      <th>1978</th>\n",
       "      <td>1.680725e+09</td>\n",
       "      <td>1524.341150</td>\n",
       "      <td>56277.387083</td>\n",
       "      <td>-1.506074e+05</td>\n",
       "      <td>1.272140e+06</td>\n",
       "      <td>1.575767e+06</td>\n",
       "      <td>-226855.799155</td>\n",
       "      <td>504326.476367</td>\n",
       "      <td>1903.118778</td>\n",
       "      <td>453.472550</td>\n",
       "    </tr>\n",
       "    <tr>\n",
       "      <th>1979</th>\n",
       "      <td>1.699748e+09</td>\n",
       "      <td>1553.480500</td>\n",
       "      <td>56432.393283</td>\n",
       "      <td>-1.499767e+05</td>\n",
       "      <td>1.282410e+06</td>\n",
       "      <td>1.580107e+06</td>\n",
       "      <td>-215943.007408</td>\n",
       "      <td>513985.374567</td>\n",
       "      <td>1939.567456</td>\n",
       "      <td>463.824067</td>\n",
       "    </tr>\n",
       "    <tr>\n",
       "      <th>1980</th>\n",
       "      <td>1.701820e+09</td>\n",
       "      <td>1598.365600</td>\n",
       "      <td>57238.920933</td>\n",
       "      <td>-1.470002e+05</td>\n",
       "      <td>1.306491e+06</td>\n",
       "      <td>1.602690e+06</td>\n",
       "      <td>-208371.851377</td>\n",
       "      <td>528362.599022</td>\n",
       "      <td>1993.821122</td>\n",
       "      <td>478.009483</td>\n",
       "    </tr>\n",
       "    <tr>\n",
       "      <th>1981</th>\n",
       "      <td>1.757506e+09</td>\n",
       "      <td>1615.527300</td>\n",
       "      <td>57668.035000</td>\n",
       "      <td>-1.509082e+05</td>\n",
       "      <td>1.317292e+06</td>\n",
       "      <td>1.614705e+06</td>\n",
       "      <td>-194743.399450</td>\n",
       "      <td>533553.718622</td>\n",
       "      <td>2013.410267</td>\n",
       "      <td>482.527300</td>\n",
       "    </tr>\n",
       "    <tr>\n",
       "      <th>1982</th>\n",
       "      <td>1.814875e+09</td>\n",
       "      <td>1639.329117</td>\n",
       "      <td>57887.344883</td>\n",
       "      <td>-1.554624e+05</td>\n",
       "      <td>1.326795e+06</td>\n",
       "      <td>1.620846e+06</td>\n",
       "      <td>-178251.372382</td>\n",
       "      <td>541074.899556</td>\n",
       "      <td>2041.792067</td>\n",
       "      <td>489.524050</td>\n",
       "    </tr>\n",
       "    <tr>\n",
       "      <th>1983</th>\n",
       "      <td>1.822637e+09</td>\n",
       "      <td>1677.288750</td>\n",
       "      <td>58157.100100</td>\n",
       "      <td>-1.542917e+05</td>\n",
       "      <td>1.341021e+06</td>\n",
       "      <td>1.628399e+06</td>\n",
       "      <td>-168582.866039</td>\n",
       "      <td>553425.989233</td>\n",
       "      <td>2088.399956</td>\n",
       "      <td>502.211450</td>\n",
       "    </tr>\n",
       "    <tr>\n",
       "      <th>1984</th>\n",
       "      <td>1.915024e+09</td>\n",
       "      <td>1726.624350</td>\n",
       "      <td>58637.681600</td>\n",
       "      <td>-1.612503e+05</td>\n",
       "      <td>1.361193e+06</td>\n",
       "      <td>1.641855e+06</td>\n",
       "      <td>-140067.401385</td>\n",
       "      <td>569109.753744</td>\n",
       "      <td>2147.583967</td>\n",
       "      <td>516.924717</td>\n",
       "    </tr>\n",
       "    <tr>\n",
       "      <th>1985</th>\n",
       "      <td>1.947323e+09</td>\n",
       "      <td>1733.907767</td>\n",
       "      <td>58828.840583</td>\n",
       "      <td>-1.632426e+05</td>\n",
       "      <td>1.366183e+06</td>\n",
       "      <td>1.647208e+06</td>\n",
       "      <td>-132429.961714</td>\n",
       "      <td>571641.439367</td>\n",
       "      <td>2157.137522</td>\n",
       "      <td>519.002850</td>\n",
       "    </tr>\n",
       "    <tr>\n",
       "      <th>1986</th>\n",
       "      <td>1.980385e+09</td>\n",
       "      <td>1762.039367</td>\n",
       "      <td>59240.678150</td>\n",
       "      <td>-1.643458e+05</td>\n",
       "      <td>1.380045e+06</td>\n",
       "      <td>1.658739e+06</td>\n",
       "      <td>-120598.375527</td>\n",
       "      <td>580895.387578</td>\n",
       "      <td>2192.058067</td>\n",
       "      <td>527.824767</td>\n",
       "    </tr>\n",
       "    <tr>\n",
       "      <th>1987</th>\n",
       "      <td>2.003968e+09</td>\n",
       "      <td>1787.577250</td>\n",
       "      <td>59043.279667</td>\n",
       "      <td>-1.653969e+05</td>\n",
       "      <td>1.383935e+06</td>\n",
       "      <td>1.653212e+06</td>\n",
       "      <td>-108056.334129</td>\n",
       "      <td>589335.420533</td>\n",
       "      <td>2223.907244</td>\n",
       "      <td>537.239033</td>\n",
       "    </tr>\n",
       "    <tr>\n",
       "      <th>1988</th>\n",
       "      <td>2.023985e+09</td>\n",
       "      <td>1825.677900</td>\n",
       "      <td>59642.650850</td>\n",
       "      <td>-1.642011e+05</td>\n",
       "      <td>1.402642e+06</td>\n",
       "      <td>1.669994e+06</td>\n",
       "      <td>-97006.596927</td>\n",
       "      <td>601010.888211</td>\n",
       "      <td>2267.965611</td>\n",
       "      <td>549.594050</td>\n",
       "    </tr>\n",
       "    <tr>\n",
       "      <th>1989</th>\n",
       "      <td>2.094492e+09</td>\n",
       "      <td>1849.465750</td>\n",
       "      <td>60506.217400</td>\n",
       "      <td>-1.674959e+05</td>\n",
       "      <td>1.422009e+06</td>\n",
       "      <td>1.694174e+06</td>\n",
       "      <td>-80379.012496</td>\n",
       "      <td>608561.036711</td>\n",
       "      <td>2296.456733</td>\n",
       "      <td>556.045650</td>\n",
       "    </tr>\n",
       "    <tr>\n",
       "      <th>1990</th>\n",
       "      <td>2.148500e+09</td>\n",
       "      <td>1237.433755</td>\n",
       "      <td>42834.435880</td>\n",
       "      <td>2.804054e+06</td>\n",
       "      <td>2.743152e+06</td>\n",
       "      <td>1.199364e+06</td>\n",
       "      <td>136663.332278</td>\n",
       "      <td>398477.200325</td>\n",
       "      <td>1503.696354</td>\n",
       "      <td>521.097943</td>\n",
       "    </tr>\n",
       "    <tr>\n",
       "      <th>1991</th>\n",
       "      <td>2.087533e+09</td>\n",
       "      <td>1225.210064</td>\n",
       "      <td>42391.629932</td>\n",
       "      <td>2.859717e+06</td>\n",
       "      <td>2.758082e+06</td>\n",
       "      <td>1.186966e+06</td>\n",
       "      <td>145514.789033</td>\n",
       "      <td>385500.821921</td>\n",
       "      <td>1454.708679</td>\n",
       "      <td>514.386129</td>\n",
       "    </tr>\n",
       "    <tr>\n",
       "      <th>1992</th>\n",
       "      <td>2.192204e+09</td>\n",
       "      <td>1280.852655</td>\n",
       "      <td>42814.299227</td>\n",
       "      <td>2.822673e+06</td>\n",
       "      <td>2.751630e+06</td>\n",
       "      <td>1.198801e+06</td>\n",
       "      <td>142685.214733</td>\n",
       "      <td>394400.420506</td>\n",
       "      <td>1488.307408</td>\n",
       "      <td>523.667557</td>\n",
       "    </tr>\n",
       "    <tr>\n",
       "      <th>1993</th>\n",
       "      <td>2.210010e+09</td>\n",
       "      <td>1275.294218</td>\n",
       "      <td>42899.257613</td>\n",
       "      <td>2.835526e+06</td>\n",
       "      <td>2.759230e+06</td>\n",
       "      <td>1.201180e+06</td>\n",
       "      <td>141340.374922</td>\n",
       "      <td>392956.988010</td>\n",
       "      <td>1482.861273</td>\n",
       "      <td>519.193000</td>\n",
       "    </tr>\n",
       "    <tr>\n",
       "      <th>1994</th>\n",
       "      <td>2.267787e+09</td>\n",
       "      <td>1276.147873</td>\n",
       "      <td>44876.360410</td>\n",
       "      <td>2.837896e+06</td>\n",
       "      <td>2.816434e+06</td>\n",
       "      <td>1.256539e+06</td>\n",
       "      <td>149870.187744</td>\n",
       "      <td>416211.513410</td>\n",
       "      <td>1570.612710</td>\n",
       "      <td>517.968000</td>\n",
       "    </tr>\n",
       "    <tr>\n",
       "      <th>1995</th>\n",
       "      <td>2.312014e+09</td>\n",
       "      <td>1296.615964</td>\n",
       "      <td>42627.093754</td>\n",
       "      <td>2.900329e+06</td>\n",
       "      <td>2.821848e+06</td>\n",
       "      <td>1.193559e+06</td>\n",
       "      <td>155956.929589</td>\n",
       "      <td>403926.347760</td>\n",
       "      <td>1524.254133</td>\n",
       "      <td>531.686571</td>\n",
       "    </tr>\n",
       "    <tr>\n",
       "      <th>1996</th>\n",
       "      <td>2.401323e+09</td>\n",
       "      <td>1331.124027</td>\n",
       "      <td>44483.055460</td>\n",
       "      <td>2.957056e+06</td>\n",
       "      <td>2.869882e+06</td>\n",
       "      <td>1.245525e+06</td>\n",
       "      <td>165668.034467</td>\n",
       "      <td>403374.988777</td>\n",
       "      <td>1522.173454</td>\n",
       "      <td>544.082429</td>\n",
       "    </tr>\n",
       "    <tr>\n",
       "      <th>1997</th>\n",
       "      <td>2.454085e+09</td>\n",
       "      <td>1319.497791</td>\n",
       "      <td>45445.064917</td>\n",
       "      <td>3.113003e+06</td>\n",
       "      <td>2.980393e+06</td>\n",
       "      <td>1.272462e+06</td>\n",
       "      <td>182855.200789</td>\n",
       "      <td>404417.431656</td>\n",
       "      <td>1526.107998</td>\n",
       "      <td>538.317871</td>\n",
       "    </tr>\n",
       "    <tr>\n",
       "      <th>1998</th>\n",
       "      <td>2.494019e+09</td>\n",
       "      <td>1322.156382</td>\n",
       "      <td>45101.676798</td>\n",
       "      <td>2.991458e+06</td>\n",
       "      <td>2.907824e+06</td>\n",
       "      <td>1.262847e+06</td>\n",
       "      <td>189745.717400</td>\n",
       "      <td>407475.001623</td>\n",
       "      <td>1537.646158</td>\n",
       "      <td>543.407729</td>\n",
       "    </tr>\n",
       "    <tr>\n",
       "      <th>1999</th>\n",
       "      <td>2.572371e+09</td>\n",
       "      <td>1337.114609</td>\n",
       "      <td>44903.054870</td>\n",
       "      <td>3.002883e+06</td>\n",
       "      <td>2.916450e+06</td>\n",
       "      <td>1.257285e+06</td>\n",
       "      <td>220184.462978</td>\n",
       "      <td>408923.426279</td>\n",
       "      <td>1543.112381</td>\n",
       "      <td>548.145500</td>\n",
       "    </tr>\n",
       "    <tr>\n",
       "      <th>2000</th>\n",
       "      <td>2.627260e+09</td>\n",
       "      <td>1322.140236</td>\n",
       "      <td>44888.569785</td>\n",
       "      <td>3.068364e+06</td>\n",
       "      <td>3.023146e+06</td>\n",
       "      <td>1.256880e+06</td>\n",
       "      <td>220116.751089</td>\n",
       "      <td>465090.517152</td>\n",
       "      <td>1755.063906</td>\n",
       "      <td>540.662643</td>\n",
       "    </tr>\n",
       "    <tr>\n",
       "      <th>2001</th>\n",
       "      <td>2.665707e+09</td>\n",
       "      <td>1334.857264</td>\n",
       "      <td>44427.698277</td>\n",
       "      <td>2.992759e+06</td>\n",
       "      <td>2.947023e+06</td>\n",
       "      <td>1.243975e+06</td>\n",
       "      <td>225939.742411</td>\n",
       "      <td>459249.666265</td>\n",
       "      <td>1733.022952</td>\n",
       "      <td>547.047971</td>\n",
       "    </tr>\n",
       "    <tr>\n",
       "      <th>2002</th>\n",
       "      <td>2.703189e+09</td>\n",
       "      <td>1353.869536</td>\n",
       "      <td>45651.356127</td>\n",
       "      <td>3.128200e+06</td>\n",
       "      <td>3.058296e+06</td>\n",
       "      <td>1.278238e+06</td>\n",
       "      <td>249387.109111</td>\n",
       "      <td>468901.036800</td>\n",
       "      <td>1769.442902</td>\n",
       "      <td>554.191500</td>\n",
       "    </tr>\n",
       "    <tr>\n",
       "      <th>2003</th>\n",
       "      <td>2.770276e+09</td>\n",
       "      <td>1372.383818</td>\n",
       "      <td>45865.608378</td>\n",
       "      <td>3.199231e+06</td>\n",
       "      <td>3.109723e+06</td>\n",
       "      <td>1.284237e+06</td>\n",
       "      <td>271429.804844</td>\n",
       "      <td>473283.773979</td>\n",
       "      <td>1785.981535</td>\n",
       "      <td>563.423757</td>\n",
       "    </tr>\n",
       "    <tr>\n",
       "      <th>2004</th>\n",
       "      <td>2.900173e+09</td>\n",
       "      <td>1407.063082</td>\n",
       "      <td>47528.013110</td>\n",
       "      <td>3.392119e+06</td>\n",
       "      <td>3.266122e+06</td>\n",
       "      <td>1.330784e+06</td>\n",
       "      <td>309432.190167</td>\n",
       "      <td>485356.211604</td>\n",
       "      <td>1831.537194</td>\n",
       "      <td>579.526100</td>\n",
       "    </tr>\n",
       "    <tr>\n",
       "      <th>2005</th>\n",
       "      <td>2.954207e+09</td>\n",
       "      <td>1416.582282</td>\n",
       "      <td>47771.429290</td>\n",
       "      <td>3.422063e+06</td>\n",
       "      <td>3.295203e+06</td>\n",
       "      <td>1.337600e+06</td>\n",
       "      <td>338425.886078</td>\n",
       "      <td>489136.648304</td>\n",
       "      <td>1845.802460</td>\n",
       "      <td>582.366786</td>\n",
       "    </tr>\n",
       "    <tr>\n",
       "      <th>2006</th>\n",
       "      <td>3.016099e+09</td>\n",
       "      <td>1433.801264</td>\n",
       "      <td>46567.779049</td>\n",
       "      <td>3.570058e+06</td>\n",
       "      <td>3.391656e+06</td>\n",
       "      <td>1.303898e+06</td>\n",
       "      <td>372441.053178</td>\n",
       "      <td>498105.002183</td>\n",
       "      <td>1879.645371</td>\n",
       "      <td>591.691386</td>\n",
       "    </tr>\n",
       "    <tr>\n",
       "      <th>2007</th>\n",
       "      <td>3.097486e+09</td>\n",
       "      <td>1463.403082</td>\n",
       "      <td>47248.418065</td>\n",
       "      <td>3.572618e+06</td>\n",
       "      <td>3.390848e+06</td>\n",
       "      <td>1.322956e+06</td>\n",
       "      <td>391492.894089</td>\n",
       "      <td>502674.792846</td>\n",
       "      <td>1896.890181</td>\n",
       "      <td>605.877629</td>\n",
       "    </tr>\n",
       "    <tr>\n",
       "      <th>2008</th>\n",
       "      <td>3.217409e+09</td>\n",
       "      <td>1473.184309</td>\n",
       "      <td>47494.995045</td>\n",
       "      <td>3.643239e+06</td>\n",
       "      <td>3.444415e+06</td>\n",
       "      <td>1.329860e+06</td>\n",
       "      <td>415669.311744</td>\n",
       "      <td>508769.280835</td>\n",
       "      <td>1919.888415</td>\n",
       "      <td>609.733543</td>\n",
       "    </tr>\n",
       "    <tr>\n",
       "      <th>2009</th>\n",
       "      <td>3.240964e+09</td>\n",
       "      <td>1486.000755</td>\n",
       "      <td>47931.913555</td>\n",
       "      <td>3.654148e+06</td>\n",
       "      <td>3.452785e+06</td>\n",
       "      <td>1.342094e+06</td>\n",
       "      <td>434964.560444</td>\n",
       "      <td>497452.047365</td>\n",
       "      <td>1877.183204</td>\n",
       "      <td>615.682243</td>\n",
       "    </tr>\n",
       "    <tr>\n",
       "      <th>2010</th>\n",
       "      <td>3.323571e+09</td>\n",
       "      <td>1507.693982</td>\n",
       "      <td>49141.300525</td>\n",
       "      <td>3.723002e+06</td>\n",
       "      <td>3.502545e+06</td>\n",
       "      <td>1.375957e+06</td>\n",
       "      <td>477684.130189</td>\n",
       "      <td>473947.796150</td>\n",
       "      <td>1788.486731</td>\n",
       "      <td>625.573386</td>\n",
       "    </tr>\n",
       "    <tr>\n",
       "      <th>2011</th>\n",
       "      <td>3.448435e+09</td>\n",
       "      <td>1534.124118</td>\n",
       "      <td>49006.883620</td>\n",
       "      <td>3.701741e+06</td>\n",
       "      <td>3.490614e+06</td>\n",
       "      <td>1.372193e+06</td>\n",
       "      <td>497972.062022</td>\n",
       "      <td>473300.923240</td>\n",
       "      <td>1786.043817</td>\n",
       "      <td>637.771800</td>\n",
       "    </tr>\n",
       "    <tr>\n",
       "      <th>2012</th>\n",
       "      <td>3.490019e+09</td>\n",
       "      <td>1539.457236</td>\n",
       "      <td>49752.501377</td>\n",
       "      <td>3.741211e+06</td>\n",
       "      <td>3.540028e+06</td>\n",
       "      <td>1.393070e+06</td>\n",
       "      <td>541727.498633</td>\n",
       "      <td>481360.906615</td>\n",
       "      <td>1816.458460</td>\n",
       "      <td>638.237157</td>\n",
       "    </tr>\n",
       "    <tr>\n",
       "      <th>2013</th>\n",
       "      <td>3.630376e+09</td>\n",
       "      <td>1577.203882</td>\n",
       "      <td>49317.309952</td>\n",
       "      <td>3.794790e+06</td>\n",
       "      <td>3.565138e+06</td>\n",
       "      <td>1.380885e+06</td>\n",
       "      <td>580363.694744</td>\n",
       "      <td>476868.003879</td>\n",
       "      <td>1799.506304</td>\n",
       "      <td>653.899671</td>\n",
       "    </tr>\n",
       "    <tr>\n",
       "      <th>2014</th>\n",
       "      <td>3.703589e+09</td>\n",
       "      <td>1598.249182</td>\n",
       "      <td>49908.515980</td>\n",
       "      <td>3.873450e+06</td>\n",
       "      <td>3.626983e+06</td>\n",
       "      <td>1.397439e+06</td>\n",
       "      <td>608899.919489</td>\n",
       "      <td>479265.246469</td>\n",
       "      <td>1808.552498</td>\n",
       "      <td>659.897386</td>\n",
       "    </tr>\n",
       "    <tr>\n",
       "      <th>2015</th>\n",
       "      <td>3.757330e+09</td>\n",
       "      <td>1748.810040</td>\n",
       "      <td>51100.967748</td>\n",
       "      <td>3.880319e+06</td>\n",
       "      <td>3.720934e+06</td>\n",
       "      <td>1.430827e+06</td>\n",
       "      <td>613414.761511</td>\n",
       "      <td>497151.812855</td>\n",
       "      <td>1876.049636</td>\n",
       "      <td>664.658143</td>\n",
       "    </tr>\n",
       "    <tr>\n",
       "      <th>2016</th>\n",
       "      <td>3.805259e+09</td>\n",
       "      <td>1624.682427</td>\n",
       "      <td>49587.383520</td>\n",
       "      <td>3.883510e+06</td>\n",
       "      <td>3.633050e+06</td>\n",
       "      <td>1.388447e+06</td>\n",
       "      <td>636253.241267</td>\n",
       "      <td>481129.362525</td>\n",
       "      <td>1815.587063</td>\n",
       "      <td>677.353400</td>\n",
       "    </tr>\n",
       "    <tr>\n",
       "      <th>2017</th>\n",
       "      <td>3.909425e+09</td>\n",
       "      <td>1798.781890</td>\n",
       "      <td>49445.696047</td>\n",
       "      <td>3.936336e+06</td>\n",
       "      <td>3.730408e+06</td>\n",
       "      <td>1.384480e+06</td>\n",
       "      <td>665794.376922</td>\n",
       "      <td>496706.147613</td>\n",
       "      <td>1874.367713</td>\n",
       "      <td>680.944314</td>\n",
       "    </tr>\n",
       "    <tr>\n",
       "      <th>2018</th>\n",
       "      <td>3.951008e+09</td>\n",
       "      <td>1794.242560</td>\n",
       "      <td>49863.821648</td>\n",
       "      <td>4.046141e+06</td>\n",
       "      <td>3.802846e+06</td>\n",
       "      <td>1.396187e+06</td>\n",
       "      <td>692122.776567</td>\n",
       "      <td>492270.283794</td>\n",
       "      <td>1857.628298</td>\n",
       "      <td>681.691271</td>\n",
       "    </tr>\n",
       "    <tr>\n",
       "      <th>2019</th>\n",
       "      <td>3.993589e+09</td>\n",
       "      <td>1808.583730</td>\n",
       "      <td>50563.788502</td>\n",
       "      <td>4.081634e+06</td>\n",
       "      <td>3.841827e+06</td>\n",
       "      <td>1.415786e+06</td>\n",
       "      <td>701520.874389</td>\n",
       "      <td>496800.068715</td>\n",
       "      <td>1874.722215</td>\n",
       "      <td>687.330557</td>\n",
       "    </tr>\n",
       "    <tr>\n",
       "      <th>2020</th>\n",
       "      <td>4.050315e+09</td>\n",
       "      <td>1836.409960</td>\n",
       "      <td>50270.813817</td>\n",
       "      <td>3.846628e+06</td>\n",
       "      <td>3.700838e+06</td>\n",
       "      <td>1.407583e+06</td>\n",
       "      <td>718240.740533</td>\n",
       "      <td>504010.838128</td>\n",
       "      <td>1901.932828</td>\n",
       "      <td>698.274000</td>\n",
       "    </tr>\n",
       "  </tbody>\n",
       "</table>\n",
       "</div>"
      ],
      "text/plain": [
       "             Value  Direct emissions (N2O)  Emissions (CH4)  Emissions (CO2)  \\\n",
       "Year                                                                           \n",
       "1961  1.083667e+09              921.046650     45320.530900    -1.290128e+05   \n",
       "1962  1.118482e+09              949.056533     46197.393833    -1.287567e+05   \n",
       "1963  1.146767e+09              972.081300     46589.456933    -1.299022e+05   \n",
       "1964  1.184759e+09             1003.153100     47418.463000    -1.315460e+05   \n",
       "1965  1.210465e+09             1039.440400     48080.514967    -1.313510e+05   \n",
       "1966  1.254340e+09             1085.903267     49001.694800    -1.325115e+05   \n",
       "1967  1.299303e+09             1123.096800     49903.622400    -1.330648e+05   \n",
       "1968  1.337369e+09             1158.835600     50634.894300    -1.343387e+05   \n",
       "1969  1.344597e+09             1182.345350     50897.273367    -1.344683e+05   \n",
       "1970  1.386707e+09             1217.529600     51256.390517    -1.376213e+05   \n",
       "1971  1.420698e+09             1256.411800     52123.196533    -1.379642e+05   \n",
       "1972  1.414269e+09             1287.152350     52631.958250    -1.368680e+05   \n",
       "1973  1.493275e+09             1329.691300     53502.058567    -1.424929e+05   \n",
       "1974  1.504828e+09             1345.562133     54543.021350    -1.396171e+05   \n",
       "1975  1.533218e+09             1407.491933     55500.374800    -1.389909e+05   \n",
       "1976  1.569695e+09             1435.189450     55806.815417    -1.430329e+05   \n",
       "1977  1.607623e+09             1472.007767     56111.091767    -1.452420e+05   \n",
       "1978  1.680725e+09             1524.341150     56277.387083    -1.506074e+05   \n",
       "1979  1.699748e+09             1553.480500     56432.393283    -1.499767e+05   \n",
       "1980  1.701820e+09             1598.365600     57238.920933    -1.470002e+05   \n",
       "1981  1.757506e+09             1615.527300     57668.035000    -1.509082e+05   \n",
       "1982  1.814875e+09             1639.329117     57887.344883    -1.554624e+05   \n",
       "1983  1.822637e+09             1677.288750     58157.100100    -1.542917e+05   \n",
       "1984  1.915024e+09             1726.624350     58637.681600    -1.612503e+05   \n",
       "1985  1.947323e+09             1733.907767     58828.840583    -1.632426e+05   \n",
       "1986  1.980385e+09             1762.039367     59240.678150    -1.643458e+05   \n",
       "1987  2.003968e+09             1787.577250     59043.279667    -1.653969e+05   \n",
       "1988  2.023985e+09             1825.677900     59642.650850    -1.642011e+05   \n",
       "1989  2.094492e+09             1849.465750     60506.217400    -1.674959e+05   \n",
       "1990  2.148500e+09             1237.433755     42834.435880     2.804054e+06   \n",
       "1991  2.087533e+09             1225.210064     42391.629932     2.859717e+06   \n",
       "1992  2.192204e+09             1280.852655     42814.299227     2.822673e+06   \n",
       "1993  2.210010e+09             1275.294218     42899.257613     2.835526e+06   \n",
       "1994  2.267787e+09             1276.147873     44876.360410     2.837896e+06   \n",
       "1995  2.312014e+09             1296.615964     42627.093754     2.900329e+06   \n",
       "1996  2.401323e+09             1331.124027     44483.055460     2.957056e+06   \n",
       "1997  2.454085e+09             1319.497791     45445.064917     3.113003e+06   \n",
       "1998  2.494019e+09             1322.156382     45101.676798     2.991458e+06   \n",
       "1999  2.572371e+09             1337.114609     44903.054870     3.002883e+06   \n",
       "2000  2.627260e+09             1322.140236     44888.569785     3.068364e+06   \n",
       "2001  2.665707e+09             1334.857264     44427.698277     2.992759e+06   \n",
       "2002  2.703189e+09             1353.869536     45651.356127     3.128200e+06   \n",
       "2003  2.770276e+09             1372.383818     45865.608378     3.199231e+06   \n",
       "2004  2.900173e+09             1407.063082     47528.013110     3.392119e+06   \n",
       "2005  2.954207e+09             1416.582282     47771.429290     3.422063e+06   \n",
       "2006  3.016099e+09             1433.801264     46567.779049     3.570058e+06   \n",
       "2007  3.097486e+09             1463.403082     47248.418065     3.572618e+06   \n",
       "2008  3.217409e+09             1473.184309     47494.995045     3.643239e+06   \n",
       "2009  3.240964e+09             1486.000755     47931.913555     3.654148e+06   \n",
       "2010  3.323571e+09             1507.693982     49141.300525     3.723002e+06   \n",
       "2011  3.448435e+09             1534.124118     49006.883620     3.701741e+06   \n",
       "2012  3.490019e+09             1539.457236     49752.501377     3.741211e+06   \n",
       "2013  3.630376e+09             1577.203882     49317.309952     3.794790e+06   \n",
       "2014  3.703589e+09             1598.249182     49908.515980     3.873450e+06   \n",
       "2015  3.757330e+09             1748.810040     51100.967748     3.880319e+06   \n",
       "2016  3.805259e+09             1624.682427     49587.383520     3.883510e+06   \n",
       "2017  3.909425e+09             1798.781890     49445.696047     3.936336e+06   \n",
       "2018  3.951008e+09             1794.242560     49863.821648     4.046141e+06   \n",
       "2019  3.993589e+09             1808.583730     50563.788502     4.081634e+06   \n",
       "2020  4.050315e+09             1836.409960     50270.813817     3.846628e+06   \n",
       "\n",
       "      Emissions (CO2eq) (AR5)  Emissions (CO2eq) from CH4 (AR5)  \\\n",
       "Year                                                              \n",
       "1961             9.472034e+05                      1.268975e+06   \n",
       "1962             9.679992e+05                      1.293527e+06   \n",
       "1963             9.802791e+05                      1.304505e+06   \n",
       "1964             1.000809e+06                      1.327717e+06   \n",
       "1965             1.020766e+06                      1.346254e+06   \n",
       "1966             1.047125e+06                      1.372047e+06   \n",
       "1967             1.070992e+06                      1.397301e+06   \n",
       "1968             1.091364e+06                      1.417777e+06   \n",
       "1969             1.101261e+06                      1.425124e+06   \n",
       "1970             1.115662e+06                      1.435179e+06   \n",
       "1971             1.139479e+06                      1.459450e+06   \n",
       "1972             1.155612e+06                      1.473695e+06   \n",
       "1973             1.179874e+06                      1.498058e+06   \n",
       "1974             1.200253e+06                      1.527205e+06   \n",
       "1975             1.230758e+06                      1.554010e+06   \n",
       "1976             1.242081e+06                      1.562591e+06   \n",
       "1977             1.256074e+06                      1.571111e+06   \n",
       "1978             1.272140e+06                      1.575767e+06   \n",
       "1979             1.282410e+06                      1.580107e+06   \n",
       "1980             1.306491e+06                      1.602690e+06   \n",
       "1981             1.317292e+06                      1.614705e+06   \n",
       "1982             1.326795e+06                      1.620846e+06   \n",
       "1983             1.341021e+06                      1.628399e+06   \n",
       "1984             1.361193e+06                      1.641855e+06   \n",
       "1985             1.366183e+06                      1.647208e+06   \n",
       "1986             1.380045e+06                      1.658739e+06   \n",
       "1987             1.383935e+06                      1.653212e+06   \n",
       "1988             1.402642e+06                      1.669994e+06   \n",
       "1989             1.422009e+06                      1.694174e+06   \n",
       "1990             2.743152e+06                      1.199364e+06   \n",
       "1991             2.758082e+06                      1.186966e+06   \n",
       "1992             2.751630e+06                      1.198801e+06   \n",
       "1993             2.759230e+06                      1.201180e+06   \n",
       "1994             2.816434e+06                      1.256539e+06   \n",
       "1995             2.821848e+06                      1.193559e+06   \n",
       "1996             2.869882e+06                      1.245525e+06   \n",
       "1997             2.980393e+06                      1.272462e+06   \n",
       "1998             2.907824e+06                      1.262847e+06   \n",
       "1999             2.916450e+06                      1.257285e+06   \n",
       "2000             3.023146e+06                      1.256880e+06   \n",
       "2001             2.947023e+06                      1.243975e+06   \n",
       "2002             3.058296e+06                      1.278238e+06   \n",
       "2003             3.109723e+06                      1.284237e+06   \n",
       "2004             3.266122e+06                      1.330784e+06   \n",
       "2005             3.295203e+06                      1.337600e+06   \n",
       "2006             3.391656e+06                      1.303898e+06   \n",
       "2007             3.390848e+06                      1.322956e+06   \n",
       "2008             3.444415e+06                      1.329860e+06   \n",
       "2009             3.452785e+06                      1.342094e+06   \n",
       "2010             3.502545e+06                      1.375957e+06   \n",
       "2011             3.490614e+06                      1.372193e+06   \n",
       "2012             3.540028e+06                      1.393070e+06   \n",
       "2013             3.565138e+06                      1.380885e+06   \n",
       "2014             3.626983e+06                      1.397439e+06   \n",
       "2015             3.720934e+06                      1.430827e+06   \n",
       "2016             3.633050e+06                      1.388447e+06   \n",
       "2017             3.730408e+06                      1.384480e+06   \n",
       "2018             3.802846e+06                      1.396187e+06   \n",
       "2019             3.841827e+06                      1.415786e+06   \n",
       "2020             3.700838e+06                      1.407583e+06   \n",
       "\n",
       "      Emissions (CO2eq) from F-gases (AR5)  Emissions (CO2eq) from N2O (AR5)  \\\n",
       "Year                                                                           \n",
       "1961                        -441168.834081                     311709.748133   \n",
       "1962                        -430996.829364                     320758.748944   \n",
       "1963                        -421475.102663                     328449.022067   \n",
       "1964                        -410384.015074                     338065.860011   \n",
       "1965                        -399449.740717                     350099.507433   \n",
       "1966                        -383736.231393                     365121.256356   \n",
       "1967                        -369521.137966                     377456.042989   \n",
       "1968                        -356597.433947                     388704.121578   \n",
       "1969                        -350900.073791                     395902.738489   \n",
       "1970                        -335733.012908                     406800.814122   \n",
       "1971                        -323667.214282                     419730.359211   \n",
       "1972                        -320804.330495                     429951.237544   \n",
       "1973                        -298988.199843                     443363.490900   \n",
       "1974                        -297317.956194                     448839.429867   \n",
       "1975                        -281062.934785                     468252.563144   \n",
       "1976                        -269140.963547                     476371.416967   \n",
       "1977                        -253841.282644                     487794.134456   \n",
       "1978                        -226855.799155                     504326.476367   \n",
       "1979                        -215943.007408                     513985.374567   \n",
       "1980                        -208371.851377                     528362.599022   \n",
       "1981                        -194743.399450                     533553.718622   \n",
       "1982                        -178251.372382                     541074.899556   \n",
       "1983                        -168582.866039                     553425.989233   \n",
       "1984                        -140067.401385                     569109.753744   \n",
       "1985                        -132429.961714                     571641.439367   \n",
       "1986                        -120598.375527                     580895.387578   \n",
       "1987                        -108056.334129                     589335.420533   \n",
       "1988                         -97006.596927                     601010.888211   \n",
       "1989                         -80379.012496                     608561.036711   \n",
       "1990                         136663.332278                     398477.200325   \n",
       "1991                         145514.789033                     385500.821921   \n",
       "1992                         142685.214733                     394400.420506   \n",
       "1993                         141340.374922                     392956.988010   \n",
       "1994                         149870.187744                     416211.513410   \n",
       "1995                         155956.929589                     403926.347760   \n",
       "1996                         165668.034467                     403374.988777   \n",
       "1997                         182855.200789                     404417.431656   \n",
       "1998                         189745.717400                     407475.001623   \n",
       "1999                         220184.462978                     408923.426279   \n",
       "2000                         220116.751089                     465090.517152   \n",
       "2001                         225939.742411                     459249.666265   \n",
       "2002                         249387.109111                     468901.036800   \n",
       "2003                         271429.804844                     473283.773979   \n",
       "2004                         309432.190167                     485356.211604   \n",
       "2005                         338425.886078                     489136.648304   \n",
       "2006                         372441.053178                     498105.002183   \n",
       "2007                         391492.894089                     502674.792846   \n",
       "2008                         415669.311744                     508769.280835   \n",
       "2009                         434964.560444                     497452.047365   \n",
       "2010                         477684.130189                     473947.796150   \n",
       "2011                         497972.062022                     473300.923240   \n",
       "2012                         541727.498633                     481360.906615   \n",
       "2013                         580363.694744                     476868.003879   \n",
       "2014                         608899.919489                     479265.246469   \n",
       "2015                         613414.761511                     497151.812855   \n",
       "2016                         636253.241267                     481129.362525   \n",
       "2017                         665794.376922                     496706.147613   \n",
       "2018                         692122.776567                     492270.283794   \n",
       "2019                         701520.874389                     496800.068715   \n",
       "2020                         718240.740533                     504010.838128   \n",
       "\n",
       "      Emissions (N2O)  Indirect emissions (N2O)  \n",
       "Year                                             \n",
       "1961      1176.263211                274.675400  \n",
       "1962      1210.410389                282.982267  \n",
       "1963      1239.430267                289.938750  \n",
       "1964      1275.720222                298.363083  \n",
       "1965      1321.130211                309.545500  \n",
       "1966      1377.816056                323.289000  \n",
       "1967      1424.362422                334.485650  \n",
       "1968      1466.808000                344.963250  \n",
       "1969      1493.972600                352.123750  \n",
       "1970      1535.097411                362.575550  \n",
       "1971      1583.888144                374.031083  \n",
       "1972      1622.457478                382.899950  \n",
       "1973      1673.069778                394.397250  \n",
       "1974      1693.733711                398.753567  \n",
       "1975      1766.990789                417.852300  \n",
       "1976      1797.627978                425.197917  \n",
       "1977      1840.732578                436.744933  \n",
       "1978      1903.118778                453.472550  \n",
       "1979      1939.567456                463.824067  \n",
       "1980      1993.821122                478.009483  \n",
       "1981      2013.410267                482.527300  \n",
       "1982      2041.792067                489.524050  \n",
       "1983      2088.399956                502.211450  \n",
       "1984      2147.583967                516.924717  \n",
       "1985      2157.137522                519.002850  \n",
       "1986      2192.058067                527.824767  \n",
       "1987      2223.907244                537.239033  \n",
       "1988      2267.965611                549.594050  \n",
       "1989      2296.456733                556.045650  \n",
       "1990      1503.696354                521.097943  \n",
       "1991      1454.708679                514.386129  \n",
       "1992      1488.307408                523.667557  \n",
       "1993      1482.861273                519.193000  \n",
       "1994      1570.612710                517.968000  \n",
       "1995      1524.254133                531.686571  \n",
       "1996      1522.173454                544.082429  \n",
       "1997      1526.107998                538.317871  \n",
       "1998      1537.646158                543.407729  \n",
       "1999      1543.112381                548.145500  \n",
       "2000      1755.063906                540.662643  \n",
       "2001      1733.022952                547.047971  \n",
       "2002      1769.442902                554.191500  \n",
       "2003      1785.981535                563.423757  \n",
       "2004      1831.537194                579.526100  \n",
       "2005      1845.802460                582.366786  \n",
       "2006      1879.645371                591.691386  \n",
       "2007      1896.890181                605.877629  \n",
       "2008      1919.888415                609.733543  \n",
       "2009      1877.183204                615.682243  \n",
       "2010      1788.486731                625.573386  \n",
       "2011      1786.043817                637.771800  \n",
       "2012      1816.458460                638.237157  \n",
       "2013      1799.506304                653.899671  \n",
       "2014      1808.552498                659.897386  \n",
       "2015      1876.049636                664.658143  \n",
       "2016      1815.587063                677.353400  \n",
       "2017      1874.367713                680.944314  \n",
       "2018      1857.628298                681.691271  \n",
       "2019      1874.722215                687.330557  \n",
       "2020      1901.932828                698.274000  "
      ]
     },
     "execution_count": 136,
     "metadata": {},
     "output_type": "execute_result"
    }
   ],
   "source": [
    "import numpy as np\n",
    "from sklearn.experimental import enable_iterative_imputer\n",
    "from sklearn.impute import IterativeImputer\n",
    "from sklearn.linear_model import LinearRegression#descending\n",
    "lr = LinearRegression()#estimator=lr\n",
    "imp = IterativeImputer(estimator=lr,missing_values=np.nan, max_iter=20,verbose=1,imputation_order='ascending',random_state=0)\n",
    "X=imp.fit_transform(droped_ml)\n",
    "missing_filled=pd.DataFrame(X,columns=droped_ml.columns,index=droped_ml.index)#,index=df.index)#df.q\n",
    "missing_filled"
   ]
  },
  {
   "cell_type": "code",
   "execution_count": 137,
   "id": "3b8b3d46",
   "metadata": {},
   "outputs": [
    {
     "data": {
      "image/png": "[encoded data removed]",
      "text/plain": [
       "<Figure size 1500x1500 with 5 Axes>"
      ]
     },
     "metadata": {},
     "output_type": "display_data"
    }
   ],
   "source": [
    "from sklearn.model_selection import TimeSeriesSplit\n",
    "sns.set(font_scale=1)\n",
    "tss = TimeSeriesSplit(n_splits=5,test_size=10,gap=0)\n",
    "#color_pal = sns.color_palette()\n",
    "#plt.style.use('fivethirtyeight')\n",
    "fig, axs = plt.subplots(5, 1, figsize=(15, 15), sharex=True)\n",
    "\n",
    "fold = 0\n",
    "for train_idx, val_idx in tss.split(droped_ml):\n",
    "    train = droped_ml.iloc[train_idx]\n",
    "    test = droped_ml.iloc[val_idx]\n",
    "    train['Value'].plot(ax=axs[fold],\n",
    "                          label='Training Set',\n",
    "                          title=f'Data Train/Test Split Fold {fold}')\n",
    "    test['Value'].plot(ax=axs[fold],\n",
    "                         label='Test Set')\n",
    "    axs[fold].axvline(test.index.min(), color='black', ls='--')\n",
    "    fold += 1\n",
    "plt.show()"
   ]
  },
  {
   "cell_type": "code",
   "execution_count": 149,
   "id": "072007ea",
   "metadata": {},
   "outputs": [],
   "source": [
    "from xgboost.sklearn import XGBRegressor as xgb\n",
    "import xgboost as xgb\n",
    "from sklearn.metrics import mean_squared_error"
   ]
  },
  {
   "cell_type": "code",
   "execution_count": 150,
   "id": "579c3606",
   "metadata": {},
   "outputs": [
    {
     "name": "stdout",
     "output_type": "stream",
     "text": [
      "[23:24:12] WARNING: C:/buildkite-agent/builds/buildkite-windows-cpu-autoscaling-group-i-0fc7796c793e6356f-1/xgboost/xgboost-ci-windows/src/objective/regression_obj.cu:213: reg:linear is now deprecated in favor of reg:squarederror.\n",
      "[23:24:12] WARNING: C:/buildkite-agent/builds/buildkite-windows-cpu-autoscaling-group-i-0fc7796c793e6356f-1/xgboost/xgboost-ci-windows/src/learner.cc:767: \n",
      "Parameters: { \"max_depth\" } are not used.\n",
      "\n",
      "[23:24:14] WARNING: C:/buildkite-agent/builds/buildkite-windows-cpu-autoscaling-group-i-0fc7796c793e6356f-1/xgboost/xgboost-ci-windows/src/objective/regression_obj.cu:213: reg:linear is now deprecated in favor of reg:squarederror.\n",
      "[23:24:14] WARNING: C:/buildkite-agent/builds/buildkite-windows-cpu-autoscaling-group-i-0fc7796c793e6356f-1/xgboost/xgboost-ci-windows/src/learner.cc:767: \n",
      "Parameters: { \"max_depth\" } are not used.\n",
      "\n",
      "[23:24:16] WARNING: C:/buildkite-agent/builds/buildkite-windows-cpu-autoscaling-group-i-0fc7796c793e6356f-1/xgboost/xgboost-ci-windows/src/objective/regression_obj.cu:213: reg:linear is now deprecated in favor of reg:squarederror.\n",
      "[23:24:16] WARNING: C:/buildkite-agent/builds/buildkite-windows-cpu-autoscaling-group-i-0fc7796c793e6356f-1/xgboost/xgboost-ci-windows/src/learner.cc:767: \n",
      "Parameters: { \"max_depth\" } are not used.\n",
      "\n",
      "[23:24:19] WARNING: C:/buildkite-agent/builds/buildkite-windows-cpu-autoscaling-group-i-0fc7796c793e6356f-1/xgboost/xgboost-ci-windows/src/objective/regression_obj.cu:213: reg:linear is now deprecated in favor of reg:squarederror.\n",
      "[23:24:19] WARNING: C:/buildkite-agent/builds/buildkite-windows-cpu-autoscaling-group-i-0fc7796c793e6356f-1/xgboost/xgboost-ci-windows/src/learner.cc:767: \n",
      "Parameters: { \"max_depth\" } are not used.\n",
      "\n",
      "[23:24:21] WARNING: C:/buildkite-agent/builds/buildkite-windows-cpu-autoscaling-group-i-0fc7796c793e6356f-1/xgboost/xgboost-ci-windows/src/objective/regression_obj.cu:213: reg:linear is now deprecated in favor of reg:squarederror.\n",
      "[23:24:21] WARNING: C:/buildkite-agent/builds/buildkite-windows-cpu-autoscaling-group-i-0fc7796c793e6356f-1/xgboost/xgboost-ci-windows/src/learner.cc:767: \n",
      "Parameters: { \"max_depth\" } are not used.\n",
      "\n"
     ]
    }
   ],
   "source": [
    "#data_lagged = data_lagged.sort_index()\n",
    "fold = 0\n",
    "preds = []\n",
    "scores = []\n",
    "for train_idx, val_idx in tss.split(droped_ml):\n",
    "    train = droped_ml.iloc[train_idx]\n",
    "    test = droped_ml.iloc[val_idx]\n",
    "\n",
    "    #train = create_features(train)\n",
    "    #test = create_features(test)\n",
    "\n",
    "    FEATURES=droped_ml.columns.drop('Value')\n",
    "    TARGET='Value'\n",
    "    \n",
    "    X_train = train[FEATURES]\n",
    "    y_train = train[TARGET]\n",
    "\n",
    "    X_test = test[FEATURES]\n",
    "    y_test = test[TARGET]\n",
    "\n",
    "    reg=xgb.XGBRegressor(base_score=0.5, booster='gblinear',    \n",
    "                           n_estimators=10000,\n",
    "                           #early_stopping_rounds=50,\n",
    "                           objective='reg:linear',\n",
    "                           max_depth=10,\n",
    "                           learning_rate=0.01)\n",
    "    reg.fit(X_train, y_train,\n",
    "            #eval_set=[(X_train, y_train), (X_test, y_test)],\n",
    "            verbose=1)\n",
    "\n",
    "    y_pred = reg.predict(X_test)\n",
    "    preds.append(y_pred)\n",
    "    score = np.sqrt(mean_squared_error(y_test, y_pred))\n",
    "    scores.append(score)"
   ]
  },
  {
   "cell_type": "code",
   "execution_count": 151,
   "id": "06e9df5a",
   "metadata": {},
   "outputs": [
    {
     "name": "stdout",
     "output_type": "stream",
     "text": [
      "sqr Mean Score across folds 121655841.65085\n",
      "Fold scores:[21973036.031711027, 179988976.53135383, 110682506.3319024, 255616911.16058433, 40017778.19869465]\n"
     ]
    }
   ],
   "source": [
    "print(f'sqr Mean Score across folds {np.mean(scores):0.5f}')\n",
    "print(f'Fold scores:{scores}')"
   ]
  },
  {
   "cell_type": "code",
   "execution_count": 152,
   "id": "b79ce4bc",
   "metadata": {},
   "outputs": [
    {
     "data": {
      "image/png": "[encoded data removed]",
      "text/plain": [
       "<Figure size 2000x5000 with 1 Axes>"
      ]
     },
     "metadata": {},
     "output_type": "display_data"
    }
   ],
   "source": [
    "fi = pd.DataFrame(data=reg.feature_importances_,\n",
    "             index=reg.feature_names_in_,\n",
    "             columns=['importance'])\n",
    "fi.sort_values('importance').plot(kind='barh', title='Feature Importance',figsize=(20,50))\n",
    "plt.show()"
   ]
  },
  {
   "cell_type": "code",
   "execution_count": 153,
   "id": "582df3ce",
   "metadata": {},
   "outputs": [
    {
     "data": {
      "text/plain": [
       "((50, 10), (10, 10))"
      ]
     },
     "execution_count": 153,
     "metadata": {},
     "output_type": "execute_result"
    }
   ],
   "source": [
    "nobs=10\n",
    "train,test=droped_ml[0:-nobs],droped_ml[-nobs:]\n",
    "train.shape,test.shape"
   ]
  },
  {
   "cell_type": "code",
   "execution_count": 154,
   "id": "a6b39a7f",
   "metadata": {},
   "outputs": [],
   "source": [
    "FEATURES = droped_ml.columns.drop('Value')\n",
    "TARGET='Value'\n",
    "X_train=train[FEATURES]\n",
    "y_train=train[TARGET]\n",
    "X_test=test[FEATURES]\n",
    "y_test=test[TARGET]"
   ]
  },
  {
   "cell_type": "code",
   "execution_count": 155,
   "id": "a6048018",
   "metadata": {},
   "outputs": [
    {
     "name": "stdout",
     "output_type": "stream",
     "text": [
      "[23:24:24] WARNING: C:/buildkite-agent/builds/buildkite-windows-cpu-autoscaling-group-i-0fc7796c793e6356f-1/xgboost/xgboost-ci-windows/src/objective/regression_obj.cu:213: reg:linear is now deprecated in favor of reg:squarederror.\n",
      "[23:24:24] WARNING: C:/buildkite-agent/builds/buildkite-windows-cpu-autoscaling-group-i-0fc7796c793e6356f-1/xgboost/xgboost-ci-windows/src/learner.cc:767: \n",
      "Parameters: { \"max_depth\" } are not used.\n",
      "\n"
     ]
    },
    {
     "data": {
      "text/plain": [
       "XGBRegressor(base_score=0.1, booster='gblinear', callbacks=None,\n",
       "             colsample_bylevel=None, colsample_bynode=None,\n",
       "             colsample_bytree=None, early_stopping_rounds=None,\n",
       "             enable_categorical=False, eval_metric=None, feature_types=None,\n",
       "             gamma=None, gpu_id=None, grow_policy=None, importance_type=None,\n",
       "             interaction_constraints=None, learning_rate=0.1, max_bin=None,\n",
       "             max_cat_threshold=None, max_cat_to_onehot=None,\n",
       "             max_delta_step=None, max_depth=100, max_leaves=None,\n",
       "             min_child_weight=None, missing=nan, monotone_constraints=None,\n",
       "             n_estimators=10000, n_jobs=-1, num_parallel_tree=None,\n",
       "             objective='reg:linear', predictor=None, ...)"
      ]
     },
     "execution_count": 155,
     "metadata": {},
     "output_type": "execute_result"
    }
   ],
   "source": [
    "reg = xgb.XGBRegressor(base_score=0.1, booster='gblinear',     #gbtree  gblinear\n",
    "                           n_estimators=10000,\n",
    "                           #early_stopping_rounds=50,\n",
    "                           objective='reg:linear', # 'reg:squarederror'reg:pseudohubererror 'reg:linear' reg:squaredlogerror'\n",
    "                           max_depth=100,\n",
    "                           learning_rate=0.1,n_jobs=-1)\n",
    "reg.fit(X_train, y_train,\n",
    "            #eval_set=[(X_train, y_train), (X_test, y_test)],\n",
    "            verbose=1)"
   ]
  },
  {
   "cell_type": "code",
   "execution_count": 189,
   "id": "fd75e5eb",
   "metadata": {},
   "outputs": [
    {
     "data": {
      "text/plain": [
       "38696223.05464409"
      ]
     },
     "execution_count": 189,
     "metadata": {},
     "output_type": "execute_result"
    }
   ],
   "source": [
    "y_pred=reg.predict(X_test)\n",
    "np.sqrt(mean_squared_error(y_test,y_pred))"
   ]
  },
  {
   "cell_type": "code",
   "execution_count": 190,
   "id": "6bbb9e44",
   "metadata": {},
   "outputs": [
    {
     "data": {
      "text/plain": [
       "1.0"
      ]
     },
     "execution_count": 190,
     "metadata": {},
     "output_type": "execute_result"
    }
   ],
   "source": [
    "from sklearn.metrics import r2_score\n",
    "r2 = r2_score(y_test,y_test)\n",
    "r2"
   ]
  },
  {
   "cell_type": "code",
   "execution_count": 191,
   "id": "955a2de0",
   "metadata": {},
   "outputs": [
    {
     "data": {
      "text/plain": [
       "99.1903453514701"
      ]
     },
     "execution_count": 191,
     "metadata": {},
     "output_type": "execute_result"
    }
   ],
   "source": [
    "from sklearn.metrics import mean_absolute_percentage_error\n",
    "100-mean_absolute_percentage_error(y_test,y_pred)*100"
   ]
  },
  {
   "cell_type": "code",
   "execution_count": 192,
   "id": "67a433a8",
   "metadata": {},
   "outputs": [
    {
     "name": "stderr",
     "output_type": "stream",
     "text": [
      "C:\\Users\\idsc\\AppData\\Local\\Temp\\ipykernel_13856\\2567962849.py:1: SettingWithCopyWarning:\n",
      "\n",
      "\n",
      "A value is trying to be set on a copy of a slice from a DataFrame.\n",
      "Try using .loc[row_indexer,col_indexer] = value instead\n",
      "\n",
      "See the caveats in the documentation: https://pandas.pydata.org/pandas-docs/stable/user_guide/indexing.html#returning-a-view-versus-a-copy\n",
      "\n"
     ]
    },
    {
     "data": {
      "text/html": [
       "<div>\n",
       "<style scoped>\n",
       "    .dataframe tbody tr th:only-of-type {\n",
       "        vertical-align: middle;\n",
       "    }\n",
       "\n",
       "    .dataframe tbody tr th {\n",
       "        vertical-align: top;\n",
       "    }\n",
       "\n",
       "    .dataframe thead th {\n",
       "        text-align: right;\n",
       "    }\n",
       "</style>\n",
       "<table border=\"1\" class=\"dataframe\">\n",
       "  <thead>\n",
       "    <tr style=\"text-align: right;\">\n",
       "      <th></th>\n",
       "      <th>y_pred</th>\n",
       "      <th>Value</th>\n",
       "    </tr>\n",
       "    <tr>\n",
       "      <th>Year</th>\n",
       "      <th></th>\n",
       "      <th></th>\n",
       "    </tr>\n",
       "  </thead>\n",
       "  <tbody>\n",
       "    <tr>\n",
       "      <th>2011</th>\n",
       "      <td>3.374089e+09</td>\n",
       "      <td>3.448435e+09</td>\n",
       "    </tr>\n",
       "    <tr>\n",
       "      <th>2012</th>\n",
       "      <td>3.481672e+09</td>\n",
       "      <td>3.490019e+09</td>\n",
       "    </tr>\n",
       "    <tr>\n",
       "      <th>2013</th>\n",
       "      <td>3.580440e+09</td>\n",
       "      <td>3.630376e+09</td>\n",
       "    </tr>\n",
       "    <tr>\n",
       "      <th>2014</th>\n",
       "      <td>3.664499e+09</td>\n",
       "      <td>3.703589e+09</td>\n",
       "    </tr>\n",
       "    <tr>\n",
       "      <th>2015</th>\n",
       "      <td>3.761684e+09</td>\n",
       "      <td>3.757330e+09</td>\n",
       "    </tr>\n",
       "    <tr>\n",
       "      <th>2016</th>\n",
       "      <td>3.741652e+09</td>\n",
       "      <td>3.805259e+09</td>\n",
       "    </tr>\n",
       "    <tr>\n",
       "      <th>2017</th>\n",
       "      <td>3.896498e+09</td>\n",
       "      <td>3.909425e+09</td>\n",
       "    </tr>\n",
       "    <tr>\n",
       "      <th>2018</th>\n",
       "      <td>3.959170e+09</td>\n",
       "      <td>3.951008e+09</td>\n",
       "    </tr>\n",
       "    <tr>\n",
       "      <th>2019</th>\n",
       "      <td>3.999921e+09</td>\n",
       "      <td>3.993589e+09</td>\n",
       "    </tr>\n",
       "    <tr>\n",
       "      <th>2020</th>\n",
       "      <td>4.018429e+09</td>\n",
       "      <td>4.050315e+09</td>\n",
       "    </tr>\n",
       "  </tbody>\n",
       "</table>\n",
       "</div>"
      ],
      "text/plain": [
       "            y_pred         Value\n",
       "Year                            \n",
       "2011  3.374089e+09  3.448435e+09\n",
       "2012  3.481672e+09  3.490019e+09\n",
       "2013  3.580440e+09  3.630376e+09\n",
       "2014  3.664499e+09  3.703589e+09\n",
       "2015  3.761684e+09  3.757330e+09\n",
       "2016  3.741652e+09  3.805259e+09\n",
       "2017  3.896498e+09  3.909425e+09\n",
       "2018  3.959170e+09  3.951008e+09\n",
       "2019  3.999921e+09  3.993589e+09\n",
       "2020  4.018429e+09  4.050315e+09"
      ]
     },
     "execution_count": 192,
     "metadata": {},
     "output_type": "execute_result"
    }
   ],
   "source": [
    "test['y_pred']=reg.predict(X_test)\n",
    "test[['y_pred','Value']]"
   ]
  },
  {
   "cell_type": "code",
   "execution_count": 159,
   "id": "ef929aa8",
   "metadata": {},
   "outputs": [
    {
     "data": {
      "image/png": "[encoded data removed]",
      "text/plain": [
       "<Figure size 1500x500 with 1 Axes>"
      ]
     },
     "metadata": {},
     "output_type": "display_data"
    }
   ],
   "source": [
    "ax = droped_ml[['Value']].plot(style='-',figsize=(15,5))\n",
    "test['y_pred'].plot(ax=ax, style='-')\n",
    "plt.legend(['Truth Data', 'Predictions'])\n",
    "ax.set_title('Raw Data and Prediction')\n",
    "plt.show()"
   ]
  },
  {
   "cell_type": "code",
   "execution_count": 124,
   "id": "05e9eacd",
   "metadata": {},
   "outputs": [],
   "source": [
    "#production_dropped=production_dropped['Element'].astype(object)"
   ]
  },
  {
   "cell_type": "code",
   "execution_count": 125,
   "id": "142ac5b9",
   "metadata": {},
   "outputs": [],
   "source": [
    "# Emission_final.to_csv(\"D:\\\\Un Datathon\\\\Data\\\\Foastat\\\\Emissions_Totals_E_All_Data_(Normalized)\\\\Emissions_preprocessed.csv\"\\\n",
    "#                      )"
   ]
  },
  {
   "cell_type": "code",
   "execution_count": 126,
   "id": "31bca07b",
   "metadata": {},
   "outputs": [],
   "source": [
    "# production_dropped.to_csv(\"D:\\\\Un Datathon\\\\Data\\\\Foastat\\\\Value_of_Production_E_All_Data_(Normalized) (1)\\\\production_preprocessed.csv\"\\\n",
    "#                      )"
   ]
  },
  {
   "cell_type": "code",
   "execution_count": 161,
   "id": "526ba24f",
   "metadata": {},
   "outputs": [
    {
     "data": {
      "text/plain": [
       "array(['Bread', 'Wheat', 'Rice', 'Wage', 'Fuel', 'Exchange rate', 'Oil',\n",
       "       'Sugar', 'Pulses', 'Wheat flour', 'Salt', 'Beans', 'Milk',\n",
       "       'Potatoes', 'Eggs', 'Meat', 'Lentils', 'Pasta', 'Tomatoes',\n",
       "       'Cheese', 'Carrots', 'Onions', 'Bananas', 'Tea', 'Fish', 'Apples',\n",
       "       'Oranges', 'Cassava flour', 'Maize flour', 'Maize meal', 'Maize',\n",
       "       'Peas', 'Cabbage', 'Cucumbers', 'Beetroots', 'Buckwheat',\n",
       "       'Sorghum', 'Millet', 'Sweet potatoes', 'Yam', 'Plantains',\n",
       "       'Soybeans', 'Cassava', 'Lemons', 'Cassava meal', 'Papaya', 'Okra',\n",
       "       'Groundnuts', 'Peppers', 'Coconut', 'Leafy vegetables', 'Shrimps',\n",
       "       'Taro', 'Snail', 'Noodles', 'Quinoa', 'Avocados', 'Eggplants',\n",
       "       'Snake gourd', 'Water spinach', 'Wax gourd', 'Prawn', 'Chicken',\n",
       "       'Cocoyam', 'Sesame', 'Cowpeas', 'Squashes', 'Charcoal', 'Water',\n",
       "       'Laundry soap', 'Laundry detergent', 'Livestock', 'Peanut',\n",
       "       'Garlic', 'Cocoa', 'Coffee', 'Chickpeas', 'Cauliflower', 'Spinach',\n",
       "       'Blackberry', 'Broccoli', 'Mangoes', 'Pumpkin', 'Guava',\n",
       "       'Passion fruit', 'Barley', 'Cashew nut', 'Cornstarch', 'Cotton',\n",
       "       'Transport', 'Lettuce', 'Pineapples', 'Watermelons', 'Oat flakes',\n",
       "       'Strawberries', 'Melons', 'Naranjilla', 'Tree tomatoes', 'Grapes',\n",
       "       'Teff', 'Lin seed', 'Niger seed', 'Rape seed', 'Butter', 'Kale',\n",
       "       'Swiss chard', 'Honey', 'Corn Soy Blend', 'Kocho', 'Fonio',\n",
       "       'Dates', 'Yogurt', 'Cassava leaves', 'Gari', 'Tortilla',\n",
       "       'Handwash soap', 'Firewood', 'Candles ', 'Batteries',\n",
       "       'Cashew fruit', 'Chili', 'Ghee', 'Bulgur', 'Toothbrush',\n",
       "       'Sanitary pads', 'Toothpaste', 'Shampoo', 'Disinfecting solution',\n",
       "       'Radish', 'Cooking fat', 'Buckwheat grits', 'Semolina', 'Kefir',\n",
       "       'Walnuts', 'Wheat meal', 'Cane juice', 'Bitterball', 'Diapers',\n",
       "       'Dishwashing liquid', 'Couscous', 'Pigeon peas', 'Potato Leaves',\n",
       "       'Feed', 'Straw', 'Poultry', 'Ginger', 'Bitter melon', 'Calamansi',\n",
       "       'Choko', 'Bottle gourd', 'Sweet Potato leaves', 'Shrimp',\n",
       "       'Mandarins', 'Crab', 'Anchovies', 'Sorghum flour', 'Zucchini',\n",
       "       'Labaneh', 'Parsley', 'Yeast', 'Multipurpose soap', 'Alcohol',\n",
       "       'Bleach', 'Surgical mask', 'Hand sanitizer', 'Plastic gloves',\n",
       "       'Internet bundle', 'Electricity', 'Curd', 'Sour cream', 'Fat',\n",
       "       'Milling cost'], dtype=object)"
      ]
     },
     "execution_count": 161,
     "metadata": {},
     "output_type": "execute_result"
    }
   ],
   "source": [
    "prices_food=pd.read_csv(\"D:\\\\Un Datathon\\\\Data\\\\Final\\\\World_food_prices_filtered_final.csv\",encoding='utf-8')\n",
    "prices_food['commodity_name'].unique()"
   ]
  },
  {
   "cell_type": "code",
   "execution_count": 165,
   "id": "bbc2afc1",
   "metadata": {},
   "outputs": [
    {
     "data": {
      "text/html": [
       "<div>\n",
       "<style scoped>\n",
       "    .dataframe tbody tr th:only-of-type {\n",
       "        vertical-align: middle;\n",
       "    }\n",
       "\n",
       "    .dataframe tbody tr th {\n",
       "        vertical-align: top;\n",
       "    }\n",
       "\n",
       "    .dataframe thead th {\n",
       "        text-align: right;\n",
       "    }\n",
       "</style>\n",
       "<table border=\"1\" class=\"dataframe\">\n",
       "  <thead>\n",
       "    <tr style=\"text-align: right;\">\n",
       "      <th></th>\n",
       "      <th>Area Code</th>\n",
       "      <th>Area Code (M49)</th>\n",
       "      <th>Area</th>\n",
       "      <th>Item Code</th>\n",
       "      <th>Item Code (CPC)</th>\n",
       "      <th>Item</th>\n",
       "      <th>Element Code</th>\n",
       "      <th>Element</th>\n",
       "      <th>Year Code</th>\n",
       "      <th>Year</th>\n",
       "      <th>Unit</th>\n",
       "      <th>Value</th>\n",
       "      <th>Flag</th>\n",
       "    </tr>\n",
       "  </thead>\n",
       "  <tbody>\n",
       "    <tr>\n",
       "      <th>0</th>\n",
       "      <td>2</td>\n",
       "      <td>'004</td>\n",
       "      <td>Afghanistan</td>\n",
       "      <td>221</td>\n",
       "      <td>'01371</td>\n",
       "      <td>Almonds, in shell</td>\n",
       "      <td>152</td>\n",
       "      <td>Gross Production Value (constant 2014-2016 tho...</td>\n",
       "      <td>1976</td>\n",
       "      <td>1976</td>\n",
       "      <td>1000 Int. $</td>\n",
       "      <td>49550.0</td>\n",
       "      <td>E</td>\n",
       "    </tr>\n",
       "    <tr>\n",
       "      <th>1</th>\n",
       "      <td>2</td>\n",
       "      <td>'004</td>\n",
       "      <td>Afghanistan</td>\n",
       "      <td>221</td>\n",
       "      <td>'01371</td>\n",
       "      <td>Almonds, in shell</td>\n",
       "      <td>152</td>\n",
       "      <td>Gross Production Value (constant 2014-2016 tho...</td>\n",
       "      <td>1977</td>\n",
       "      <td>1977</td>\n",
       "      <td>1000 Int. $</td>\n",
       "      <td>45505.0</td>\n",
       "      <td>E</td>\n",
       "    </tr>\n",
       "    <tr>\n",
       "      <th>2</th>\n",
       "      <td>2</td>\n",
       "      <td>'004</td>\n",
       "      <td>Afghanistan</td>\n",
       "      <td>221</td>\n",
       "      <td>'01371</td>\n",
       "      <td>Almonds, in shell</td>\n",
       "      <td>152</td>\n",
       "      <td>Gross Production Value (constant 2014-2016 tho...</td>\n",
       "      <td>1978</td>\n",
       "      <td>1978</td>\n",
       "      <td>1000 Int. $</td>\n",
       "      <td>60673.0</td>\n",
       "      <td>E</td>\n",
       "    </tr>\n",
       "    <tr>\n",
       "      <th>3</th>\n",
       "      <td>2</td>\n",
       "      <td>'004</td>\n",
       "      <td>Afghanistan</td>\n",
       "      <td>221</td>\n",
       "      <td>'01371</td>\n",
       "      <td>Almonds, in shell</td>\n",
       "      <td>152</td>\n",
       "      <td>Gross Production Value (constant 2014-2016 tho...</td>\n",
       "      <td>1979</td>\n",
       "      <td>1979</td>\n",
       "      <td>1000 Int. $</td>\n",
       "      <td>53089.0</td>\n",
       "      <td>E</td>\n",
       "    </tr>\n",
       "    <tr>\n",
       "      <th>4</th>\n",
       "      <td>2</td>\n",
       "      <td>'004</td>\n",
       "      <td>Afghanistan</td>\n",
       "      <td>221</td>\n",
       "      <td>'01371</td>\n",
       "      <td>Almonds, in shell</td>\n",
       "      <td>152</td>\n",
       "      <td>Gross Production Value (constant 2014-2016 tho...</td>\n",
       "      <td>1980</td>\n",
       "      <td>1980</td>\n",
       "      <td>1000 Int. $</td>\n",
       "      <td>50055.0</td>\n",
       "      <td>E</td>\n",
       "    </tr>\n",
       "  </tbody>\n",
       "</table>\n",
       "</div>"
      ],
      "text/plain": [
       "   Area Code Area Code (M49)         Area  Item Code Item Code (CPC)  \\\n",
       "0          2            '004  Afghanistan        221          '01371   \n",
       "1          2            '004  Afghanistan        221          '01371   \n",
       "2          2            '004  Afghanistan        221          '01371   \n",
       "3          2            '004  Afghanistan        221          '01371   \n",
       "4          2            '004  Afghanistan        221          '01371   \n",
       "\n",
       "                Item  Element Code  \\\n",
       "0  Almonds, in shell           152   \n",
       "1  Almonds, in shell           152   \n",
       "2  Almonds, in shell           152   \n",
       "3  Almonds, in shell           152   \n",
       "4  Almonds, in shell           152   \n",
       "\n",
       "                                             Element  Year Code  Year  \\\n",
       "0  Gross Production Value (constant 2014-2016 tho...       1976  1976   \n",
       "1  Gross Production Value (constant 2014-2016 tho...       1977  1977   \n",
       "2  Gross Production Value (constant 2014-2016 tho...       1978  1978   \n",
       "3  Gross Production Value (constant 2014-2016 tho...       1979  1979   \n",
       "4  Gross Production Value (constant 2014-2016 tho...       1980  1980   \n",
       "\n",
       "          Unit    Value Flag  \n",
       "0  1000 Int. $  49550.0    E  \n",
       "1  1000 Int. $  45505.0    E  \n",
       "2  1000 Int. $  60673.0    E  \n",
       "3  1000 Int. $  53089.0    E  \n",
       "4  1000 Int. $  50055.0    E  "
      ]
     },
     "execution_count": 165,
     "metadata": {},
     "output_type": "execute_result"
    }
   ],
   "source": [
    "production.head()"
   ]
  },
  {
   "cell_type": "code",
   "execution_count": 166,
   "id": "860bc837",
   "metadata": {},
   "outputs": [
    {
     "data": {
      "text/html": [
       "<div>\n",
       "<style scoped>\n",
       "    .dataframe tbody tr th:only-of-type {\n",
       "        vertical-align: middle;\n",
       "    }\n",
       "\n",
       "    .dataframe tbody tr th {\n",
       "        vertical-align: top;\n",
       "    }\n",
       "\n",
       "    .dataframe thead th {\n",
       "        text-align: right;\n",
       "    }\n",
       "</style>\n",
       "<table border=\"1\" class=\"dataframe\">\n",
       "  <thead>\n",
       "    <tr style=\"text-align: right;\">\n",
       "      <th></th>\n",
       "      <th>Area Code</th>\n",
       "      <th>Area Code (M49)</th>\n",
       "      <th>Area</th>\n",
       "      <th>Item Code</th>\n",
       "      <th>Item</th>\n",
       "      <th>Element Code</th>\n",
       "      <th>Element</th>\n",
       "      <th>Year Code</th>\n",
       "      <th>Year</th>\n",
       "      <th>Source Code</th>\n",
       "      <th>Source</th>\n",
       "      <th>Unit</th>\n",
       "      <th>Value</th>\n",
       "      <th>Flag</th>\n",
       "      <th>Note</th>\n",
       "    </tr>\n",
       "  </thead>\n",
       "  <tbody>\n",
       "    <tr>\n",
       "      <th>0</th>\n",
       "      <td>2</td>\n",
       "      <td>'004</td>\n",
       "      <td>Afghanistan</td>\n",
       "      <td>5064</td>\n",
       "      <td>Crop Residues</td>\n",
       "      <td>7234</td>\n",
       "      <td>Direct emissions (N2O)</td>\n",
       "      <td>1961</td>\n",
       "      <td>1961</td>\n",
       "      <td>3050</td>\n",
       "      <td>FAO TIER 1</td>\n",
       "      <td>kilotonnes</td>\n",
       "      <td>0.8762</td>\n",
       "      <td>E</td>\n",
       "      <td>NaN</td>\n",
       "    </tr>\n",
       "    <tr>\n",
       "      <th>1</th>\n",
       "      <td>2</td>\n",
       "      <td>'004</td>\n",
       "      <td>Afghanistan</td>\n",
       "      <td>5064</td>\n",
       "      <td>Crop Residues</td>\n",
       "      <td>7234</td>\n",
       "      <td>Direct emissions (N2O)</td>\n",
       "      <td>1962</td>\n",
       "      <td>1962</td>\n",
       "      <td>3050</td>\n",
       "      <td>FAO TIER 1</td>\n",
       "      <td>kilotonnes</td>\n",
       "      <td>0.8829</td>\n",
       "      <td>E</td>\n",
       "      <td>NaN</td>\n",
       "    </tr>\n",
       "    <tr>\n",
       "      <th>2</th>\n",
       "      <td>2</td>\n",
       "      <td>'004</td>\n",
       "      <td>Afghanistan</td>\n",
       "      <td>5064</td>\n",
       "      <td>Crop Residues</td>\n",
       "      <td>7234</td>\n",
       "      <td>Direct emissions (N2O)</td>\n",
       "      <td>1963</td>\n",
       "      <td>1963</td>\n",
       "      <td>3050</td>\n",
       "      <td>FAO TIER 1</td>\n",
       "      <td>kilotonnes</td>\n",
       "      <td>0.8236</td>\n",
       "      <td>E</td>\n",
       "      <td>NaN</td>\n",
       "    </tr>\n",
       "    <tr>\n",
       "      <th>3</th>\n",
       "      <td>2</td>\n",
       "      <td>'004</td>\n",
       "      <td>Afghanistan</td>\n",
       "      <td>5064</td>\n",
       "      <td>Crop Residues</td>\n",
       "      <td>7234</td>\n",
       "      <td>Direct emissions (N2O)</td>\n",
       "      <td>1964</td>\n",
       "      <td>1964</td>\n",
       "      <td>3050</td>\n",
       "      <td>FAO TIER 1</td>\n",
       "      <td>kilotonnes</td>\n",
       "      <td>0.8882</td>\n",
       "      <td>E</td>\n",
       "      <td>NaN</td>\n",
       "    </tr>\n",
       "    <tr>\n",
       "      <th>4</th>\n",
       "      <td>2</td>\n",
       "      <td>'004</td>\n",
       "      <td>Afghanistan</td>\n",
       "      <td>5064</td>\n",
       "      <td>Crop Residues</td>\n",
       "      <td>7234</td>\n",
       "      <td>Direct emissions (N2O)</td>\n",
       "      <td>1965</td>\n",
       "      <td>1965</td>\n",
       "      <td>3050</td>\n",
       "      <td>FAO TIER 1</td>\n",
       "      <td>kilotonnes</td>\n",
       "      <td>0.8978</td>\n",
       "      <td>E</td>\n",
       "      <td>NaN</td>\n",
       "    </tr>\n",
       "  </tbody>\n",
       "</table>\n",
       "</div>"
      ],
      "text/plain": [
       "   Area Code Area Code (M49)         Area  Item Code           Item  \\\n",
       "0          2            '004  Afghanistan       5064  Crop Residues   \n",
       "1          2            '004  Afghanistan       5064  Crop Residues   \n",
       "2          2            '004  Afghanistan       5064  Crop Residues   \n",
       "3          2            '004  Afghanistan       5064  Crop Residues   \n",
       "4          2            '004  Afghanistan       5064  Crop Residues   \n",
       "\n",
       "   Element Code                 Element  Year Code  Year  Source Code  \\\n",
       "0          7234  Direct emissions (N2O)       1961  1961         3050   \n",
       "1          7234  Direct emissions (N2O)       1962  1962         3050   \n",
       "2          7234  Direct emissions (N2O)       1963  1963         3050   \n",
       "3          7234  Direct emissions (N2O)       1964  1964         3050   \n",
       "4          7234  Direct emissions (N2O)       1965  1965         3050   \n",
       "\n",
       "       Source        Unit   Value Flag  Note  \n",
       "0  FAO TIER 1  kilotonnes  0.8762    E   NaN  \n",
       "1  FAO TIER 1  kilotonnes  0.8829    E   NaN  \n",
       "2  FAO TIER 1  kilotonnes  0.8236    E   NaN  \n",
       "3  FAO TIER 1  kilotonnes  0.8882    E   NaN  \n",
       "4  FAO TIER 1  kilotonnes  0.8978    E   NaN  "
      ]
     },
     "execution_count": 166,
     "metadata": {},
     "output_type": "execute_result"
    }
   ],
   "source": [
    "Emission.head()"
   ]
  },
  {
   "cell_type": "code",
   "execution_count": 167,
   "id": "391e4a88",
   "metadata": {},
   "outputs": [
    {
     "data": {
      "text/html": [
       "<div>\n",
       "<style scoped>\n",
       "    .dataframe tbody tr th:only-of-type {\n",
       "        vertical-align: middle;\n",
       "    }\n",
       "\n",
       "    .dataframe tbody tr th {\n",
       "        vertical-align: top;\n",
       "    }\n",
       "\n",
       "    .dataframe thead th {\n",
       "        text-align: right;\n",
       "    }\n",
       "</style>\n",
       "<table border=\"1\" class=\"dataframe\">\n",
       "  <thead>\n",
       "    <tr style=\"text-align: right;\">\n",
       "      <th></th>\n",
       "      <th>Unnamed: 0</th>\n",
       "      <th>country_id</th>\n",
       "      <th>country_name</th>\n",
       "      <th>commodity_id</th>\n",
       "      <th>commodity_name</th>\n",
       "      <th>currency_id</th>\n",
       "      <th>currency_name</th>\n",
       "      <th>pricetype_id</th>\n",
       "      <th>pricetype_name</th>\n",
       "      <th>usdcurrency_id</th>\n",
       "      <th>usdcurrency_name</th>\n",
       "      <th>mp_year</th>\n",
       "      <th>mp_price</th>\n",
       "    </tr>\n",
       "  </thead>\n",
       "  <tbody>\n",
       "    <tr>\n",
       "      <th>0</th>\n",
       "      <td>0</td>\n",
       "      <td>1.0</td>\n",
       "      <td>Afghanistan</td>\n",
       "      <td>55</td>\n",
       "      <td>Bread</td>\n",
       "      <td>0.0</td>\n",
       "      <td>AFN</td>\n",
       "      <td>15</td>\n",
       "      <td>Retail</td>\n",
       "      <td>5</td>\n",
       "      <td>KG</td>\n",
       "      <td>2014</td>\n",
       "      <td>50.000000</td>\n",
       "    </tr>\n",
       "    <tr>\n",
       "      <th>1</th>\n",
       "      <td>1</td>\n",
       "      <td>1.0</td>\n",
       "      <td>Afghanistan</td>\n",
       "      <td>55</td>\n",
       "      <td>Bread</td>\n",
       "      <td>0.0</td>\n",
       "      <td>AFN</td>\n",
       "      <td>15</td>\n",
       "      <td>Retail</td>\n",
       "      <td>5</td>\n",
       "      <td>KG</td>\n",
       "      <td>2015</td>\n",
       "      <td>52.700000</td>\n",
       "    </tr>\n",
       "    <tr>\n",
       "      <th>2</th>\n",
       "      <td>2</td>\n",
       "      <td>1.0</td>\n",
       "      <td>Afghanistan</td>\n",
       "      <td>55</td>\n",
       "      <td>Bread</td>\n",
       "      <td>0.0</td>\n",
       "      <td>AFN</td>\n",
       "      <td>15</td>\n",
       "      <td>Retail</td>\n",
       "      <td>5</td>\n",
       "      <td>KG</td>\n",
       "      <td>2016</td>\n",
       "      <td>51.000000</td>\n",
       "    </tr>\n",
       "    <tr>\n",
       "      <th>3</th>\n",
       "      <td>3</td>\n",
       "      <td>1.0</td>\n",
       "      <td>Afghanistan</td>\n",
       "      <td>55</td>\n",
       "      <td>Bread</td>\n",
       "      <td>0.0</td>\n",
       "      <td>AFN</td>\n",
       "      <td>15</td>\n",
       "      <td>Retail</td>\n",
       "      <td>5</td>\n",
       "      <td>KG</td>\n",
       "      <td>2017</td>\n",
       "      <td>50.000000</td>\n",
       "    </tr>\n",
       "    <tr>\n",
       "      <th>4</th>\n",
       "      <td>4</td>\n",
       "      <td>1.0</td>\n",
       "      <td>Afghanistan</td>\n",
       "      <td>55</td>\n",
       "      <td>Bread</td>\n",
       "      <td>0.0</td>\n",
       "      <td>AFN</td>\n",
       "      <td>15</td>\n",
       "      <td>Retail</td>\n",
       "      <td>5</td>\n",
       "      <td>KG</td>\n",
       "      <td>2018</td>\n",
       "      <td>50.435208</td>\n",
       "    </tr>\n",
       "  </tbody>\n",
       "</table>\n",
       "</div>"
      ],
      "text/plain": [
       "   Unnamed: 0  country_id country_name  commodity_id commodity_name  \\\n",
       "0           0         1.0  Afghanistan            55          Bread   \n",
       "1           1         1.0  Afghanistan            55          Bread   \n",
       "2           2         1.0  Afghanistan            55          Bread   \n",
       "3           3         1.0  Afghanistan            55          Bread   \n",
       "4           4         1.0  Afghanistan            55          Bread   \n",
       "\n",
       "   currency_id currency_name  pricetype_id pricetype_name  usdcurrency_id  \\\n",
       "0          0.0           AFN            15         Retail               5   \n",
       "1          0.0           AFN            15         Retail               5   \n",
       "2          0.0           AFN            15         Retail               5   \n",
       "3          0.0           AFN            15         Retail               5   \n",
       "4          0.0           AFN            15         Retail               5   \n",
       "\n",
       "  usdcurrency_name  mp_year   mp_price  \n",
       "0               KG     2014  50.000000  \n",
       "1               KG     2015  52.700000  \n",
       "2               KG     2016  51.000000  \n",
       "3               KG     2017  50.000000  \n",
       "4               KG     2018  50.435208  "
      ]
     },
     "execution_count": 167,
     "metadata": {},
     "output_type": "execute_result"
    }
   ],
   "source": [
    "prices_food.head()"
   ]
  },
  {
   "cell_type": "code",
   "execution_count": 169,
   "id": "63ef2f95",
   "metadata": {},
   "outputs": [
    {
     "data": {
      "text/plain": [
       "array(['Retail', 'Wholesale', 'Producer', 'Farm Gate'], dtype=object)"
      ]
     },
     "execution_count": 169,
     "metadata": {},
     "output_type": "execute_result"
    }
   ],
   "source": [
    "prices_food['pricetype_name'].unique()"
   ]
  },
  {
   "cell_type": "code",
   "execution_count": null,
   "id": "64bd1ad3",
   "metadata": {},
   "outputs": [],
   "source": [
    "# fig2=px.bar(production_dropped,x ='Year',y ='Value',color ='Area',barmode ='stack')\n",
    "# fig2.update_layout(title='Goe',template='plotly_white',xaxis_title='Years', \n",
    "#                     yaxis_title ='Value',width=900,height=500,xaxis={'categoryorder':'total descending'})\n",
    "# fig2.show()\n",
    "#production=production[production['Unit']=='1000 US$']\n",
    "#production\n",
    "#production['Area'].unique()\n",
    "#egypt=production[production['Area']=='Egypt']\n",
    "#egypt.groupby(['Area','Unit'])['Unit'].count()\n",
    "# df=production[production['Area']=='Afghanistan']\n",
    "# import plotly.graph_objects as go\n",
    "#  Sample data\n",
    "# categories = ['Category 1', 'Category 2', 'Category 3']\n",
    "# groups = ['Group A', 'Group B', 'Group C']\n",
    "# values = [\n",
    "#     [10, 15, 20],\n",
    "#     [5, 8, 12],\n",
    "#     [7, 9, 11]\n",
    "# ]\n",
    "# # Create the trace for each category\n",
    "# traces = []\n",
    "# for i, category in enumerate(categories):\n",
    "#     trace = go.Bar(\n",
    "#         x=groups,\n",
    "#         y=values[i],\n",
    "#         name=category\n",
    "#     )\n",
    "#     traces.append(trace)\n",
    "# # Create the layout\n",
    "# layout = go.Layout(\n",
    "#     title='Stacked Bar Chart',\n",
    "#     barmode='stack'\n",
    "# )\n",
    "#Create the figure\n",
    "#fig = go.Figure(data=traces, layout=layout)\n",
    "#Display the chart\n",
    "#fig.show()\n",
    "# fig2=px.bar(production_dropped,x ='Year',y ='Value',color ='Item',barmode ='stack')\n",
    "# fig2.update_layout(title='Goe',template='plotly_white',xaxis_title='Years', \n",
    "#                     yaxis_title ='Value',width=900,height=500,xaxis={'categoryorder':'total descending'})\n",
    "# fig2.show()\n",
    "# for i in production['Area'].unique():\n",
    "#     df=production[production['Area']==i]\n",
    "#     fig4= px.bar(df,x ='Year',y ='Value',\n",
    "#                  color ='Item',barmode ='stack')\n",
    "#     fig4.update_layout(title=i,template ='plotly_white',xaxis_title = 'Years', \n",
    "#                        yaxis_title ='Value',width=900,height=500,xaxis={'categoryorder':'total descending'})\n",
    "#     fig4.show()"
   ]
  }
 ],
 "metadata": {
  "kernelspec": {
   "display_name": "Python 3 (ipykernel)",
   "language": "python",
   "name": "python3"
  },
  "language_info": {
   "codemirror_mode": {
    "name": "ipython",
    "version": 3
   },
   "file_extension": ".py",
   "mimetype": "text/x-python",
   "name": "python",
   "nbconvert_exporter": "python",
   "pygments_lexer": "ipython3",
   "version": "3.9.13"
  }
 },
 "nbformat": 4,
 "nbformat_minor": 5
}
